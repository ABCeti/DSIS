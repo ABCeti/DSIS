{
  "nbformat": 4,
  "nbformat_minor": 0,
  "metadata": {
    "colab": {
      "provenance": [],
      "collapsed_sections": [
        "5nOlo0rmrA2B",
        "l-u1w-oNs3O5",
        "famOz2___DHc"
      ]
    },
    "kernelspec": {
      "name": "python3",
      "display_name": "Python 3"
    },
    "language_info": {
      "name": "python"
    }
  },
  "cells": [
    {
      "cell_type": "code",
      "metadata": {
        "id": "Q1HKfOYpiqbL"
      },
      "source": [
        "import graphviz\n",
        "import numpy as np\n",
        "import seaborn as sns # для простого отображения\n",
        "import matplotlib.pyplot as plt #\n",
        "import pandas as pd"
      ],
      "execution_count": null,
      "outputs": []
    },
    {
      "cell_type": "code",
      "metadata": {
        "id": "SUq6jfPpijrc"
      },
      "source": [
        "dat = pd.read_csv('creditcard.csv')"
      ],
      "execution_count": null,
      "outputs": []
    },
    {
      "cell_type": "code",
      "metadata": {
        "colab": {
          "base_uri": "https://localhost:8080/",
          "height": 487
        },
        "id": "4JyCjAv5lGK6",
        "outputId": "d85544ff-593e-4103-f975-729459d82f85"
      },
      "source": [
        "dat"
      ],
      "execution_count": null,
      "outputs": [
        {
          "output_type": "execute_result",
          "data": {
            "text/plain": [
              "            Time         V1         V2        V3        V4        V5  \\\n",
              "0            0.0  -1.359807  -0.072781  2.536347  1.378155 -0.338321   \n",
              "1            0.0   1.191857   0.266151  0.166480  0.448154  0.060018   \n",
              "2            1.0  -1.358354  -1.340163  1.773209  0.379780 -0.503198   \n",
              "3            1.0  -0.966272  -0.185226  1.792993 -0.863291 -0.010309   \n",
              "4            2.0  -1.158233   0.877737  1.548718  0.403034 -0.407193   \n",
              "...          ...        ...        ...       ...       ...       ...   \n",
              "284802  172786.0 -11.881118  10.071785 -9.834783 -2.066656 -5.364473   \n",
              "284803  172787.0  -0.732789  -0.055080  2.035030 -0.738589  0.868229   \n",
              "284804  172788.0   1.919565  -0.301254 -3.249640 -0.557828  2.630515   \n",
              "284805  172788.0  -0.240440   0.530483  0.702510  0.689799 -0.377961   \n",
              "284806  172792.0  -0.533413  -0.189733  0.703337 -0.506271 -0.012546   \n",
              "\n",
              "              V6        V7        V8        V9  ...       V21       V22  \\\n",
              "0       0.462388  0.239599  0.098698  0.363787  ... -0.018307  0.277838   \n",
              "1      -0.082361 -0.078803  0.085102 -0.255425  ... -0.225775 -0.638672   \n",
              "2       1.800499  0.791461  0.247676 -1.514654  ...  0.247998  0.771679   \n",
              "3       1.247203  0.237609  0.377436 -1.387024  ... -0.108300  0.005274   \n",
              "4       0.095921  0.592941 -0.270533  0.817739  ... -0.009431  0.798278   \n",
              "...          ...       ...       ...       ...  ...       ...       ...   \n",
              "284802 -2.606837 -4.918215  7.305334  1.914428  ...  0.213454  0.111864   \n",
              "284803  1.058415  0.024330  0.294869  0.584800  ...  0.214205  0.924384   \n",
              "284804  3.031260 -0.296827  0.708417  0.432454  ...  0.232045  0.578229   \n",
              "284805  0.623708 -0.686180  0.679145  0.392087  ...  0.265245  0.800049   \n",
              "284806 -0.649617  1.577006 -0.414650  0.486180  ...  0.261057  0.643078   \n",
              "\n",
              "             V23       V24       V25       V26       V27       V28  Amount  \\\n",
              "0      -0.110474  0.066928  0.128539 -0.189115  0.133558 -0.021053  149.62   \n",
              "1       0.101288 -0.339846  0.167170  0.125895 -0.008983  0.014724    2.69   \n",
              "2       0.909412 -0.689281 -0.327642 -0.139097 -0.055353 -0.059752  378.66   \n",
              "3      -0.190321 -1.175575  0.647376 -0.221929  0.062723  0.061458  123.50   \n",
              "4      -0.137458  0.141267 -0.206010  0.502292  0.219422  0.215153   69.99   \n",
              "...          ...       ...       ...       ...       ...       ...     ...   \n",
              "284802  1.014480 -0.509348  1.436807  0.250034  0.943651  0.823731    0.77   \n",
              "284803  0.012463 -1.016226 -0.606624 -0.395255  0.068472 -0.053527   24.79   \n",
              "284804 -0.037501  0.640134  0.265745 -0.087371  0.004455 -0.026561   67.88   \n",
              "284805 -0.163298  0.123205 -0.569159  0.546668  0.108821  0.104533   10.00   \n",
              "284806  0.376777  0.008797 -0.473649 -0.818267 -0.002415  0.013649  217.00   \n",
              "\n",
              "        Class  \n",
              "0           0  \n",
              "1           0  \n",
              "2           0  \n",
              "3           0  \n",
              "4           0  \n",
              "...       ...  \n",
              "284802      0  \n",
              "284803      0  \n",
              "284804      0  \n",
              "284805      0  \n",
              "284806      0  \n",
              "\n",
              "[284807 rows x 31 columns]"
            ],
            "text/html": [
              "\n",
              "\n",
              "  <div id=\"df-e249e0ac-bdc1-4372-bf01-651ace19e9c6\">\n",
              "    <div class=\"colab-df-container\">\n",
              "      <div>\n",
              "<style scoped>\n",
              "    .dataframe tbody tr th:only-of-type {\n",
              "        vertical-align: middle;\n",
              "    }\n",
              "\n",
              "    .dataframe tbody tr th {\n",
              "        vertical-align: top;\n",
              "    }\n",
              "\n",
              "    .dataframe thead th {\n",
              "        text-align: right;\n",
              "    }\n",
              "</style>\n",
              "<table border=\"1\" class=\"dataframe\">\n",
              "  <thead>\n",
              "    <tr style=\"text-align: right;\">\n",
              "      <th></th>\n",
              "      <th>Time</th>\n",
              "      <th>V1</th>\n",
              "      <th>V2</th>\n",
              "      <th>V3</th>\n",
              "      <th>V4</th>\n",
              "      <th>V5</th>\n",
              "      <th>V6</th>\n",
              "      <th>V7</th>\n",
              "      <th>V8</th>\n",
              "      <th>V9</th>\n",
              "      <th>...</th>\n",
              "      <th>V21</th>\n",
              "      <th>V22</th>\n",
              "      <th>V23</th>\n",
              "      <th>V24</th>\n",
              "      <th>V25</th>\n",
              "      <th>V26</th>\n",
              "      <th>V27</th>\n",
              "      <th>V28</th>\n",
              "      <th>Amount</th>\n",
              "      <th>Class</th>\n",
              "    </tr>\n",
              "  </thead>\n",
              "  <tbody>\n",
              "    <tr>\n",
              "      <th>0</th>\n",
              "      <td>0.0</td>\n",
              "      <td>-1.359807</td>\n",
              "      <td>-0.072781</td>\n",
              "      <td>2.536347</td>\n",
              "      <td>1.378155</td>\n",
              "      <td>-0.338321</td>\n",
              "      <td>0.462388</td>\n",
              "      <td>0.239599</td>\n",
              "      <td>0.098698</td>\n",
              "      <td>0.363787</td>\n",
              "      <td>...</td>\n",
              "      <td>-0.018307</td>\n",
              "      <td>0.277838</td>\n",
              "      <td>-0.110474</td>\n",
              "      <td>0.066928</td>\n",
              "      <td>0.128539</td>\n",
              "      <td>-0.189115</td>\n",
              "      <td>0.133558</td>\n",
              "      <td>-0.021053</td>\n",
              "      <td>149.62</td>\n",
              "      <td>0</td>\n",
              "    </tr>\n",
              "    <tr>\n",
              "      <th>1</th>\n",
              "      <td>0.0</td>\n",
              "      <td>1.191857</td>\n",
              "      <td>0.266151</td>\n",
              "      <td>0.166480</td>\n",
              "      <td>0.448154</td>\n",
              "      <td>0.060018</td>\n",
              "      <td>-0.082361</td>\n",
              "      <td>-0.078803</td>\n",
              "      <td>0.085102</td>\n",
              "      <td>-0.255425</td>\n",
              "      <td>...</td>\n",
              "      <td>-0.225775</td>\n",
              "      <td>-0.638672</td>\n",
              "      <td>0.101288</td>\n",
              "      <td>-0.339846</td>\n",
              "      <td>0.167170</td>\n",
              "      <td>0.125895</td>\n",
              "      <td>-0.008983</td>\n",
              "      <td>0.014724</td>\n",
              "      <td>2.69</td>\n",
              "      <td>0</td>\n",
              "    </tr>\n",
              "    <tr>\n",
              "      <th>2</th>\n",
              "      <td>1.0</td>\n",
              "      <td>-1.358354</td>\n",
              "      <td>-1.340163</td>\n",
              "      <td>1.773209</td>\n",
              "      <td>0.379780</td>\n",
              "      <td>-0.503198</td>\n",
              "      <td>1.800499</td>\n",
              "      <td>0.791461</td>\n",
              "      <td>0.247676</td>\n",
              "      <td>-1.514654</td>\n",
              "      <td>...</td>\n",
              "      <td>0.247998</td>\n",
              "      <td>0.771679</td>\n",
              "      <td>0.909412</td>\n",
              "      <td>-0.689281</td>\n",
              "      <td>-0.327642</td>\n",
              "      <td>-0.139097</td>\n",
              "      <td>-0.055353</td>\n",
              "      <td>-0.059752</td>\n",
              "      <td>378.66</td>\n",
              "      <td>0</td>\n",
              "    </tr>\n",
              "    <tr>\n",
              "      <th>3</th>\n",
              "      <td>1.0</td>\n",
              "      <td>-0.966272</td>\n",
              "      <td>-0.185226</td>\n",
              "      <td>1.792993</td>\n",
              "      <td>-0.863291</td>\n",
              "      <td>-0.010309</td>\n",
              "      <td>1.247203</td>\n",
              "      <td>0.237609</td>\n",
              "      <td>0.377436</td>\n",
              "      <td>-1.387024</td>\n",
              "      <td>...</td>\n",
              "      <td>-0.108300</td>\n",
              "      <td>0.005274</td>\n",
              "      <td>-0.190321</td>\n",
              "      <td>-1.175575</td>\n",
              "      <td>0.647376</td>\n",
              "      <td>-0.221929</td>\n",
              "      <td>0.062723</td>\n",
              "      <td>0.061458</td>\n",
              "      <td>123.50</td>\n",
              "      <td>0</td>\n",
              "    </tr>\n",
              "    <tr>\n",
              "      <th>4</th>\n",
              "      <td>2.0</td>\n",
              "      <td>-1.158233</td>\n",
              "      <td>0.877737</td>\n",
              "      <td>1.548718</td>\n",
              "      <td>0.403034</td>\n",
              "      <td>-0.407193</td>\n",
              "      <td>0.095921</td>\n",
              "      <td>0.592941</td>\n",
              "      <td>-0.270533</td>\n",
              "      <td>0.817739</td>\n",
              "      <td>...</td>\n",
              "      <td>-0.009431</td>\n",
              "      <td>0.798278</td>\n",
              "      <td>-0.137458</td>\n",
              "      <td>0.141267</td>\n",
              "      <td>-0.206010</td>\n",
              "      <td>0.502292</td>\n",
              "      <td>0.219422</td>\n",
              "      <td>0.215153</td>\n",
              "      <td>69.99</td>\n",
              "      <td>0</td>\n",
              "    </tr>\n",
              "    <tr>\n",
              "      <th>...</th>\n",
              "      <td>...</td>\n",
              "      <td>...</td>\n",
              "      <td>...</td>\n",
              "      <td>...</td>\n",
              "      <td>...</td>\n",
              "      <td>...</td>\n",
              "      <td>...</td>\n",
              "      <td>...</td>\n",
              "      <td>...</td>\n",
              "      <td>...</td>\n",
              "      <td>...</td>\n",
              "      <td>...</td>\n",
              "      <td>...</td>\n",
              "      <td>...</td>\n",
              "      <td>...</td>\n",
              "      <td>...</td>\n",
              "      <td>...</td>\n",
              "      <td>...</td>\n",
              "      <td>...</td>\n",
              "      <td>...</td>\n",
              "      <td>...</td>\n",
              "    </tr>\n",
              "    <tr>\n",
              "      <th>284802</th>\n",
              "      <td>172786.0</td>\n",
              "      <td>-11.881118</td>\n",
              "      <td>10.071785</td>\n",
              "      <td>-9.834783</td>\n",
              "      <td>-2.066656</td>\n",
              "      <td>-5.364473</td>\n",
              "      <td>-2.606837</td>\n",
              "      <td>-4.918215</td>\n",
              "      <td>7.305334</td>\n",
              "      <td>1.914428</td>\n",
              "      <td>...</td>\n",
              "      <td>0.213454</td>\n",
              "      <td>0.111864</td>\n",
              "      <td>1.014480</td>\n",
              "      <td>-0.509348</td>\n",
              "      <td>1.436807</td>\n",
              "      <td>0.250034</td>\n",
              "      <td>0.943651</td>\n",
              "      <td>0.823731</td>\n",
              "      <td>0.77</td>\n",
              "      <td>0</td>\n",
              "    </tr>\n",
              "    <tr>\n",
              "      <th>284803</th>\n",
              "      <td>172787.0</td>\n",
              "      <td>-0.732789</td>\n",
              "      <td>-0.055080</td>\n",
              "      <td>2.035030</td>\n",
              "      <td>-0.738589</td>\n",
              "      <td>0.868229</td>\n",
              "      <td>1.058415</td>\n",
              "      <td>0.024330</td>\n",
              "      <td>0.294869</td>\n",
              "      <td>0.584800</td>\n",
              "      <td>...</td>\n",
              "      <td>0.214205</td>\n",
              "      <td>0.924384</td>\n",
              "      <td>0.012463</td>\n",
              "      <td>-1.016226</td>\n",
              "      <td>-0.606624</td>\n",
              "      <td>-0.395255</td>\n",
              "      <td>0.068472</td>\n",
              "      <td>-0.053527</td>\n",
              "      <td>24.79</td>\n",
              "      <td>0</td>\n",
              "    </tr>\n",
              "    <tr>\n",
              "      <th>284804</th>\n",
              "      <td>172788.0</td>\n",
              "      <td>1.919565</td>\n",
              "      <td>-0.301254</td>\n",
              "      <td>-3.249640</td>\n",
              "      <td>-0.557828</td>\n",
              "      <td>2.630515</td>\n",
              "      <td>3.031260</td>\n",
              "      <td>-0.296827</td>\n",
              "      <td>0.708417</td>\n",
              "      <td>0.432454</td>\n",
              "      <td>...</td>\n",
              "      <td>0.232045</td>\n",
              "      <td>0.578229</td>\n",
              "      <td>-0.037501</td>\n",
              "      <td>0.640134</td>\n",
              "      <td>0.265745</td>\n",
              "      <td>-0.087371</td>\n",
              "      <td>0.004455</td>\n",
              "      <td>-0.026561</td>\n",
              "      <td>67.88</td>\n",
              "      <td>0</td>\n",
              "    </tr>\n",
              "    <tr>\n",
              "      <th>284805</th>\n",
              "      <td>172788.0</td>\n",
              "      <td>-0.240440</td>\n",
              "      <td>0.530483</td>\n",
              "      <td>0.702510</td>\n",
              "      <td>0.689799</td>\n",
              "      <td>-0.377961</td>\n",
              "      <td>0.623708</td>\n",
              "      <td>-0.686180</td>\n",
              "      <td>0.679145</td>\n",
              "      <td>0.392087</td>\n",
              "      <td>...</td>\n",
              "      <td>0.265245</td>\n",
              "      <td>0.800049</td>\n",
              "      <td>-0.163298</td>\n",
              "      <td>0.123205</td>\n",
              "      <td>-0.569159</td>\n",
              "      <td>0.546668</td>\n",
              "      <td>0.108821</td>\n",
              "      <td>0.104533</td>\n",
              "      <td>10.00</td>\n",
              "      <td>0</td>\n",
              "    </tr>\n",
              "    <tr>\n",
              "      <th>284806</th>\n",
              "      <td>172792.0</td>\n",
              "      <td>-0.533413</td>\n",
              "      <td>-0.189733</td>\n",
              "      <td>0.703337</td>\n",
              "      <td>-0.506271</td>\n",
              "      <td>-0.012546</td>\n",
              "      <td>-0.649617</td>\n",
              "      <td>1.577006</td>\n",
              "      <td>-0.414650</td>\n",
              "      <td>0.486180</td>\n",
              "      <td>...</td>\n",
              "      <td>0.261057</td>\n",
              "      <td>0.643078</td>\n",
              "      <td>0.376777</td>\n",
              "      <td>0.008797</td>\n",
              "      <td>-0.473649</td>\n",
              "      <td>-0.818267</td>\n",
              "      <td>-0.002415</td>\n",
              "      <td>0.013649</td>\n",
              "      <td>217.00</td>\n",
              "      <td>0</td>\n",
              "    </tr>\n",
              "  </tbody>\n",
              "</table>\n",
              "<p>284807 rows × 31 columns</p>\n",
              "</div>\n",
              "      <button class=\"colab-df-convert\" onclick=\"convertToInteractive('df-e249e0ac-bdc1-4372-bf01-651ace19e9c6')\"\n",
              "              title=\"Convert this dataframe to an interactive table.\"\n",
              "              style=\"display:none;\">\n",
              "\n",
              "  <svg xmlns=\"http://www.w3.org/2000/svg\" height=\"24px\"viewBox=\"0 0 24 24\"\n",
              "       width=\"24px\">\n",
              "    <path d=\"M0 0h24v24H0V0z\" fill=\"none\"/>\n",
              "    <path d=\"M18.56 5.44l.94 2.06.94-2.06 2.06-.94-2.06-.94-.94-2.06-.94 2.06-2.06.94zm-11 1L8.5 8.5l.94-2.06 2.06-.94-2.06-.94L8.5 2.5l-.94 2.06-2.06.94zm10 10l.94 2.06.94-2.06 2.06-.94-2.06-.94-.94-2.06-.94 2.06-2.06.94z\"/><path d=\"M17.41 7.96l-1.37-1.37c-.4-.4-.92-.59-1.43-.59-.52 0-1.04.2-1.43.59L10.3 9.45l-7.72 7.72c-.78.78-.78 2.05 0 2.83L4 21.41c.39.39.9.59 1.41.59.51 0 1.02-.2 1.41-.59l7.78-7.78 2.81-2.81c.8-.78.8-2.07 0-2.86zM5.41 20L4 18.59l7.72-7.72 1.47 1.35L5.41 20z\"/>\n",
              "  </svg>\n",
              "      </button>\n",
              "\n",
              "\n",
              "\n",
              "    <div id=\"df-efc81299-675b-4440-83a9-c6c73bda318e\">\n",
              "      <button class=\"colab-df-quickchart\" onclick=\"quickchart('df-efc81299-675b-4440-83a9-c6c73bda318e')\"\n",
              "              title=\"Suggest charts.\"\n",
              "              style=\"display:none;\">\n",
              "\n",
              "<svg xmlns=\"http://www.w3.org/2000/svg\" height=\"24px\"viewBox=\"0 0 24 24\"\n",
              "     width=\"24px\">\n",
              "    <g>\n",
              "        <path d=\"M19 3H5c-1.1 0-2 .9-2 2v14c0 1.1.9 2 2 2h14c1.1 0 2-.9 2-2V5c0-1.1-.9-2-2-2zM9 17H7v-7h2v7zm4 0h-2V7h2v10zm4 0h-2v-4h2v4z\"/>\n",
              "    </g>\n",
              "</svg>\n",
              "      </button>\n",
              "    </div>\n",
              "\n",
              "<style>\n",
              "  .colab-df-quickchart {\n",
              "    background-color: #E8F0FE;\n",
              "    border: none;\n",
              "    border-radius: 50%;\n",
              "    cursor: pointer;\n",
              "    display: none;\n",
              "    fill: #1967D2;\n",
              "    height: 32px;\n",
              "    padding: 0 0 0 0;\n",
              "    width: 32px;\n",
              "  }\n",
              "\n",
              "  .colab-df-quickchart:hover {\n",
              "    background-color: #E2EBFA;\n",
              "    box-shadow: 0px 1px 2px rgba(60, 64, 67, 0.3), 0px 1px 3px 1px rgba(60, 64, 67, 0.15);\n",
              "    fill: #174EA6;\n",
              "  }\n",
              "\n",
              "  [theme=dark] .colab-df-quickchart {\n",
              "    background-color: #3B4455;\n",
              "    fill: #D2E3FC;\n",
              "  }\n",
              "\n",
              "  [theme=dark] .colab-df-quickchart:hover {\n",
              "    background-color: #434B5C;\n",
              "    box-shadow: 0px 1px 3px 1px rgba(0, 0, 0, 0.15);\n",
              "    filter: drop-shadow(0px 1px 2px rgba(0, 0, 0, 0.3));\n",
              "    fill: #FFFFFF;\n",
              "  }\n",
              "</style>\n",
              "\n",
              "    <script>\n",
              "      async function quickchart(key) {\n",
              "        const containerElement = document.querySelector('#' + key);\n",
              "        const charts = await google.colab.kernel.invokeFunction(\n",
              "            'suggestCharts', [key], {});\n",
              "      }\n",
              "    </script>\n",
              "\n",
              "      <script>\n",
              "\n",
              "function displayQuickchartButton(domScope) {\n",
              "  let quickchartButtonEl =\n",
              "    domScope.querySelector('#df-efc81299-675b-4440-83a9-c6c73bda318e button.colab-df-quickchart');\n",
              "  quickchartButtonEl.style.display =\n",
              "    google.colab.kernel.accessAllowed ? 'block' : 'none';\n",
              "}\n",
              "\n",
              "        displayQuickchartButton(document);\n",
              "      </script>\n",
              "      <style>\n",
              "    .colab-df-container {\n",
              "      display:flex;\n",
              "      flex-wrap:wrap;\n",
              "      gap: 12px;\n",
              "    }\n",
              "\n",
              "    .colab-df-convert {\n",
              "      background-color: #E8F0FE;\n",
              "      border: none;\n",
              "      border-radius: 50%;\n",
              "      cursor: pointer;\n",
              "      display: none;\n",
              "      fill: #1967D2;\n",
              "      height: 32px;\n",
              "      padding: 0 0 0 0;\n",
              "      width: 32px;\n",
              "    }\n",
              "\n",
              "    .colab-df-convert:hover {\n",
              "      background-color: #E2EBFA;\n",
              "      box-shadow: 0px 1px 2px rgba(60, 64, 67, 0.3), 0px 1px 3px 1px rgba(60, 64, 67, 0.15);\n",
              "      fill: #174EA6;\n",
              "    }\n",
              "\n",
              "    [theme=dark] .colab-df-convert {\n",
              "      background-color: #3B4455;\n",
              "      fill: #D2E3FC;\n",
              "    }\n",
              "\n",
              "    [theme=dark] .colab-df-convert:hover {\n",
              "      background-color: #434B5C;\n",
              "      box-shadow: 0px 1px 3px 1px rgba(0, 0, 0, 0.15);\n",
              "      filter: drop-shadow(0px 1px 2px rgba(0, 0, 0, 0.3));\n",
              "      fill: #FFFFFF;\n",
              "    }\n",
              "  </style>\n",
              "\n",
              "      <script>\n",
              "        const buttonEl =\n",
              "          document.querySelector('#df-e249e0ac-bdc1-4372-bf01-651ace19e9c6 button.colab-df-convert');\n",
              "        buttonEl.style.display =\n",
              "          google.colab.kernel.accessAllowed ? 'block' : 'none';\n",
              "\n",
              "        async function convertToInteractive(key) {\n",
              "          const element = document.querySelector('#df-e249e0ac-bdc1-4372-bf01-651ace19e9c6');\n",
              "          const dataTable =\n",
              "            await google.colab.kernel.invokeFunction('convertToInteractive',\n",
              "                                                     [key], {});\n",
              "          if (!dataTable) return;\n",
              "\n",
              "          const docLinkHtml = 'Like what you see? Visit the ' +\n",
              "            '<a target=\"_blank\" href=https://colab.research.google.com/notebooks/data_table.ipynb>data table notebook</a>'\n",
              "            + ' to learn more about interactive tables.';\n",
              "          element.innerHTML = '';\n",
              "          dataTable['output_type'] = 'display_data';\n",
              "          await google.colab.output.renderOutput(dataTable, element);\n",
              "          const docLink = document.createElement('div');\n",
              "          docLink.innerHTML = docLinkHtml;\n",
              "          element.appendChild(docLink);\n",
              "        }\n",
              "      </script>\n",
              "    </div>\n",
              "  </div>\n"
            ]
          },
          "metadata": {},
          "execution_count": 11
        }
      ]
    },
    {
      "cell_type": "code",
      "metadata": {
        "colab": {
          "base_uri": "https://localhost:8080/"
        },
        "id": "813b1h0Vl3aj",
        "outputId": "2890bd66-b731-49f3-90db-39ba69523aba"
      },
      "source": [
        "dat.count() # шапочка"
      ],
      "execution_count": null,
      "outputs": [
        {
          "output_type": "execute_result",
          "data": {
            "text/plain": [
              "Time      284807\n",
              "V1        284807\n",
              "V2        284807\n",
              "V3        284807\n",
              "V4        284807\n",
              "V5        284807\n",
              "V6        284807\n",
              "V7        284807\n",
              "V8        284807\n",
              "V9        284807\n",
              "V10       284807\n",
              "V11       284807\n",
              "V12       284807\n",
              "V13       284807\n",
              "V14       284807\n",
              "V15       284807\n",
              "V16       284807\n",
              "V17       284807\n",
              "V18       284807\n",
              "V19       284807\n",
              "V20       284807\n",
              "V21       284807\n",
              "V22       284807\n",
              "V23       284807\n",
              "V24       284807\n",
              "V25       284807\n",
              "V26       284807\n",
              "V27       284807\n",
              "V28       284807\n",
              "Amount    284807\n",
              "Class     284807\n",
              "dtype: int64"
            ]
          },
          "metadata": {},
          "execution_count": 7
        }
      ]
    },
    {
      "cell_type": "code",
      "metadata": {
        "colab": {
          "base_uri": "https://localhost:8080/"
        },
        "id": "ShDTPIrjredS",
        "outputId": "a9263143-9358-48f3-e1ae-81c532aea236"
      },
      "source": [
        "dat.columns"
      ],
      "execution_count": null,
      "outputs": [
        {
          "output_type": "execute_result",
          "data": {
            "text/plain": [
              "Index(['Time', 'V1', 'V2', 'V3', 'V4', 'V5', 'V6', 'V7', 'V8', 'V9', 'V10',\n",
              "       'V11', 'V12', 'V13', 'V14', 'V15', 'V16', 'V17', 'V18', 'V19', 'V20',\n",
              "       'V21', 'V22', 'V23', 'V24', 'V25', 'V26', 'V27', 'V28', 'Amount',\n",
              "       'Class'],\n",
              "      dtype='object')"
            ]
          },
          "metadata": {
            "tags": []
          },
          "execution_count": 14
        }
      ]
    },
    {
      "cell_type": "code",
      "metadata": {
        "colab": {
          "base_uri": "https://localhost:8080/",
          "height": 439
        },
        "id": "-w48NPQhpUDs",
        "outputId": "552c5a97-5534-455f-a813-af735fb849eb"
      },
      "source": [
        "dat.isnull()"
      ],
      "execution_count": null,
      "outputs": [
        {
          "output_type": "execute_result",
          "data": {
            "text/html": [
              "<div>\n",
              "<style scoped>\n",
              "    .dataframe tbody tr th:only-of-type {\n",
              "        vertical-align: middle;\n",
              "    }\n",
              "\n",
              "    .dataframe tbody tr th {\n",
              "        vertical-align: top;\n",
              "    }\n",
              "\n",
              "    .dataframe thead th {\n",
              "        text-align: right;\n",
              "    }\n",
              "</style>\n",
              "<table border=\"1\" class=\"dataframe\">\n",
              "  <thead>\n",
              "    <tr style=\"text-align: right;\">\n",
              "      <th></th>\n",
              "      <th>Time</th>\n",
              "      <th>V1</th>\n",
              "      <th>V2</th>\n",
              "      <th>V3</th>\n",
              "      <th>V4</th>\n",
              "      <th>V5</th>\n",
              "      <th>V6</th>\n",
              "      <th>V7</th>\n",
              "      <th>V8</th>\n",
              "      <th>V9</th>\n",
              "      <th>V10</th>\n",
              "      <th>V11</th>\n",
              "      <th>V12</th>\n",
              "      <th>V13</th>\n",
              "      <th>V14</th>\n",
              "      <th>V15</th>\n",
              "      <th>V16</th>\n",
              "      <th>V17</th>\n",
              "      <th>V18</th>\n",
              "      <th>V19</th>\n",
              "      <th>V20</th>\n",
              "      <th>V21</th>\n",
              "      <th>V22</th>\n",
              "      <th>V23</th>\n",
              "      <th>V24</th>\n",
              "      <th>V25</th>\n",
              "      <th>V26</th>\n",
              "      <th>V27</th>\n",
              "      <th>V28</th>\n",
              "      <th>Amount</th>\n",
              "      <th>Class</th>\n",
              "    </tr>\n",
              "  </thead>\n",
              "  <tbody>\n",
              "    <tr>\n",
              "      <th>0</th>\n",
              "      <td>False</td>\n",
              "      <td>False</td>\n",
              "      <td>False</td>\n",
              "      <td>False</td>\n",
              "      <td>False</td>\n",
              "      <td>False</td>\n",
              "      <td>False</td>\n",
              "      <td>False</td>\n",
              "      <td>False</td>\n",
              "      <td>False</td>\n",
              "      <td>False</td>\n",
              "      <td>False</td>\n",
              "      <td>False</td>\n",
              "      <td>False</td>\n",
              "      <td>False</td>\n",
              "      <td>False</td>\n",
              "      <td>False</td>\n",
              "      <td>False</td>\n",
              "      <td>False</td>\n",
              "      <td>False</td>\n",
              "      <td>False</td>\n",
              "      <td>False</td>\n",
              "      <td>False</td>\n",
              "      <td>False</td>\n",
              "      <td>False</td>\n",
              "      <td>False</td>\n",
              "      <td>False</td>\n",
              "      <td>False</td>\n",
              "      <td>False</td>\n",
              "      <td>False</td>\n",
              "      <td>False</td>\n",
              "    </tr>\n",
              "    <tr>\n",
              "      <th>1</th>\n",
              "      <td>False</td>\n",
              "      <td>False</td>\n",
              "      <td>False</td>\n",
              "      <td>False</td>\n",
              "      <td>False</td>\n",
              "      <td>False</td>\n",
              "      <td>False</td>\n",
              "      <td>False</td>\n",
              "      <td>False</td>\n",
              "      <td>False</td>\n",
              "      <td>False</td>\n",
              "      <td>False</td>\n",
              "      <td>False</td>\n",
              "      <td>False</td>\n",
              "      <td>False</td>\n",
              "      <td>False</td>\n",
              "      <td>False</td>\n",
              "      <td>False</td>\n",
              "      <td>False</td>\n",
              "      <td>False</td>\n",
              "      <td>False</td>\n",
              "      <td>False</td>\n",
              "      <td>False</td>\n",
              "      <td>False</td>\n",
              "      <td>False</td>\n",
              "      <td>False</td>\n",
              "      <td>False</td>\n",
              "      <td>False</td>\n",
              "      <td>False</td>\n",
              "      <td>False</td>\n",
              "      <td>False</td>\n",
              "    </tr>\n",
              "    <tr>\n",
              "      <th>2</th>\n",
              "      <td>False</td>\n",
              "      <td>False</td>\n",
              "      <td>False</td>\n",
              "      <td>False</td>\n",
              "      <td>False</td>\n",
              "      <td>False</td>\n",
              "      <td>False</td>\n",
              "      <td>False</td>\n",
              "      <td>False</td>\n",
              "      <td>False</td>\n",
              "      <td>False</td>\n",
              "      <td>False</td>\n",
              "      <td>False</td>\n",
              "      <td>False</td>\n",
              "      <td>False</td>\n",
              "      <td>False</td>\n",
              "      <td>False</td>\n",
              "      <td>False</td>\n",
              "      <td>False</td>\n",
              "      <td>False</td>\n",
              "      <td>False</td>\n",
              "      <td>False</td>\n",
              "      <td>False</td>\n",
              "      <td>False</td>\n",
              "      <td>False</td>\n",
              "      <td>False</td>\n",
              "      <td>False</td>\n",
              "      <td>False</td>\n",
              "      <td>False</td>\n",
              "      <td>False</td>\n",
              "      <td>False</td>\n",
              "    </tr>\n",
              "    <tr>\n",
              "      <th>3</th>\n",
              "      <td>False</td>\n",
              "      <td>False</td>\n",
              "      <td>False</td>\n",
              "      <td>False</td>\n",
              "      <td>False</td>\n",
              "      <td>False</td>\n",
              "      <td>False</td>\n",
              "      <td>False</td>\n",
              "      <td>False</td>\n",
              "      <td>False</td>\n",
              "      <td>False</td>\n",
              "      <td>False</td>\n",
              "      <td>False</td>\n",
              "      <td>False</td>\n",
              "      <td>False</td>\n",
              "      <td>False</td>\n",
              "      <td>False</td>\n",
              "      <td>False</td>\n",
              "      <td>False</td>\n",
              "      <td>False</td>\n",
              "      <td>False</td>\n",
              "      <td>False</td>\n",
              "      <td>False</td>\n",
              "      <td>False</td>\n",
              "      <td>False</td>\n",
              "      <td>False</td>\n",
              "      <td>False</td>\n",
              "      <td>False</td>\n",
              "      <td>False</td>\n",
              "      <td>False</td>\n",
              "      <td>False</td>\n",
              "    </tr>\n",
              "    <tr>\n",
              "      <th>4</th>\n",
              "      <td>False</td>\n",
              "      <td>False</td>\n",
              "      <td>False</td>\n",
              "      <td>False</td>\n",
              "      <td>False</td>\n",
              "      <td>False</td>\n",
              "      <td>False</td>\n",
              "      <td>False</td>\n",
              "      <td>False</td>\n",
              "      <td>False</td>\n",
              "      <td>False</td>\n",
              "      <td>False</td>\n",
              "      <td>False</td>\n",
              "      <td>False</td>\n",
              "      <td>False</td>\n",
              "      <td>False</td>\n",
              "      <td>False</td>\n",
              "      <td>False</td>\n",
              "      <td>False</td>\n",
              "      <td>False</td>\n",
              "      <td>False</td>\n",
              "      <td>False</td>\n",
              "      <td>False</td>\n",
              "      <td>False</td>\n",
              "      <td>False</td>\n",
              "      <td>False</td>\n",
              "      <td>False</td>\n",
              "      <td>False</td>\n",
              "      <td>False</td>\n",
              "      <td>False</td>\n",
              "      <td>False</td>\n",
              "    </tr>\n",
              "    <tr>\n",
              "      <th>...</th>\n",
              "      <td>...</td>\n",
              "      <td>...</td>\n",
              "      <td>...</td>\n",
              "      <td>...</td>\n",
              "      <td>...</td>\n",
              "      <td>...</td>\n",
              "      <td>...</td>\n",
              "      <td>...</td>\n",
              "      <td>...</td>\n",
              "      <td>...</td>\n",
              "      <td>...</td>\n",
              "      <td>...</td>\n",
              "      <td>...</td>\n",
              "      <td>...</td>\n",
              "      <td>...</td>\n",
              "      <td>...</td>\n",
              "      <td>...</td>\n",
              "      <td>...</td>\n",
              "      <td>...</td>\n",
              "      <td>...</td>\n",
              "      <td>...</td>\n",
              "      <td>...</td>\n",
              "      <td>...</td>\n",
              "      <td>...</td>\n",
              "      <td>...</td>\n",
              "      <td>...</td>\n",
              "      <td>...</td>\n",
              "      <td>...</td>\n",
              "      <td>...</td>\n",
              "      <td>...</td>\n",
              "      <td>...</td>\n",
              "    </tr>\n",
              "    <tr>\n",
              "      <th>284802</th>\n",
              "      <td>False</td>\n",
              "      <td>False</td>\n",
              "      <td>False</td>\n",
              "      <td>False</td>\n",
              "      <td>False</td>\n",
              "      <td>False</td>\n",
              "      <td>False</td>\n",
              "      <td>False</td>\n",
              "      <td>False</td>\n",
              "      <td>False</td>\n",
              "      <td>False</td>\n",
              "      <td>False</td>\n",
              "      <td>False</td>\n",
              "      <td>False</td>\n",
              "      <td>False</td>\n",
              "      <td>False</td>\n",
              "      <td>False</td>\n",
              "      <td>False</td>\n",
              "      <td>False</td>\n",
              "      <td>False</td>\n",
              "      <td>False</td>\n",
              "      <td>False</td>\n",
              "      <td>False</td>\n",
              "      <td>False</td>\n",
              "      <td>False</td>\n",
              "      <td>False</td>\n",
              "      <td>False</td>\n",
              "      <td>False</td>\n",
              "      <td>False</td>\n",
              "      <td>False</td>\n",
              "      <td>False</td>\n",
              "    </tr>\n",
              "    <tr>\n",
              "      <th>284803</th>\n",
              "      <td>False</td>\n",
              "      <td>False</td>\n",
              "      <td>False</td>\n",
              "      <td>False</td>\n",
              "      <td>False</td>\n",
              "      <td>False</td>\n",
              "      <td>False</td>\n",
              "      <td>False</td>\n",
              "      <td>False</td>\n",
              "      <td>False</td>\n",
              "      <td>False</td>\n",
              "      <td>False</td>\n",
              "      <td>False</td>\n",
              "      <td>False</td>\n",
              "      <td>False</td>\n",
              "      <td>False</td>\n",
              "      <td>False</td>\n",
              "      <td>False</td>\n",
              "      <td>False</td>\n",
              "      <td>False</td>\n",
              "      <td>False</td>\n",
              "      <td>False</td>\n",
              "      <td>False</td>\n",
              "      <td>False</td>\n",
              "      <td>False</td>\n",
              "      <td>False</td>\n",
              "      <td>False</td>\n",
              "      <td>False</td>\n",
              "      <td>False</td>\n",
              "      <td>False</td>\n",
              "      <td>False</td>\n",
              "    </tr>\n",
              "    <tr>\n",
              "      <th>284804</th>\n",
              "      <td>False</td>\n",
              "      <td>False</td>\n",
              "      <td>False</td>\n",
              "      <td>False</td>\n",
              "      <td>False</td>\n",
              "      <td>False</td>\n",
              "      <td>False</td>\n",
              "      <td>False</td>\n",
              "      <td>False</td>\n",
              "      <td>False</td>\n",
              "      <td>False</td>\n",
              "      <td>False</td>\n",
              "      <td>False</td>\n",
              "      <td>False</td>\n",
              "      <td>False</td>\n",
              "      <td>False</td>\n",
              "      <td>False</td>\n",
              "      <td>False</td>\n",
              "      <td>False</td>\n",
              "      <td>False</td>\n",
              "      <td>False</td>\n",
              "      <td>False</td>\n",
              "      <td>False</td>\n",
              "      <td>False</td>\n",
              "      <td>False</td>\n",
              "      <td>False</td>\n",
              "      <td>False</td>\n",
              "      <td>False</td>\n",
              "      <td>False</td>\n",
              "      <td>False</td>\n",
              "      <td>False</td>\n",
              "    </tr>\n",
              "    <tr>\n",
              "      <th>284805</th>\n",
              "      <td>False</td>\n",
              "      <td>False</td>\n",
              "      <td>False</td>\n",
              "      <td>False</td>\n",
              "      <td>False</td>\n",
              "      <td>False</td>\n",
              "      <td>False</td>\n",
              "      <td>False</td>\n",
              "      <td>False</td>\n",
              "      <td>False</td>\n",
              "      <td>False</td>\n",
              "      <td>False</td>\n",
              "      <td>False</td>\n",
              "      <td>False</td>\n",
              "      <td>False</td>\n",
              "      <td>False</td>\n",
              "      <td>False</td>\n",
              "      <td>False</td>\n",
              "      <td>False</td>\n",
              "      <td>False</td>\n",
              "      <td>False</td>\n",
              "      <td>False</td>\n",
              "      <td>False</td>\n",
              "      <td>False</td>\n",
              "      <td>False</td>\n",
              "      <td>False</td>\n",
              "      <td>False</td>\n",
              "      <td>False</td>\n",
              "      <td>False</td>\n",
              "      <td>False</td>\n",
              "      <td>False</td>\n",
              "    </tr>\n",
              "    <tr>\n",
              "      <th>284806</th>\n",
              "      <td>False</td>\n",
              "      <td>False</td>\n",
              "      <td>False</td>\n",
              "      <td>False</td>\n",
              "      <td>False</td>\n",
              "      <td>False</td>\n",
              "      <td>False</td>\n",
              "      <td>False</td>\n",
              "      <td>False</td>\n",
              "      <td>False</td>\n",
              "      <td>False</td>\n",
              "      <td>False</td>\n",
              "      <td>False</td>\n",
              "      <td>False</td>\n",
              "      <td>False</td>\n",
              "      <td>False</td>\n",
              "      <td>False</td>\n",
              "      <td>False</td>\n",
              "      <td>False</td>\n",
              "      <td>False</td>\n",
              "      <td>False</td>\n",
              "      <td>False</td>\n",
              "      <td>False</td>\n",
              "      <td>False</td>\n",
              "      <td>False</td>\n",
              "      <td>False</td>\n",
              "      <td>False</td>\n",
              "      <td>False</td>\n",
              "      <td>False</td>\n",
              "      <td>False</td>\n",
              "      <td>False</td>\n",
              "    </tr>\n",
              "  </tbody>\n",
              "</table>\n",
              "<p>284807 rows × 31 columns</p>\n",
              "</div>"
            ],
            "text/plain": [
              "         Time     V1     V2     V3     V4  ...    V26    V27    V28  Amount  Class\n",
              "0       False  False  False  False  False  ...  False  False  False   False  False\n",
              "1       False  False  False  False  False  ...  False  False  False   False  False\n",
              "2       False  False  False  False  False  ...  False  False  False   False  False\n",
              "3       False  False  False  False  False  ...  False  False  False   False  False\n",
              "4       False  False  False  False  False  ...  False  False  False   False  False\n",
              "...       ...    ...    ...    ...    ...  ...    ...    ...    ...     ...    ...\n",
              "284802  False  False  False  False  False  ...  False  False  False   False  False\n",
              "284803  False  False  False  False  False  ...  False  False  False   False  False\n",
              "284804  False  False  False  False  False  ...  False  False  False   False  False\n",
              "284805  False  False  False  False  False  ...  False  False  False   False  False\n",
              "284806  False  False  False  False  False  ...  False  False  False   False  False\n",
              "\n",
              "[284807 rows x 31 columns]"
            ]
          },
          "metadata": {
            "tags": []
          },
          "execution_count": 13
        }
      ]
    },
    {
      "cell_type": "markdown",
      "metadata": {
        "id": "5nOlo0rmrA2B"
      },
      "source": [
        "# **Пустые ячейки**\n",
        "```\n",
        "dat.isna().sum().sum() # количество всех пустых ячеек\n",
        "Output : 0\n",
        "```\n",
        "Пустых ячеек нет"
      ]
    },
    {
      "cell_type": "code",
      "metadata": {
        "colab": {
          "base_uri": "https://localhost:8080/"
        },
        "id": "86MiBbeGqIuD",
        "outputId": "f0e7ff2c-e105-4b86-e48d-b84f422147be"
      },
      "source": [
        "dat.isna().sum().sum() # количество всех пустых ячеек"
      ],
      "execution_count": null,
      "outputs": [
        {
          "output_type": "execute_result",
          "data": {
            "text/plain": [
              "0"
            ]
          },
          "metadata": {
            "tags": []
          },
          "execution_count": 15
        }
      ]
    },
    {
      "cell_type": "markdown",
      "metadata": {
        "id": "l-u1w-oNs3O5"
      },
      "source": [
        "# **Кол-во мошеннков**\n",
        "\n",
        "\n",
        "```\n",
        "dat['Class'].sum() #кол-во мошенников\n",
        "Output: 492\n",
        "\n",
        "492/284807=0,0017\n",
        "Отношение: 0,0017\n",
        "```\n",
        "\n"
      ]
    },
    {
      "cell_type": "code",
      "metadata": {
        "colab": {
          "base_uri": "https://localhost:8080/"
        },
        "id": "vibdhGn4r8iz",
        "outputId": "163cd381-147c-455a-80c9-9172a56f96c4"
      },
      "source": [
        "dat['Class'].sum() #Кол-во мошенников(1 в столбце Class)"
      ],
      "execution_count": null,
      "outputs": [
        {
          "output_type": "execute_result",
          "data": {
            "text/plain": [
              "492"
            ]
          },
          "metadata": {
            "tags": []
          },
          "execution_count": 16
        }
      ]
    },
    {
      "cell_type": "code",
      "metadata": {
        "colab": {
          "base_uri": "https://localhost:8080/"
        },
        "id": "S7wgvBmRsFlZ",
        "outputId": "ac6a5f51-5d7e-45fc-fa80-0529cbb9fa5e"
      },
      "source": [
        "dat.shape"
      ],
      "execution_count": null,
      "outputs": [
        {
          "output_type": "execute_result",
          "data": {
            "text/plain": [
              "(284807, 31)"
            ]
          },
          "metadata": {
            "tags": []
          },
          "execution_count": 17
        }
      ]
    },
    {
      "cell_type": "code",
      "metadata": {
        "colab": {
          "base_uri": "https://localhost:8080/"
        },
        "id": "x-taIjARtVpA",
        "outputId": "6258028f-d9d2-4688-eff7-795b5192dbe8"
      },
      "source": [
        "492/284806"
      ],
      "execution_count": null,
      "outputs": [
        {
          "output_type": "execute_result",
          "data": {
            "text/plain": [
              "0.001727491696101908"
            ]
          },
          "metadata": {},
          "execution_count": 1
        }
      ]
    },
    {
      "cell_type": "markdown",
      "source": [
        "# **Графики**"
      ],
      "metadata": {
        "id": "GpeR56d1wuZB"
      }
    },
    {
      "cell_type": "markdown",
      "source": [
        "Столбчатая диаграмма, отражающая кол-во мошенничеств относительно не мошенничеств"
      ],
      "metadata": {
        "id": "Ctv3tXBnx4wZ"
      }
    },
    {
      "cell_type": "code",
      "source": [
        "graph1 = sns.countplot(x='Class', data=dat)"
      ],
      "metadata": {
        "colab": {
          "base_uri": "https://localhost:8080/",
          "height": 449
        },
        "id": "zvOhZVZVtzYB",
        "outputId": "816120ed-e0c2-438d-9f43-1e30372f3514"
      },
      "execution_count": null,
      "outputs": [
        {
          "output_type": "display_data",
          "data": {
            "text/plain": [
              "<Figure size 640x480 with 1 Axes>"
            ],
            "image/png": "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\n"
          },
          "metadata": {}
        }
      ]
    },
    {
      "cell_type": "markdown",
      "source": [
        "График отражающий кол-во мошенничеств относительно кол-ва денежных средств"
      ],
      "metadata": {
        "id": "f4SppOx0x7oO"
      }
    },
    {
      "cell_type": "code",
      "source": [
        "graph2 = sns.scatterplot(data=dat, x=\"Amount\", y=\"Class\")"
      ],
      "metadata": {
        "colab": {
          "base_uri": "https://localhost:8080/",
          "height": 449
        },
        "id": "YuO7oiZgyMGc",
        "outputId": "1f72bc57-3a5b-4400-9928-0fc31fb1106a"
      },
      "execution_count": null,
      "outputs": [
        {
          "output_type": "display_data",
          "data": {
            "text/plain": [
              "<Figure size 640x480 with 1 Axes>"
            ],
            "image/png": "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\n"
          },
          "metadata": {}
        }
      ]
    },
    {
      "cell_type": "code",
      "source": [
        "graph3 = sns.scatterplot(data=dat, x=\"Amount\", y=\"Time\")"
      ],
      "metadata": {
        "colab": {
          "base_uri": "https://localhost:8080/",
          "height": 449
        },
        "id": "KGHEWkmH6rbb",
        "outputId": "dab472a0-7a08-484c-cb30-582e60bdd85b"
      },
      "execution_count": null,
      "outputs": [
        {
          "output_type": "display_data",
          "data": {
            "text/plain": [
              "<Figure size 640x480 with 1 Axes>"
            ],
            "image/png": "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\n"
          },
          "metadata": {}
        }
      ]
    },
    {
      "cell_type": "markdown",
      "source": [
        "# Обучаю модель"
      ],
      "metadata": {
        "id": "QhOOIsej716D"
      }
    },
    {
      "cell_type": "code",
      "source": [
        "from sklearn.datasets import make_classification # для генерации данных\n",
        "from sklearn.model_selection import train_test_split # для разделения на обучение и тест\n",
        "from sklearn.ensemble import RandomForestClassifier # случайный лес\n",
        "from sklearn import tree\n",
        "from sklearn.datasets import load_iris\n",
        "from sklearn.datasets import load_wine\n",
        "from sklearn.tree import export_text\n",
        "from sklearn.tree import DecisionTreeClassifier, plot_tree"
      ],
      "metadata": {
        "id": "TS3mvoya72w0"
      },
      "execution_count": 29,
      "outputs": []
    },
    {
      "cell_type": "code",
      "source": [
        "data = np.array(dat)\n",
        "data"
      ],
      "metadata": {
        "id": "cQzNGST28uNq",
        "colab": {
          "base_uri": "https://localhost:8080/"
        },
        "outputId": "836d6f2f-35f6-477b-e709-b39ebcaeb3b1"
      },
      "execution_count": 30,
      "outputs": [
        {
          "output_type": "execute_result",
          "data": {
            "text/plain": [
              "array([[ 0.00000000e+00, -1.35980713e+00, -7.27811733e-02, ...,\n",
              "        -2.10530535e-02,  1.49620000e+02,  0.00000000e+00],\n",
              "       [ 0.00000000e+00,  1.19185711e+00,  2.66150712e-01, ...,\n",
              "         1.47241692e-02,  2.69000000e+00,  0.00000000e+00],\n",
              "       [ 1.00000000e+00, -1.35835406e+00, -1.34016307e+00, ...,\n",
              "        -5.97518406e-02,  3.78660000e+02,  0.00000000e+00],\n",
              "       ...,\n",
              "       [ 1.72788000e+05,  1.91956501e+00, -3.01253846e-01, ...,\n",
              "        -2.65608286e-02,  6.78800000e+01,  0.00000000e+00],\n",
              "       [ 1.72788000e+05, -2.40440050e-01,  5.30482513e-01, ...,\n",
              "         1.04532821e-01,  1.00000000e+01,  0.00000000e+00],\n",
              "       [ 1.72792000e+05, -5.33412522e-01, -1.89733337e-01, ...,\n",
              "         1.36489143e-02,  2.17000000e+02,  0.00000000e+00]])"
            ]
          },
          "metadata": {},
          "execution_count": 30
        }
      ]
    },
    {
      "cell_type": "code",
      "source": [
        "size = np.shape(dat)[0]\n",
        "size"
      ],
      "metadata": {
        "id": "xPXNeJrp8vwV",
        "colab": {
          "base_uri": "https://localhost:8080/"
        },
        "outputId": "ac8b781d-07d3-47ae-810c-cf68655b8c5b"
      },
      "execution_count": 31,
      "outputs": [
        {
          "output_type": "execute_result",
          "data": {
            "text/plain": [
              "284807"
            ]
          },
          "metadata": {},
          "execution_count": 31
        }
      ]
    },
    {
      "cell_type": "code",
      "source": [
        "# создаем данные\n",
        "X = data[:,0:-1]\n",
        "y = data[:,-1].reshape(size,1)\n",
        "\n",
        "\n",
        "# разделяем на обучающие и тестовые, случайно\n",
        "X_train, X_test, y_train, y_test = train_test_split(\n",
        "    X, y, test_size=0.33, random_state=42)\n",
        "\n",
        "clf = RandomForestClassifier(max_depth=5,# максимальная глубина дерева\n",
        "                             n_estimators=10,# число деревьев в лесу\n",
        "                             max_features=1)# максимальное число признаков для каждого дерева\n",
        "\n",
        "clf.fit(X_train, y_train) # обучаем"
      ],
      "metadata": {
        "colab": {
          "base_uri": "https://localhost:8080/",
          "height": 129
        },
        "id": "34oPzNZb9oUx",
        "outputId": "3c4e589e-b1d1-4c89-e78e-2fd9a1785658"
      },
      "execution_count": 45,
      "outputs": [
        {
          "output_type": "stream",
          "name": "stderr",
          "text": [
            "<ipython-input-45-3f309cd354e2>:14: DataConversionWarning: A column-vector y was passed when a 1d array was expected. Please change the shape of y to (n_samples,), for example using ravel().\n",
            "  clf.fit(X_train, y_train) # обучаем\n"
          ]
        },
        {
          "output_type": "execute_result",
          "data": {
            "text/plain": [
              "RandomForestClassifier(max_depth=5, max_features=1, n_estimators=10)"
            ],
            "text/html": [
              "<style>#sk-container-id-3 {color: black;background-color: white;}#sk-container-id-3 pre{padding: 0;}#sk-container-id-3 div.sk-toggleable {background-color: white;}#sk-container-id-3 label.sk-toggleable__label {cursor: pointer;display: block;width: 100%;margin-bottom: 0;padding: 0.3em;box-sizing: border-box;text-align: center;}#sk-container-id-3 label.sk-toggleable__label-arrow:before {content: \"▸\";float: left;margin-right: 0.25em;color: #696969;}#sk-container-id-3 label.sk-toggleable__label-arrow:hover:before {color: black;}#sk-container-id-3 div.sk-estimator:hover label.sk-toggleable__label-arrow:before {color: black;}#sk-container-id-3 div.sk-toggleable__content {max-height: 0;max-width: 0;overflow: hidden;text-align: left;background-color: #f0f8ff;}#sk-container-id-3 div.sk-toggleable__content pre {margin: 0.2em;color: black;border-radius: 0.25em;background-color: #f0f8ff;}#sk-container-id-3 input.sk-toggleable__control:checked~div.sk-toggleable__content {max-height: 200px;max-width: 100%;overflow: auto;}#sk-container-id-3 input.sk-toggleable__control:checked~label.sk-toggleable__label-arrow:before {content: \"▾\";}#sk-container-id-3 div.sk-estimator input.sk-toggleable__control:checked~label.sk-toggleable__label {background-color: #d4ebff;}#sk-container-id-3 div.sk-label input.sk-toggleable__control:checked~label.sk-toggleable__label {background-color: #d4ebff;}#sk-container-id-3 input.sk-hidden--visually {border: 0;clip: rect(1px 1px 1px 1px);clip: rect(1px, 1px, 1px, 1px);height: 1px;margin: -1px;overflow: hidden;padding: 0;position: absolute;width: 1px;}#sk-container-id-3 div.sk-estimator {font-family: monospace;background-color: #f0f8ff;border: 1px dotted black;border-radius: 0.25em;box-sizing: border-box;margin-bottom: 0.5em;}#sk-container-id-3 div.sk-estimator:hover {background-color: #d4ebff;}#sk-container-id-3 div.sk-parallel-item::after {content: \"\";width: 100%;border-bottom: 1px solid gray;flex-grow: 1;}#sk-container-id-3 div.sk-label:hover label.sk-toggleable__label {background-color: #d4ebff;}#sk-container-id-3 div.sk-serial::before {content: \"\";position: absolute;border-left: 1px solid gray;box-sizing: border-box;top: 0;bottom: 0;left: 50%;z-index: 0;}#sk-container-id-3 div.sk-serial {display: flex;flex-direction: column;align-items: center;background-color: white;padding-right: 0.2em;padding-left: 0.2em;position: relative;}#sk-container-id-3 div.sk-item {position: relative;z-index: 1;}#sk-container-id-3 div.sk-parallel {display: flex;align-items: stretch;justify-content: center;background-color: white;position: relative;}#sk-container-id-3 div.sk-item::before, #sk-container-id-3 div.sk-parallel-item::before {content: \"\";position: absolute;border-left: 1px solid gray;box-sizing: border-box;top: 0;bottom: 0;left: 50%;z-index: -1;}#sk-container-id-3 div.sk-parallel-item {display: flex;flex-direction: column;z-index: 1;position: relative;background-color: white;}#sk-container-id-3 div.sk-parallel-item:first-child::after {align-self: flex-end;width: 50%;}#sk-container-id-3 div.sk-parallel-item:last-child::after {align-self: flex-start;width: 50%;}#sk-container-id-3 div.sk-parallel-item:only-child::after {width: 0;}#sk-container-id-3 div.sk-dashed-wrapped {border: 1px dashed gray;margin: 0 0.4em 0.5em 0.4em;box-sizing: border-box;padding-bottom: 0.4em;background-color: white;}#sk-container-id-3 div.sk-label label {font-family: monospace;font-weight: bold;display: inline-block;line-height: 1.2em;}#sk-container-id-3 div.sk-label-container {text-align: center;}#sk-container-id-3 div.sk-container {/* jupyter's `normalize.less` sets `[hidden] { display: none; }` but bootstrap.min.css set `[hidden] { display: none !important; }` so we also need the `!important` here to be able to override the default hidden behavior on the sphinx rendered scikit-learn.org. See: https://github.com/scikit-learn/scikit-learn/issues/21755 */display: inline-block !important;position: relative;}#sk-container-id-3 div.sk-text-repr-fallback {display: none;}</style><div id=\"sk-container-id-3\" class=\"sk-top-container\"><div class=\"sk-text-repr-fallback\"><pre>RandomForestClassifier(max_depth=5, max_features=1, n_estimators=10)</pre><b>In a Jupyter environment, please rerun this cell to show the HTML representation or trust the notebook. <br />On GitHub, the HTML representation is unable to render, please try loading this page with nbviewer.org.</b></div><div class=\"sk-container\" hidden><div class=\"sk-item\"><div class=\"sk-estimator sk-toggleable\"><input class=\"sk-toggleable__control sk-hidden--visually\" id=\"sk-estimator-id-3\" type=\"checkbox\" checked><label for=\"sk-estimator-id-3\" class=\"sk-toggleable__label sk-toggleable__label-arrow\">RandomForestClassifier</label><div class=\"sk-toggleable__content\"><pre>RandomForestClassifier(max_depth=5, max_features=1, n_estimators=10)</pre></div></div></div></div></div>"
            ]
          },
          "metadata": {},
          "execution_count": 45
        }
      ]
    },
    {
      "cell_type": "markdown",
      "metadata": {
        "id": "DJx2N-PmGGvB"
      },
      "source": [
        "Смотрю точность и полноту на тестовой выборке"
      ]
    },
    ,
    {
      "cell_type": "code",
      "source": [
        "true_positives = ((y_test == 1) & (pred == 1)).sum()\n",
        "false_positives = ((y_test == 0) & (pred == 1)).sum()\n",
        "precision = true_positives / (true_positives + false_positives)\n",
        "print(precision)"
      ],
      "metadata": {
        "colab": {
          "base_uri": "https://localhost:8080/"
        },
        "id": "Os59z0s8rxZB",
        "outputId": "b6b4826b-a73f-4cd3-943b-ee4f58e43f30"
      },
      "execution_count": null,
      "outputs": [
        {
          "output_type": "stream",
          "name": "stdout",
          "text": [
            "0.9565217391304348\n"
          ]
        }
      ]
    },
    {
      "cell_type": "code",
      "source": [
        "true_positives = ((y_test == 1) & (pred == 1)).sum()\n",
        "false_negatives = ((y_test == 1) & (pred == 0)).sum()\n",
        "recall = true_positives / (true_positives + false_negatives)\n",
        "print(recall)"
      ],
      "metadata": {
        "colab": {
          "base_uri": "https://localhost:8080/"
        },
        "id": "l57-vjbWr_RO",
        "outputId": "e158bb16-c865-465f-c0d4-7ad957697060"
      },
      "execution_count": null,
      "outputs": [
        {
          "output_type": "stream",
          "name": "stdout",
          "text": [
            "0.4429530201342282\n"
          ]
        }
      ]
    },
    {
      "cell_type": "markdown",
      "metadata": {
        "id": "4YXUQulpNffd"
      },
      "source": [
        "Процент правильных при нелигальных мал, поэтому заново буду переобучать"
      ]
    },
    {
      "cell_type": "code",
      "metadata": {
        "id": "IBJqDmnGNonP",
        "colab": {
          "base_uri": "https://localhost:8080/"
        },
        "outputId": "b1d031e1-fc9c-438c-8aaa-84a51322f4e2"
      },
      "source": [
        "def proc(pred):\n",
        "  mist_leg = ((y_test == 0) * pred).sum()\n",
        "  all_leg = (y_test == 0).sum()\n",
        "  proc_leg = 1 - mist_leg/all_leg\n",
        "  mist_ill = (y_test*(pred == 0)).sum()\n",
        "  all_ill = y_test.sum()\n",
        "  proc_ill = 1 - mist_ill/all_ill\n",
        "  return (proc_leg, proc_ill)\n",
        "\n",
        "dep = 6\n",
        "estim = 6\n",
        "feat = np.shape(X_train)[1] + 1\n",
        "siz = np.shape(y_test)[0]\n",
        "ans = [0, 0, 0, 0, 0]\n",
        "\n",
        "for a in range(1, dep):\n",
        "  for b in range(1, estim):\n",
        "    for c in range(1, feat):\n",
        "      clf = RandomForestClassifier(max_depth=a,# максимальная глубина дерева\n",
        "                             n_estimators=b,# число деревьев в лесу\n",
        "                             max_features=c)# максимальное число признаков для каждого дерева\n",
        "      clf.fit(X_train, y_train) # обучаем\n",
        "      y_pred = clf.predict(X_test)\n",
        "      y_pred = y_pred.reshape(siz, 1)\n",
        "      leg_pr, ill_pr = proc(y_pred)\n",
        "      print(leg_pr, ill_pr, a, b, c)\n",
        "      if leg_pr + ill_pr > ans[0] + ans[1]:\n",
        "        ans = [leg_pr, ill_pr, a, b, c]\n",
        "print('ANSWER:')\n",
        "print(*ans)"
      ],
      "execution_count": 49,
      "outputs": [
        {
          "output_type": "stream",
          "name": "stderr",
          "text": [
            "<ipython-input-49-218c55f7a3ea>:22: DataConversionWarning: A column-vector y was passed when a 1d array was expected. Please change the shape of y to (n_samples,), for example using ravel().\n",
            "  clf.fit(X_train, y_train) # обучаем\n"
          ]
        },
        {
          "output_type": "stream",
          "name": "stdout",
          "text": [
            "0.9990622136021654 0.7181208053691275 1 1 1\n",
            "0.9998188367186002 0.2953020134228188 1 1 2\n"
          ]
        },
        {
          "output_type": "stream",
          "name": "stderr",
          "text": [
            "<ipython-input-49-218c55f7a3ea>:22: DataConversionWarning: A column-vector y was passed when a 1d array was expected. Please change the shape of y to (n_samples,), for example using ravel().\n",
            "  clf.fit(X_train, y_train) # обучаем\n",
            "<ipython-input-49-218c55f7a3ea>:22: DataConversionWarning: A column-vector y was passed when a 1d array was expected. Please change the shape of y to (n_samples,), for example using ravel().\n",
            "  clf.fit(X_train, y_train) # обучаем\n"
          ]
        },
        {
          "output_type": "stream",
          "name": "stdout",
          "text": [
            "0.9998188367186002 0.3087248322147651 1 1 3\n"
          ]
        },
        {
          "output_type": "stream",
          "name": "stderr",
          "text": [
            "<ipython-input-49-218c55f7a3ea>:22: DataConversionWarning: A column-vector y was passed when a 1d array was expected. Please change the shape of y to (n_samples,), for example using ravel().\n",
            "  clf.fit(X_train, y_train) # обучаем\n"
          ]
        },
        {
          "output_type": "stream",
          "name": "stdout",
          "text": [
            "0.999605703446365 0.49664429530201337 1 1 4\n"
          ]
        },
        {
          "output_type": "stream",
          "name": "stderr",
          "text": [
            "<ipython-input-49-218c55f7a3ea>:22: DataConversionWarning: A column-vector y was passed when a 1d array was expected. Please change the shape of y to (n_samples,), for example using ravel().\n",
            "  clf.fit(X_train, y_train) # обучаем\n"
          ]
        },
        {
          "output_type": "stream",
          "name": "stdout",
          "text": [
            "1.0 0.0 1 1 5\n"
          ]
        },
        {
          "output_type": "stream",
          "name": "stderr",
          "text": [
            "<ipython-input-49-218c55f7a3ea>:22: DataConversionWarning: A column-vector y was passed when a 1d array was expected. Please change the shape of y to (n_samples,), for example using ravel().\n",
            "  clf.fit(X_train, y_train) # обучаем\n"
          ]
        },
        {
          "output_type": "stream",
          "name": "stdout",
          "text": [
            "0.9999786866727765 0.11409395973154357 1 1 6\n"
          ]
        },
        {
          "output_type": "stream",
          "name": "stderr",
          "text": [
            "<ipython-input-49-218c55f7a3ea>:22: DataConversionWarning: A column-vector y was passed when a 1d array was expected. Please change the shape of y to (n_samples,), for example using ravel().\n",
            "  clf.fit(X_train, y_train) # обучаем\n"
          ]
        },
        {
          "output_type": "stream",
          "name": "stdout",
          "text": [
            "0.9995843901191415 0.7046979865771812 1 1 7\n"
          ]
        },
        {
          "output_type": "stream",
          "name": "stderr",
          "text": [
            "<ipython-input-49-218c55f7a3ea>:22: DataConversionWarning: A column-vector y was passed when a 1d array was expected. Please change the shape of y to (n_samples,), for example using ravel().\n",
            "  clf.fit(X_train, y_train) # обучаем\n"
          ]
        },
        {
          "output_type": "stream",
          "name": "stdout",
          "text": [
            "0.9996163601099768 0.6778523489932886 1 1 8\n"
          ]
        },
        {
          "output_type": "stream",
          "name": "stderr",
          "text": [
            "<ipython-input-49-218c55f7a3ea>:22: DataConversionWarning: A column-vector y was passed when a 1d array was expected. Please change the shape of y to (n_samples,), for example using ravel().\n",
            "  clf.fit(X_train, y_train) # обучаем\n"
          ]
        },
        {
          "output_type": "stream",
          "name": "stdout",
          "text": [
            "0.9995417634646945 0.5033557046979866 1 1 9\n"
          ]
        },
        {
          "output_type": "stream",
          "name": "stderr",
          "text": [
            "<ipython-input-49-218c55f7a3ea>:22: DataConversionWarning: A column-vector y was passed when a 1d array was expected. Please change the shape of y to (n_samples,), for example using ravel().\n",
            "  clf.fit(X_train, y_train) # обучаем\n"
          ]
        },
        {
          "output_type": "stream",
          "name": "stdout",
          "text": [
            "0.9995311068010827 0.5033557046979866 1 1 10\n"
          ]
        },
        {
          "output_type": "stream",
          "name": "stderr",
          "text": [
            "<ipython-input-49-218c55f7a3ea>:22: DataConversionWarning: A column-vector y was passed when a 1d array was expected. Please change the shape of y to (n_samples,), for example using ravel().\n",
            "  clf.fit(X_train, y_train) # обучаем\n"
          ]
        },
        {
          "output_type": "stream",
          "name": "stdout",
          "text": [
            "1.0 0.0 1 1 11\n"
          ]
        },
        {
          "output_type": "stream",
          "name": "stderr",
          "text": [
            "<ipython-input-49-218c55f7a3ea>:22: DataConversionWarning: A column-vector y was passed when a 1d array was expected. Please change the shape of y to (n_samples,), for example using ravel().\n",
            "  clf.fit(X_train, y_train) # обучаем\n"
          ]
        },
        {
          "output_type": "stream",
          "name": "stdout",
          "text": [
            "0.9996270167735886 0.5771812080536913 1 1 12\n"
          ]
        },
        {
          "output_type": "stream",
          "name": "stderr",
          "text": [
            "<ipython-input-49-218c55f7a3ea>:22: DataConversionWarning: A column-vector y was passed when a 1d array was expected. Please change the shape of y to (n_samples,), for example using ravel().\n",
            "  clf.fit(X_train, y_train) # обучаем\n"
          ]
        },
        {
          "output_type": "stream",
          "name": "stdout",
          "text": [
            "0.9997122700824825 0.610738255033557 1 1 13\n"
          ]
        },
        {
          "output_type": "stream",
          "name": "stderr",
          "text": [
            "<ipython-input-49-218c55f7a3ea>:22: DataConversionWarning: A column-vector y was passed when a 1d array was expected. Please change the shape of y to (n_samples,), for example using ravel().\n",
            "  clf.fit(X_train, y_train) # обучаем\n"
          ]
        },
        {
          "output_type": "stream",
          "name": "stdout",
          "text": [
            "0.9995843901191415 0.7046979865771812 1 1 14\n"
          ]
        },
        {
          "output_type": "stream",
          "name": "stderr",
          "text": [
            "<ipython-input-49-218c55f7a3ea>:22: DataConversionWarning: A column-vector y was passed when a 1d array was expected. Please change the shape of y to (n_samples,), for example using ravel().\n",
            "  clf.fit(X_train, y_train) # обучаем\n"
          ]
        },
        {
          "output_type": "stream",
          "name": "stdout",
          "text": [
            "0.999648330100812 0.4832214765100671 1 1 15\n"
          ]
        },
        {
          "output_type": "stream",
          "name": "stderr",
          "text": [
            "<ipython-input-49-218c55f7a3ea>:22: DataConversionWarning: A column-vector y was passed when a 1d array was expected. Please change the shape of y to (n_samples,), for example using ravel().\n",
            "  clf.fit(X_train, y_train) # обучаем\n"
          ]
        },
        {
          "output_type": "stream",
          "name": "stdout",
          "text": [
            "0.9995737334555297 0.7181208053691275 1 1 16\n"
          ]
        },
        {
          "output_type": "stream",
          "name": "stderr",
          "text": [
            "<ipython-input-49-218c55f7a3ea>:22: DataConversionWarning: A column-vector y was passed when a 1d array was expected. Please change the shape of y to (n_samples,), for example using ravel().\n",
            "  clf.fit(X_train, y_train) # обучаем\n"
          ]
        },
        {
          "output_type": "stream",
          "name": "stdout",
          "text": [
            "0.9997229267460943 0.610738255033557 1 1 17\n"
          ]
        },
        {
          "output_type": "stream",
          "name": "stderr",
          "text": [
            "<ipython-input-49-218c55f7a3ea>:22: DataConversionWarning: A column-vector y was passed when a 1d array was expected. Please change the shape of y to (n_samples,), for example using ravel().\n",
            "  clf.fit(X_train, y_train) # обучаем\n"
          ]
        },
        {
          "output_type": "stream",
          "name": "stdout",
          "text": [
            "0.9995843901191415 0.7046979865771812 1 1 18\n"
          ]
        },
        {
          "output_type": "stream",
          "name": "stderr",
          "text": [
            "<ipython-input-49-218c55f7a3ea>:22: DataConversionWarning: A column-vector y was passed when a 1d array was expected. Please change the shape of y to (n_samples,), for example using ravel().\n",
            "  clf.fit(X_train, y_train) # обучаем\n"
          ]
        },
        {
          "output_type": "stream",
          "name": "stdout",
          "text": [
            "0.9997122700824825 0.610738255033557 1 1 19\n"
          ]
        },
        {
          "output_type": "stream",
          "name": "stderr",
          "text": [
            "<ipython-input-49-218c55f7a3ea>:22: DataConversionWarning: A column-vector y was passed when a 1d array was expected. Please change the shape of y to (n_samples,), for example using ravel().\n",
            "  clf.fit(X_train, y_train) # обучаем\n"
          ]
        },
        {
          "output_type": "stream",
          "name": "stdout",
          "text": [
            "0.9996270167735886 0.6778523489932886 1 1 20\n"
          ]
        },
        {
          "output_type": "stream",
          "name": "stderr",
          "text": [
            "<ipython-input-49-218c55f7a3ea>:22: DataConversionWarning: A column-vector y was passed when a 1d array was expected. Please change the shape of y to (n_samples,), for example using ravel().\n",
            "  clf.fit(X_train, y_train) # обучаем\n"
          ]
        },
        {
          "output_type": "stream",
          "name": "stdout",
          "text": [
            "0.9997548967369296 0.5973154362416108 1 1 21\n"
          ]
        },
        {
          "output_type": "stream",
          "name": "stderr",
          "text": [
            "<ipython-input-49-218c55f7a3ea>:22: DataConversionWarning: A column-vector y was passed when a 1d array was expected. Please change the shape of y to (n_samples,), for example using ravel().\n",
            "  clf.fit(X_train, y_train) # обучаем\n"
          ]
        },
        {
          "output_type": "stream",
          "name": "stdout",
          "text": [
            "0.9996376734372003 0.6711409395973154 1 1 22\n"
          ]
        },
        {
          "output_type": "stream",
          "name": "stderr",
          "text": [
            "<ipython-input-49-218c55f7a3ea>:22: DataConversionWarning: A column-vector y was passed when a 1d array was expected. Please change the shape of y to (n_samples,), for example using ravel().\n",
            "  clf.fit(X_train, y_train) # обучаем\n"
          ]
        },
        {
          "output_type": "stream",
          "name": "stdout",
          "text": [
            "0.9995843901191415 0.7046979865771812 1 1 23\n"
          ]
        },
        {
          "output_type": "stream",
          "name": "stderr",
          "text": [
            "<ipython-input-49-218c55f7a3ea>:22: DataConversionWarning: A column-vector y was passed when a 1d array was expected. Please change the shape of y to (n_samples,), for example using ravel().\n",
            "  clf.fit(X_train, y_train) # обучаем\n"
          ]
        },
        {
          "output_type": "stream",
          "name": "stdout",
          "text": [
            "0.9996163601099768 0.6778523489932886 1 1 24\n"
          ]
        },
        {
          "output_type": "stream",
          "name": "stderr",
          "text": [
            "<ipython-input-49-218c55f7a3ea>:22: DataConversionWarning: A column-vector y was passed when a 1d array was expected. Please change the shape of y to (n_samples,), for example using ravel().\n",
            "  clf.fit(X_train, y_train) # обучаем\n"
          ]
        },
        {
          "output_type": "stream",
          "name": "stdout",
          "text": [
            "0.9994991368102475 0.7516778523489933 1 1 25\n"
          ]
        },
        {
          "output_type": "stream",
          "name": "stderr",
          "text": [
            "<ipython-input-49-218c55f7a3ea>:22: DataConversionWarning: A column-vector y was passed when a 1d array was expected. Please change the shape of y to (n_samples,), for example using ravel().\n",
            "  clf.fit(X_train, y_train) # обучаем\n"
          ]
        },
        {
          "output_type": "stream",
          "name": "stdout",
          "text": [
            "0.9995843901191415 0.7046979865771812 1 1 26\n"
          ]
        },
        {
          "output_type": "stream",
          "name": "stderr",
          "text": [
            "<ipython-input-49-218c55f7a3ea>:22: DataConversionWarning: A column-vector y was passed when a 1d array was expected. Please change the shape of y to (n_samples,), for example using ravel().\n",
            "  clf.fit(X_train, y_train) # обучаем\n"
          ]
        },
        {
          "output_type": "stream",
          "name": "stdout",
          "text": [
            "0.9995737334555297 0.7181208053691275 1 1 27\n"
          ]
        },
        {
          "output_type": "stream",
          "name": "stderr",
          "text": [
            "<ipython-input-49-218c55f7a3ea>:22: DataConversionWarning: A column-vector y was passed when a 1d array was expected. Please change the shape of y to (n_samples,), for example using ravel().\n",
            "  clf.fit(X_train, y_train) # обучаем\n"
          ]
        },
        {
          "output_type": "stream",
          "name": "stdout",
          "text": [
            "0.9995737334555297 0.7181208053691275 1 1 28\n"
          ]
        },
        {
          "output_type": "stream",
          "name": "stderr",
          "text": [
            "<ipython-input-49-218c55f7a3ea>:22: DataConversionWarning: A column-vector y was passed when a 1d array was expected. Please change the shape of y to (n_samples,), for example using ravel().\n",
            "  clf.fit(X_train, y_train) # обучаем\n"
          ]
        },
        {
          "output_type": "stream",
          "name": "stdout",
          "text": [
            "0.9995843901191415 0.7046979865771812 1 1 29\n"
          ]
        },
        {
          "output_type": "stream",
          "name": "stderr",
          "text": [
            "<ipython-input-49-218c55f7a3ea>:22: DataConversionWarning: A column-vector y was passed when a 1d array was expected. Please change the shape of y to (n_samples,), for example using ravel().\n",
            "  clf.fit(X_train, y_train) # обучаем\n"
          ]
        },
        {
          "output_type": "stream",
          "name": "stdout",
          "text": [
            "0.9995737334555297 0.7181208053691275 1 1 30\n",
            "1.0 0.0 1 2 1\n"
          ]
        },
        {
          "output_type": "stream",
          "name": "stderr",
          "text": [
            "<ipython-input-49-218c55f7a3ea>:22: DataConversionWarning: A column-vector y was passed when a 1d array was expected. Please change the shape of y to (n_samples,), for example using ravel().\n",
            "  clf.fit(X_train, y_train) # обучаем\n",
            "<ipython-input-49-218c55f7a3ea>:22: DataConversionWarning: A column-vector y was passed when a 1d array was expected. Please change the shape of y to (n_samples,), for example using ravel().\n",
            "  clf.fit(X_train, y_train) # обучаем\n"
          ]
        },
        {
          "output_type": "stream",
          "name": "stdout",
          "text": [
            "1.0 0.0 1 2 2\n"
          ]
        },
        {
          "output_type": "stream",
          "name": "stderr",
          "text": [
            "<ipython-input-49-218c55f7a3ea>:22: DataConversionWarning: A column-vector y was passed when a 1d array was expected. Please change the shape of y to (n_samples,), for example using ravel().\n",
            "  clf.fit(X_train, y_train) # обучаем\n"
          ]
        },
        {
          "output_type": "stream",
          "name": "stdout",
          "text": [
            "1.0 0.0 1 2 3\n"
          ]
        },
        {
          "output_type": "stream",
          "name": "stderr",
          "text": [
            "<ipython-input-49-218c55f7a3ea>:22: DataConversionWarning: A column-vector y was passed when a 1d array was expected. Please change the shape of y to (n_samples,), for example using ravel().\n",
            "  clf.fit(X_train, y_train) # обучаем\n"
          ]
        },
        {
          "output_type": "stream",
          "name": "stdout",
          "text": [
            "0.9998188367186002 0.5771812080536913 1 2 4\n"
          ]
        },
        {
          "output_type": "stream",
          "name": "stderr",
          "text": [
            "<ipython-input-49-218c55f7a3ea>:22: DataConversionWarning: A column-vector y was passed when a 1d array was expected. Please change the shape of y to (n_samples,), for example using ravel().\n",
            "  clf.fit(X_train, y_train) # обучаем\n"
          ]
        },
        {
          "output_type": "stream",
          "name": "stdout",
          "text": [
            "0.9998401500458236 0.5503355704697986 1 2 5\n"
          ]
        },
        {
          "output_type": "stream",
          "name": "stderr",
          "text": [
            "<ipython-input-49-218c55f7a3ea>:22: DataConversionWarning: A column-vector y was passed when a 1d array was expected. Please change the shape of y to (n_samples,), for example using ravel().\n",
            "  clf.fit(X_train, y_train) # обучаем\n"
          ]
        },
        {
          "output_type": "stream",
          "name": "stdout",
          "text": [
            "0.9998508067094354 0.5033557046979866 1 2 6\n"
          ]
        },
        {
          "output_type": "stream",
          "name": "stderr",
          "text": [
            "<ipython-input-49-218c55f7a3ea>:22: DataConversionWarning: A column-vector y was passed when a 1d array was expected. Please change the shape of y to (n_samples,), for example using ravel().\n",
            "  clf.fit(X_train, y_train) # обучаем\n"
          ]
        },
        {
          "output_type": "stream",
          "name": "stdout",
          "text": [
            "0.9998401500458236 0.5704697986577181 1 2 7\n"
          ]
        },
        {
          "output_type": "stream",
          "name": "stderr",
          "text": [
            "<ipython-input-49-218c55f7a3ea>:22: DataConversionWarning: A column-vector y was passed when a 1d array was expected. Please change the shape of y to (n_samples,), for example using ravel().\n",
            "  clf.fit(X_train, y_train) # обучаем\n"
          ]
        },
        {
          "output_type": "stream",
          "name": "stdout",
          "text": [
            "0.9998508067094354 0.5234899328859061 1 2 8\n"
          ]
        },
        {
          "output_type": "stream",
          "name": "stderr",
          "text": [
            "<ipython-input-49-218c55f7a3ea>:22: DataConversionWarning: A column-vector y was passed when a 1d array was expected. Please change the shape of y to (n_samples,), for example using ravel().\n",
            "  clf.fit(X_train, y_train) # обучаем\n"
          ]
        },
        {
          "output_type": "stream",
          "name": "stdout",
          "text": [
            "0.9998188367186002 0.5436241610738255 1 2 9\n"
          ]
        },
        {
          "output_type": "stream",
          "name": "stderr",
          "text": [
            "<ipython-input-49-218c55f7a3ea>:22: DataConversionWarning: A column-vector y was passed when a 1d array was expected. Please change the shape of y to (n_samples,), for example using ravel().\n",
            "  clf.fit(X_train, y_train) # обучаем\n"
          ]
        },
        {
          "output_type": "stream",
          "name": "stdout",
          "text": [
            "0.9997868667277648 0.44966442953020136 1 2 10\n"
          ]
        },
        {
          "output_type": "stream",
          "name": "stderr",
          "text": [
            "<ipython-input-49-218c55f7a3ea>:22: DataConversionWarning: A column-vector y was passed when a 1d array was expected. Please change the shape of y to (n_samples,), for example using ravel().\n",
            "  clf.fit(X_train, y_train) # обучаем\n"
          ]
        },
        {
          "output_type": "stream",
          "name": "stdout",
          "text": [
            "0.9998508067094354 0.5503355704697986 1 2 11\n"
          ]
        },
        {
          "output_type": "stream",
          "name": "stderr",
          "text": [
            "<ipython-input-49-218c55f7a3ea>:22: DataConversionWarning: A column-vector y was passed when a 1d array was expected. Please change the shape of y to (n_samples,), for example using ravel().\n",
            "  clf.fit(X_train, y_train) # обучаем\n"
          ]
        },
        {
          "output_type": "stream",
          "name": "stdout",
          "text": [
            "0.9998188367186002 0.5503355704697986 1 2 12\n"
          ]
        },
        {
          "output_type": "stream",
          "name": "stderr",
          "text": [
            "<ipython-input-49-218c55f7a3ea>:22: DataConversionWarning: A column-vector y was passed when a 1d array was expected. Please change the shape of y to (n_samples,), for example using ravel().\n",
            "  clf.fit(X_train, y_train) # обучаем\n"
          ]
        },
        {
          "output_type": "stream",
          "name": "stdout",
          "text": [
            "0.9997655534005414 0.47651006711409394 1 2 13\n"
          ]
        },
        {
          "output_type": "stream",
          "name": "stderr",
          "text": [
            "<ipython-input-49-218c55f7a3ea>:22: DataConversionWarning: A column-vector y was passed when a 1d array was expected. Please change the shape of y to (n_samples,), for example using ravel().\n",
            "  clf.fit(X_train, y_train) # обучаем\n"
          ]
        },
        {
          "output_type": "stream",
          "name": "stdout",
          "text": [
            "0.9998188367186002 0.5570469798657718 1 2 14\n"
          ]
        },
        {
          "output_type": "stream",
          "name": "stderr",
          "text": [
            "<ipython-input-49-218c55f7a3ea>:22: DataConversionWarning: A column-vector y was passed when a 1d array was expected. Please change the shape of y to (n_samples,), for example using ravel().\n",
            "  clf.fit(X_train, y_train) # обучаем\n"
          ]
        },
        {
          "output_type": "stream",
          "name": "stdout",
          "text": [
            "0.9998508067094354 0.49664429530201337 1 2 15\n"
          ]
        },
        {
          "output_type": "stream",
          "name": "stderr",
          "text": [
            "<ipython-input-49-218c55f7a3ea>:22: DataConversionWarning: A column-vector y was passed when a 1d array was expected. Please change the shape of y to (n_samples,), for example using ravel().\n",
            "  clf.fit(X_train, y_train) # обучаем\n"
          ]
        },
        {
          "output_type": "stream",
          "name": "stdout",
          "text": [
            "0.9996376734372003 0.6711409395973154 1 2 16\n"
          ]
        },
        {
          "output_type": "stream",
          "name": "stderr",
          "text": [
            "<ipython-input-49-218c55f7a3ea>:22: DataConversionWarning: A column-vector y was passed when a 1d array was expected. Please change the shape of y to (n_samples,), for example using ravel().\n",
            "  clf.fit(X_train, y_train) # обучаем\n"
          ]
        },
        {
          "output_type": "stream",
          "name": "stdout",
          "text": [
            "0.9998294933822119 0.5100671140939597 1 2 17\n"
          ]
        },
        {
          "output_type": "stream",
          "name": "stderr",
          "text": [
            "<ipython-input-49-218c55f7a3ea>:22: DataConversionWarning: A column-vector y was passed when a 1d array was expected. Please change the shape of y to (n_samples,), for example using ravel().\n",
            "  clf.fit(X_train, y_train) # обучаем\n"
          ]
        },
        {
          "output_type": "stream",
          "name": "stdout",
          "text": [
            "0.9998188367186002 0.5771812080536913 1 2 18\n"
          ]
        },
        {
          "output_type": "stream",
          "name": "stderr",
          "text": [
            "<ipython-input-49-218c55f7a3ea>:22: DataConversionWarning: A column-vector y was passed when a 1d array was expected. Please change the shape of y to (n_samples,), for example using ravel().\n",
            "  clf.fit(X_train, y_train) # обучаем\n"
          ]
        },
        {
          "output_type": "stream",
          "name": "stdout",
          "text": [
            "0.9996376734372003 0.6711409395973154 1 2 19\n"
          ]
        },
        {
          "output_type": "stream",
          "name": "stderr",
          "text": [
            "<ipython-input-49-218c55f7a3ea>:22: DataConversionWarning: A column-vector y was passed when a 1d array was expected. Please change the shape of y to (n_samples,), for example using ravel().\n",
            "  clf.fit(X_train, y_train) # обучаем\n"
          ]
        },
        {
          "output_type": "stream",
          "name": "stdout",
          "text": [
            "0.9996270167735886 0.6778523489932886 1 2 20\n"
          ]
        },
        {
          "output_type": "stream",
          "name": "stderr",
          "text": [
            "<ipython-input-49-218c55f7a3ea>:22: DataConversionWarning: A column-vector y was passed when a 1d array was expected. Please change the shape of y to (n_samples,), for example using ravel().\n",
            "  clf.fit(X_train, y_train) # обучаем\n"
          ]
        },
        {
          "output_type": "stream",
          "name": "stdout",
          "text": [
            "0.9998401500458236 0.563758389261745 1 2 21\n"
          ]
        },
        {
          "output_type": "stream",
          "name": "stderr",
          "text": [
            "<ipython-input-49-218c55f7a3ea>:22: DataConversionWarning: A column-vector y was passed when a 1d array was expected. Please change the shape of y to (n_samples,), for example using ravel().\n",
            "  clf.fit(X_train, y_train) # обучаем\n"
          ]
        },
        {
          "output_type": "stream",
          "name": "stdout",
          "text": [
            "0.9996376734372003 0.6711409395973154 1 2 22\n"
          ]
        },
        {
          "output_type": "stream",
          "name": "stderr",
          "text": [
            "<ipython-input-49-218c55f7a3ea>:22: DataConversionWarning: A column-vector y was passed when a 1d array was expected. Please change the shape of y to (n_samples,), for example using ravel().\n",
            "  clf.fit(X_train, y_train) # обучаем\n"
          ]
        },
        {
          "output_type": "stream",
          "name": "stdout",
          "text": [
            "0.9996376734372003 0.6711409395973154 1 2 23\n"
          ]
        },
        {
          "output_type": "stream",
          "name": "stderr",
          "text": [
            "<ipython-input-49-218c55f7a3ea>:22: DataConversionWarning: A column-vector y was passed when a 1d array was expected. Please change the shape of y to (n_samples,), for example using ravel().\n",
            "  clf.fit(X_train, y_train) # обучаем\n"
          ]
        },
        {
          "output_type": "stream",
          "name": "stdout",
          "text": [
            "0.9998294933822119 0.49664429530201337 1 2 24\n"
          ]
        },
        {
          "output_type": "stream",
          "name": "stderr",
          "text": [
            "<ipython-input-49-218c55f7a3ea>:22: DataConversionWarning: A column-vector y was passed when a 1d array was expected. Please change the shape of y to (n_samples,), for example using ravel().\n",
            "  clf.fit(X_train, y_train) # обучаем\n"
          ]
        },
        {
          "output_type": "stream",
          "name": "stdout",
          "text": [
            "0.9998188367186002 0.5436241610738255 1 2 25\n"
          ]
        },
        {
          "output_type": "stream",
          "name": "stderr",
          "text": [
            "<ipython-input-49-218c55f7a3ea>:22: DataConversionWarning: A column-vector y was passed when a 1d array was expected. Please change the shape of y to (n_samples,), for example using ravel().\n",
            "  clf.fit(X_train, y_train) # обучаем\n"
          ]
        },
        {
          "output_type": "stream",
          "name": "stdout",
          "text": [
            "0.9996163601099768 0.6778523489932886 1 2 26\n"
          ]
        },
        {
          "output_type": "stream",
          "name": "stderr",
          "text": [
            "<ipython-input-49-218c55f7a3ea>:22: DataConversionWarning: A column-vector y was passed when a 1d array was expected. Please change the shape of y to (n_samples,), for example using ravel().\n",
            "  clf.fit(X_train, y_train) # обучаем\n"
          ]
        },
        {
          "output_type": "stream",
          "name": "stdout",
          "text": [
            "0.9996376734372003 0.6711409395973154 1 2 27\n"
          ]
        },
        {
          "output_type": "stream",
          "name": "stderr",
          "text": [
            "<ipython-input-49-218c55f7a3ea>:22: DataConversionWarning: A column-vector y was passed when a 1d array was expected. Please change the shape of y to (n_samples,), for example using ravel().\n",
            "  clf.fit(X_train, y_train) # обучаем\n"
          ]
        },
        {
          "output_type": "stream",
          "name": "stdout",
          "text": [
            "0.9995737334555297 0.7181208053691275 1 2 28\n"
          ]
        },
        {
          "output_type": "stream",
          "name": "stderr",
          "text": [
            "<ipython-input-49-218c55f7a3ea>:22: DataConversionWarning: A column-vector y was passed when a 1d array was expected. Please change the shape of y to (n_samples,), for example using ravel().\n",
            "  clf.fit(X_train, y_train) # обучаем\n"
          ]
        },
        {
          "output_type": "stream",
          "name": "stdout",
          "text": [
            "0.9998188367186002 0.5503355704697986 1 2 29\n"
          ]
        },
        {
          "output_type": "stream",
          "name": "stderr",
          "text": [
            "<ipython-input-49-218c55f7a3ea>:22: DataConversionWarning: A column-vector y was passed when a 1d array was expected. Please change the shape of y to (n_samples,), for example using ravel().\n",
            "  clf.fit(X_train, y_train) # обучаем\n"
          ]
        },
        {
          "output_type": "stream",
          "name": "stdout",
          "text": [
            "0.9996270167735886 0.6778523489932886 1 2 30\n",
            "1.0 0.0 1 3 1\n"
          ]
        },
        {
          "output_type": "stream",
          "name": "stderr",
          "text": [
            "<ipython-input-49-218c55f7a3ea>:22: DataConversionWarning: A column-vector y was passed when a 1d array was expected. Please change the shape of y to (n_samples,), for example using ravel().\n",
            "  clf.fit(X_train, y_train) # обучаем\n",
            "<ipython-input-49-218c55f7a3ea>:22: DataConversionWarning: A column-vector y was passed when a 1d array was expected. Please change the shape of y to (n_samples,), for example using ravel().\n",
            "  clf.fit(X_train, y_train) # обучаем\n"
          ]
        },
        {
          "output_type": "stream",
          "name": "stdout",
          "text": [
            "1.0 0.0 1 3 2\n"
          ]
        },
        {
          "output_type": "stream",
          "name": "stderr",
          "text": [
            "<ipython-input-49-218c55f7a3ea>:22: DataConversionWarning: A column-vector y was passed when a 1d array was expected. Please change the shape of y to (n_samples,), for example using ravel().\n",
            "  clf.fit(X_train, y_train) # обучаем\n"
          ]
        },
        {
          "output_type": "stream",
          "name": "stdout",
          "text": [
            "1.0 0.0 1 3 3\n"
          ]
        },
        {
          "output_type": "stream",
          "name": "stderr",
          "text": [
            "<ipython-input-49-218c55f7a3ea>:22: DataConversionWarning: A column-vector y was passed when a 1d array was expected. Please change the shape of y to (n_samples,), for example using ravel().\n",
            "  clf.fit(X_train, y_train) # обучаем\n"
          ]
        },
        {
          "output_type": "stream",
          "name": "stdout",
          "text": [
            "0.9999680300091647 0.12080536912751683 1 3 4\n"
          ]
        },
        {
          "output_type": "stream",
          "name": "stderr",
          "text": [
            "<ipython-input-49-218c55f7a3ea>:22: DataConversionWarning: A column-vector y was passed when a 1d array was expected. Please change the shape of y to (n_samples,), for example using ravel().\n",
            "  clf.fit(X_train, y_train) # обучаем\n"
          ]
        },
        {
          "output_type": "stream",
          "name": "stdout",
          "text": [
            "0.9999040900274941 0.3422818791946308 1 3 5\n"
          ]
        },
        {
          "output_type": "stream",
          "name": "stderr",
          "text": [
            "<ipython-input-49-218c55f7a3ea>:22: DataConversionWarning: A column-vector y was passed when a 1d array was expected. Please change the shape of y to (n_samples,), for example using ravel().\n",
            "  clf.fit(X_train, y_train) # обучаем\n"
          ]
        },
        {
          "output_type": "stream",
          "name": "stdout",
          "text": [
            "0.9998508067094354 0.49664429530201337 1 3 6\n"
          ]
        },
        {
          "output_type": "stream",
          "name": "stderr",
          "text": [
            "<ipython-input-49-218c55f7a3ea>:22: DataConversionWarning: A column-vector y was passed when a 1d array was expected. Please change the shape of y to (n_samples,), for example using ravel().\n",
            "  clf.fit(X_train, y_train) # обучаем\n"
          ]
        },
        {
          "output_type": "stream",
          "name": "stdout",
          "text": [
            "0.9998508067094354 0.5033557046979866 1 3 7\n"
          ]
        },
        {
          "output_type": "stream",
          "name": "stderr",
          "text": [
            "<ipython-input-49-218c55f7a3ea>:22: DataConversionWarning: A column-vector y was passed when a 1d array was expected. Please change the shape of y to (n_samples,), for example using ravel().\n",
            "  clf.fit(X_train, y_train) # обучаем\n"
          ]
        },
        {
          "output_type": "stream",
          "name": "stdout",
          "text": [
            "0.9998401500458236 0.5302013422818792 1 3 8\n"
          ]
        },
        {
          "output_type": "stream",
          "name": "stderr",
          "text": [
            "<ipython-input-49-218c55f7a3ea>:22: DataConversionWarning: A column-vector y was passed when a 1d array was expected. Please change the shape of y to (n_samples,), for example using ravel().\n",
            "  clf.fit(X_train, y_train) # обучаем\n"
          ]
        },
        {
          "output_type": "stream",
          "name": "stdout",
          "text": [
            "0.9999786866727765 0.2818791946308725 1 3 9\n"
          ]
        },
        {
          "output_type": "stream",
          "name": "stderr",
          "text": [
            "<ipython-input-49-218c55f7a3ea>:22: DataConversionWarning: A column-vector y was passed when a 1d array was expected. Please change the shape of y to (n_samples,), for example using ravel().\n",
            "  clf.fit(X_train, y_train) # обучаем\n"
          ]
        },
        {
          "output_type": "stream",
          "name": "stdout",
          "text": [
            "0.9998188367186002 0.5906040268456376 1 3 10\n"
          ]
        },
        {
          "output_type": "stream",
          "name": "stderr",
          "text": [
            "<ipython-input-49-218c55f7a3ea>:22: DataConversionWarning: A column-vector y was passed when a 1d array was expected. Please change the shape of y to (n_samples,), for example using ravel().\n",
            "  clf.fit(X_train, y_train) # обучаем\n"
          ]
        },
        {
          "output_type": "stream",
          "name": "stdout",
          "text": [
            "0.9998401500458236 0.47651006711409394 1 3 11\n"
          ]
        },
        {
          "output_type": "stream",
          "name": "stderr",
          "text": [
            "<ipython-input-49-218c55f7a3ea>:22: DataConversionWarning: A column-vector y was passed when a 1d array was expected. Please change the shape of y to (n_samples,), for example using ravel().\n",
            "  clf.fit(X_train, y_train) # обучаем\n"
          ]
        },
        {
          "output_type": "stream",
          "name": "stdout",
          "text": [
            "0.9995524201283063 0.7449664429530201 1 3 12\n"
          ]
        },
        {
          "output_type": "stream",
          "name": "stderr",
          "text": [
            "<ipython-input-49-218c55f7a3ea>:22: DataConversionWarning: A column-vector y was passed when a 1d array was expected. Please change the shape of y to (n_samples,), for example using ravel().\n",
            "  clf.fit(X_train, y_train) # обучаем\n"
          ]
        },
        {
          "output_type": "stream",
          "name": "stdout",
          "text": [
            "0.9996270167735886 0.6778523489932886 1 3 13\n"
          ]
        },
        {
          "output_type": "stream",
          "name": "stderr",
          "text": [
            "<ipython-input-49-218c55f7a3ea>:22: DataConversionWarning: A column-vector y was passed when a 1d array was expected. Please change the shape of y to (n_samples,), for example using ravel().\n",
            "  clf.fit(X_train, y_train) # обучаем\n"
          ]
        },
        {
          "output_type": "stream",
          "name": "stdout",
          "text": [
            "0.9998721200366589 0.5167785234899329 1 3 14\n"
          ]
        },
        {
          "output_type": "stream",
          "name": "stderr",
          "text": [
            "<ipython-input-49-218c55f7a3ea>:22: DataConversionWarning: A column-vector y was passed when a 1d array was expected. Please change the shape of y to (n_samples,), for example using ravel().\n",
            "  clf.fit(X_train, y_train) # обучаем\n"
          ]
        },
        {
          "output_type": "stream",
          "name": "stdout",
          "text": [
            "0.9996376734372003 0.7046979865771812 1 3 15\n"
          ]
        },
        {
          "output_type": "stream",
          "name": "stderr",
          "text": [
            "<ipython-input-49-218c55f7a3ea>:22: DataConversionWarning: A column-vector y was passed when a 1d array was expected. Please change the shape of y to (n_samples,), for example using ravel().\n",
            "  clf.fit(X_train, y_train) # обучаем\n"
          ]
        },
        {
          "output_type": "stream",
          "name": "stdout",
          "text": [
            "0.9996376734372003 0.6711409395973154 1 3 16\n"
          ]
        },
        {
          "output_type": "stream",
          "name": "stderr",
          "text": [
            "<ipython-input-49-218c55f7a3ea>:22: DataConversionWarning: A column-vector y was passed when a 1d array was expected. Please change the shape of y to (n_samples,), for example using ravel().\n",
            "  clf.fit(X_train, y_train) # обучаем\n"
          ]
        },
        {
          "output_type": "stream",
          "name": "stdout",
          "text": [
            "0.9995737334555297 0.7181208053691275 1 3 17\n"
          ]
        },
        {
          "output_type": "stream",
          "name": "stderr",
          "text": [
            "<ipython-input-49-218c55f7a3ea>:22: DataConversionWarning: A column-vector y was passed when a 1d array was expected. Please change the shape of y to (n_samples,), for example using ravel().\n",
            "  clf.fit(X_train, y_train) # обучаем\n"
          ]
        },
        {
          "output_type": "stream",
          "name": "stdout",
          "text": [
            "0.9996696434280355 0.6644295302013423 1 3 18\n"
          ]
        },
        {
          "output_type": "stream",
          "name": "stderr",
          "text": [
            "<ipython-input-49-218c55f7a3ea>:22: DataConversionWarning: A column-vector y was passed when a 1d array was expected. Please change the shape of y to (n_samples,), for example using ravel().\n",
            "  clf.fit(X_train, y_train) # обучаем\n"
          ]
        },
        {
          "output_type": "stream",
          "name": "stdout",
          "text": [
            "0.9998508067094354 0.49664429530201337 1 3 19\n"
          ]
        },
        {
          "output_type": "stream",
          "name": "stderr",
          "text": [
            "<ipython-input-49-218c55f7a3ea>:22: DataConversionWarning: A column-vector y was passed when a 1d array was expected. Please change the shape of y to (n_samples,), for example using ravel().\n",
            "  clf.fit(X_train, y_train) # обучаем\n"
          ]
        },
        {
          "output_type": "stream",
          "name": "stdout",
          "text": [
            "0.9996376734372003 0.6711409395973154 1 3 20\n"
          ]
        },
        {
          "output_type": "stream",
          "name": "stderr",
          "text": [
            "<ipython-input-49-218c55f7a3ea>:22: DataConversionWarning: A column-vector y was passed when a 1d array was expected. Please change the shape of y to (n_samples,), for example using ravel().\n",
            "  clf.fit(X_train, y_train) # обучаем\n"
          ]
        },
        {
          "output_type": "stream",
          "name": "stdout",
          "text": [
            "0.9996163601099768 0.6778523489932886 1 3 21\n"
          ]
        },
        {
          "output_type": "stream",
          "name": "stderr",
          "text": [
            "<ipython-input-49-218c55f7a3ea>:22: DataConversionWarning: A column-vector y was passed when a 1d array was expected. Please change the shape of y to (n_samples,), for example using ravel().\n",
            "  clf.fit(X_train, y_train) # обучаем\n"
          ]
        },
        {
          "output_type": "stream",
          "name": "stdout",
          "text": [
            "0.9998188367186002 0.610738255033557 1 3 22\n"
          ]
        },
        {
          "output_type": "stream",
          "name": "stderr",
          "text": [
            "<ipython-input-49-218c55f7a3ea>:22: DataConversionWarning: A column-vector y was passed when a 1d array was expected. Please change the shape of y to (n_samples,), for example using ravel().\n",
            "  clf.fit(X_train, y_train) # обучаем\n"
          ]
        },
        {
          "output_type": "stream",
          "name": "stdout",
          "text": [
            "0.9995737334555297 0.738255033557047 1 3 23\n"
          ]
        },
        {
          "output_type": "stream",
          "name": "stderr",
          "text": [
            "<ipython-input-49-218c55f7a3ea>:22: DataConversionWarning: A column-vector y was passed when a 1d array was expected. Please change the shape of y to (n_samples,), for example using ravel().\n",
            "  clf.fit(X_train, y_train) # обучаем\n"
          ]
        },
        {
          "output_type": "stream",
          "name": "stdout",
          "text": [
            "0.9998188367186002 0.5771812080536913 1 3 24\n"
          ]
        },
        {
          "output_type": "stream",
          "name": "stderr",
          "text": [
            "<ipython-input-49-218c55f7a3ea>:22: DataConversionWarning: A column-vector y was passed when a 1d array was expected. Please change the shape of y to (n_samples,), for example using ravel().\n",
            "  clf.fit(X_train, y_train) # обучаем\n"
          ]
        },
        {
          "output_type": "stream",
          "name": "stdout",
          "text": [
            "0.9995950467827532 0.6912751677852349 1 3 25\n"
          ]
        },
        {
          "output_type": "stream",
          "name": "stderr",
          "text": [
            "<ipython-input-49-218c55f7a3ea>:22: DataConversionWarning: A column-vector y was passed when a 1d array was expected. Please change the shape of y to (n_samples,), for example using ravel().\n",
            "  clf.fit(X_train, y_train) # обучаем\n"
          ]
        },
        {
          "output_type": "stream",
          "name": "stdout",
          "text": [
            "0.9996376734372003 0.6845637583892618 1 3 26\n"
          ]
        },
        {
          "output_type": "stream",
          "name": "stderr",
          "text": [
            "<ipython-input-49-218c55f7a3ea>:22: DataConversionWarning: A column-vector y was passed when a 1d array was expected. Please change the shape of y to (n_samples,), for example using ravel().\n",
            "  clf.fit(X_train, y_train) # обучаем\n"
          ]
        },
        {
          "output_type": "stream",
          "name": "stdout",
          "text": [
            "0.9996270167735886 0.6778523489932886 1 3 27\n"
          ]
        },
        {
          "output_type": "stream",
          "name": "stderr",
          "text": [
            "<ipython-input-49-218c55f7a3ea>:22: DataConversionWarning: A column-vector y was passed when a 1d array was expected. Please change the shape of y to (n_samples,), for example using ravel().\n",
            "  clf.fit(X_train, y_train) # обучаем\n"
          ]
        },
        {
          "output_type": "stream",
          "name": "stdout",
          "text": [
            "0.999648330100812 0.6778523489932886 1 3 28\n"
          ]
        },
        {
          "output_type": "stream",
          "name": "stderr",
          "text": [
            "<ipython-input-49-218c55f7a3ea>:22: DataConversionWarning: A column-vector y was passed when a 1d array was expected. Please change the shape of y to (n_samples,), for example using ravel().\n",
            "  clf.fit(X_train, y_train) # обучаем\n"
          ]
        },
        {
          "output_type": "stream",
          "name": "stdout",
          "text": [
            "0.9996270167735886 0.6778523489932886 1 3 29\n"
          ]
        },
        {
          "output_type": "stream",
          "name": "stderr",
          "text": [
            "<ipython-input-49-218c55f7a3ea>:22: DataConversionWarning: A column-vector y was passed when a 1d array was expected. Please change the shape of y to (n_samples,), for example using ravel().\n",
            "  clf.fit(X_train, y_train) # обучаем\n"
          ]
        },
        {
          "output_type": "stream",
          "name": "stdout",
          "text": [
            "0.9996376734372003 0.6711409395973154 1 3 30\n"
          ]
        },
        {
          "output_type": "stream",
          "name": "stderr",
          "text": [
            "<ipython-input-49-218c55f7a3ea>:22: DataConversionWarning: A column-vector y was passed when a 1d array was expected. Please change the shape of y to (n_samples,), for example using ravel().\n",
            "  clf.fit(X_train, y_train) # обучаем\n"
          ]
        },
        {
          "output_type": "stream",
          "name": "stdout",
          "text": [
            "0.9999786866727765 0.24161073825503354 1 4 1\n"
          ]
        },
        {
          "output_type": "stream",
          "name": "stderr",
          "text": [
            "<ipython-input-49-218c55f7a3ea>:22: DataConversionWarning: A column-vector y was passed when a 1d array was expected. Please change the shape of y to (n_samples,), for example using ravel().\n",
            "  clf.fit(X_train, y_train) # обучаем\n"
          ]
        },
        {
          "output_type": "stream",
          "name": "stdout",
          "text": [
            "1.0 0.0 1 4 2\n"
          ]
        },
        {
          "output_type": "stream",
          "name": "stderr",
          "text": [
            "<ipython-input-49-218c55f7a3ea>:22: DataConversionWarning: A column-vector y was passed when a 1d array was expected. Please change the shape of y to (n_samples,), for example using ravel().\n",
            "  clf.fit(X_train, y_train) # обучаем\n"
          ]
        },
        {
          "output_type": "stream",
          "name": "stdout",
          "text": [
            "1.0 0.0 1 4 3\n"
          ]
        },
        {
          "output_type": "stream",
          "name": "stderr",
          "text": [
            "<ipython-input-49-218c55f7a3ea>:22: DataConversionWarning: A column-vector y was passed when a 1d array was expected. Please change the shape of y to (n_samples,), for example using ravel().\n",
            "  clf.fit(X_train, y_train) # обучаем\n"
          ]
        },
        {
          "output_type": "stream",
          "name": "stdout",
          "text": [
            "0.9997548967369296 0.6174496644295302 1 4 4\n"
          ]
        },
        {
          "output_type": "stream",
          "name": "stderr",
          "text": [
            "<ipython-input-49-218c55f7a3ea>:22: DataConversionWarning: A column-vector y was passed when a 1d array was expected. Please change the shape of y to (n_samples,), for example using ravel().\n",
            "  clf.fit(X_train, y_train) # обучаем\n"
          ]
        },
        {
          "output_type": "stream",
          "name": "stdout",
          "text": [
            "0.9998614633730472 0.5704697986577181 1 4 5\n"
          ]
        },
        {
          "output_type": "stream",
          "name": "stderr",
          "text": [
            "<ipython-input-49-218c55f7a3ea>:22: DataConversionWarning: A column-vector y was passed when a 1d array was expected. Please change the shape of y to (n_samples,), for example using ravel().\n",
            "  clf.fit(X_train, y_train) # обучаем\n"
          ]
        },
        {
          "output_type": "stream",
          "name": "stdout",
          "text": [
            "0.9999147466911059 0.3422818791946308 1 4 6\n"
          ]
        },
        {
          "output_type": "stream",
          "name": "stderr",
          "text": [
            "<ipython-input-49-218c55f7a3ea>:22: DataConversionWarning: A column-vector y was passed when a 1d array was expected. Please change the shape of y to (n_samples,), for example using ravel().\n",
            "  clf.fit(X_train, y_train) # обучаем\n"
          ]
        },
        {
          "output_type": "stream",
          "name": "stdout",
          "text": [
            "0.9998614633730472 0.5167785234899329 1 4 7\n"
          ]
        },
        {
          "output_type": "stream",
          "name": "stderr",
          "text": [
            "<ipython-input-49-218c55f7a3ea>:22: DataConversionWarning: A column-vector y was passed when a 1d array was expected. Please change the shape of y to (n_samples,), for example using ravel().\n",
            "  clf.fit(X_train, y_train) # обучаем\n"
          ]
        },
        {
          "output_type": "stream",
          "name": "stdout",
          "text": [
            "0.9998614633730472 0.563758389261745 1 4 8\n"
          ]
        },
        {
          "output_type": "stream",
          "name": "stderr",
          "text": [
            "<ipython-input-49-218c55f7a3ea>:22: DataConversionWarning: A column-vector y was passed when a 1d array was expected. Please change the shape of y to (n_samples,), for example using ravel().\n",
            "  clf.fit(X_train, y_train) # обучаем\n"
          ]
        },
        {
          "output_type": "stream",
          "name": "stdout",
          "text": [
            "0.9997762100641531 0.6308724832214765 1 4 9\n"
          ]
        },
        {
          "output_type": "stream",
          "name": "stderr",
          "text": [
            "<ipython-input-49-218c55f7a3ea>:22: DataConversionWarning: A column-vector y was passed when a 1d array was expected. Please change the shape of y to (n_samples,), for example using ravel().\n",
            "  clf.fit(X_train, y_train) # обучаем\n"
          ]
        },
        {
          "output_type": "stream",
          "name": "stdout",
          "text": [
            "0.9995843901191415 0.7046979865771812 1 4 10\n"
          ]
        },
        {
          "output_type": "stream",
          "name": "stderr",
          "text": [
            "<ipython-input-49-218c55f7a3ea>:22: DataConversionWarning: A column-vector y was passed when a 1d array was expected. Please change the shape of y to (n_samples,), for example using ravel().\n",
            "  clf.fit(X_train, y_train) # обучаем\n"
          ]
        },
        {
          "output_type": "stream",
          "name": "stdout",
          "text": [
            "0.9998614633730472 0.4832214765100671 1 4 11\n"
          ]
        },
        {
          "output_type": "stream",
          "name": "stderr",
          "text": [
            "<ipython-input-49-218c55f7a3ea>:22: DataConversionWarning: A column-vector y was passed when a 1d array was expected. Please change the shape of y to (n_samples,), for example using ravel().\n",
            "  clf.fit(X_train, y_train) # обучаем\n"
          ]
        },
        {
          "output_type": "stream",
          "name": "stdout",
          "text": [
            "0.9996376734372003 0.6711409395973154 1 4 12\n"
          ]
        },
        {
          "output_type": "stream",
          "name": "stderr",
          "text": [
            "<ipython-input-49-218c55f7a3ea>:22: DataConversionWarning: A column-vector y was passed when a 1d array was expected. Please change the shape of y to (n_samples,), for example using ravel().\n",
            "  clf.fit(X_train, y_train) # обучаем\n"
          ]
        },
        {
          "output_type": "stream",
          "name": "stdout",
          "text": [
            "0.9998508067094354 0.610738255033557 1 4 13\n"
          ]
        },
        {
          "output_type": "stream",
          "name": "stderr",
          "text": [
            "<ipython-input-49-218c55f7a3ea>:22: DataConversionWarning: A column-vector y was passed when a 1d array was expected. Please change the shape of y to (n_samples,), for example using ravel().\n",
            "  clf.fit(X_train, y_train) # обучаем\n"
          ]
        },
        {
          "output_type": "stream",
          "name": "stdout",
          "text": [
            "0.9998188367186002 0.5436241610738255 1 4 14\n"
          ]
        },
        {
          "output_type": "stream",
          "name": "stderr",
          "text": [
            "<ipython-input-49-218c55f7a3ea>:22: DataConversionWarning: A column-vector y was passed when a 1d array was expected. Please change the shape of y to (n_samples,), for example using ravel().\n",
            "  clf.fit(X_train, y_train) # обучаем\n"
          ]
        },
        {
          "output_type": "stream",
          "name": "stdout",
          "text": [
            "0.9998188367186002 0.5771812080536913 1 4 15\n"
          ]
        },
        {
          "output_type": "stream",
          "name": "stderr",
          "text": [
            "<ipython-input-49-218c55f7a3ea>:22: DataConversionWarning: A column-vector y was passed when a 1d array was expected. Please change the shape of y to (n_samples,), for example using ravel().\n",
            "  clf.fit(X_train, y_train) # обучаем\n"
          ]
        },
        {
          "output_type": "stream",
          "name": "stdout",
          "text": [
            "0.9998401500458236 0.5704697986577181 1 4 16\n"
          ]
        },
        {
          "output_type": "stream",
          "name": "stderr",
          "text": [
            "<ipython-input-49-218c55f7a3ea>:22: DataConversionWarning: A column-vector y was passed when a 1d array was expected. Please change the shape of y to (n_samples,), for example using ravel().\n",
            "  clf.fit(X_train, y_train) # обучаем\n"
          ]
        },
        {
          "output_type": "stream",
          "name": "stdout",
          "text": [
            "0.9998081800549884 0.5906040268456376 1 4 17\n"
          ]
        },
        {
          "output_type": "stream",
          "name": "stderr",
          "text": [
            "<ipython-input-49-218c55f7a3ea>:22: DataConversionWarning: A column-vector y was passed when a 1d array was expected. Please change the shape of y to (n_samples,), for example using ravel().\n",
            "  clf.fit(X_train, y_train) # обучаем\n"
          ]
        },
        {
          "output_type": "stream",
          "name": "stdout",
          "text": [
            "0.9995843901191415 0.7046979865771812 1 4 18\n"
          ]
        },
        {
          "output_type": "stream",
          "name": "stderr",
          "text": [
            "<ipython-input-49-218c55f7a3ea>:22: DataConversionWarning: A column-vector y was passed when a 1d array was expected. Please change the shape of y to (n_samples,), for example using ravel().\n",
            "  clf.fit(X_train, y_train) # обучаем\n"
          ]
        },
        {
          "output_type": "stream",
          "name": "stdout",
          "text": [
            "0.9998188367186002 0.5973154362416108 1 4 19\n"
          ]
        },
        {
          "output_type": "stream",
          "name": "stderr",
          "text": [
            "<ipython-input-49-218c55f7a3ea>:22: DataConversionWarning: A column-vector y was passed when a 1d array was expected. Please change the shape of y to (n_samples,), for example using ravel().\n",
            "  clf.fit(X_train, y_train) # обучаем\n"
          ]
        },
        {
          "output_type": "stream",
          "name": "stdout",
          "text": [
            "0.9998188367186002 0.563758389261745 1 4 20\n"
          ]
        },
        {
          "output_type": "stream",
          "name": "stderr",
          "text": [
            "<ipython-input-49-218c55f7a3ea>:22: DataConversionWarning: A column-vector y was passed when a 1d array was expected. Please change the shape of y to (n_samples,), for example using ravel().\n",
            "  clf.fit(X_train, y_train) # обучаем\n"
          ]
        },
        {
          "output_type": "stream",
          "name": "stdout",
          "text": [
            "0.9998188367186002 0.5570469798657718 1 4 21\n"
          ]
        },
        {
          "output_type": "stream",
          "name": "stderr",
          "text": [
            "<ipython-input-49-218c55f7a3ea>:22: DataConversionWarning: A column-vector y was passed when a 1d array was expected. Please change the shape of y to (n_samples,), for example using ravel().\n",
            "  clf.fit(X_train, y_train) # обучаем\n"
          ]
        },
        {
          "output_type": "stream",
          "name": "stdout",
          "text": [
            "0.9996163601099768 0.6778523489932886 1 4 22\n"
          ]
        },
        {
          "output_type": "stream",
          "name": "stderr",
          "text": [
            "<ipython-input-49-218c55f7a3ea>:22: DataConversionWarning: A column-vector y was passed when a 1d array was expected. Please change the shape of y to (n_samples,), for example using ravel().\n",
            "  clf.fit(X_train, y_train) # обучаем\n"
          ]
        },
        {
          "output_type": "stream",
          "name": "stdout",
          "text": [
            "0.9995950467827532 0.6912751677852349 1 4 23\n"
          ]
        },
        {
          "output_type": "stream",
          "name": "stderr",
          "text": [
            "<ipython-input-49-218c55f7a3ea>:22: DataConversionWarning: A column-vector y was passed when a 1d array was expected. Please change the shape of y to (n_samples,), for example using ravel().\n",
            "  clf.fit(X_train, y_train) # обучаем\n"
          ]
        },
        {
          "output_type": "stream",
          "name": "stdout",
          "text": [
            "0.9996376734372003 0.6711409395973154 1 4 24\n"
          ]
        },
        {
          "output_type": "stream",
          "name": "stderr",
          "text": [
            "<ipython-input-49-218c55f7a3ea>:22: DataConversionWarning: A column-vector y was passed when a 1d array was expected. Please change the shape of y to (n_samples,), for example using ravel().\n",
            "  clf.fit(X_train, y_train) # обучаем\n"
          ]
        },
        {
          "output_type": "stream",
          "name": "stdout",
          "text": [
            "0.9996163601099768 0.6778523489932886 1 4 25\n"
          ]
        },
        {
          "output_type": "stream",
          "name": "stderr",
          "text": [
            "<ipython-input-49-218c55f7a3ea>:22: DataConversionWarning: A column-vector y was passed when a 1d array was expected. Please change the shape of y to (n_samples,), for example using ravel().\n",
            "  clf.fit(X_train, y_train) # обучаем\n"
          ]
        },
        {
          "output_type": "stream",
          "name": "stdout",
          "text": [
            "0.9995843901191415 0.7046979865771812 1 4 26\n"
          ]
        },
        {
          "output_type": "stream",
          "name": "stderr",
          "text": [
            "<ipython-input-49-218c55f7a3ea>:22: DataConversionWarning: A column-vector y was passed when a 1d array was expected. Please change the shape of y to (n_samples,), for example using ravel().\n",
            "  clf.fit(X_train, y_train) # обучаем\n"
          ]
        },
        {
          "output_type": "stream",
          "name": "stdout",
          "text": [
            "0.9996163601099768 0.6778523489932886 1 4 27\n"
          ]
        },
        {
          "output_type": "stream",
          "name": "stderr",
          "text": [
            "<ipython-input-49-218c55f7a3ea>:22: DataConversionWarning: A column-vector y was passed when a 1d array was expected. Please change the shape of y to (n_samples,), for example using ravel().\n",
            "  clf.fit(X_train, y_train) # обучаем\n"
          ]
        },
        {
          "output_type": "stream",
          "name": "stdout",
          "text": [
            "0.9995843901191415 0.7046979865771812 1 4 28\n"
          ]
        },
        {
          "output_type": "stream",
          "name": "stderr",
          "text": [
            "<ipython-input-49-218c55f7a3ea>:22: DataConversionWarning: A column-vector y was passed when a 1d array was expected. Please change the shape of y to (n_samples,), for example using ravel().\n",
            "  clf.fit(X_train, y_train) # обучаем\n"
          ]
        },
        {
          "output_type": "stream",
          "name": "stdout",
          "text": [
            "0.9995843901191415 0.7046979865771812 1 4 29\n"
          ]
        },
        {
          "output_type": "stream",
          "name": "stderr",
          "text": [
            "<ipython-input-49-218c55f7a3ea>:22: DataConversionWarning: A column-vector y was passed when a 1d array was expected. Please change the shape of y to (n_samples,), for example using ravel().\n",
            "  clf.fit(X_train, y_train) # обучаем\n"
          ]
        },
        {
          "output_type": "stream",
          "name": "stdout",
          "text": [
            "0.9996376734372003 0.6711409395973154 1 4 30\n"
          ]
        },
        {
          "output_type": "stream",
          "name": "stderr",
          "text": [
            "<ipython-input-49-218c55f7a3ea>:22: DataConversionWarning: A column-vector y was passed when a 1d array was expected. Please change the shape of y to (n_samples,), for example using ravel().\n",
            "  clf.fit(X_train, y_train) # обучаем\n"
          ]
        },
        {
          "output_type": "stream",
          "name": "stdout",
          "text": [
            "0.9999893433363882 0.0738255033557047 1 5 1\n"
          ]
        },
        {
          "output_type": "stream",
          "name": "stderr",
          "text": [
            "<ipython-input-49-218c55f7a3ea>:22: DataConversionWarning: A column-vector y was passed when a 1d array was expected. Please change the shape of y to (n_samples,), for example using ravel().\n",
            "  clf.fit(X_train, y_train) # обучаем\n"
          ]
        },
        {
          "output_type": "stream",
          "name": "stdout",
          "text": [
            "0.9999893433363882 0.11409395973154357 1 5 2\n"
          ]
        },
        {
          "output_type": "stream",
          "name": "stderr",
          "text": [
            "<ipython-input-49-218c55f7a3ea>:22: DataConversionWarning: A column-vector y was passed when a 1d array was expected. Please change the shape of y to (n_samples,), for example using ravel().\n",
            "  clf.fit(X_train, y_train) # обучаем\n"
          ]
        },
        {
          "output_type": "stream",
          "name": "stdout",
          "text": [
            "1.0 0.0 1 5 3\n"
          ]
        },
        {
          "output_type": "stream",
          "name": "stderr",
          "text": [
            "<ipython-input-49-218c55f7a3ea>:22: DataConversionWarning: A column-vector y was passed when a 1d array was expected. Please change the shape of y to (n_samples,), for example using ravel().\n",
            "  clf.fit(X_train, y_train) # обучаем\n"
          ]
        },
        {
          "output_type": "stream",
          "name": "stdout",
          "text": [
            "0.9998614633730472 0.4697986577181208 1 5 4\n"
          ]
        },
        {
          "output_type": "stream",
          "name": "stderr",
          "text": [
            "<ipython-input-49-218c55f7a3ea>:22: DataConversionWarning: A column-vector y was passed when a 1d array was expected. Please change the shape of y to (n_samples,), for example using ravel().\n",
            "  clf.fit(X_train, y_train) # обучаем\n"
          ]
        },
        {
          "output_type": "stream",
          "name": "stdout",
          "text": [
            "0.9998614633730472 0.44966442953020136 1 5 5\n"
          ]
        },
        {
          "output_type": "stream",
          "name": "stderr",
          "text": [
            "<ipython-input-49-218c55f7a3ea>:22: DataConversionWarning: A column-vector y was passed when a 1d array was expected. Please change the shape of y to (n_samples,), for example using ravel().\n",
            "  clf.fit(X_train, y_train) # обучаем\n"
          ]
        },
        {
          "output_type": "stream",
          "name": "stdout",
          "text": [
            "0.9998614633730472 0.49664429530201337 1 5 6\n"
          ]
        },
        {
          "output_type": "stream",
          "name": "stderr",
          "text": [
            "<ipython-input-49-218c55f7a3ea>:22: DataConversionWarning: A column-vector y was passed when a 1d array was expected. Please change the shape of y to (n_samples,), for example using ravel().\n",
            "  clf.fit(X_train, y_train) # обучаем\n"
          ]
        },
        {
          "output_type": "stream",
          "name": "stdout",
          "text": [
            "0.9998508067094354 0.5436241610738255 1 5 7\n"
          ]
        },
        {
          "output_type": "stream",
          "name": "stderr",
          "text": [
            "<ipython-input-49-218c55f7a3ea>:22: DataConversionWarning: A column-vector y was passed when a 1d array was expected. Please change the shape of y to (n_samples,), for example using ravel().\n",
            "  clf.fit(X_train, y_train) # обучаем\n"
          ]
        },
        {
          "output_type": "stream",
          "name": "stdout",
          "text": [
            "0.9998508067094354 0.5503355704697986 1 5 8\n"
          ]
        },
        {
          "output_type": "stream",
          "name": "stderr",
          "text": [
            "<ipython-input-49-218c55f7a3ea>:22: DataConversionWarning: A column-vector y was passed when a 1d array was expected. Please change the shape of y to (n_samples,), for example using ravel().\n",
            "  clf.fit(X_train, y_train) # обучаем\n"
          ]
        },
        {
          "output_type": "stream",
          "name": "stdout",
          "text": [
            "0.9996376734372003 0.6711409395973154 1 5 9\n"
          ]
        },
        {
          "output_type": "stream",
          "name": "stderr",
          "text": [
            "<ipython-input-49-218c55f7a3ea>:22: DataConversionWarning: A column-vector y was passed when a 1d array was expected. Please change the shape of y to (n_samples,), for example using ravel().\n",
            "  clf.fit(X_train, y_train) # обучаем\n"
          ]
        },
        {
          "output_type": "stream",
          "name": "stdout",
          "text": [
            "0.9998188367186002 0.5771812080536913 1 5 10\n"
          ]
        },
        {
          "output_type": "stream",
          "name": "stderr",
          "text": [
            "<ipython-input-49-218c55f7a3ea>:22: DataConversionWarning: A column-vector y was passed when a 1d array was expected. Please change the shape of y to (n_samples,), for example using ravel().\n",
            "  clf.fit(X_train, y_train) # обучаем\n"
          ]
        },
        {
          "output_type": "stream",
          "name": "stdout",
          "text": [
            "0.9998081800549884 0.5906040268456376 1 5 11\n"
          ]
        },
        {
          "output_type": "stream",
          "name": "stderr",
          "text": [
            "<ipython-input-49-218c55f7a3ea>:22: DataConversionWarning: A column-vector y was passed when a 1d array was expected. Please change the shape of y to (n_samples,), for example using ravel().\n",
            "  clf.fit(X_train, y_train) # обучаем\n"
          ]
        },
        {
          "output_type": "stream",
          "name": "stdout",
          "text": [
            "0.9998081800549884 0.6040268456375839 1 5 12\n"
          ]
        },
        {
          "output_type": "stream",
          "name": "stderr",
          "text": [
            "<ipython-input-49-218c55f7a3ea>:22: DataConversionWarning: A column-vector y was passed when a 1d array was expected. Please change the shape of y to (n_samples,), for example using ravel().\n",
            "  clf.fit(X_train, y_train) # обучаем\n"
          ]
        },
        {
          "output_type": "stream",
          "name": "stdout",
          "text": [
            "0.9996696434280355 0.6644295302013423 1 5 13\n"
          ]
        },
        {
          "output_type": "stream",
          "name": "stderr",
          "text": [
            "<ipython-input-49-218c55f7a3ea>:22: DataConversionWarning: A column-vector y was passed when a 1d array was expected. Please change the shape of y to (n_samples,), for example using ravel().\n",
            "  clf.fit(X_train, y_train) # обучаем\n"
          ]
        },
        {
          "output_type": "stream",
          "name": "stdout",
          "text": [
            "0.999648330100812 0.6845637583892618 1 5 14\n"
          ]
        },
        {
          "output_type": "stream",
          "name": "stderr",
          "text": [
            "<ipython-input-49-218c55f7a3ea>:22: DataConversionWarning: A column-vector y was passed when a 1d array was expected. Please change the shape of y to (n_samples,), for example using ravel().\n",
            "  clf.fit(X_train, y_train) # обучаем\n"
          ]
        },
        {
          "output_type": "stream",
          "name": "stdout",
          "text": [
            "0.9998508067094354 0.5570469798657718 1 5 15\n"
          ]
        },
        {
          "output_type": "stream",
          "name": "stderr",
          "text": [
            "<ipython-input-49-218c55f7a3ea>:22: DataConversionWarning: A column-vector y was passed when a 1d array was expected. Please change the shape of y to (n_samples,), for example using ravel().\n",
            "  clf.fit(X_train, y_train) # обучаем\n"
          ]
        },
        {
          "output_type": "stream",
          "name": "stdout",
          "text": [
            "0.9998188367186002 0.5771812080536913 1 5 16\n"
          ]
        },
        {
          "output_type": "stream",
          "name": "stderr",
          "text": [
            "<ipython-input-49-218c55f7a3ea>:22: DataConversionWarning: A column-vector y was passed when a 1d array was expected. Please change the shape of y to (n_samples,), for example using ravel().\n",
            "  clf.fit(X_train, y_train) # обучаем\n"
          ]
        },
        {
          "output_type": "stream",
          "name": "stdout",
          "text": [
            "0.9998188367186002 0.563758389261745 1 5 17\n"
          ]
        },
        {
          "output_type": "stream",
          "name": "stderr",
          "text": [
            "<ipython-input-49-218c55f7a3ea>:22: DataConversionWarning: A column-vector y was passed when a 1d array was expected. Please change the shape of y to (n_samples,), for example using ravel().\n",
            "  clf.fit(X_train, y_train) # обучаем\n"
          ]
        },
        {
          "output_type": "stream",
          "name": "stdout",
          "text": [
            "0.9995737334555297 0.7181208053691275 1 5 18\n"
          ]
        },
        {
          "output_type": "stream",
          "name": "stderr",
          "text": [
            "<ipython-input-49-218c55f7a3ea>:22: DataConversionWarning: A column-vector y was passed when a 1d array was expected. Please change the shape of y to (n_samples,), for example using ravel().\n",
            "  clf.fit(X_train, y_train) # обучаем\n"
          ]
        },
        {
          "output_type": "stream",
          "name": "stdout",
          "text": [
            "0.9998188367186002 0.5570469798657718 1 5 19\n"
          ]
        },
        {
          "output_type": "stream",
          "name": "stderr",
          "text": [
            "<ipython-input-49-218c55f7a3ea>:22: DataConversionWarning: A column-vector y was passed when a 1d array was expected. Please change the shape of y to (n_samples,), for example using ravel().\n",
            "  clf.fit(X_train, y_train) # обучаем\n"
          ]
        },
        {
          "output_type": "stream",
          "name": "stdout",
          "text": [
            "0.9996376734372003 0.6711409395973154 1 5 20\n"
          ]
        },
        {
          "output_type": "stream",
          "name": "stderr",
          "text": [
            "<ipython-input-49-218c55f7a3ea>:22: DataConversionWarning: A column-vector y was passed when a 1d array was expected. Please change the shape of y to (n_samples,), for example using ravel().\n",
            "  clf.fit(X_train, y_train) # обучаем\n"
          ]
        },
        {
          "output_type": "stream",
          "name": "stdout",
          "text": [
            "0.9998188367186002 0.5771812080536913 1 5 21\n"
          ]
        },
        {
          "output_type": "stream",
          "name": "stderr",
          "text": [
            "<ipython-input-49-218c55f7a3ea>:22: DataConversionWarning: A column-vector y was passed when a 1d array was expected. Please change the shape of y to (n_samples,), for example using ravel().\n",
            "  clf.fit(X_train, y_train) # обучаем\n"
          ]
        },
        {
          "output_type": "stream",
          "name": "stdout",
          "text": [
            "0.9998294933822119 0.5906040268456376 1 5 22\n"
          ]
        },
        {
          "output_type": "stream",
          "name": "stderr",
          "text": [
            "<ipython-input-49-218c55f7a3ea>:22: DataConversionWarning: A column-vector y was passed when a 1d array was expected. Please change the shape of y to (n_samples,), for example using ravel().\n",
            "  clf.fit(X_train, y_train) # обучаем\n"
          ]
        },
        {
          "output_type": "stream",
          "name": "stdout",
          "text": [
            "0.9996376734372003 0.6711409395973154 1 5 23\n"
          ]
        },
        {
          "output_type": "stream",
          "name": "stderr",
          "text": [
            "<ipython-input-49-218c55f7a3ea>:22: DataConversionWarning: A column-vector y was passed when a 1d array was expected. Please change the shape of y to (n_samples,), for example using ravel().\n",
            "  clf.fit(X_train, y_train) # обучаем\n"
          ]
        },
        {
          "output_type": "stream",
          "name": "stdout",
          "text": [
            "0.9998188367186002 0.5771812080536913 1 5 24\n"
          ]
        },
        {
          "output_type": "stream",
          "name": "stderr",
          "text": [
            "<ipython-input-49-218c55f7a3ea>:22: DataConversionWarning: A column-vector y was passed when a 1d array was expected. Please change the shape of y to (n_samples,), for example using ravel().\n",
            "  clf.fit(X_train, y_train) # обучаем\n"
          ]
        },
        {
          "output_type": "stream",
          "name": "stdout",
          "text": [
            "0.9996696434280355 0.6711409395973154 1 5 25\n"
          ]
        },
        {
          "output_type": "stream",
          "name": "stderr",
          "text": [
            "<ipython-input-49-218c55f7a3ea>:22: DataConversionWarning: A column-vector y was passed when a 1d array was expected. Please change the shape of y to (n_samples,), for example using ravel().\n",
            "  clf.fit(X_train, y_train) # обучаем\n"
          ]
        },
        {
          "output_type": "stream",
          "name": "stdout",
          "text": [
            "0.9998188367186002 0.563758389261745 1 5 26\n"
          ]
        },
        {
          "output_type": "stream",
          "name": "stderr",
          "text": [
            "<ipython-input-49-218c55f7a3ea>:22: DataConversionWarning: A column-vector y was passed when a 1d array was expected. Please change the shape of y to (n_samples,), for example using ravel().\n",
            "  clf.fit(X_train, y_train) # обучаем\n"
          ]
        },
        {
          "output_type": "stream",
          "name": "stdout",
          "text": [
            "0.9996376734372003 0.6711409395973154 1 5 27\n"
          ]
        },
        {
          "output_type": "stream",
          "name": "stderr",
          "text": [
            "<ipython-input-49-218c55f7a3ea>:22: DataConversionWarning: A column-vector y was passed when a 1d array was expected. Please change the shape of y to (n_samples,), for example using ravel().\n",
            "  clf.fit(X_train, y_train) # обучаем\n"
          ]
        },
        {
          "output_type": "stream",
          "name": "stdout",
          "text": [
            "0.9998188367186002 0.5704697986577181 1 5 28\n"
          ]
        },
        {
          "output_type": "stream",
          "name": "stderr",
          "text": [
            "<ipython-input-49-218c55f7a3ea>:22: DataConversionWarning: A column-vector y was passed when a 1d array was expected. Please change the shape of y to (n_samples,), for example using ravel().\n",
            "  clf.fit(X_train, y_train) # обучаем\n"
          ]
        },
        {
          "output_type": "stream",
          "name": "stdout",
          "text": [
            "0.9996163601099768 0.6778523489932886 1 5 29\n"
          ]
        },
        {
          "output_type": "stream",
          "name": "stderr",
          "text": [
            "<ipython-input-49-218c55f7a3ea>:22: DataConversionWarning: A column-vector y was passed when a 1d array was expected. Please change the shape of y to (n_samples,), for example using ravel().\n",
            "  clf.fit(X_train, y_train) # обучаем\n"
          ]
        },
        {
          "output_type": "stream",
          "name": "stdout",
          "text": [
            "0.9996270167735886 0.6912751677852349 1 5 30\n",
            "0.9995417634646945 0.5033557046979866 2 1 1\n"
          ]
        },
        {
          "output_type": "stream",
          "name": "stderr",
          "text": [
            "<ipython-input-49-218c55f7a3ea>:22: DataConversionWarning: A column-vector y was passed when a 1d array was expected. Please change the shape of y to (n_samples,), for example using ravel().\n",
            "  clf.fit(X_train, y_train) # обучаем\n",
            "<ipython-input-49-218c55f7a3ea>:22: DataConversionWarning: A column-vector y was passed when a 1d array was expected. Please change the shape of y to (n_samples,), for example using ravel().\n",
            "  clf.fit(X_train, y_train) # обучаем\n"
          ]
        },
        {
          "output_type": "stream",
          "name": "stdout",
          "text": [
            "0.9997868667277648 0.5704697986577181 2 1 2\n"
          ]
        },
        {
          "output_type": "stream",
          "name": "stderr",
          "text": [
            "<ipython-input-49-218c55f7a3ea>:22: DataConversionWarning: A column-vector y was passed when a 1d array was expected. Please change the shape of y to (n_samples,), for example using ravel().\n",
            "  clf.fit(X_train, y_train) # обучаем\n"
          ]
        },
        {
          "output_type": "stream",
          "name": "stdout",
          "text": [
            "0.9993606001832946 0.6174496644295302 2 1 3\n"
          ]
        },
        {
          "output_type": "stream",
          "name": "stderr",
          "text": [
            "<ipython-input-49-218c55f7a3ea>:22: DataConversionWarning: A column-vector y was passed when a 1d array was expected. Please change the shape of y to (n_samples,), for example using ravel().\n",
            "  clf.fit(X_train, y_train) # обучаем\n"
          ]
        },
        {
          "output_type": "stream",
          "name": "stdout",
          "text": [
            "0.9999040900274941 0.3422818791946308 2 1 4\n"
          ]
        },
        {
          "output_type": "stream",
          "name": "stderr",
          "text": [
            "<ipython-input-49-218c55f7a3ea>:22: DataConversionWarning: A column-vector y was passed when a 1d array was expected. Please change the shape of y to (n_samples,), for example using ravel().\n",
            "  clf.fit(X_train, y_train) # обучаем\n"
          ]
        },
        {
          "output_type": "stream",
          "name": "stdout",
          "text": [
            "0.9996803000916473 0.6308724832214765 2 1 5\n"
          ]
        },
        {
          "output_type": "stream",
          "name": "stderr",
          "text": [
            "<ipython-input-49-218c55f7a3ea>:22: DataConversionWarning: A column-vector y was passed when a 1d array was expected. Please change the shape of y to (n_samples,), for example using ravel().\n",
            "  clf.fit(X_train, y_train) # обучаем\n"
          ]
        },
        {
          "output_type": "stream",
          "name": "stdout",
          "text": [
            "0.9996909567552591 0.5033557046979866 2 1 6\n"
          ]
        },
        {
          "output_type": "stream",
          "name": "stderr",
          "text": [
            "<ipython-input-49-218c55f7a3ea>:22: DataConversionWarning: A column-vector y was passed when a 1d array was expected. Please change the shape of y to (n_samples,), for example using ravel().\n",
            "  clf.fit(X_train, y_train) # обучаем\n"
          ]
        },
        {
          "output_type": "stream",
          "name": "stdout",
          "text": [
            "0.9997229267460943 0.6711409395973154 2 1 7\n"
          ]
        },
        {
          "output_type": "stream",
          "name": "stderr",
          "text": [
            "<ipython-input-49-218c55f7a3ea>:22: DataConversionWarning: A column-vector y was passed when a 1d array was expected. Please change the shape of y to (n_samples,), for example using ravel().\n",
            "  clf.fit(X_train, y_train) # обучаем\n"
          ]
        },
        {
          "output_type": "stream",
          "name": "stdout",
          "text": [
            "0.9995950467827532 0.7114093959731543 2 1 8\n"
          ]
        },
        {
          "output_type": "stream",
          "name": "stderr",
          "text": [
            "<ipython-input-49-218c55f7a3ea>:22: DataConversionWarning: A column-vector y was passed when a 1d array was expected. Please change the shape of y to (n_samples,), for example using ravel().\n",
            "  clf.fit(X_train, y_train) # обучаем\n"
          ]
        },
        {
          "output_type": "stream",
          "name": "stdout",
          "text": [
            "0.9995204501374709 0.7248322147651007 2 1 9\n"
          ]
        },
        {
          "output_type": "stream",
          "name": "stderr",
          "text": [
            "<ipython-input-49-218c55f7a3ea>:22: DataConversionWarning: A column-vector y was passed when a 1d array was expected. Please change the shape of y to (n_samples,), for example using ravel().\n",
            "  clf.fit(X_train, y_train) # обучаем\n"
          ]
        },
        {
          "output_type": "stream",
          "name": "stdout",
          "text": [
            "0.9997229267460943 0.6912751677852349 2 1 10\n"
          ]
        },
        {
          "output_type": "stream",
          "name": "stderr",
          "text": [
            "<ipython-input-49-218c55f7a3ea>:22: DataConversionWarning: A column-vector y was passed when a 1d array was expected. Please change the shape of y to (n_samples,), for example using ravel().\n",
            "  clf.fit(X_train, y_train) # обучаем\n"
          ]
        },
        {
          "output_type": "stream",
          "name": "stdout",
          "text": [
            "0.9996589867644238 0.7181208053691275 2 1 11\n"
          ]
        },
        {
          "output_type": "stream",
          "name": "stderr",
          "text": [
            "<ipython-input-49-218c55f7a3ea>:22: DataConversionWarning: A column-vector y was passed when a 1d array was expected. Please change the shape of y to (n_samples,), for example using ravel().\n",
            "  clf.fit(X_train, y_train) # обучаем\n"
          ]
        },
        {
          "output_type": "stream",
          "name": "stdout",
          "text": [
            "0.9997122700824825 0.563758389261745 2 1 12\n"
          ]
        },
        {
          "output_type": "stream",
          "name": "stderr",
          "text": [
            "<ipython-input-49-218c55f7a3ea>:22: DataConversionWarning: A column-vector y was passed when a 1d array was expected. Please change the shape of y to (n_samples,), for example using ravel().\n",
            "  clf.fit(X_train, y_train) # обучаем\n"
          ]
        },
        {
          "output_type": "stream",
          "name": "stdout",
          "text": [
            "0.9995524201283063 0.7046979865771812 2 1 13\n"
          ]
        },
        {
          "output_type": "stream",
          "name": "stderr",
          "text": [
            "<ipython-input-49-218c55f7a3ea>:22: DataConversionWarning: A column-vector y was passed when a 1d array was expected. Please change the shape of y to (n_samples,), for example using ravel().\n",
            "  clf.fit(X_train, y_train) # обучаем\n"
          ]
        },
        {
          "output_type": "stream",
          "name": "stdout",
          "text": [
            "0.9996270167735886 0.7114093959731543 2 1 14\n"
          ]
        },
        {
          "output_type": "stream",
          "name": "stderr",
          "text": [
            "<ipython-input-49-218c55f7a3ea>:22: DataConversionWarning: A column-vector y was passed when a 1d array was expected. Please change the shape of y to (n_samples,), for example using ravel().\n",
            "  clf.fit(X_train, y_train) # обучаем\n"
          ]
        },
        {
          "output_type": "stream",
          "name": "stdout",
          "text": [
            "0.9996909567552591 0.6912751677852349 2 1 15\n"
          ]
        },
        {
          "output_type": "stream",
          "name": "stderr",
          "text": [
            "<ipython-input-49-218c55f7a3ea>:22: DataConversionWarning: A column-vector y was passed when a 1d array was expected. Please change the shape of y to (n_samples,), for example using ravel().\n",
            "  clf.fit(X_train, y_train) # обучаем\n"
          ]
        },
        {
          "output_type": "stream",
          "name": "stdout",
          "text": [
            "0.9997655534005414 0.5838926174496644 2 1 16\n"
          ]
        },
        {
          "output_type": "stream",
          "name": "stderr",
          "text": [
            "<ipython-input-49-218c55f7a3ea>:22: DataConversionWarning: A column-vector y was passed when a 1d array was expected. Please change the shape of y to (n_samples,), for example using ravel().\n",
            "  clf.fit(X_train, y_train) # обучаем\n"
          ]
        },
        {
          "output_type": "stream",
          "name": "stdout",
          "text": [
            "0.9995311068010827 0.7449664429530201 2 1 17\n"
          ]
        },
        {
          "output_type": "stream",
          "name": "stderr",
          "text": [
            "<ipython-input-49-218c55f7a3ea>:22: DataConversionWarning: A column-vector y was passed when a 1d array was expected. Please change the shape of y to (n_samples,), for example using ravel().\n",
            "  clf.fit(X_train, y_train) # обучаем\n"
          ]
        },
        {
          "output_type": "stream",
          "name": "stdout",
          "text": [
            "0.9996270167735886 0.738255033557047 2 1 18\n"
          ]
        },
        {
          "output_type": "stream",
          "name": "stderr",
          "text": [
            "<ipython-input-49-218c55f7a3ea>:22: DataConversionWarning: A column-vector y was passed when a 1d array was expected. Please change the shape of y to (n_samples,), for example using ravel().\n",
            "  clf.fit(X_train, y_train) # обучаем\n"
          ]
        },
        {
          "output_type": "stream",
          "name": "stdout",
          "text": [
            "0.9996376734372003 0.7449664429530201 2 1 19\n"
          ]
        },
        {
          "output_type": "stream",
          "name": "stderr",
          "text": [
            "<ipython-input-49-218c55f7a3ea>:22: DataConversionWarning: A column-vector y was passed when a 1d array was expected. Please change the shape of y to (n_samples,), for example using ravel().\n",
            "  clf.fit(X_train, y_train) # обучаем\n"
          ]
        },
        {
          "output_type": "stream",
          "name": "stdout",
          "text": [
            "0.9996696434280355 0.7315436241610738 2 1 20\n"
          ]
        },
        {
          "output_type": "stream",
          "name": "stderr",
          "text": [
            "<ipython-input-49-218c55f7a3ea>:22: DataConversionWarning: A column-vector y was passed when a 1d array was expected. Please change the shape of y to (n_samples,), for example using ravel().\n",
            "  clf.fit(X_train, y_train) # обучаем\n"
          ]
        },
        {
          "output_type": "stream",
          "name": "stdout",
          "text": [
            "0.9995311068010827 0.7248322147651007 2 1 21\n"
          ]
        },
        {
          "output_type": "stream",
          "name": "stderr",
          "text": [
            "<ipython-input-49-218c55f7a3ea>:22: DataConversionWarning: A column-vector y was passed when a 1d array was expected. Please change the shape of y to (n_samples,), for example using ravel().\n",
            "  clf.fit(X_train, y_train) # обучаем\n"
          ]
        },
        {
          "output_type": "stream",
          "name": "stdout",
          "text": [
            "0.9996270167735886 0.7181208053691275 2 1 22\n"
          ]
        },
        {
          "output_type": "stream",
          "name": "stderr",
          "text": [
            "<ipython-input-49-218c55f7a3ea>:22: DataConversionWarning: A column-vector y was passed when a 1d array was expected. Please change the shape of y to (n_samples,), for example using ravel().\n",
            "  clf.fit(X_train, y_train) # обучаем\n"
          ]
        },
        {
          "output_type": "stream",
          "name": "stdout",
          "text": [
            "0.999605703446365 0.7181208053691275 2 1 23\n"
          ]
        },
        {
          "output_type": "stream",
          "name": "stderr",
          "text": [
            "<ipython-input-49-218c55f7a3ea>:22: DataConversionWarning: A column-vector y was passed when a 1d array was expected. Please change the shape of y to (n_samples,), for example using ravel().\n",
            "  clf.fit(X_train, y_train) # обучаем\n"
          ]
        },
        {
          "output_type": "stream",
          "name": "stdout",
          "text": [
            "0.9997016134188709 0.7449664429530201 2 1 24\n"
          ]
        },
        {
          "output_type": "stream",
          "name": "stderr",
          "text": [
            "<ipython-input-49-218c55f7a3ea>:22: DataConversionWarning: A column-vector y was passed when a 1d array was expected. Please change the shape of y to (n_samples,), for example using ravel().\n",
            "  clf.fit(X_train, y_train) # обучаем\n"
          ]
        },
        {
          "output_type": "stream",
          "name": "stdout",
          "text": [
            "0.9996376734372003 0.7583892617449665 2 1 25\n"
          ]
        },
        {
          "output_type": "stream",
          "name": "stderr",
          "text": [
            "<ipython-input-49-218c55f7a3ea>:22: DataConversionWarning: A column-vector y was passed when a 1d array was expected. Please change the shape of y to (n_samples,), for example using ravel().\n",
            "  clf.fit(X_train, y_train) # обучаем\n"
          ]
        },
        {
          "output_type": "stream",
          "name": "stdout",
          "text": [
            "0.9996376734372003 0.7449664429530201 2 1 26\n"
          ]
        },
        {
          "output_type": "stream",
          "name": "stderr",
          "text": [
            "<ipython-input-49-218c55f7a3ea>:22: DataConversionWarning: A column-vector y was passed when a 1d array was expected. Please change the shape of y to (n_samples,), for example using ravel().\n",
            "  clf.fit(X_train, y_train) # обучаем\n"
          ]
        },
        {
          "output_type": "stream",
          "name": "stdout",
          "text": [
            "0.9996803000916473 0.7046979865771812 2 1 27\n"
          ]
        },
        {
          "output_type": "stream",
          "name": "stderr",
          "text": [
            "<ipython-input-49-218c55f7a3ea>:22: DataConversionWarning: A column-vector y was passed when a 1d array was expected. Please change the shape of y to (n_samples,), for example using ravel().\n",
            "  clf.fit(X_train, y_train) # обучаем\n"
          ]
        },
        {
          "output_type": "stream",
          "name": "stdout",
          "text": [
            "0.9995950467827532 0.7181208053691275 2 1 28\n"
          ]
        },
        {
          "output_type": "stream",
          "name": "stderr",
          "text": [
            "<ipython-input-49-218c55f7a3ea>:22: DataConversionWarning: A column-vector y was passed when a 1d array was expected. Please change the shape of y to (n_samples,), for example using ravel().\n",
            "  clf.fit(X_train, y_train) # обучаем\n"
          ]
        },
        {
          "output_type": "stream",
          "name": "stdout",
          "text": [
            "0.9994778234830239 0.7248322147651007 2 1 29\n"
          ]
        },
        {
          "output_type": "stream",
          "name": "stderr",
          "text": [
            "<ipython-input-49-218c55f7a3ea>:22: DataConversionWarning: A column-vector y was passed when a 1d array was expected. Please change the shape of y to (n_samples,), for example using ravel().\n",
            "  clf.fit(X_train, y_train) # обучаем\n"
          ]
        },
        {
          "output_type": "stream",
          "name": "stdout",
          "text": [
            "0.9997016134188709 0.7449664429530201 2 1 30\n",
            "1.0 0.04026845637583898 2 2 1\n"
          ]
        },
        {
          "output_type": "stream",
          "name": "stderr",
          "text": [
            "<ipython-input-49-218c55f7a3ea>:22: DataConversionWarning: A column-vector y was passed when a 1d array was expected. Please change the shape of y to (n_samples,), for example using ravel().\n",
            "  clf.fit(X_train, y_train) # обучаем\n",
            "<ipython-input-49-218c55f7a3ea>:22: DataConversionWarning: A column-vector y was passed when a 1d array was expected. Please change the shape of y to (n_samples,), for example using ravel().\n",
            "  clf.fit(X_train, y_train) # обучаем\n"
          ]
        },
        {
          "output_type": "stream",
          "name": "stdout",
          "text": [
            "0.9998401500458236 0.4429530201342282 2 2 2\n"
          ]
        },
        {
          "output_type": "stream",
          "name": "stderr",
          "text": [
            "<ipython-input-49-218c55f7a3ea>:22: DataConversionWarning: A column-vector y was passed when a 1d array was expected. Please change the shape of y to (n_samples,), for example using ravel().\n",
            "  clf.fit(X_train, y_train) # обучаем\n"
          ]
        },
        {
          "output_type": "stream",
          "name": "stdout",
          "text": [
            "0.9999680300091647 0.28859060402684567 2 2 3\n"
          ]
        },
        {
          "output_type": "stream",
          "name": "stderr",
          "text": [
            "<ipython-input-49-218c55f7a3ea>:22: DataConversionWarning: A column-vector y was passed when a 1d array was expected. Please change the shape of y to (n_samples,), for example using ravel().\n",
            "  clf.fit(X_train, y_train) # обучаем\n"
          ]
        },
        {
          "output_type": "stream",
          "name": "stdout",
          "text": [
            "0.9996589867644238 0.7046979865771812 2 2 4\n"
          ]
        },
        {
          "output_type": "stream",
          "name": "stderr",
          "text": [
            "<ipython-input-49-218c55f7a3ea>:22: DataConversionWarning: A column-vector y was passed when a 1d array was expected. Please change the shape of y to (n_samples,), for example using ravel().\n",
            "  clf.fit(X_train, y_train) # обучаем\n"
          ]
        },
        {
          "output_type": "stream",
          "name": "stdout",
          "text": [
            "0.999957373345553 0.14093959731543626 2 2 5\n"
          ]
        },
        {
          "output_type": "stream",
          "name": "stderr",
          "text": [
            "<ipython-input-49-218c55f7a3ea>:22: DataConversionWarning: A column-vector y was passed when a 1d array was expected. Please change the shape of y to (n_samples,), for example using ravel().\n",
            "  clf.fit(X_train, y_train) # обучаем\n"
          ]
        },
        {
          "output_type": "stream",
          "name": "stdout",
          "text": [
            "0.9998721200366589 0.4832214765100671 2 2 6\n"
          ]
        },
        {
          "output_type": "stream",
          "name": "stderr",
          "text": [
            "<ipython-input-49-218c55f7a3ea>:22: DataConversionWarning: A column-vector y was passed when a 1d array was expected. Please change the shape of y to (n_samples,), for example using ravel().\n",
            "  clf.fit(X_train, y_train) # обучаем\n"
          ]
        },
        {
          "output_type": "stream",
          "name": "stdout",
          "text": [
            "0.9998508067094354 0.563758389261745 2 2 7\n"
          ]
        },
        {
          "output_type": "stream",
          "name": "stderr",
          "text": [
            "<ipython-input-49-218c55f7a3ea>:22: DataConversionWarning: A column-vector y was passed when a 1d array was expected. Please change the shape of y to (n_samples,), for example using ravel().\n",
            "  clf.fit(X_train, y_train) # обучаем\n"
          ]
        },
        {
          "output_type": "stream",
          "name": "stdout",
          "text": [
            "0.999648330100812 0.7181208053691275 2 2 8\n"
          ]
        },
        {
          "output_type": "stream",
          "name": "stderr",
          "text": [
            "<ipython-input-49-218c55f7a3ea>:22: DataConversionWarning: A column-vector y was passed when a 1d array was expected. Please change the shape of y to (n_samples,), for example using ravel().\n",
            "  clf.fit(X_train, y_train) # обучаем\n"
          ]
        },
        {
          "output_type": "stream",
          "name": "stdout",
          "text": [
            "0.9998401500458236 0.5369127516778524 2 2 9\n"
          ]
        },
        {
          "output_type": "stream",
          "name": "stderr",
          "text": [
            "<ipython-input-49-218c55f7a3ea>:22: DataConversionWarning: A column-vector y was passed when a 1d array was expected. Please change the shape of y to (n_samples,), for example using ravel().\n",
            "  clf.fit(X_train, y_train) # обучаем\n"
          ]
        },
        {
          "output_type": "stream",
          "name": "stdout",
          "text": [
            "0.9998721200366589 0.5100671140939597 2 2 10\n"
          ]
        },
        {
          "output_type": "stream",
          "name": "stderr",
          "text": [
            "<ipython-input-49-218c55f7a3ea>:22: DataConversionWarning: A column-vector y was passed when a 1d array was expected. Please change the shape of y to (n_samples,), for example using ravel().\n",
            "  clf.fit(X_train, y_train) # обучаем\n"
          ]
        },
        {
          "output_type": "stream",
          "name": "stdout",
          "text": [
            "0.9998508067094354 0.5771812080536913 2 2 11\n"
          ]
        },
        {
          "output_type": "stream",
          "name": "stderr",
          "text": [
            "<ipython-input-49-218c55f7a3ea>:22: DataConversionWarning: A column-vector y was passed when a 1d array was expected. Please change the shape of y to (n_samples,), for example using ravel().\n",
            "  clf.fit(X_train, y_train) # обучаем\n"
          ]
        },
        {
          "output_type": "stream",
          "name": "stdout",
          "text": [
            "0.9997548967369296 0.6174496644295302 2 2 12\n"
          ]
        },
        {
          "output_type": "stream",
          "name": "stderr",
          "text": [
            "<ipython-input-49-218c55f7a3ea>:22: DataConversionWarning: A column-vector y was passed when a 1d array was expected. Please change the shape of y to (n_samples,), for example using ravel().\n",
            "  clf.fit(X_train, y_train) # обучаем\n"
          ]
        },
        {
          "output_type": "stream",
          "name": "stdout",
          "text": [
            "0.9997335834097061 0.6845637583892618 2 2 13\n"
          ]
        },
        {
          "output_type": "stream",
          "name": "stderr",
          "text": [
            "<ipython-input-49-218c55f7a3ea>:22: DataConversionWarning: A column-vector y was passed when a 1d array was expected. Please change the shape of y to (n_samples,), for example using ravel().\n",
            "  clf.fit(X_train, y_train) # обучаем\n"
          ]
        },
        {
          "output_type": "stream",
          "name": "stdout",
          "text": [
            "0.9996696434280355 0.7046979865771812 2 2 14\n"
          ]
        },
        {
          "output_type": "stream",
          "name": "stderr",
          "text": [
            "<ipython-input-49-218c55f7a3ea>:22: DataConversionWarning: A column-vector y was passed when a 1d array was expected. Please change the shape of y to (n_samples,), for example using ravel().\n",
            "  clf.fit(X_train, y_train) # обучаем\n"
          ]
        },
        {
          "output_type": "stream",
          "name": "stdout",
          "text": [
            "0.9998081800549884 0.6577181208053691 2 2 15\n"
          ]
        },
        {
          "output_type": "stream",
          "name": "stderr",
          "text": [
            "<ipython-input-49-218c55f7a3ea>:22: DataConversionWarning: A column-vector y was passed when a 1d array was expected. Please change the shape of y to (n_samples,), for example using ravel().\n",
            "  clf.fit(X_train, y_train) # обучаем\n"
          ]
        },
        {
          "output_type": "stream",
          "name": "stdout",
          "text": [
            "0.9996376734372003 0.6778523489932886 2 2 16\n"
          ]
        },
        {
          "output_type": "stream",
          "name": "stderr",
          "text": [
            "<ipython-input-49-218c55f7a3ea>:22: DataConversionWarning: A column-vector y was passed when a 1d array was expected. Please change the shape of y to (n_samples,), for example using ravel().\n",
            "  clf.fit(X_train, y_train) # обучаем\n"
          ]
        },
        {
          "output_type": "stream",
          "name": "stdout",
          "text": [
            "0.9998081800549884 0.6912751677852349 2 2 17\n"
          ]
        },
        {
          "output_type": "stream",
          "name": "stderr",
          "text": [
            "<ipython-input-49-218c55f7a3ea>:22: DataConversionWarning: A column-vector y was passed when a 1d array was expected. Please change the shape of y to (n_samples,), for example using ravel().\n",
            "  clf.fit(X_train, y_train) # обучаем\n"
          ]
        },
        {
          "output_type": "stream",
          "name": "stdout",
          "text": [
            "0.9998294933822119 0.6040268456375839 2 2 18\n"
          ]
        },
        {
          "output_type": "stream",
          "name": "stderr",
          "text": [
            "<ipython-input-49-218c55f7a3ea>:22: DataConversionWarning: A column-vector y was passed when a 1d array was expected. Please change the shape of y to (n_samples,), for example using ravel().\n",
            "  clf.fit(X_train, y_train) # обучаем\n"
          ]
        },
        {
          "output_type": "stream",
          "name": "stdout",
          "text": [
            "0.9996803000916473 0.7181208053691275 2 2 19\n"
          ]
        },
        {
          "output_type": "stream",
          "name": "stderr",
          "text": [
            "<ipython-input-49-218c55f7a3ea>:22: DataConversionWarning: A column-vector y was passed when a 1d array was expected. Please change the shape of y to (n_samples,), for example using ravel().\n",
            "  clf.fit(X_train, y_train) # обучаем\n"
          ]
        },
        {
          "output_type": "stream",
          "name": "stdout",
          "text": [
            "0.9996803000916473 0.7181208053691275 2 2 20\n"
          ]
        },
        {
          "output_type": "stream",
          "name": "stderr",
          "text": [
            "<ipython-input-49-218c55f7a3ea>:22: DataConversionWarning: A column-vector y was passed when a 1d array was expected. Please change the shape of y to (n_samples,), for example using ravel().\n",
            "  clf.fit(X_train, y_train) # обучаем\n"
          ]
        },
        {
          "output_type": "stream",
          "name": "stdout",
          "text": [
            "0.9997335834097061 0.697986577181208 2 2 21\n"
          ]
        },
        {
          "output_type": "stream",
          "name": "stderr",
          "text": [
            "<ipython-input-49-218c55f7a3ea>:22: DataConversionWarning: A column-vector y was passed when a 1d array was expected. Please change the shape of y to (n_samples,), for example using ravel().\n",
            "  clf.fit(X_train, y_train) # обучаем\n"
          ]
        },
        {
          "output_type": "stream",
          "name": "stdout",
          "text": [
            "0.9997335834097061 0.697986577181208 2 2 22\n"
          ]
        },
        {
          "output_type": "stream",
          "name": "stderr",
          "text": [
            "<ipython-input-49-218c55f7a3ea>:22: DataConversionWarning: A column-vector y was passed when a 1d array was expected. Please change the shape of y to (n_samples,), for example using ravel().\n",
            "  clf.fit(X_train, y_train) # обучаем\n"
          ]
        },
        {
          "output_type": "stream",
          "name": "stdout",
          "text": [
            "0.9998081800549884 0.651006711409396 2 2 23\n"
          ]
        },
        {
          "output_type": "stream",
          "name": "stderr",
          "text": [
            "<ipython-input-49-218c55f7a3ea>:22: DataConversionWarning: A column-vector y was passed when a 1d array was expected. Please change the shape of y to (n_samples,), for example using ravel().\n",
            "  clf.fit(X_train, y_train) # обучаем\n"
          ]
        },
        {
          "output_type": "stream",
          "name": "stdout",
          "text": [
            "0.9997122700824825 0.697986577181208 2 2 24\n"
          ]
        },
        {
          "output_type": "stream",
          "name": "stderr",
          "text": [
            "<ipython-input-49-218c55f7a3ea>:22: DataConversionWarning: A column-vector y was passed when a 1d array was expected. Please change the shape of y to (n_samples,), for example using ravel().\n",
            "  clf.fit(X_train, y_train) # обучаем\n"
          ]
        },
        {
          "output_type": "stream",
          "name": "stdout",
          "text": [
            "0.9998294933822119 0.651006711409396 2 2 25\n"
          ]
        },
        {
          "output_type": "stream",
          "name": "stderr",
          "text": [
            "<ipython-input-49-218c55f7a3ea>:22: DataConversionWarning: A column-vector y was passed when a 1d array was expected. Please change the shape of y to (n_samples,), for example using ravel().\n",
            "  clf.fit(X_train, y_train) # обучаем\n"
          ]
        },
        {
          "output_type": "stream",
          "name": "stdout",
          "text": [
            "0.9997868667277648 0.6778523489932886 2 2 26\n"
          ]
        },
        {
          "output_type": "stream",
          "name": "stderr",
          "text": [
            "<ipython-input-49-218c55f7a3ea>:22: DataConversionWarning: A column-vector y was passed when a 1d array was expected. Please change the shape of y to (n_samples,), for example using ravel().\n",
            "  clf.fit(X_train, y_train) # обучаем\n"
          ]
        },
        {
          "output_type": "stream",
          "name": "stdout",
          "text": [
            "0.999648330100812 0.7651006711409396 2 2 27\n"
          ]
        },
        {
          "output_type": "stream",
          "name": "stderr",
          "text": [
            "<ipython-input-49-218c55f7a3ea>:22: DataConversionWarning: A column-vector y was passed when a 1d array was expected. Please change the shape of y to (n_samples,), for example using ravel().\n",
            "  clf.fit(X_train, y_train) # обучаем\n"
          ]
        },
        {
          "output_type": "stream",
          "name": "stdout",
          "text": [
            "0.9997122700824825 0.7046979865771812 2 2 28\n"
          ]
        },
        {
          "output_type": "stream",
          "name": "stderr",
          "text": [
            "<ipython-input-49-218c55f7a3ea>:22: DataConversionWarning: A column-vector y was passed when a 1d array was expected. Please change the shape of y to (n_samples,), for example using ravel().\n",
            "  clf.fit(X_train, y_train) # обучаем\n"
          ]
        },
        {
          "output_type": "stream",
          "name": "stdout",
          "text": [
            "0.999648330100812 0.7046979865771812 2 2 29\n"
          ]
        },
        {
          "output_type": "stream",
          "name": "stderr",
          "text": [
            "<ipython-input-49-218c55f7a3ea>:22: DataConversionWarning: A column-vector y was passed when a 1d array was expected. Please change the shape of y to (n_samples,), for example using ravel().\n",
            "  clf.fit(X_train, y_train) # обучаем\n"
          ]
        },
        {
          "output_type": "stream",
          "name": "stdout",
          "text": [
            "0.999648330100812 0.7046979865771812 2 2 30\n"
          ]
        },
        {
          "output_type": "stream",
          "name": "stderr",
          "text": [
            "<ipython-input-49-218c55f7a3ea>:22: DataConversionWarning: A column-vector y was passed when a 1d array was expected. Please change the shape of y to (n_samples,), for example using ravel().\n",
            "  clf.fit(X_train, y_train) # обучаем\n"
          ]
        },
        {
          "output_type": "stream",
          "name": "stdout",
          "text": [
            "0.9999786866727765 0.12080536912751683 2 3 1\n"
          ]
        },
        {
          "output_type": "stream",
          "name": "stderr",
          "text": [
            "<ipython-input-49-218c55f7a3ea>:22: DataConversionWarning: A column-vector y was passed when a 1d array was expected. Please change the shape of y to (n_samples,), for example using ravel().\n",
            "  clf.fit(X_train, y_train) # обучаем\n"
          ]
        },
        {
          "output_type": "stream",
          "name": "stdout",
          "text": [
            "0.9999680300091647 0.46308724832214765 2 3 2\n"
          ]
        },
        {
          "output_type": "stream",
          "name": "stderr",
          "text": [
            "<ipython-input-49-218c55f7a3ea>:22: DataConversionWarning: A column-vector y was passed when a 1d array was expected. Please change the shape of y to (n_samples,), for example using ravel().\n",
            "  clf.fit(X_train, y_train) # обучаем\n"
          ]
        },
        {
          "output_type": "stream",
          "name": "stdout",
          "text": [
            "0.9997975233913766 0.563758389261745 2 3 3\n"
          ]
        },
        {
          "output_type": "stream",
          "name": "stderr",
          "text": [
            "<ipython-input-49-218c55f7a3ea>:22: DataConversionWarning: A column-vector y was passed when a 1d array was expected. Please change the shape of y to (n_samples,), for example using ravel().\n",
            "  clf.fit(X_train, y_train) # обучаем\n"
          ]
        },
        {
          "output_type": "stream",
          "name": "stdout",
          "text": [
            "0.9998081800549884 0.6778523489932886 2 3 4\n"
          ]
        },
        {
          "output_type": "stream",
          "name": "stderr",
          "text": [
            "<ipython-input-49-218c55f7a3ea>:22: DataConversionWarning: A column-vector y was passed when a 1d array was expected. Please change the shape of y to (n_samples,), for example using ravel().\n",
            "  clf.fit(X_train, y_train) # обучаем\n"
          ]
        },
        {
          "output_type": "stream",
          "name": "stdout",
          "text": [
            "0.999957373345553 0.2751677852348994 2 3 5\n"
          ]
        },
        {
          "output_type": "stream",
          "name": "stderr",
          "text": [
            "<ipython-input-49-218c55f7a3ea>:22: DataConversionWarning: A column-vector y was passed when a 1d array was expected. Please change the shape of y to (n_samples,), for example using ravel().\n",
            "  clf.fit(X_train, y_train) # обучаем\n"
          ]
        },
        {
          "output_type": "stream",
          "name": "stdout",
          "text": [
            "0.9998188367186002 0.5771812080536913 2 3 6\n"
          ]
        },
        {
          "output_type": "stream",
          "name": "stderr",
          "text": [
            "<ipython-input-49-218c55f7a3ea>:22: DataConversionWarning: A column-vector y was passed when a 1d array was expected. Please change the shape of y to (n_samples,), for example using ravel().\n",
            "  clf.fit(X_train, y_train) # обучаем\n"
          ]
        },
        {
          "output_type": "stream",
          "name": "stdout",
          "text": [
            "0.9997229267460943 0.6442953020134228 2 3 7\n"
          ]
        },
        {
          "output_type": "stream",
          "name": "stderr",
          "text": [
            "<ipython-input-49-218c55f7a3ea>:22: DataConversionWarning: A column-vector y was passed when a 1d array was expected. Please change the shape of y to (n_samples,), for example using ravel().\n",
            "  clf.fit(X_train, y_train) # обучаем\n"
          ]
        },
        {
          "output_type": "stream",
          "name": "stdout",
          "text": [
            "0.9996270167735886 0.697986577181208 2 3 8\n"
          ]
        },
        {
          "output_type": "stream",
          "name": "stderr",
          "text": [
            "<ipython-input-49-218c55f7a3ea>:22: DataConversionWarning: A column-vector y was passed when a 1d array was expected. Please change the shape of y to (n_samples,), for example using ravel().\n",
            "  clf.fit(X_train, y_train) # обучаем\n"
          ]
        },
        {
          "output_type": "stream",
          "name": "stdout",
          "text": [
            "0.9997122700824825 0.697986577181208 2 3 9\n"
          ]
        },
        {
          "output_type": "stream",
          "name": "stderr",
          "text": [
            "<ipython-input-49-218c55f7a3ea>:22: DataConversionWarning: A column-vector y was passed when a 1d array was expected. Please change the shape of y to (n_samples,), for example using ravel().\n",
            "  clf.fit(X_train, y_train) # обучаем\n"
          ]
        },
        {
          "output_type": "stream",
          "name": "stdout",
          "text": [
            "0.9998188367186002 0.651006711409396 2 3 10\n"
          ]
        },
        {
          "output_type": "stream",
          "name": "stderr",
          "text": [
            "<ipython-input-49-218c55f7a3ea>:22: DataConversionWarning: A column-vector y was passed when a 1d array was expected. Please change the shape of y to (n_samples,), for example using ravel().\n",
            "  clf.fit(X_train, y_train) # обучаем\n"
          ]
        },
        {
          "output_type": "stream",
          "name": "stdout",
          "text": [
            "0.9998294933822119 0.6577181208053691 2 3 11\n"
          ]
        },
        {
          "output_type": "stream",
          "name": "stderr",
          "text": [
            "<ipython-input-49-218c55f7a3ea>:22: DataConversionWarning: A column-vector y was passed when a 1d array was expected. Please change the shape of y to (n_samples,), for example using ravel().\n",
            "  clf.fit(X_train, y_train) # обучаем\n"
          ]
        },
        {
          "output_type": "stream",
          "name": "stdout",
          "text": [
            "0.9998188367186002 0.651006711409396 2 3 12\n"
          ]
        },
        {
          "output_type": "stream",
          "name": "stderr",
          "text": [
            "<ipython-input-49-218c55f7a3ea>:22: DataConversionWarning: A column-vector y was passed when a 1d array was expected. Please change the shape of y to (n_samples,), for example using ravel().\n",
            "  clf.fit(X_train, y_train) # обучаем\n"
          ]
        },
        {
          "output_type": "stream",
          "name": "stdout",
          "text": [
            "0.9997868667277648 0.6845637583892618 2 3 13\n"
          ]
        },
        {
          "output_type": "stream",
          "name": "stderr",
          "text": [
            "<ipython-input-49-218c55f7a3ea>:22: DataConversionWarning: A column-vector y was passed when a 1d array was expected. Please change the shape of y to (n_samples,), for example using ravel().\n",
            "  clf.fit(X_train, y_train) # обучаем\n"
          ]
        },
        {
          "output_type": "stream",
          "name": "stdout",
          "text": [
            "0.9996696434280355 0.7114093959731543 2 3 14\n"
          ]
        },
        {
          "output_type": "stream",
          "name": "stderr",
          "text": [
            "<ipython-input-49-218c55f7a3ea>:22: DataConversionWarning: A column-vector y was passed when a 1d array was expected. Please change the shape of y to (n_samples,), for example using ravel().\n",
            "  clf.fit(X_train, y_train) # обучаем\n"
          ]
        },
        {
          "output_type": "stream",
          "name": "stdout",
          "text": [
            "0.9997868667277648 0.697986577181208 2 3 15\n"
          ]
        },
        {
          "output_type": "stream",
          "name": "stderr",
          "text": [
            "<ipython-input-49-218c55f7a3ea>:22: DataConversionWarning: A column-vector y was passed when a 1d array was expected. Please change the shape of y to (n_samples,), for example using ravel().\n",
            "  clf.fit(X_train, y_train) # обучаем\n"
          ]
        },
        {
          "output_type": "stream",
          "name": "stdout",
          "text": [
            "0.9998081800549884 0.651006711409396 2 3 16\n"
          ]
        },
        {
          "output_type": "stream",
          "name": "stderr",
          "text": [
            "<ipython-input-49-218c55f7a3ea>:22: DataConversionWarning: A column-vector y was passed when a 1d array was expected. Please change the shape of y to (n_samples,), for example using ravel().\n",
            "  clf.fit(X_train, y_train) # обучаем\n"
          ]
        },
        {
          "output_type": "stream",
          "name": "stdout",
          "text": [
            "0.9996589867644238 0.7181208053691275 2 3 17\n"
          ]
        },
        {
          "output_type": "stream",
          "name": "stderr",
          "text": [
            "<ipython-input-49-218c55f7a3ea>:22: DataConversionWarning: A column-vector y was passed when a 1d array was expected. Please change the shape of y to (n_samples,), for example using ravel().\n",
            "  clf.fit(X_train, y_train) # обучаем\n"
          ]
        },
        {
          "output_type": "stream",
          "name": "stdout",
          "text": [
            "0.9996803000916473 0.6711409395973154 2 3 18\n"
          ]
        },
        {
          "output_type": "stream",
          "name": "stderr",
          "text": [
            "<ipython-input-49-218c55f7a3ea>:22: DataConversionWarning: A column-vector y was passed when a 1d array was expected. Please change the shape of y to (n_samples,), for example using ravel().\n",
            "  clf.fit(X_train, y_train) # обучаем\n"
          ]
        },
        {
          "output_type": "stream",
          "name": "stdout",
          "text": [
            "0.9996589867644238 0.7046979865771812 2 3 19\n"
          ]
        },
        {
          "output_type": "stream",
          "name": "stderr",
          "text": [
            "<ipython-input-49-218c55f7a3ea>:22: DataConversionWarning: A column-vector y was passed when a 1d array was expected. Please change the shape of y to (n_samples,), for example using ravel().\n",
            "  clf.fit(X_train, y_train) # обучаем\n"
          ]
        },
        {
          "output_type": "stream",
          "name": "stdout",
          "text": [
            "0.9997016134188709 0.7114093959731543 2 3 20\n"
          ]
        },
        {
          "output_type": "stream",
          "name": "stderr",
          "text": [
            "<ipython-input-49-218c55f7a3ea>:22: DataConversionWarning: A column-vector y was passed when a 1d array was expected. Please change the shape of y to (n_samples,), for example using ravel().\n",
            "  clf.fit(X_train, y_train) # обучаем\n"
          ]
        },
        {
          "output_type": "stream",
          "name": "stdout",
          "text": [
            "0.999648330100812 0.7315436241610738 2 3 21\n"
          ]
        },
        {
          "output_type": "stream",
          "name": "stderr",
          "text": [
            "<ipython-input-49-218c55f7a3ea>:22: DataConversionWarning: A column-vector y was passed when a 1d array was expected. Please change the shape of y to (n_samples,), for example using ravel().\n",
            "  clf.fit(X_train, y_train) # обучаем\n"
          ]
        },
        {
          "output_type": "stream",
          "name": "stdout",
          "text": [
            "0.999563076791918 0.7315436241610738 2 3 22\n"
          ]
        },
        {
          "output_type": "stream",
          "name": "stderr",
          "text": [
            "<ipython-input-49-218c55f7a3ea>:22: DataConversionWarning: A column-vector y was passed when a 1d array was expected. Please change the shape of y to (n_samples,), for example using ravel().\n",
            "  clf.fit(X_train, y_train) # обучаем\n"
          ]
        },
        {
          "output_type": "stream",
          "name": "stdout",
          "text": [
            "0.9996589867644238 0.738255033557047 2 3 23\n"
          ]
        },
        {
          "output_type": "stream",
          "name": "stderr",
          "text": [
            "<ipython-input-49-218c55f7a3ea>:22: DataConversionWarning: A column-vector y was passed when a 1d array was expected. Please change the shape of y to (n_samples,), for example using ravel().\n",
            "  clf.fit(X_train, y_train) # обучаем\n"
          ]
        },
        {
          "output_type": "stream",
          "name": "stdout",
          "text": [
            "0.9996376734372003 0.738255033557047 2 3 24\n"
          ]
        },
        {
          "output_type": "stream",
          "name": "stderr",
          "text": [
            "<ipython-input-49-218c55f7a3ea>:22: DataConversionWarning: A column-vector y was passed when a 1d array was expected. Please change the shape of y to (n_samples,), for example using ravel().\n",
            "  clf.fit(X_train, y_train) # обучаем\n"
          ]
        },
        {
          "output_type": "stream",
          "name": "stdout",
          "text": [
            "0.9996589867644238 0.7181208053691275 2 3 25\n"
          ]
        },
        {
          "output_type": "stream",
          "name": "stderr",
          "text": [
            "<ipython-input-49-218c55f7a3ea>:22: DataConversionWarning: A column-vector y was passed when a 1d array was expected. Please change the shape of y to (n_samples,), for example using ravel().\n",
            "  clf.fit(X_train, y_train) # обучаем\n"
          ]
        },
        {
          "output_type": "stream",
          "name": "stdout",
          "text": [
            "0.9997016134188709 0.7315436241610738 2 3 26\n"
          ]
        },
        {
          "output_type": "stream",
          "name": "stderr",
          "text": [
            "<ipython-input-49-218c55f7a3ea>:22: DataConversionWarning: A column-vector y was passed when a 1d array was expected. Please change the shape of y to (n_samples,), for example using ravel().\n",
            "  clf.fit(X_train, y_train) # обучаем\n"
          ]
        },
        {
          "output_type": "stream",
          "name": "stdout",
          "text": [
            "0.9996163601099768 0.7315436241610738 2 3 27\n"
          ]
        },
        {
          "output_type": "stream",
          "name": "stderr",
          "text": [
            "<ipython-input-49-218c55f7a3ea>:22: DataConversionWarning: A column-vector y was passed when a 1d array was expected. Please change the shape of y to (n_samples,), for example using ravel().\n",
            "  clf.fit(X_train, y_train) # обучаем\n"
          ]
        },
        {
          "output_type": "stream",
          "name": "stdout",
          "text": [
            "0.9997655534005414 0.6845637583892618 2 3 28\n"
          ]
        },
        {
          "output_type": "stream",
          "name": "stderr",
          "text": [
            "<ipython-input-49-218c55f7a3ea>:22: DataConversionWarning: A column-vector y was passed when a 1d array was expected. Please change the shape of y to (n_samples,), for example using ravel().\n",
            "  clf.fit(X_train, y_train) # обучаем\n"
          ]
        },
        {
          "output_type": "stream",
          "name": "stdout",
          "text": [
            "0.9997975233913766 0.6778523489932886 2 3 29\n"
          ]
        },
        {
          "output_type": "stream",
          "name": "stderr",
          "text": [
            "<ipython-input-49-218c55f7a3ea>:22: DataConversionWarning: A column-vector y was passed when a 1d array was expected. Please change the shape of y to (n_samples,), for example using ravel().\n",
            "  clf.fit(X_train, y_train) # обучаем\n"
          ]
        },
        {
          "output_type": "stream",
          "name": "stdout",
          "text": [
            "0.9996270167735886 0.7114093959731543 2 3 30\n"
          ]
        },
        {
          "output_type": "stream",
          "name": "stderr",
          "text": [
            "<ipython-input-49-218c55f7a3ea>:22: DataConversionWarning: A column-vector y was passed when a 1d array was expected. Please change the shape of y to (n_samples,), for example using ravel().\n",
            "  clf.fit(X_train, y_train) # обучаем\n"
          ]
        },
        {
          "output_type": "stream",
          "name": "stdout",
          "text": [
            "1.0 0.06040268456375841 2 4 1\n"
          ]
        },
        {
          "output_type": "stream",
          "name": "stderr",
          "text": [
            "<ipython-input-49-218c55f7a3ea>:22: DataConversionWarning: A column-vector y was passed when a 1d array was expected. Please change the shape of y to (n_samples,), for example using ravel().\n",
            "  clf.fit(X_train, y_train) # обучаем\n"
          ]
        },
        {
          "output_type": "stream",
          "name": "stdout",
          "text": [
            "1.0 0.0738255033557047 2 4 2\n"
          ]
        },
        {
          "output_type": "stream",
          "name": "stderr",
          "text": [
            "<ipython-input-49-218c55f7a3ea>:22: DataConversionWarning: A column-vector y was passed when a 1d array was expected. Please change the shape of y to (n_samples,), for example using ravel().\n",
            "  clf.fit(X_train, y_train) # обучаем\n"
          ]
        },
        {
          "output_type": "stream",
          "name": "stdout",
          "text": [
            "0.9997975233913766 0.6040268456375839 2 4 3\n"
          ]
        },
        {
          "output_type": "stream",
          "name": "stderr",
          "text": [
            "<ipython-input-49-218c55f7a3ea>:22: DataConversionWarning: A column-vector y was passed when a 1d array was expected. Please change the shape of y to (n_samples,), for example using ravel().\n",
            "  clf.fit(X_train, y_train) # обучаем\n"
          ]
        },
        {
          "output_type": "stream",
          "name": "stdout",
          "text": [
            "0.9998614633730472 0.5302013422818792 2 4 4\n"
          ]
        },
        {
          "output_type": "stream",
          "name": "stderr",
          "text": [
            "<ipython-input-49-218c55f7a3ea>:22: DataConversionWarning: A column-vector y was passed when a 1d array was expected. Please change the shape of y to (n_samples,), for example using ravel().\n",
            "  clf.fit(X_train, y_train) # обучаем\n"
          ]
        },
        {
          "output_type": "stream",
          "name": "stdout",
          "text": [
            "0.9998721200366589 0.5436241610738255 2 4 5\n"
          ]
        },
        {
          "output_type": "stream",
          "name": "stderr",
          "text": [
            "<ipython-input-49-218c55f7a3ea>:22: DataConversionWarning: A column-vector y was passed when a 1d array was expected. Please change the shape of y to (n_samples,), for example using ravel().\n",
            "  clf.fit(X_train, y_train) # обучаем\n"
          ]
        },
        {
          "output_type": "stream",
          "name": "stdout",
          "text": [
            "0.9998294933822119 0.651006711409396 2 4 6\n"
          ]
        },
        {
          "output_type": "stream",
          "name": "stderr",
          "text": [
            "<ipython-input-49-218c55f7a3ea>:22: DataConversionWarning: A column-vector y was passed when a 1d array was expected. Please change the shape of y to (n_samples,), for example using ravel().\n",
            "  clf.fit(X_train, y_train) # обучаем\n"
          ]
        },
        {
          "output_type": "stream",
          "name": "stdout",
          "text": [
            "0.9998294933822119 0.5704697986577181 2 4 7\n"
          ]
        },
        {
          "output_type": "stream",
          "name": "stderr",
          "text": [
            "<ipython-input-49-218c55f7a3ea>:22: DataConversionWarning: A column-vector y was passed when a 1d array was expected. Please change the shape of y to (n_samples,), for example using ravel().\n",
            "  clf.fit(X_train, y_train) # обучаем\n"
          ]
        },
        {
          "output_type": "stream",
          "name": "stdout",
          "text": [
            "0.9998827767002707 0.4899328859060402 2 4 8\n"
          ]
        },
        {
          "output_type": "stream",
          "name": "stderr",
          "text": [
            "<ipython-input-49-218c55f7a3ea>:22: DataConversionWarning: A column-vector y was passed when a 1d array was expected. Please change the shape of y to (n_samples,), for example using ravel().\n",
            "  clf.fit(X_train, y_train) # обучаем\n"
          ]
        },
        {
          "output_type": "stream",
          "name": "stdout",
          "text": [
            "0.9998508067094354 0.5302013422818792 2 4 9\n"
          ]
        },
        {
          "output_type": "stream",
          "name": "stderr",
          "text": [
            "<ipython-input-49-218c55f7a3ea>:22: DataConversionWarning: A column-vector y was passed when a 1d array was expected. Please change the shape of y to (n_samples,), for example using ravel().\n",
            "  clf.fit(X_train, y_train) # обучаем\n"
          ]
        },
        {
          "output_type": "stream",
          "name": "stdout",
          "text": [
            "0.9997655534005414 0.6577181208053691 2 4 10\n"
          ]
        },
        {
          "output_type": "stream",
          "name": "stderr",
          "text": [
            "<ipython-input-49-218c55f7a3ea>:22: DataConversionWarning: A column-vector y was passed when a 1d array was expected. Please change the shape of y to (n_samples,), for example using ravel().\n",
            "  clf.fit(X_train, y_train) # обучаем\n"
          ]
        },
        {
          "output_type": "stream",
          "name": "stdout",
          "text": [
            "0.999648330100812 0.697986577181208 2 4 11\n"
          ]
        },
        {
          "output_type": "stream",
          "name": "stderr",
          "text": [
            "<ipython-input-49-218c55f7a3ea>:22: DataConversionWarning: A column-vector y was passed when a 1d array was expected. Please change the shape of y to (n_samples,), for example using ravel().\n",
            "  clf.fit(X_train, y_train) # обучаем\n"
          ]
        },
        {
          "output_type": "stream",
          "name": "stdout",
          "text": [
            "0.9998294933822119 0.6040268456375839 2 4 12\n"
          ]
        },
        {
          "output_type": "stream",
          "name": "stderr",
          "text": [
            "<ipython-input-49-218c55f7a3ea>:22: DataConversionWarning: A column-vector y was passed when a 1d array was expected. Please change the shape of y to (n_samples,), for example using ravel().\n",
            "  clf.fit(X_train, y_train) # обучаем\n"
          ]
        },
        {
          "output_type": "stream",
          "name": "stdout",
          "text": [
            "0.9998294933822119 0.6375838926174497 2 4 13\n"
          ]
        },
        {
          "output_type": "stream",
          "name": "stderr",
          "text": [
            "<ipython-input-49-218c55f7a3ea>:22: DataConversionWarning: A column-vector y was passed when a 1d array was expected. Please change the shape of y to (n_samples,), for example using ravel().\n",
            "  clf.fit(X_train, y_train) # обучаем\n"
          ]
        },
        {
          "output_type": "stream",
          "name": "stdout",
          "text": [
            "0.9998401500458236 0.6375838926174497 2 4 14\n"
          ]
        },
        {
          "output_type": "stream",
          "name": "stderr",
          "text": [
            "<ipython-input-49-218c55f7a3ea>:22: DataConversionWarning: A column-vector y was passed when a 1d array was expected. Please change the shape of y to (n_samples,), for example using ravel().\n",
            "  clf.fit(X_train, y_train) # обучаем\n"
          ]
        },
        {
          "output_type": "stream",
          "name": "stdout",
          "text": [
            "0.999648330100812 0.7181208053691275 2 4 15\n"
          ]
        },
        {
          "output_type": "stream",
          "name": "stderr",
          "text": [
            "<ipython-input-49-218c55f7a3ea>:22: DataConversionWarning: A column-vector y was passed when a 1d array was expected. Please change the shape of y to (n_samples,), for example using ravel().\n",
            "  clf.fit(X_train, y_train) # обучаем\n"
          ]
        },
        {
          "output_type": "stream",
          "name": "stdout",
          "text": [
            "0.9997975233913766 0.6174496644295302 2 4 16\n"
          ]
        },
        {
          "output_type": "stream",
          "name": "stderr",
          "text": [
            "<ipython-input-49-218c55f7a3ea>:22: DataConversionWarning: A column-vector y was passed when a 1d array was expected. Please change the shape of y to (n_samples,), for example using ravel().\n",
            "  clf.fit(X_train, y_train) # обучаем\n"
          ]
        },
        {
          "output_type": "stream",
          "name": "stdout",
          "text": [
            "0.9998294933822119 0.6241610738255033 2 4 17\n"
          ]
        },
        {
          "output_type": "stream",
          "name": "stderr",
          "text": [
            "<ipython-input-49-218c55f7a3ea>:22: DataConversionWarning: A column-vector y was passed when a 1d array was expected. Please change the shape of y to (n_samples,), for example using ravel().\n",
            "  clf.fit(X_train, y_train) # обучаем\n"
          ]
        },
        {
          "output_type": "stream",
          "name": "stdout",
          "text": [
            "0.9998081800549884 0.6577181208053691 2 4 18\n"
          ]
        },
        {
          "output_type": "stream",
          "name": "stderr",
          "text": [
            "<ipython-input-49-218c55f7a3ea>:22: DataConversionWarning: A column-vector y was passed when a 1d array was expected. Please change the shape of y to (n_samples,), for example using ravel().\n",
            "  clf.fit(X_train, y_train) # обучаем\n"
          ]
        },
        {
          "output_type": "stream",
          "name": "stdout",
          "text": [
            "0.999648330100812 0.7248322147651007 2 4 19\n"
          ]
        },
        {
          "output_type": "stream",
          "name": "stderr",
          "text": [
            "<ipython-input-49-218c55f7a3ea>:22: DataConversionWarning: A column-vector y was passed when a 1d array was expected. Please change the shape of y to (n_samples,), for example using ravel().\n",
            "  clf.fit(X_train, y_train) # обучаем\n"
          ]
        },
        {
          "output_type": "stream",
          "name": "stdout",
          "text": [
            "0.999648330100812 0.7248322147651007 2 4 20\n"
          ]
        },
        {
          "output_type": "stream",
          "name": "stderr",
          "text": [
            "<ipython-input-49-218c55f7a3ea>:22: DataConversionWarning: A column-vector y was passed when a 1d array was expected. Please change the shape of y to (n_samples,), for example using ravel().\n",
            "  clf.fit(X_train, y_train) # обучаем\n"
          ]
        },
        {
          "output_type": "stream",
          "name": "stdout",
          "text": [
            "0.9998294933822119 0.6711409395973154 2 4 21\n"
          ]
        },
        {
          "output_type": "stream",
          "name": "stderr",
          "text": [
            "<ipython-input-49-218c55f7a3ea>:22: DataConversionWarning: A column-vector y was passed when a 1d array was expected. Please change the shape of y to (n_samples,), for example using ravel().\n",
            "  clf.fit(X_train, y_train) # обучаем\n"
          ]
        },
        {
          "output_type": "stream",
          "name": "stdout",
          "text": [
            "0.9996589867644238 0.7181208053691275 2 4 22\n"
          ]
        },
        {
          "output_type": "stream",
          "name": "stderr",
          "text": [
            "<ipython-input-49-218c55f7a3ea>:22: DataConversionWarning: A column-vector y was passed when a 1d array was expected. Please change the shape of y to (n_samples,), for example using ravel().\n",
            "  clf.fit(X_train, y_train) # обучаем\n"
          ]
        },
        {
          "output_type": "stream",
          "name": "stdout",
          "text": [
            "0.9996376734372003 0.7315436241610738 2 4 23\n"
          ]
        },
        {
          "output_type": "stream",
          "name": "stderr",
          "text": [
            "<ipython-input-49-218c55f7a3ea>:22: DataConversionWarning: A column-vector y was passed when a 1d array was expected. Please change the shape of y to (n_samples,), for example using ravel().\n",
            "  clf.fit(X_train, y_train) # обучаем\n"
          ]
        },
        {
          "output_type": "stream",
          "name": "stdout",
          "text": [
            "0.999648330100812 0.7181208053691275 2 4 24\n"
          ]
        },
        {
          "output_type": "stream",
          "name": "stderr",
          "text": [
            "<ipython-input-49-218c55f7a3ea>:22: DataConversionWarning: A column-vector y was passed when a 1d array was expected. Please change the shape of y to (n_samples,), for example using ravel().\n",
            "  clf.fit(X_train, y_train) # обучаем\n"
          ]
        },
        {
          "output_type": "stream",
          "name": "stdout",
          "text": [
            "0.9996376734372003 0.7046979865771812 2 4 25\n"
          ]
        },
        {
          "output_type": "stream",
          "name": "stderr",
          "text": [
            "<ipython-input-49-218c55f7a3ea>:22: DataConversionWarning: A column-vector y was passed when a 1d array was expected. Please change the shape of y to (n_samples,), for example using ravel().\n",
            "  clf.fit(X_train, y_train) # обучаем\n"
          ]
        },
        {
          "output_type": "stream",
          "name": "stdout",
          "text": [
            "0.9996270167735886 0.7114093959731543 2 4 26\n"
          ]
        },
        {
          "output_type": "stream",
          "name": "stderr",
          "text": [
            "<ipython-input-49-218c55f7a3ea>:22: DataConversionWarning: A column-vector y was passed when a 1d array was expected. Please change the shape of y to (n_samples,), for example using ravel().\n",
            "  clf.fit(X_train, y_train) # обучаем\n"
          ]
        },
        {
          "output_type": "stream",
          "name": "stdout",
          "text": [
            "0.9996376734372003 0.7315436241610738 2 4 27\n"
          ]
        },
        {
          "output_type": "stream",
          "name": "stderr",
          "text": [
            "<ipython-input-49-218c55f7a3ea>:22: DataConversionWarning: A column-vector y was passed when a 1d array was expected. Please change the shape of y to (n_samples,), for example using ravel().\n",
            "  clf.fit(X_train, y_train) # обучаем\n"
          ]
        },
        {
          "output_type": "stream",
          "name": "stdout",
          "text": [
            "0.999648330100812 0.738255033557047 2 4 28\n"
          ]
        },
        {
          "output_type": "stream",
          "name": "stderr",
          "text": [
            "<ipython-input-49-218c55f7a3ea>:22: DataConversionWarning: A column-vector y was passed when a 1d array was expected. Please change the shape of y to (n_samples,), for example using ravel().\n",
            "  clf.fit(X_train, y_train) # обучаем\n"
          ]
        },
        {
          "output_type": "stream",
          "name": "stdout",
          "text": [
            "0.9996589867644238 0.697986577181208 2 4 29\n"
          ]
        },
        {
          "output_type": "stream",
          "name": "stderr",
          "text": [
            "<ipython-input-49-218c55f7a3ea>:22: DataConversionWarning: A column-vector y was passed when a 1d array was expected. Please change the shape of y to (n_samples,), for example using ravel().\n",
            "  clf.fit(X_train, y_train) # обучаем\n"
          ]
        },
        {
          "output_type": "stream",
          "name": "stdout",
          "text": [
            "0.9996163601099768 0.7315436241610738 2 4 30\n"
          ]
        },
        {
          "output_type": "stream",
          "name": "stderr",
          "text": [
            "<ipython-input-49-218c55f7a3ea>:22: DataConversionWarning: A column-vector y was passed when a 1d array was expected. Please change the shape of y to (n_samples,), for example using ravel().\n",
            "  clf.fit(X_train, y_train) # обучаем\n"
          ]
        },
        {
          "output_type": "stream",
          "name": "stdout",
          "text": [
            "0.9999147466911059 0.30201342281879195 2 5 1\n"
          ]
        },
        {
          "output_type": "stream",
          "name": "stderr",
          "text": [
            "<ipython-input-49-218c55f7a3ea>:22: DataConversionWarning: A column-vector y was passed when a 1d array was expected. Please change the shape of y to (n_samples,), for example using ravel().\n",
            "  clf.fit(X_train, y_train) # обучаем\n"
          ]
        },
        {
          "output_type": "stream",
          "name": "stdout",
          "text": [
            "1.0 0.09395973154362414 2 5 2\n"
          ]
        },
        {
          "output_type": "stream",
          "name": "stderr",
          "text": [
            "<ipython-input-49-218c55f7a3ea>:22: DataConversionWarning: A column-vector y was passed when a 1d array was expected. Please change the shape of y to (n_samples,), for example using ravel().\n",
            "  clf.fit(X_train, y_train) # обучаем\n"
          ]
        },
        {
          "output_type": "stream",
          "name": "stdout",
          "text": [
            "0.9998614633730472 0.5100671140939597 2 5 3\n"
          ]
        },
        {
          "output_type": "stream",
          "name": "stderr",
          "text": [
            "<ipython-input-49-218c55f7a3ea>:22: DataConversionWarning: A column-vector y was passed when a 1d array was expected. Please change the shape of y to (n_samples,), for example using ravel().\n",
            "  clf.fit(X_train, y_train) # обучаем\n"
          ]
        },
        {
          "output_type": "stream",
          "name": "stdout",
          "text": [
            "0.9998614633730472 0.5771812080536913 2 5 4\n"
          ]
        },
        {
          "output_type": "stream",
          "name": "stderr",
          "text": [
            "<ipython-input-49-218c55f7a3ea>:22: DataConversionWarning: A column-vector y was passed when a 1d array was expected. Please change the shape of y to (n_samples,), for example using ravel().\n",
            "  clf.fit(X_train, y_train) # обучаем\n"
          ]
        },
        {
          "output_type": "stream",
          "name": "stdout",
          "text": [
            "0.9998508067094354 0.5906040268456376 2 5 5\n"
          ]
        },
        {
          "output_type": "stream",
          "name": "stderr",
          "text": [
            "<ipython-input-49-218c55f7a3ea>:22: DataConversionWarning: A column-vector y was passed when a 1d array was expected. Please change the shape of y to (n_samples,), for example using ravel().\n",
            "  clf.fit(X_train, y_train) # обучаем\n"
          ]
        },
        {
          "output_type": "stream",
          "name": "stdout",
          "text": [
            "0.9998294933822119 0.5704697986577181 2 5 6\n"
          ]
        },
        {
          "output_type": "stream",
          "name": "stderr",
          "text": [
            "<ipython-input-49-218c55f7a3ea>:22: DataConversionWarning: A column-vector y was passed when a 1d array was expected. Please change the shape of y to (n_samples,), for example using ravel().\n",
            "  clf.fit(X_train, y_train) # обучаем\n"
          ]
        },
        {
          "output_type": "stream",
          "name": "stdout",
          "text": [
            "0.9997442400733179 0.6442953020134228 2 5 7\n"
          ]
        },
        {
          "output_type": "stream",
          "name": "stderr",
          "text": [
            "<ipython-input-49-218c55f7a3ea>:22: DataConversionWarning: A column-vector y was passed when a 1d array was expected. Please change the shape of y to (n_samples,), for example using ravel().\n",
            "  clf.fit(X_train, y_train) # обучаем\n"
          ]
        },
        {
          "output_type": "stream",
          "name": "stdout",
          "text": [
            "0.9998188367186002 0.5771812080536913 2 5 8\n"
          ]
        },
        {
          "output_type": "stream",
          "name": "stderr",
          "text": [
            "<ipython-input-49-218c55f7a3ea>:22: DataConversionWarning: A column-vector y was passed when a 1d array was expected. Please change the shape of y to (n_samples,), for example using ravel().\n",
            "  clf.fit(X_train, y_train) # обучаем\n"
          ]
        },
        {
          "output_type": "stream",
          "name": "stdout",
          "text": [
            "0.9998401500458236 0.6912751677852349 2 5 9\n"
          ]
        },
        {
          "output_type": "stream",
          "name": "stderr",
          "text": [
            "<ipython-input-49-218c55f7a3ea>:22: DataConversionWarning: A column-vector y was passed when a 1d array was expected. Please change the shape of y to (n_samples,), for example using ravel().\n",
            "  clf.fit(X_train, y_train) # обучаем\n"
          ]
        },
        {
          "output_type": "stream",
          "name": "stdout",
          "text": [
            "0.9998401500458236 0.610738255033557 2 5 10\n"
          ]
        },
        {
          "output_type": "stream",
          "name": "stderr",
          "text": [
            "<ipython-input-49-218c55f7a3ea>:22: DataConversionWarning: A column-vector y was passed when a 1d array was expected. Please change the shape of y to (n_samples,), for example using ravel().\n",
            "  clf.fit(X_train, y_train) # обучаем\n"
          ]
        },
        {
          "output_type": "stream",
          "name": "stdout",
          "text": [
            "0.9998508067094354 0.6241610738255033 2 5 11\n"
          ]
        },
        {
          "output_type": "stream",
          "name": "stderr",
          "text": [
            "<ipython-input-49-218c55f7a3ea>:22: DataConversionWarning: A column-vector y was passed when a 1d array was expected. Please change the shape of y to (n_samples,), for example using ravel().\n",
            "  clf.fit(X_train, y_train) # обучаем\n"
          ]
        },
        {
          "output_type": "stream",
          "name": "stdout",
          "text": [
            "0.9998188367186002 0.6308724832214765 2 5 12\n"
          ]
        },
        {
          "output_type": "stream",
          "name": "stderr",
          "text": [
            "<ipython-input-49-218c55f7a3ea>:22: DataConversionWarning: A column-vector y was passed when a 1d array was expected. Please change the shape of y to (n_samples,), for example using ravel().\n",
            "  clf.fit(X_train, y_train) # обучаем\n"
          ]
        },
        {
          "output_type": "stream",
          "name": "stdout",
          "text": [
            "0.999648330100812 0.7248322147651007 2 5 13\n"
          ]
        },
        {
          "output_type": "stream",
          "name": "stderr",
          "text": [
            "<ipython-input-49-218c55f7a3ea>:22: DataConversionWarning: A column-vector y was passed when a 1d array was expected. Please change the shape of y to (n_samples,), for example using ravel().\n",
            "  clf.fit(X_train, y_train) # обучаем\n"
          ]
        },
        {
          "output_type": "stream",
          "name": "stdout",
          "text": [
            "0.9996909567552591 0.7248322147651007 2 5 14\n"
          ]
        },
        {
          "output_type": "stream",
          "name": "stderr",
          "text": [
            "<ipython-input-49-218c55f7a3ea>:22: DataConversionWarning: A column-vector y was passed when a 1d array was expected. Please change the shape of y to (n_samples,), for example using ravel().\n",
            "  clf.fit(X_train, y_train) # обучаем\n"
          ]
        },
        {
          "output_type": "stream",
          "name": "stdout",
          "text": [
            "0.9997016134188709 0.7114093959731543 2 5 15\n"
          ]
        },
        {
          "output_type": "stream",
          "name": "stderr",
          "text": [
            "<ipython-input-49-218c55f7a3ea>:22: DataConversionWarning: A column-vector y was passed when a 1d array was expected. Please change the shape of y to (n_samples,), for example using ravel().\n",
            "  clf.fit(X_train, y_train) # обучаем\n"
          ]
        },
        {
          "output_type": "stream",
          "name": "stdout",
          "text": [
            "0.9997229267460943 0.7046979865771812 2 5 16\n"
          ]
        },
        {
          "output_type": "stream",
          "name": "stderr",
          "text": [
            "<ipython-input-49-218c55f7a3ea>:22: DataConversionWarning: A column-vector y was passed when a 1d array was expected. Please change the shape of y to (n_samples,), for example using ravel().\n",
            "  clf.fit(X_train, y_train) # обучаем\n"
          ]
        },
        {
          "output_type": "stream",
          "name": "stdout",
          "text": [
            "0.9996376734372003 0.7181208053691275 2 5 17\n"
          ]
        },
        {
          "output_type": "stream",
          "name": "stderr",
          "text": [
            "<ipython-input-49-218c55f7a3ea>:22: DataConversionWarning: A column-vector y was passed when a 1d array was expected. Please change the shape of y to (n_samples,), for example using ravel().\n",
            "  clf.fit(X_train, y_train) # обучаем\n"
          ]
        },
        {
          "output_type": "stream",
          "name": "stdout",
          "text": [
            "0.9997442400733179 0.7114093959731543 2 5 18\n"
          ]
        },
        {
          "output_type": "stream",
          "name": "stderr",
          "text": [
            "<ipython-input-49-218c55f7a3ea>:22: DataConversionWarning: A column-vector y was passed when a 1d array was expected. Please change the shape of y to (n_samples,), for example using ravel().\n",
            "  clf.fit(X_train, y_train) # обучаем\n"
          ]
        },
        {
          "output_type": "stream",
          "name": "stdout",
          "text": [
            "0.9996696434280355 0.7181208053691275 2 5 19\n"
          ]
        },
        {
          "output_type": "stream",
          "name": "stderr",
          "text": [
            "<ipython-input-49-218c55f7a3ea>:22: DataConversionWarning: A column-vector y was passed when a 1d array was expected. Please change the shape of y to (n_samples,), for example using ravel().\n",
            "  clf.fit(X_train, y_train) # обучаем\n"
          ]
        },
        {
          "output_type": "stream",
          "name": "stdout",
          "text": [
            "0.999648330100812 0.7046979865771812 2 5 20\n"
          ]
        },
        {
          "output_type": "stream",
          "name": "stderr",
          "text": [
            "<ipython-input-49-218c55f7a3ea>:22: DataConversionWarning: A column-vector y was passed when a 1d array was expected. Please change the shape of y to (n_samples,), for example using ravel().\n",
            "  clf.fit(X_train, y_train) # обучаем\n"
          ]
        },
        {
          "output_type": "stream",
          "name": "stdout",
          "text": [
            "0.9996376734372003 0.7315436241610738 2 5 21\n"
          ]
        },
        {
          "output_type": "stream",
          "name": "stderr",
          "text": [
            "<ipython-input-49-218c55f7a3ea>:22: DataConversionWarning: A column-vector y was passed when a 1d array was expected. Please change the shape of y to (n_samples,), for example using ravel().\n",
            "  clf.fit(X_train, y_train) # обучаем\n"
          ]
        },
        {
          "output_type": "stream",
          "name": "stdout",
          "text": [
            "0.9996696434280355 0.7181208053691275 2 5 22\n"
          ]
        },
        {
          "output_type": "stream",
          "name": "stderr",
          "text": [
            "<ipython-input-49-218c55f7a3ea>:22: DataConversionWarning: A column-vector y was passed when a 1d array was expected. Please change the shape of y to (n_samples,), for example using ravel().\n",
            "  clf.fit(X_train, y_train) # обучаем\n"
          ]
        },
        {
          "output_type": "stream",
          "name": "stdout",
          "text": [
            "0.9997016134188709 0.7181208053691275 2 5 23\n"
          ]
        },
        {
          "output_type": "stream",
          "name": "stderr",
          "text": [
            "<ipython-input-49-218c55f7a3ea>:22: DataConversionWarning: A column-vector y was passed when a 1d array was expected. Please change the shape of y to (n_samples,), for example using ravel().\n",
            "  clf.fit(X_train, y_train) # обучаем\n"
          ]
        },
        {
          "output_type": "stream",
          "name": "stdout",
          "text": [
            "0.9996376734372003 0.7046979865771812 2 5 24\n"
          ]
        },
        {
          "output_type": "stream",
          "name": "stderr",
          "text": [
            "<ipython-input-49-218c55f7a3ea>:22: DataConversionWarning: A column-vector y was passed when a 1d array was expected. Please change the shape of y to (n_samples,), for example using ravel().\n",
            "  clf.fit(X_train, y_train) # обучаем\n"
          ]
        },
        {
          "output_type": "stream",
          "name": "stdout",
          "text": [
            "0.9996376734372003 0.7114093959731543 2 5 25\n"
          ]
        },
        {
          "output_type": "stream",
          "name": "stderr",
          "text": [
            "<ipython-input-49-218c55f7a3ea>:22: DataConversionWarning: A column-vector y was passed when a 1d array was expected. Please change the shape of y to (n_samples,), for example using ravel().\n",
            "  clf.fit(X_train, y_train) # обучаем\n"
          ]
        },
        {
          "output_type": "stream",
          "name": "stdout",
          "text": [
            "0.999648330100812 0.738255033557047 2 5 26\n"
          ]
        },
        {
          "output_type": "stream",
          "name": "stderr",
          "text": [
            "<ipython-input-49-218c55f7a3ea>:22: DataConversionWarning: A column-vector y was passed when a 1d array was expected. Please change the shape of y to (n_samples,), for example using ravel().\n",
            "  clf.fit(X_train, y_train) # обучаем\n"
          ]
        },
        {
          "output_type": "stream",
          "name": "stdout",
          "text": [
            "0.999648330100812 0.7248322147651007 2 5 27\n"
          ]
        },
        {
          "output_type": "stream",
          "name": "stderr",
          "text": [
            "<ipython-input-49-218c55f7a3ea>:22: DataConversionWarning: A column-vector y was passed when a 1d array was expected. Please change the shape of y to (n_samples,), for example using ravel().\n",
            "  clf.fit(X_train, y_train) # обучаем\n"
          ]
        },
        {
          "output_type": "stream",
          "name": "stdout",
          "text": [
            "0.9996163601099768 0.7181208053691275 2 5 28\n"
          ]
        },
        {
          "output_type": "stream",
          "name": "stderr",
          "text": [
            "<ipython-input-49-218c55f7a3ea>:22: DataConversionWarning: A column-vector y was passed when a 1d array was expected. Please change the shape of y to (n_samples,), for example using ravel().\n",
            "  clf.fit(X_train, y_train) # обучаем\n"
          ]
        },
        {
          "output_type": "stream",
          "name": "stdout",
          "text": [
            "0.9996589867644238 0.7114093959731543 2 5 29\n"
          ]
        },
        {
          "output_type": "stream",
          "name": "stderr",
          "text": [
            "<ipython-input-49-218c55f7a3ea>:22: DataConversionWarning: A column-vector y was passed when a 1d array was expected. Please change the shape of y to (n_samples,), for example using ravel().\n",
            "  clf.fit(X_train, y_train) # обучаем\n"
          ]
        },
        {
          "output_type": "stream",
          "name": "stdout",
          "text": [
            "0.999648330100812 0.738255033557047 2 5 30\n",
            "0.9999040900274941 0.16778523489932884 3 1 1\n"
          ]
        },
        {
          "output_type": "stream",
          "name": "stderr",
          "text": [
            "<ipython-input-49-218c55f7a3ea>:22: DataConversionWarning: A column-vector y was passed when a 1d array was expected. Please change the shape of y to (n_samples,), for example using ravel().\n",
            "  clf.fit(X_train, y_train) # обучаем\n",
            "<ipython-input-49-218c55f7a3ea>:22: DataConversionWarning: A column-vector y was passed when a 1d array was expected. Please change the shape of y to (n_samples,), for example using ravel().\n",
            "  clf.fit(X_train, y_train) # обучаем\n"
          ]
        },
        {
          "output_type": "stream",
          "name": "stdout",
          "text": [
            "0.9998081800549884 0.6040268456375839 3 1 2\n"
          ]
        },
        {
          "output_type": "stream",
          "name": "stderr",
          "text": [
            "<ipython-input-49-218c55f7a3ea>:22: DataConversionWarning: A column-vector y was passed when a 1d array was expected. Please change the shape of y to (n_samples,), for example using ravel().\n",
            "  clf.fit(X_train, y_train) # обучаем\n"
          ]
        },
        {
          "output_type": "stream",
          "name": "stdout",
          "text": [
            "0.9998508067094354 0.6040268456375839 3 1 3\n"
          ]
        },
        {
          "output_type": "stream",
          "name": "stderr",
          "text": [
            "<ipython-input-49-218c55f7a3ea>:22: DataConversionWarning: A column-vector y was passed when a 1d array was expected. Please change the shape of y to (n_samples,), for example using ravel().\n",
            "  clf.fit(X_train, y_train) # обучаем\n"
          ]
        },
        {
          "output_type": "stream",
          "name": "stdout",
          "text": [
            "0.9997122700824825 0.5704697986577181 3 1 4\n"
          ]
        },
        {
          "output_type": "stream",
          "name": "stderr",
          "text": [
            "<ipython-input-49-218c55f7a3ea>:22: DataConversionWarning: A column-vector y was passed when a 1d array was expected. Please change the shape of y to (n_samples,), for example using ravel().\n",
            "  clf.fit(X_train, y_train) # обучаем\n"
          ]
        },
        {
          "output_type": "stream",
          "name": "stdout",
          "text": [
            "0.9997762100641531 0.5704697986577181 3 1 5\n"
          ]
        },
        {
          "output_type": "stream",
          "name": "stderr",
          "text": [
            "<ipython-input-49-218c55f7a3ea>:22: DataConversionWarning: A column-vector y was passed when a 1d array was expected. Please change the shape of y to (n_samples,), for example using ravel().\n",
            "  clf.fit(X_train, y_train) # обучаем\n"
          ]
        },
        {
          "output_type": "stream",
          "name": "stdout",
          "text": [
            "0.9996376734372003 0.7248322147651007 3 1 6\n"
          ]
        },
        {
          "output_type": "stream",
          "name": "stderr",
          "text": [
            "<ipython-input-49-218c55f7a3ea>:22: DataConversionWarning: A column-vector y was passed when a 1d array was expected. Please change the shape of y to (n_samples,), for example using ravel().\n",
            "  clf.fit(X_train, y_train) # обучаем\n"
          ]
        },
        {
          "output_type": "stream",
          "name": "stdout",
          "text": [
            "0.9996589867644238 0.6040268456375839 3 1 7\n"
          ]
        },
        {
          "output_type": "stream",
          "name": "stderr",
          "text": [
            "<ipython-input-49-218c55f7a3ea>:22: DataConversionWarning: A column-vector y was passed when a 1d array was expected. Please change the shape of y to (n_samples,), for example using ravel().\n",
            "  clf.fit(X_train, y_train) # обучаем\n"
          ]
        },
        {
          "output_type": "stream",
          "name": "stdout",
          "text": [
            "0.9997548967369296 0.6845637583892618 3 1 8\n"
          ]
        },
        {
          "output_type": "stream",
          "name": "stderr",
          "text": [
            "<ipython-input-49-218c55f7a3ea>:22: DataConversionWarning: A column-vector y was passed when a 1d array was expected. Please change the shape of y to (n_samples,), for example using ravel().\n",
            "  clf.fit(X_train, y_train) # обучаем\n"
          ]
        },
        {
          "output_type": "stream",
          "name": "stdout",
          "text": [
            "0.9998294933822119 0.6845637583892618 3 1 9\n"
          ]
        },
        {
          "output_type": "stream",
          "name": "stderr",
          "text": [
            "<ipython-input-49-218c55f7a3ea>:22: DataConversionWarning: A column-vector y was passed when a 1d array was expected. Please change the shape of y to (n_samples,), for example using ravel().\n",
            "  clf.fit(X_train, y_train) # обучаем\n"
          ]
        },
        {
          "output_type": "stream",
          "name": "stdout",
          "text": [
            "0.9997655534005414 0.6644295302013423 3 1 10\n"
          ]
        },
        {
          "output_type": "stream",
          "name": "stderr",
          "text": [
            "<ipython-input-49-218c55f7a3ea>:22: DataConversionWarning: A column-vector y was passed when a 1d array was expected. Please change the shape of y to (n_samples,), for example using ravel().\n",
            "  clf.fit(X_train, y_train) # обучаем\n"
          ]
        },
        {
          "output_type": "stream",
          "name": "stdout",
          "text": [
            "0.9997975233913766 0.610738255033557 3 1 11\n"
          ]
        },
        {
          "output_type": "stream",
          "name": "stderr",
          "text": [
            "<ipython-input-49-218c55f7a3ea>:22: DataConversionWarning: A column-vector y was passed when a 1d array was expected. Please change the shape of y to (n_samples,), for example using ravel().\n",
            "  clf.fit(X_train, y_train) # обучаем\n"
          ]
        },
        {
          "output_type": "stream",
          "name": "stdout",
          "text": [
            "0.9997442400733179 0.7181208053691275 3 1 12\n"
          ]
        },
        {
          "output_type": "stream",
          "name": "stderr",
          "text": [
            "<ipython-input-49-218c55f7a3ea>:22: DataConversionWarning: A column-vector y was passed when a 1d array was expected. Please change the shape of y to (n_samples,), for example using ravel().\n",
            "  clf.fit(X_train, y_train) # обучаем\n"
          ]
        },
        {
          "output_type": "stream",
          "name": "stdout",
          "text": [
            "0.9996270167735886 0.697986577181208 3 1 13\n"
          ]
        },
        {
          "output_type": "stream",
          "name": "stderr",
          "text": [
            "<ipython-input-49-218c55f7a3ea>:22: DataConversionWarning: A column-vector y was passed when a 1d array was expected. Please change the shape of y to (n_samples,), for example using ravel().\n",
            "  clf.fit(X_train, y_train) # обучаем\n"
          ]
        },
        {
          "output_type": "stream",
          "name": "stdout",
          "text": [
            "0.9997762100641531 0.697986577181208 3 1 14\n"
          ]
        },
        {
          "output_type": "stream",
          "name": "stderr",
          "text": [
            "<ipython-input-49-218c55f7a3ea>:22: DataConversionWarning: A column-vector y was passed when a 1d array was expected. Please change the shape of y to (n_samples,), for example using ravel().\n",
            "  clf.fit(X_train, y_train) # обучаем\n"
          ]
        },
        {
          "output_type": "stream",
          "name": "stdout",
          "text": [
            "0.9996376734372003 0.697986577181208 3 1 15\n"
          ]
        },
        {
          "output_type": "stream",
          "name": "stderr",
          "text": [
            "<ipython-input-49-218c55f7a3ea>:22: DataConversionWarning: A column-vector y was passed when a 1d array was expected. Please change the shape of y to (n_samples,), for example using ravel().\n",
            "  clf.fit(X_train, y_train) # обучаем\n"
          ]
        },
        {
          "output_type": "stream",
          "name": "stdout",
          "text": [
            "0.9998401500458236 0.6442953020134228 3 1 16\n"
          ]
        },
        {
          "output_type": "stream",
          "name": "stderr",
          "text": [
            "<ipython-input-49-218c55f7a3ea>:22: DataConversionWarning: A column-vector y was passed when a 1d array was expected. Please change the shape of y to (n_samples,), for example using ravel().\n",
            "  clf.fit(X_train, y_train) # обучаем\n"
          ]
        },
        {
          "output_type": "stream",
          "name": "stdout",
          "text": [
            "0.9997016134188709 0.6241610738255033 3 1 17\n"
          ]
        },
        {
          "output_type": "stream",
          "name": "stderr",
          "text": [
            "<ipython-input-49-218c55f7a3ea>:22: DataConversionWarning: A column-vector y was passed when a 1d array was expected. Please change the shape of y to (n_samples,), for example using ravel().\n",
            "  clf.fit(X_train, y_train) # обучаем\n"
          ]
        },
        {
          "output_type": "stream",
          "name": "stdout",
          "text": [
            "0.9997868667277648 0.6778523489932886 3 1 18\n"
          ]
        },
        {
          "output_type": "stream",
          "name": "stderr",
          "text": [
            "<ipython-input-49-218c55f7a3ea>:22: DataConversionWarning: A column-vector y was passed when a 1d array was expected. Please change the shape of y to (n_samples,), for example using ravel().\n",
            "  clf.fit(X_train, y_train) # обучаем\n"
          ]
        },
        {
          "output_type": "stream",
          "name": "stdout",
          "text": [
            "0.9997442400733179 0.6778523489932886 3 1 19\n"
          ]
        },
        {
          "output_type": "stream",
          "name": "stderr",
          "text": [
            "<ipython-input-49-218c55f7a3ea>:22: DataConversionWarning: A column-vector y was passed when a 1d array was expected. Please change the shape of y to (n_samples,), for example using ravel().\n",
            "  clf.fit(X_train, y_train) # обучаем\n"
          ]
        },
        {
          "output_type": "stream",
          "name": "stdout",
          "text": [
            "0.9997868667277648 0.6442953020134228 3 1 20\n"
          ]
        },
        {
          "output_type": "stream",
          "name": "stderr",
          "text": [
            "<ipython-input-49-218c55f7a3ea>:22: DataConversionWarning: A column-vector y was passed when a 1d array was expected. Please change the shape of y to (n_samples,), for example using ravel().\n",
            "  clf.fit(X_train, y_train) # обучаем\n"
          ]
        },
        {
          "output_type": "stream",
          "name": "stdout",
          "text": [
            "0.9997122700824825 0.738255033557047 3 1 21\n"
          ]
        },
        {
          "output_type": "stream",
          "name": "stderr",
          "text": [
            "<ipython-input-49-218c55f7a3ea>:22: DataConversionWarning: A column-vector y was passed when a 1d array was expected. Please change the shape of y to (n_samples,), for example using ravel().\n",
            "  clf.fit(X_train, y_train) # обучаем\n"
          ]
        },
        {
          "output_type": "stream",
          "name": "stdout",
          "text": [
            "0.9995950467827532 0.7651006711409396 3 1 22\n"
          ]
        },
        {
          "output_type": "stream",
          "name": "stderr",
          "text": [
            "<ipython-input-49-218c55f7a3ea>:22: DataConversionWarning: A column-vector y was passed when a 1d array was expected. Please change the shape of y to (n_samples,), for example using ravel().\n",
            "  clf.fit(X_train, y_train) # обучаем\n"
          ]
        },
        {
          "output_type": "stream",
          "name": "stdout",
          "text": [
            "0.9995843901191415 0.7315436241610738 3 1 23\n"
          ]
        },
        {
          "output_type": "stream",
          "name": "stderr",
          "text": [
            "<ipython-input-49-218c55f7a3ea>:22: DataConversionWarning: A column-vector y was passed when a 1d array was expected. Please change the shape of y to (n_samples,), for example using ravel().\n",
            "  clf.fit(X_train, y_train) # обучаем\n"
          ]
        },
        {
          "output_type": "stream",
          "name": "stdout",
          "text": [
            "0.9998188367186002 0.697986577181208 3 1 24\n"
          ]
        },
        {
          "output_type": "stream",
          "name": "stderr",
          "text": [
            "<ipython-input-49-218c55f7a3ea>:22: DataConversionWarning: A column-vector y was passed when a 1d array was expected. Please change the shape of y to (n_samples,), for example using ravel().\n",
            "  clf.fit(X_train, y_train) # обучаем\n"
          ]
        },
        {
          "output_type": "stream",
          "name": "stdout",
          "text": [
            "0.9997868667277648 0.6845637583892618 3 1 25\n"
          ]
        },
        {
          "output_type": "stream",
          "name": "stderr",
          "text": [
            "<ipython-input-49-218c55f7a3ea>:22: DataConversionWarning: A column-vector y was passed when a 1d array was expected. Please change the shape of y to (n_samples,), for example using ravel().\n",
            "  clf.fit(X_train, y_train) # обучаем\n"
          ]
        },
        {
          "output_type": "stream",
          "name": "stdout",
          "text": [
            "0.9997655534005414 0.6845637583892618 3 1 26\n"
          ]
        },
        {
          "output_type": "stream",
          "name": "stderr",
          "text": [
            "<ipython-input-49-218c55f7a3ea>:22: DataConversionWarning: A column-vector y was passed when a 1d array was expected. Please change the shape of y to (n_samples,), for example using ravel().\n",
            "  clf.fit(X_train, y_train) # обучаем\n"
          ]
        },
        {
          "output_type": "stream",
          "name": "stdout",
          "text": [
            "0.9996909567552591 0.7449664429530201 3 1 27\n"
          ]
        },
        {
          "output_type": "stream",
          "name": "stderr",
          "text": [
            "<ipython-input-49-218c55f7a3ea>:22: DataConversionWarning: A column-vector y was passed when a 1d array was expected. Please change the shape of y to (n_samples,), for example using ravel().\n",
            "  clf.fit(X_train, y_train) # обучаем\n"
          ]
        },
        {
          "output_type": "stream",
          "name": "stdout",
          "text": [
            "0.9997229267460943 0.7449664429530201 3 1 28\n"
          ]
        },
        {
          "output_type": "stream",
          "name": "stderr",
          "text": [
            "<ipython-input-49-218c55f7a3ea>:22: DataConversionWarning: A column-vector y was passed when a 1d array was expected. Please change the shape of y to (n_samples,), for example using ravel().\n",
            "  clf.fit(X_train, y_train) # обучаем\n"
          ]
        },
        {
          "output_type": "stream",
          "name": "stdout",
          "text": [
            "0.9997229267460943 0.6778523489932886 3 1 29\n"
          ]
        },
        {
          "output_type": "stream",
          "name": "stderr",
          "text": [
            "<ipython-input-49-218c55f7a3ea>:22: DataConversionWarning: A column-vector y was passed when a 1d array was expected. Please change the shape of y to (n_samples,), for example using ravel().\n",
            "  clf.fit(X_train, y_train) # обучаем\n"
          ]
        },
        {
          "output_type": "stream",
          "name": "stdout",
          "text": [
            "0.9998827767002707 0.6174496644295302 3 1 30\n"
          ]
        },
        {
          "output_type": "stream",
          "name": "stderr",
          "text": [
            "<ipython-input-49-218c55f7a3ea>:22: DataConversionWarning: A column-vector y was passed when a 1d array was expected. Please change the shape of y to (n_samples,), for example using ravel().\n",
            "  clf.fit(X_train, y_train) # обучаем\n"
          ]
        },
        {
          "output_type": "stream",
          "name": "stdout",
          "text": [
            "0.999957373345553 0.21476510067114096 3 2 1\n"
          ]
        },
        {
          "output_type": "stream",
          "name": "stderr",
          "text": [
            "<ipython-input-49-218c55f7a3ea>:22: DataConversionWarning: A column-vector y was passed when a 1d array was expected. Please change the shape of y to (n_samples,), for example using ravel().\n",
            "  clf.fit(X_train, y_train) # обучаем\n"
          ]
        },
        {
          "output_type": "stream",
          "name": "stdout",
          "text": [
            "0.9998934333638825 0.5100671140939597 3 2 2\n"
          ]
        },
        {
          "output_type": "stream",
          "name": "stderr",
          "text": [
            "<ipython-input-49-218c55f7a3ea>:22: DataConversionWarning: A column-vector y was passed when a 1d array was expected. Please change the shape of y to (n_samples,), for example using ravel().\n",
            "  clf.fit(X_train, y_train) # обучаем\n"
          ]
        },
        {
          "output_type": "stream",
          "name": "stdout",
          "text": [
            "0.9998188367186002 0.5973154362416108 3 2 3\n"
          ]
        },
        {
          "output_type": "stream",
          "name": "stderr",
          "text": [
            "<ipython-input-49-218c55f7a3ea>:22: DataConversionWarning: A column-vector y was passed when a 1d array was expected. Please change the shape of y to (n_samples,), for example using ravel().\n",
            "  clf.fit(X_train, y_train) # обучаем\n"
          ]
        },
        {
          "output_type": "stream",
          "name": "stdout",
          "text": [
            "0.9998827767002707 0.6375838926174497 3 2 4\n"
          ]
        },
        {
          "output_type": "stream",
          "name": "stderr",
          "text": [
            "<ipython-input-49-218c55f7a3ea>:22: DataConversionWarning: A column-vector y was passed when a 1d array was expected. Please change the shape of y to (n_samples,), for example using ravel().\n",
            "  clf.fit(X_train, y_train) # обучаем\n"
          ]
        },
        {
          "output_type": "stream",
          "name": "stdout",
          "text": [
            "0.9997655534005414 0.6308724832214765 3 2 5\n"
          ]
        },
        {
          "output_type": "stream",
          "name": "stderr",
          "text": [
            "<ipython-input-49-218c55f7a3ea>:22: DataConversionWarning: A column-vector y was passed when a 1d array was expected. Please change the shape of y to (n_samples,), for example using ravel().\n",
            "  clf.fit(X_train, y_train) # обучаем\n"
          ]
        },
        {
          "output_type": "stream",
          "name": "stdout",
          "text": [
            "0.9998401500458236 0.5302013422818792 3 2 6\n"
          ]
        },
        {
          "output_type": "stream",
          "name": "stderr",
          "text": [
            "<ipython-input-49-218c55f7a3ea>:22: DataConversionWarning: A column-vector y was passed when a 1d array was expected. Please change the shape of y to (n_samples,), for example using ravel().\n",
            "  clf.fit(X_train, y_train) # обучаем\n"
          ]
        },
        {
          "output_type": "stream",
          "name": "stdout",
          "text": [
            "0.9997655534005414 0.6845637583892618 3 2 7\n"
          ]
        },
        {
          "output_type": "stream",
          "name": "stderr",
          "text": [
            "<ipython-input-49-218c55f7a3ea>:22: DataConversionWarning: A column-vector y was passed when a 1d array was expected. Please change the shape of y to (n_samples,), for example using ravel().\n",
            "  clf.fit(X_train, y_train) # обучаем\n"
          ]
        },
        {
          "output_type": "stream",
          "name": "stdout",
          "text": [
            "0.9999147466911059 0.5771812080536913 3 2 8\n"
          ]
        },
        {
          "output_type": "stream",
          "name": "stderr",
          "text": [
            "<ipython-input-49-218c55f7a3ea>:22: DataConversionWarning: A column-vector y was passed when a 1d array was expected. Please change the shape of y to (n_samples,), for example using ravel().\n",
            "  clf.fit(X_train, y_train) # обучаем\n"
          ]
        },
        {
          "output_type": "stream",
          "name": "stdout",
          "text": [
            "0.9998508067094354 0.6241610738255033 3 2 9\n"
          ]
        },
        {
          "output_type": "stream",
          "name": "stderr",
          "text": [
            "<ipython-input-49-218c55f7a3ea>:22: DataConversionWarning: A column-vector y was passed when a 1d array was expected. Please change the shape of y to (n_samples,), for example using ravel().\n",
            "  clf.fit(X_train, y_train) # обучаем\n"
          ]
        },
        {
          "output_type": "stream",
          "name": "stdout",
          "text": [
            "0.9998614633730472 0.6375838926174497 3 2 10\n"
          ]
        },
        {
          "output_type": "stream",
          "name": "stderr",
          "text": [
            "<ipython-input-49-218c55f7a3ea>:22: DataConversionWarning: A column-vector y was passed when a 1d array was expected. Please change the shape of y to (n_samples,), for example using ravel().\n",
            "  clf.fit(X_train, y_train) # обучаем\n"
          ]
        },
        {
          "output_type": "stream",
          "name": "stdout",
          "text": [
            "0.9998294933822119 0.651006711409396 3 2 11\n"
          ]
        },
        {
          "output_type": "stream",
          "name": "stderr",
          "text": [
            "<ipython-input-49-218c55f7a3ea>:22: DataConversionWarning: A column-vector y was passed when a 1d array was expected. Please change the shape of y to (n_samples,), for example using ravel().\n",
            "  clf.fit(X_train, y_train) # обучаем\n"
          ]
        },
        {
          "output_type": "stream",
          "name": "stdout",
          "text": [
            "0.9997442400733179 0.6912751677852349 3 2 12\n"
          ]
        },
        {
          "output_type": "stream",
          "name": "stderr",
          "text": [
            "<ipython-input-49-218c55f7a3ea>:22: DataConversionWarning: A column-vector y was passed when a 1d array was expected. Please change the shape of y to (n_samples,), for example using ravel().\n",
            "  clf.fit(X_train, y_train) # обучаем\n"
          ]
        },
        {
          "output_type": "stream",
          "name": "stdout",
          "text": [
            "0.9996803000916473 0.7315436241610738 3 2 13\n"
          ]
        },
        {
          "output_type": "stream",
          "name": "stderr",
          "text": [
            "<ipython-input-49-218c55f7a3ea>:22: DataConversionWarning: A column-vector y was passed when a 1d array was expected. Please change the shape of y to (n_samples,), for example using ravel().\n",
            "  clf.fit(X_train, y_train) # обучаем\n"
          ]
        },
        {
          "output_type": "stream",
          "name": "stdout",
          "text": [
            "0.9996803000916473 0.7114093959731543 3 2 14\n"
          ]
        },
        {
          "output_type": "stream",
          "name": "stderr",
          "text": [
            "<ipython-input-49-218c55f7a3ea>:22: DataConversionWarning: A column-vector y was passed when a 1d array was expected. Please change the shape of y to (n_samples,), for example using ravel().\n",
            "  clf.fit(X_train, y_train) # обучаем\n"
          ]
        },
        {
          "output_type": "stream",
          "name": "stdout",
          "text": [
            "0.9998188367186002 0.6644295302013423 3 2 15\n"
          ]
        },
        {
          "output_type": "stream",
          "name": "stderr",
          "text": [
            "<ipython-input-49-218c55f7a3ea>:22: DataConversionWarning: A column-vector y was passed when a 1d array was expected. Please change the shape of y to (n_samples,), for example using ravel().\n",
            "  clf.fit(X_train, y_train) # обучаем\n"
          ]
        },
        {
          "output_type": "stream",
          "name": "stdout",
          "text": [
            "0.9997548967369296 0.6912751677852349 3 2 16\n"
          ]
        },
        {
          "output_type": "stream",
          "name": "stderr",
          "text": [
            "<ipython-input-49-218c55f7a3ea>:22: DataConversionWarning: A column-vector y was passed when a 1d array was expected. Please change the shape of y to (n_samples,), for example using ravel().\n",
            "  clf.fit(X_train, y_train) # обучаем\n"
          ]
        },
        {
          "output_type": "stream",
          "name": "stdout",
          "text": [
            "0.9997762100641531 0.7114093959731543 3 2 17\n"
          ]
        },
        {
          "output_type": "stream",
          "name": "stderr",
          "text": [
            "<ipython-input-49-218c55f7a3ea>:22: DataConversionWarning: A column-vector y was passed when a 1d array was expected. Please change the shape of y to (n_samples,), for example using ravel().\n",
            "  clf.fit(X_train, y_train) # обучаем\n"
          ]
        },
        {
          "output_type": "stream",
          "name": "stdout",
          "text": [
            "0.9999147466911059 0.6241610738255033 3 2 18\n"
          ]
        },
        {
          "output_type": "stream",
          "name": "stderr",
          "text": [
            "<ipython-input-49-218c55f7a3ea>:22: DataConversionWarning: A column-vector y was passed when a 1d array was expected. Please change the shape of y to (n_samples,), for example using ravel().\n",
            "  clf.fit(X_train, y_train) # обучаем\n"
          ]
        },
        {
          "output_type": "stream",
          "name": "stdout",
          "text": [
            "0.9998081800549884 0.7181208053691275 3 2 19\n"
          ]
        },
        {
          "output_type": "stream",
          "name": "stderr",
          "text": [
            "<ipython-input-49-218c55f7a3ea>:22: DataConversionWarning: A column-vector y was passed when a 1d array was expected. Please change the shape of y to (n_samples,), for example using ravel().\n",
            "  clf.fit(X_train, y_train) # обучаем\n"
          ]
        },
        {
          "output_type": "stream",
          "name": "stdout",
          "text": [
            "0.9998508067094354 0.6577181208053691 3 2 20\n"
          ]
        },
        {
          "output_type": "stream",
          "name": "stderr",
          "text": [
            "<ipython-input-49-218c55f7a3ea>:22: DataConversionWarning: A column-vector y was passed when a 1d array was expected. Please change the shape of y to (n_samples,), for example using ravel().\n",
            "  clf.fit(X_train, y_train) # обучаем\n"
          ]
        },
        {
          "output_type": "stream",
          "name": "stdout",
          "text": [
            "0.9996909567552591 0.7516778523489933 3 2 21\n"
          ]
        },
        {
          "output_type": "stream",
          "name": "stderr",
          "text": [
            "<ipython-input-49-218c55f7a3ea>:22: DataConversionWarning: A column-vector y was passed when a 1d array was expected. Please change the shape of y to (n_samples,), for example using ravel().\n",
            "  clf.fit(X_train, y_train) # обучаем\n"
          ]
        },
        {
          "output_type": "stream",
          "name": "stdout",
          "text": [
            "0.9997122700824825 0.7114093959731543 3 2 22\n"
          ]
        },
        {
          "output_type": "stream",
          "name": "stderr",
          "text": [
            "<ipython-input-49-218c55f7a3ea>:22: DataConversionWarning: A column-vector y was passed when a 1d array was expected. Please change the shape of y to (n_samples,), for example using ravel().\n",
            "  clf.fit(X_train, y_train) # обучаем\n"
          ]
        },
        {
          "output_type": "stream",
          "name": "stdout",
          "text": [
            "0.9998401500458236 0.6778523489932886 3 2 23\n"
          ]
        },
        {
          "output_type": "stream",
          "name": "stderr",
          "text": [
            "<ipython-input-49-218c55f7a3ea>:22: DataConversionWarning: A column-vector y was passed when a 1d array was expected. Please change the shape of y to (n_samples,), for example using ravel().\n",
            "  clf.fit(X_train, y_train) # обучаем\n"
          ]
        },
        {
          "output_type": "stream",
          "name": "stdout",
          "text": [
            "0.9998188367186002 0.6912751677852349 3 2 24\n"
          ]
        },
        {
          "output_type": "stream",
          "name": "stderr",
          "text": [
            "<ipython-input-49-218c55f7a3ea>:22: DataConversionWarning: A column-vector y was passed when a 1d array was expected. Please change the shape of y to (n_samples,), for example using ravel().\n",
            "  clf.fit(X_train, y_train) # обучаем\n"
          ]
        },
        {
          "output_type": "stream",
          "name": "stdout",
          "text": [
            "0.9998081800549884 0.6845637583892618 3 2 25\n"
          ]
        },
        {
          "output_type": "stream",
          "name": "stderr",
          "text": [
            "<ipython-input-49-218c55f7a3ea>:22: DataConversionWarning: A column-vector y was passed when a 1d array was expected. Please change the shape of y to (n_samples,), for example using ravel().\n",
            "  clf.fit(X_train, y_train) # обучаем\n"
          ]
        },
        {
          "output_type": "stream",
          "name": "stdout",
          "text": [
            "0.9997122700824825 0.697986577181208 3 2 26\n"
          ]
        },
        {
          "output_type": "stream",
          "name": "stderr",
          "text": [
            "<ipython-input-49-218c55f7a3ea>:22: DataConversionWarning: A column-vector y was passed when a 1d array was expected. Please change the shape of y to (n_samples,), for example using ravel().\n",
            "  clf.fit(X_train, y_train) # обучаем\n"
          ]
        },
        {
          "output_type": "stream",
          "name": "stdout",
          "text": [
            "0.999648330100812 0.7516778523489933 3 2 27\n"
          ]
        },
        {
          "output_type": "stream",
          "name": "stderr",
          "text": [
            "<ipython-input-49-218c55f7a3ea>:22: DataConversionWarning: A column-vector y was passed when a 1d array was expected. Please change the shape of y to (n_samples,), for example using ravel().\n",
            "  clf.fit(X_train, y_train) # обучаем\n"
          ]
        },
        {
          "output_type": "stream",
          "name": "stdout",
          "text": [
            "0.9998294933822119 0.697986577181208 3 2 28\n"
          ]
        },
        {
          "output_type": "stream",
          "name": "stderr",
          "text": [
            "<ipython-input-49-218c55f7a3ea>:22: DataConversionWarning: A column-vector y was passed when a 1d array was expected. Please change the shape of y to (n_samples,), for example using ravel().\n",
            "  clf.fit(X_train, y_train) # обучаем\n"
          ]
        },
        {
          "output_type": "stream",
          "name": "stdout",
          "text": [
            "0.9997975233913766 0.6711409395973154 3 2 29\n"
          ]
        },
        {
          "output_type": "stream",
          "name": "stderr",
          "text": [
            "<ipython-input-49-218c55f7a3ea>:22: DataConversionWarning: A column-vector y was passed when a 1d array was expected. Please change the shape of y to (n_samples,), for example using ravel().\n",
            "  clf.fit(X_train, y_train) # обучаем\n"
          ]
        },
        {
          "output_type": "stream",
          "name": "stdout",
          "text": [
            "0.9997762100641531 0.697986577181208 3 2 30\n"
          ]
        },
        {
          "output_type": "stream",
          "name": "stderr",
          "text": [
            "<ipython-input-49-218c55f7a3ea>:22: DataConversionWarning: A column-vector y was passed when a 1d array was expected. Please change the shape of y to (n_samples,), for example using ravel().\n",
            "  clf.fit(X_train, y_train) # обучаем\n"
          ]
        },
        {
          "output_type": "stream",
          "name": "stdout",
          "text": [
            "0.9998188367186002 0.6375838926174497 3 3 1\n"
          ]
        },
        {
          "output_type": "stream",
          "name": "stderr",
          "text": [
            "<ipython-input-49-218c55f7a3ea>:22: DataConversionWarning: A column-vector y was passed when a 1d array was expected. Please change the shape of y to (n_samples,), for example using ravel().\n",
            "  clf.fit(X_train, y_train) # обучаем\n"
          ]
        },
        {
          "output_type": "stream",
          "name": "stdout",
          "text": [
            "0.9998721200366589 0.5369127516778524 3 3 2\n"
          ]
        },
        {
          "output_type": "stream",
          "name": "stderr",
          "text": [
            "<ipython-input-49-218c55f7a3ea>:22: DataConversionWarning: A column-vector y was passed when a 1d array was expected. Please change the shape of y to (n_samples,), for example using ravel().\n",
            "  clf.fit(X_train, y_train) # обучаем\n"
          ]
        },
        {
          "output_type": "stream",
          "name": "stdout",
          "text": [
            "0.9998188367186002 0.5503355704697986 3 3 3\n"
          ]
        },
        {
          "output_type": "stream",
          "name": "stderr",
          "text": [
            "<ipython-input-49-218c55f7a3ea>:22: DataConversionWarning: A column-vector y was passed when a 1d array was expected. Please change the shape of y to (n_samples,), for example using ravel().\n",
            "  clf.fit(X_train, y_train) # обучаем\n"
          ]
        },
        {
          "output_type": "stream",
          "name": "stdout",
          "text": [
            "0.9998934333638825 0.46308724832214765 3 3 4\n"
          ]
        },
        {
          "output_type": "stream",
          "name": "stderr",
          "text": [
            "<ipython-input-49-218c55f7a3ea>:22: DataConversionWarning: A column-vector y was passed when a 1d array was expected. Please change the shape of y to (n_samples,), for example using ravel().\n",
            "  clf.fit(X_train, y_train) # обучаем\n"
          ]
        },
        {
          "output_type": "stream",
          "name": "stdout",
          "text": [
            "0.9998188367186002 0.6912751677852349 3 3 5\n"
          ]
        },
        {
          "output_type": "stream",
          "name": "stderr",
          "text": [
            "<ipython-input-49-218c55f7a3ea>:22: DataConversionWarning: A column-vector y was passed when a 1d array was expected. Please change the shape of y to (n_samples,), for example using ravel().\n",
            "  clf.fit(X_train, y_train) # обучаем\n"
          ]
        },
        {
          "output_type": "stream",
          "name": "stdout",
          "text": [
            "0.999648330100812 0.7315436241610738 3 3 6\n"
          ]
        },
        {
          "output_type": "stream",
          "name": "stderr",
          "text": [
            "<ipython-input-49-218c55f7a3ea>:22: DataConversionWarning: A column-vector y was passed when a 1d array was expected. Please change the shape of y to (n_samples,), for example using ravel().\n",
            "  clf.fit(X_train, y_train) # обучаем\n"
          ]
        },
        {
          "output_type": "stream",
          "name": "stdout",
          "text": [
            "0.9998188367186002 0.6308724832214765 3 3 7\n"
          ]
        },
        {
          "output_type": "stream",
          "name": "stderr",
          "text": [
            "<ipython-input-49-218c55f7a3ea>:22: DataConversionWarning: A column-vector y was passed when a 1d array was expected. Please change the shape of y to (n_samples,), for example using ravel().\n",
            "  clf.fit(X_train, y_train) # обучаем\n"
          ]
        },
        {
          "output_type": "stream",
          "name": "stdout",
          "text": [
            "0.9996696434280355 0.7181208053691275 3 3 8\n"
          ]
        },
        {
          "output_type": "stream",
          "name": "stderr",
          "text": [
            "<ipython-input-49-218c55f7a3ea>:22: DataConversionWarning: A column-vector y was passed when a 1d array was expected. Please change the shape of y to (n_samples,), for example using ravel().\n",
            "  clf.fit(X_train, y_train) # обучаем\n"
          ]
        },
        {
          "output_type": "stream",
          "name": "stdout",
          "text": [
            "0.9998188367186002 0.697986577181208 3 3 9\n"
          ]
        },
        {
          "output_type": "stream",
          "name": "stderr",
          "text": [
            "<ipython-input-49-218c55f7a3ea>:22: DataConversionWarning: A column-vector y was passed when a 1d array was expected. Please change the shape of y to (n_samples,), for example using ravel().\n",
            "  clf.fit(X_train, y_train) # обучаем\n"
          ]
        },
        {
          "output_type": "stream",
          "name": "stdout",
          "text": [
            "0.9997229267460943 0.6912751677852349 3 3 10\n"
          ]
        },
        {
          "output_type": "stream",
          "name": "stderr",
          "text": [
            "<ipython-input-49-218c55f7a3ea>:22: DataConversionWarning: A column-vector y was passed when a 1d array was expected. Please change the shape of y to (n_samples,), for example using ravel().\n",
            "  clf.fit(X_train, y_train) # обучаем\n"
          ]
        },
        {
          "output_type": "stream",
          "name": "stdout",
          "text": [
            "0.9998401500458236 0.6845637583892618 3 3 11\n"
          ]
        },
        {
          "output_type": "stream",
          "name": "stderr",
          "text": [
            "<ipython-input-49-218c55f7a3ea>:22: DataConversionWarning: A column-vector y was passed when a 1d array was expected. Please change the shape of y to (n_samples,), for example using ravel().\n",
            "  clf.fit(X_train, y_train) # обучаем\n"
          ]
        },
        {
          "output_type": "stream",
          "name": "stdout",
          "text": [
            "0.9996909567552591 0.7046979865771812 3 3 12\n"
          ]
        },
        {
          "output_type": "stream",
          "name": "stderr",
          "text": [
            "<ipython-input-49-218c55f7a3ea>:22: DataConversionWarning: A column-vector y was passed when a 1d array was expected. Please change the shape of y to (n_samples,), for example using ravel().\n",
            "  clf.fit(X_train, y_train) # обучаем\n"
          ]
        },
        {
          "output_type": "stream",
          "name": "stdout",
          "text": [
            "0.9998401500458236 0.7046979865771812 3 3 13\n"
          ]
        },
        {
          "output_type": "stream",
          "name": "stderr",
          "text": [
            "<ipython-input-49-218c55f7a3ea>:22: DataConversionWarning: A column-vector y was passed when a 1d array was expected. Please change the shape of y to (n_samples,), for example using ravel().\n",
            "  clf.fit(X_train, y_train) # обучаем\n"
          ]
        },
        {
          "output_type": "stream",
          "name": "stdout",
          "text": [
            "0.9996163601099768 0.7315436241610738 3 3 14\n"
          ]
        },
        {
          "output_type": "stream",
          "name": "stderr",
          "text": [
            "<ipython-input-49-218c55f7a3ea>:22: DataConversionWarning: A column-vector y was passed when a 1d array was expected. Please change the shape of y to (n_samples,), for example using ravel().\n",
            "  clf.fit(X_train, y_train) # обучаем\n"
          ]
        },
        {
          "output_type": "stream",
          "name": "stdout",
          "text": [
            "0.9997122700824825 0.7114093959731543 3 3 15\n"
          ]
        },
        {
          "output_type": "stream",
          "name": "stderr",
          "text": [
            "<ipython-input-49-218c55f7a3ea>:22: DataConversionWarning: A column-vector y was passed when a 1d array was expected. Please change the shape of y to (n_samples,), for example using ravel().\n",
            "  clf.fit(X_train, y_train) # обучаем\n"
          ]
        },
        {
          "output_type": "stream",
          "name": "stdout",
          "text": [
            "0.9998294933822119 0.6778523489932886 3 3 16\n"
          ]
        },
        {
          "output_type": "stream",
          "name": "stderr",
          "text": [
            "<ipython-input-49-218c55f7a3ea>:22: DataConversionWarning: A column-vector y was passed when a 1d array was expected. Please change the shape of y to (n_samples,), for example using ravel().\n",
            "  clf.fit(X_train, y_train) # обучаем\n"
          ]
        },
        {
          "output_type": "stream",
          "name": "stdout",
          "text": [
            "0.9998294933822119 0.6778523489932886 3 3 17\n"
          ]
        },
        {
          "output_type": "stream",
          "name": "stderr",
          "text": [
            "<ipython-input-49-218c55f7a3ea>:22: DataConversionWarning: A column-vector y was passed when a 1d array was expected. Please change the shape of y to (n_samples,), for example using ravel().\n",
            "  clf.fit(X_train, y_train) # обучаем\n"
          ]
        },
        {
          "output_type": "stream",
          "name": "stdout",
          "text": [
            "0.9998508067094354 0.7114093959731543 3 3 18\n"
          ]
        },
        {
          "output_type": "stream",
          "name": "stderr",
          "text": [
            "<ipython-input-49-218c55f7a3ea>:22: DataConversionWarning: A column-vector y was passed when a 1d array was expected. Please change the shape of y to (n_samples,), for example using ravel().\n",
            "  clf.fit(X_train, y_train) # обучаем\n"
          ]
        },
        {
          "output_type": "stream",
          "name": "stdout",
          "text": [
            "0.9998081800549884 0.697986577181208 3 3 19\n"
          ]
        },
        {
          "output_type": "stream",
          "name": "stderr",
          "text": [
            "<ipython-input-49-218c55f7a3ea>:22: DataConversionWarning: A column-vector y was passed when a 1d array was expected. Please change the shape of y to (n_samples,), for example using ravel().\n",
            "  clf.fit(X_train, y_train) # обучаем\n"
          ]
        },
        {
          "output_type": "stream",
          "name": "stdout",
          "text": [
            "0.9998827767002707 0.6912751677852349 3 3 20\n"
          ]
        },
        {
          "output_type": "stream",
          "name": "stderr",
          "text": [
            "<ipython-input-49-218c55f7a3ea>:22: DataConversionWarning: A column-vector y was passed when a 1d array was expected. Please change the shape of y to (n_samples,), for example using ravel().\n",
            "  clf.fit(X_train, y_train) # обучаем\n"
          ]
        },
        {
          "output_type": "stream",
          "name": "stdout",
          "text": [
            "0.9997335834097061 0.7181208053691275 3 3 21\n"
          ]
        },
        {
          "output_type": "stream",
          "name": "stderr",
          "text": [
            "<ipython-input-49-218c55f7a3ea>:22: DataConversionWarning: A column-vector y was passed when a 1d array was expected. Please change the shape of y to (n_samples,), for example using ravel().\n",
            "  clf.fit(X_train, y_train) # обучаем\n"
          ]
        },
        {
          "output_type": "stream",
          "name": "stdout",
          "text": [
            "0.999648330100812 0.7181208053691275 3 3 22\n"
          ]
        },
        {
          "output_type": "stream",
          "name": "stderr",
          "text": [
            "<ipython-input-49-218c55f7a3ea>:22: DataConversionWarning: A column-vector y was passed when a 1d array was expected. Please change the shape of y to (n_samples,), for example using ravel().\n",
            "  clf.fit(X_train, y_train) # обучаем\n"
          ]
        },
        {
          "output_type": "stream",
          "name": "stdout",
          "text": [
            "0.9997762100641531 0.7248322147651007 3 3 23\n"
          ]
        },
        {
          "output_type": "stream",
          "name": "stderr",
          "text": [
            "<ipython-input-49-218c55f7a3ea>:22: DataConversionWarning: A column-vector y was passed when a 1d array was expected. Please change the shape of y to (n_samples,), for example using ravel().\n",
            "  clf.fit(X_train, y_train) # обучаем\n"
          ]
        },
        {
          "output_type": "stream",
          "name": "stdout",
          "text": [
            "0.9997975233913766 0.7315436241610738 3 3 24\n"
          ]
        },
        {
          "output_type": "stream",
          "name": "stderr",
          "text": [
            "<ipython-input-49-218c55f7a3ea>:22: DataConversionWarning: A column-vector y was passed when a 1d array was expected. Please change the shape of y to (n_samples,), for example using ravel().\n",
            "  clf.fit(X_train, y_train) # обучаем\n"
          ]
        },
        {
          "output_type": "stream",
          "name": "stdout",
          "text": [
            "0.9997762100641531 0.7114093959731543 3 3 25\n"
          ]
        },
        {
          "output_type": "stream",
          "name": "stderr",
          "text": [
            "<ipython-input-49-218c55f7a3ea>:22: DataConversionWarning: A column-vector y was passed when a 1d array was expected. Please change the shape of y to (n_samples,), for example using ravel().\n",
            "  clf.fit(X_train, y_train) # обучаем\n"
          ]
        },
        {
          "output_type": "stream",
          "name": "stdout",
          "text": [
            "0.9997442400733179 0.7181208053691275 3 3 26\n"
          ]
        },
        {
          "output_type": "stream",
          "name": "stderr",
          "text": [
            "<ipython-input-49-218c55f7a3ea>:22: DataConversionWarning: A column-vector y was passed when a 1d array was expected. Please change the shape of y to (n_samples,), for example using ravel().\n",
            "  clf.fit(X_train, y_train) # обучаем\n"
          ]
        },
        {
          "output_type": "stream",
          "name": "stdout",
          "text": [
            "0.9998081800549884 0.6912751677852349 3 3 27\n"
          ]
        },
        {
          "output_type": "stream",
          "name": "stderr",
          "text": [
            "<ipython-input-49-218c55f7a3ea>:22: DataConversionWarning: A column-vector y was passed when a 1d array was expected. Please change the shape of y to (n_samples,), for example using ravel().\n",
            "  clf.fit(X_train, y_train) # обучаем\n"
          ]
        },
        {
          "output_type": "stream",
          "name": "stdout",
          "text": [
            "0.9997762100641531 0.697986577181208 3 3 28\n"
          ]
        },
        {
          "output_type": "stream",
          "name": "stderr",
          "text": [
            "<ipython-input-49-218c55f7a3ea>:22: DataConversionWarning: A column-vector y was passed when a 1d array was expected. Please change the shape of y to (n_samples,), for example using ravel().\n",
            "  clf.fit(X_train, y_train) # обучаем\n"
          ]
        },
        {
          "output_type": "stream",
          "name": "stdout",
          "text": [
            "0.9996803000916473 0.7046979865771812 3 3 29\n"
          ]
        },
        {
          "output_type": "stream",
          "name": "stderr",
          "text": [
            "<ipython-input-49-218c55f7a3ea>:22: DataConversionWarning: A column-vector y was passed when a 1d array was expected. Please change the shape of y to (n_samples,), for example using ravel().\n",
            "  clf.fit(X_train, y_train) # обучаем\n"
          ]
        },
        {
          "output_type": "stream",
          "name": "stdout",
          "text": [
            "0.9998081800549884 0.6912751677852349 3 3 30\n"
          ]
        },
        {
          "output_type": "stream",
          "name": "stderr",
          "text": [
            "<ipython-input-49-218c55f7a3ea>:22: DataConversionWarning: A column-vector y was passed when a 1d array was expected. Please change the shape of y to (n_samples,), for example using ravel().\n",
            "  clf.fit(X_train, y_train) # обучаем\n"
          ]
        },
        {
          "output_type": "stream",
          "name": "stdout",
          "text": [
            "0.9999147466911059 0.3221476510067114 3 4 1\n"
          ]
        },
        {
          "output_type": "stream",
          "name": "stderr",
          "text": [
            "<ipython-input-49-218c55f7a3ea>:22: DataConversionWarning: A column-vector y was passed when a 1d array was expected. Please change the shape of y to (n_samples,), for example using ravel().\n",
            "  clf.fit(X_train, y_train) # обучаем\n"
          ]
        },
        {
          "output_type": "stream",
          "name": "stdout",
          "text": [
            "0.9998614633730472 0.5973154362416108 3 4 2\n"
          ]
        },
        {
          "output_type": "stream",
          "name": "stderr",
          "text": [
            "<ipython-input-49-218c55f7a3ea>:22: DataConversionWarning: A column-vector y was passed when a 1d array was expected. Please change the shape of y to (n_samples,), for example using ravel().\n",
            "  clf.fit(X_train, y_train) # обучаем\n"
          ]
        },
        {
          "output_type": "stream",
          "name": "stdout",
          "text": [
            "0.999957373345553 0.5167785234899329 3 4 3\n"
          ]
        },
        {
          "output_type": "stream",
          "name": "stderr",
          "text": [
            "<ipython-input-49-218c55f7a3ea>:22: DataConversionWarning: A column-vector y was passed when a 1d array was expected. Please change the shape of y to (n_samples,), for example using ravel().\n",
            "  clf.fit(X_train, y_train) # обучаем\n"
          ]
        },
        {
          "output_type": "stream",
          "name": "stdout",
          "text": [
            "0.9999254033547177 0.42281879194630867 3 4 4\n"
          ]
        },
        {
          "output_type": "stream",
          "name": "stderr",
          "text": [
            "<ipython-input-49-218c55f7a3ea>:22: DataConversionWarning: A column-vector y was passed when a 1d array was expected. Please change the shape of y to (n_samples,), for example using ravel().\n",
            "  clf.fit(X_train, y_train) # обучаем\n"
          ]
        },
        {
          "output_type": "stream",
          "name": "stdout",
          "text": [
            "0.9998614633730472 0.6577181208053691 3 4 5\n"
          ]
        },
        {
          "output_type": "stream",
          "name": "stderr",
          "text": [
            "<ipython-input-49-218c55f7a3ea>:22: DataConversionWarning: A column-vector y was passed when a 1d array was expected. Please change the shape of y to (n_samples,), for example using ravel().\n",
            "  clf.fit(X_train, y_train) # обучаем\n"
          ]
        },
        {
          "output_type": "stream",
          "name": "stdout",
          "text": [
            "0.9996696434280355 0.7114093959731543 3 4 6\n"
          ]
        },
        {
          "output_type": "stream",
          "name": "stderr",
          "text": [
            "<ipython-input-49-218c55f7a3ea>:22: DataConversionWarning: A column-vector y was passed when a 1d array was expected. Please change the shape of y to (n_samples,), for example using ravel().\n",
            "  clf.fit(X_train, y_train) # обучаем\n"
          ]
        },
        {
          "output_type": "stream",
          "name": "stdout",
          "text": [
            "0.9999147466911059 0.5838926174496644 3 4 7\n"
          ]
        },
        {
          "output_type": "stream",
          "name": "stderr",
          "text": [
            "<ipython-input-49-218c55f7a3ea>:22: DataConversionWarning: A column-vector y was passed when a 1d array was expected. Please change the shape of y to (n_samples,), for example using ravel().\n",
            "  clf.fit(X_train, y_train) # обучаем\n"
          ]
        },
        {
          "output_type": "stream",
          "name": "stdout",
          "text": [
            "0.9998614633730472 0.6577181208053691 3 4 8\n"
          ]
        },
        {
          "output_type": "stream",
          "name": "stderr",
          "text": [
            "<ipython-input-49-218c55f7a3ea>:22: DataConversionWarning: A column-vector y was passed when a 1d array was expected. Please change the shape of y to (n_samples,), for example using ravel().\n",
            "  clf.fit(X_train, y_train) # обучаем\n"
          ]
        },
        {
          "output_type": "stream",
          "name": "stdout",
          "text": [
            "0.9998188367186002 0.697986577181208 3 4 9\n"
          ]
        },
        {
          "output_type": "stream",
          "name": "stderr",
          "text": [
            "<ipython-input-49-218c55f7a3ea>:22: DataConversionWarning: A column-vector y was passed when a 1d array was expected. Please change the shape of y to (n_samples,), for example using ravel().\n",
            "  clf.fit(X_train, y_train) # обучаем\n"
          ]
        },
        {
          "output_type": "stream",
          "name": "stdout",
          "text": [
            "0.9998614633730472 0.6711409395973154 3 4 10\n"
          ]
        },
        {
          "output_type": "stream",
          "name": "stderr",
          "text": [
            "<ipython-input-49-218c55f7a3ea>:22: DataConversionWarning: A column-vector y was passed when a 1d array was expected. Please change the shape of y to (n_samples,), for example using ravel().\n",
            "  clf.fit(X_train, y_train) # обучаем\n"
          ]
        },
        {
          "output_type": "stream",
          "name": "stdout",
          "text": [
            "0.9996803000916473 0.7046979865771812 3 4 11\n"
          ]
        },
        {
          "output_type": "stream",
          "name": "stderr",
          "text": [
            "<ipython-input-49-218c55f7a3ea>:22: DataConversionWarning: A column-vector y was passed when a 1d array was expected. Please change the shape of y to (n_samples,), for example using ravel().\n",
            "  clf.fit(X_train, y_train) # обучаем\n"
          ]
        },
        {
          "output_type": "stream",
          "name": "stdout",
          "text": [
            "0.9998614633730472 0.6644295302013423 3 4 12\n"
          ]
        },
        {
          "output_type": "stream",
          "name": "stderr",
          "text": [
            "<ipython-input-49-218c55f7a3ea>:22: DataConversionWarning: A column-vector y was passed when a 1d array was expected. Please change the shape of y to (n_samples,), for example using ravel().\n",
            "  clf.fit(X_train, y_train) # обучаем\n"
          ]
        },
        {
          "output_type": "stream",
          "name": "stdout",
          "text": [
            "0.9997762100641531 0.7114093959731543 3 4 13\n"
          ]
        },
        {
          "output_type": "stream",
          "name": "stderr",
          "text": [
            "<ipython-input-49-218c55f7a3ea>:22: DataConversionWarning: A column-vector y was passed when a 1d array was expected. Please change the shape of y to (n_samples,), for example using ravel().\n",
            "  clf.fit(X_train, y_train) # обучаем\n"
          ]
        },
        {
          "output_type": "stream",
          "name": "stdout",
          "text": [
            "0.9997442400733179 0.697986577181208 3 4 14\n"
          ]
        },
        {
          "output_type": "stream",
          "name": "stderr",
          "text": [
            "<ipython-input-49-218c55f7a3ea>:22: DataConversionWarning: A column-vector y was passed when a 1d array was expected. Please change the shape of y to (n_samples,), for example using ravel().\n",
            "  clf.fit(X_train, y_train) # обучаем\n"
          ]
        },
        {
          "output_type": "stream",
          "name": "stdout",
          "text": [
            "0.9997655534005414 0.7114093959731543 3 4 15\n"
          ]
        },
        {
          "output_type": "stream",
          "name": "stderr",
          "text": [
            "<ipython-input-49-218c55f7a3ea>:22: DataConversionWarning: A column-vector y was passed when a 1d array was expected. Please change the shape of y to (n_samples,), for example using ravel().\n",
            "  clf.fit(X_train, y_train) # обучаем\n"
          ]
        },
        {
          "output_type": "stream",
          "name": "stdout",
          "text": [
            "0.9997122700824825 0.7114093959731543 3 4 16\n"
          ]
        },
        {
          "output_type": "stream",
          "name": "stderr",
          "text": [
            "<ipython-input-49-218c55f7a3ea>:22: DataConversionWarning: A column-vector y was passed when a 1d array was expected. Please change the shape of y to (n_samples,), for example using ravel().\n",
            "  clf.fit(X_train, y_train) # обучаем\n"
          ]
        },
        {
          "output_type": "stream",
          "name": "stdout",
          "text": [
            "0.9998827767002707 0.6912751677852349 3 4 17\n"
          ]
        },
        {
          "output_type": "stream",
          "name": "stderr",
          "text": [
            "<ipython-input-49-218c55f7a3ea>:22: DataConversionWarning: A column-vector y was passed when a 1d array was expected. Please change the shape of y to (n_samples,), for example using ravel().\n",
            "  clf.fit(X_train, y_train) # обучаем\n"
          ]
        },
        {
          "output_type": "stream",
          "name": "stdout",
          "text": [
            "0.9998294933822119 0.6778523489932886 3 4 18\n"
          ]
        },
        {
          "output_type": "stream",
          "name": "stderr",
          "text": [
            "<ipython-input-49-218c55f7a3ea>:22: DataConversionWarning: A column-vector y was passed when a 1d array was expected. Please change the shape of y to (n_samples,), for example using ravel().\n",
            "  clf.fit(X_train, y_train) # обучаем\n"
          ]
        },
        {
          "output_type": "stream",
          "name": "stdout",
          "text": [
            "0.9997868667277648 0.7114093959731543 3 4 19\n"
          ]
        },
        {
          "output_type": "stream",
          "name": "stderr",
          "text": [
            "<ipython-input-49-218c55f7a3ea>:22: DataConversionWarning: A column-vector y was passed when a 1d array was expected. Please change the shape of y to (n_samples,), for example using ravel().\n",
            "  clf.fit(X_train, y_train) # обучаем\n"
          ]
        },
        {
          "output_type": "stream",
          "name": "stdout",
          "text": [
            "0.9996376734372003 0.7181208053691275 3 4 20\n"
          ]
        },
        {
          "output_type": "stream",
          "name": "stderr",
          "text": [
            "<ipython-input-49-218c55f7a3ea>:22: DataConversionWarning: A column-vector y was passed when a 1d array was expected. Please change the shape of y to (n_samples,), for example using ravel().\n",
            "  clf.fit(X_train, y_train) # обучаем\n"
          ]
        },
        {
          "output_type": "stream",
          "name": "stdout",
          "text": [
            "0.9998294933822119 0.6845637583892618 3 4 21\n"
          ]
        },
        {
          "output_type": "stream",
          "name": "stderr",
          "text": [
            "<ipython-input-49-218c55f7a3ea>:22: DataConversionWarning: A column-vector y was passed when a 1d array was expected. Please change the shape of y to (n_samples,), for example using ravel().\n",
            "  clf.fit(X_train, y_train) # обучаем\n"
          ]
        },
        {
          "output_type": "stream",
          "name": "stdout",
          "text": [
            "0.9997548967369296 0.7181208053691275 3 4 22\n"
          ]
        },
        {
          "output_type": "stream",
          "name": "stderr",
          "text": [
            "<ipython-input-49-218c55f7a3ea>:22: DataConversionWarning: A column-vector y was passed when a 1d array was expected. Please change the shape of y to (n_samples,), for example using ravel().\n",
            "  clf.fit(X_train, y_train) # обучаем\n"
          ]
        },
        {
          "output_type": "stream",
          "name": "stdout",
          "text": [
            "0.9999254033547177 0.6778523489932886 3 4 23\n"
          ]
        },
        {
          "output_type": "stream",
          "name": "stderr",
          "text": [
            "<ipython-input-49-218c55f7a3ea>:22: DataConversionWarning: A column-vector y was passed when a 1d array was expected. Please change the shape of y to (n_samples,), for example using ravel().\n",
            "  clf.fit(X_train, y_train) # обучаем\n"
          ]
        },
        {
          "output_type": "stream",
          "name": "stdout",
          "text": [
            "0.9996909567552591 0.7046979865771812 3 4 24\n"
          ]
        },
        {
          "output_type": "stream",
          "name": "stderr",
          "text": [
            "<ipython-input-49-218c55f7a3ea>:22: DataConversionWarning: A column-vector y was passed when a 1d array was expected. Please change the shape of y to (n_samples,), for example using ravel().\n",
            "  clf.fit(X_train, y_train) # обучаем\n"
          ]
        },
        {
          "output_type": "stream",
          "name": "stdout",
          "text": [
            "0.9997016134188709 0.7046979865771812 3 4 25\n"
          ]
        },
        {
          "output_type": "stream",
          "name": "stderr",
          "text": [
            "<ipython-input-49-218c55f7a3ea>:22: DataConversionWarning: A column-vector y was passed when a 1d array was expected. Please change the shape of y to (n_samples,), for example using ravel().\n",
            "  clf.fit(X_train, y_train) # обучаем\n"
          ]
        },
        {
          "output_type": "stream",
          "name": "stdout",
          "text": [
            "0.9997868667277648 0.7248322147651007 3 4 26\n"
          ]
        },
        {
          "output_type": "stream",
          "name": "stderr",
          "text": [
            "<ipython-input-49-218c55f7a3ea>:22: DataConversionWarning: A column-vector y was passed when a 1d array was expected. Please change the shape of y to (n_samples,), for example using ravel().\n",
            "  clf.fit(X_train, y_train) # обучаем\n"
          ]
        },
        {
          "output_type": "stream",
          "name": "stdout",
          "text": [
            "0.9998294933822119 0.7046979865771812 3 4 27\n"
          ]
        },
        {
          "output_type": "stream",
          "name": "stderr",
          "text": [
            "<ipython-input-49-218c55f7a3ea>:22: DataConversionWarning: A column-vector y was passed when a 1d array was expected. Please change the shape of y to (n_samples,), for example using ravel().\n",
            "  clf.fit(X_train, y_train) # обучаем\n"
          ]
        },
        {
          "output_type": "stream",
          "name": "stdout",
          "text": [
            "0.9998081800549884 0.7046979865771812 3 4 28\n"
          ]
        },
        {
          "output_type": "stream",
          "name": "stderr",
          "text": [
            "<ipython-input-49-218c55f7a3ea>:22: DataConversionWarning: A column-vector y was passed when a 1d array was expected. Please change the shape of y to (n_samples,), for example using ravel().\n",
            "  clf.fit(X_train, y_train) # обучаем\n"
          ]
        },
        {
          "output_type": "stream",
          "name": "stdout",
          "text": [
            "0.9998294933822119 0.697986577181208 3 4 29\n"
          ]
        },
        {
          "output_type": "stream",
          "name": "stderr",
          "text": [
            "<ipython-input-49-218c55f7a3ea>:22: DataConversionWarning: A column-vector y was passed when a 1d array was expected. Please change the shape of y to (n_samples,), for example using ravel().\n",
            "  clf.fit(X_train, y_train) # обучаем\n"
          ]
        },
        {
          "output_type": "stream",
          "name": "stdout",
          "text": [
            "0.9997655534005414 0.7248322147651007 3 4 30\n"
          ]
        },
        {
          "output_type": "stream",
          "name": "stderr",
          "text": [
            "<ipython-input-49-218c55f7a3ea>:22: DataConversionWarning: A column-vector y was passed when a 1d array was expected. Please change the shape of y to (n_samples,), for example using ravel().\n",
            "  clf.fit(X_train, y_train) # обучаем\n"
          ]
        },
        {
          "output_type": "stream",
          "name": "stdout",
          "text": [
            "0.9999680300091647 0.261744966442953 3 5 1\n"
          ]
        },
        {
          "output_type": "stream",
          "name": "stderr",
          "text": [
            "<ipython-input-49-218c55f7a3ea>:22: DataConversionWarning: A column-vector y was passed when a 1d array was expected. Please change the shape of y to (n_samples,), for example using ravel().\n",
            "  clf.fit(X_train, y_train) # обучаем\n"
          ]
        },
        {
          "output_type": "stream",
          "name": "stdout",
          "text": [
            "0.9998721200366589 0.6040268456375839 3 5 2\n"
          ]
        },
        {
          "output_type": "stream",
          "name": "stderr",
          "text": [
            "<ipython-input-49-218c55f7a3ea>:22: DataConversionWarning: A column-vector y was passed when a 1d array was expected. Please change the shape of y to (n_samples,), for example using ravel().\n",
            "  clf.fit(X_train, y_train) # обучаем\n"
          ]
        },
        {
          "output_type": "stream",
          "name": "stdout",
          "text": [
            "0.9998508067094354 0.6308724832214765 3 5 3\n"
          ]
        },
        {
          "output_type": "stream",
          "name": "stderr",
          "text": [
            "<ipython-input-49-218c55f7a3ea>:22: DataConversionWarning: A column-vector y was passed when a 1d array was expected. Please change the shape of y to (n_samples,), for example using ravel().\n",
            "  clf.fit(X_train, y_train) # обучаем\n"
          ]
        },
        {
          "output_type": "stream",
          "name": "stdout",
          "text": [
            "0.9998721200366589 0.5906040268456376 3 5 4\n"
          ]
        },
        {
          "output_type": "stream",
          "name": "stderr",
          "text": [
            "<ipython-input-49-218c55f7a3ea>:22: DataConversionWarning: A column-vector y was passed when a 1d array was expected. Please change the shape of y to (n_samples,), for example using ravel().\n",
            "  clf.fit(X_train, y_train) # обучаем\n"
          ]
        },
        {
          "output_type": "stream",
          "name": "stdout",
          "text": [
            "0.9998721200366589 0.5771812080536913 3 5 5\n"
          ]
        },
        {
          "output_type": "stream",
          "name": "stderr",
          "text": [
            "<ipython-input-49-218c55f7a3ea>:22: DataConversionWarning: A column-vector y was passed when a 1d array was expected. Please change the shape of y to (n_samples,), for example using ravel().\n",
            "  clf.fit(X_train, y_train) # обучаем\n"
          ]
        },
        {
          "output_type": "stream",
          "name": "stdout",
          "text": [
            "0.9998614633730472 0.5838926174496644 3 5 6\n"
          ]
        },
        {
          "output_type": "stream",
          "name": "stderr",
          "text": [
            "<ipython-input-49-218c55f7a3ea>:22: DataConversionWarning: A column-vector y was passed when a 1d array was expected. Please change the shape of y to (n_samples,), for example using ravel().\n",
            "  clf.fit(X_train, y_train) # обучаем\n"
          ]
        },
        {
          "output_type": "stream",
          "name": "stdout",
          "text": [
            "0.9998614633730472 0.6711409395973154 3 5 7\n"
          ]
        },
        {
          "output_type": "stream",
          "name": "stderr",
          "text": [
            "<ipython-input-49-218c55f7a3ea>:22: DataConversionWarning: A column-vector y was passed when a 1d array was expected. Please change the shape of y to (n_samples,), for example using ravel().\n",
            "  clf.fit(X_train, y_train) # обучаем\n"
          ]
        },
        {
          "output_type": "stream",
          "name": "stdout",
          "text": [
            "0.9998508067094354 0.6308724832214765 3 5 8\n"
          ]
        },
        {
          "output_type": "stream",
          "name": "stderr",
          "text": [
            "<ipython-input-49-218c55f7a3ea>:22: DataConversionWarning: A column-vector y was passed when a 1d array was expected. Please change the shape of y to (n_samples,), for example using ravel().\n",
            "  clf.fit(X_train, y_train) # обучаем\n"
          ]
        },
        {
          "output_type": "stream",
          "name": "stdout",
          "text": [
            "0.9997229267460943 0.7516778523489933 3 5 9\n"
          ]
        },
        {
          "output_type": "stream",
          "name": "stderr",
          "text": [
            "<ipython-input-49-218c55f7a3ea>:22: DataConversionWarning: A column-vector y was passed when a 1d array was expected. Please change the shape of y to (n_samples,), for example using ravel().\n",
            "  clf.fit(X_train, y_train) # обучаем\n"
          ]
        },
        {
          "output_type": "stream",
          "name": "stdout",
          "text": [
            "0.9998508067094354 0.6644295302013423 3 5 10\n"
          ]
        },
        {
          "output_type": "stream",
          "name": "stderr",
          "text": [
            "<ipython-input-49-218c55f7a3ea>:22: DataConversionWarning: A column-vector y was passed when a 1d array was expected. Please change the shape of y to (n_samples,), for example using ravel().\n",
            "  clf.fit(X_train, y_train) # обучаем\n"
          ]
        },
        {
          "output_type": "stream",
          "name": "stdout",
          "text": [
            "0.9996909567552591 0.7651006711409396 3 5 11\n"
          ]
        },
        {
          "output_type": "stream",
          "name": "stderr",
          "text": [
            "<ipython-input-49-218c55f7a3ea>:22: DataConversionWarning: A column-vector y was passed when a 1d array was expected. Please change the shape of y to (n_samples,), for example using ravel().\n",
            "  clf.fit(X_train, y_train) # обучаем\n"
          ]
        },
        {
          "output_type": "stream",
          "name": "stdout",
          "text": [
            "0.9998827767002707 0.7181208053691275 3 5 12\n"
          ]
        },
        {
          "output_type": "stream",
          "name": "stderr",
          "text": [
            "<ipython-input-49-218c55f7a3ea>:22: DataConversionWarning: A column-vector y was passed when a 1d array was expected. Please change the shape of y to (n_samples,), for example using ravel().\n",
            "  clf.fit(X_train, y_train) # обучаем\n"
          ]
        },
        {
          "output_type": "stream",
          "name": "stdout",
          "text": [
            "0.9997229267460943 0.7315436241610738 3 5 13\n"
          ]
        },
        {
          "output_type": "stream",
          "name": "stderr",
          "text": [
            "<ipython-input-49-218c55f7a3ea>:22: DataConversionWarning: A column-vector y was passed when a 1d array was expected. Please change the shape of y to (n_samples,), for example using ravel().\n",
            "  clf.fit(X_train, y_train) # обучаем\n"
          ]
        },
        {
          "output_type": "stream",
          "name": "stdout",
          "text": [
            "0.9998081800549884 0.6912751677852349 3 5 14\n"
          ]
        },
        {
          "output_type": "stream",
          "name": "stderr",
          "text": [
            "<ipython-input-49-218c55f7a3ea>:22: DataConversionWarning: A column-vector y was passed when a 1d array was expected. Please change the shape of y to (n_samples,), for example using ravel().\n",
            "  clf.fit(X_train, y_train) # обучаем\n"
          ]
        },
        {
          "output_type": "stream",
          "name": "stdout",
          "text": [
            "0.9997655534005414 0.6778523489932886 3 5 15\n"
          ]
        },
        {
          "output_type": "stream",
          "name": "stderr",
          "text": [
            "<ipython-input-49-218c55f7a3ea>:22: DataConversionWarning: A column-vector y was passed when a 1d array was expected. Please change the shape of y to (n_samples,), for example using ravel().\n",
            "  clf.fit(X_train, y_train) # обучаем\n"
          ]
        },
        {
          "output_type": "stream",
          "name": "stdout",
          "text": [
            "0.9998294933822119 0.6912751677852349 3 5 16\n"
          ]
        },
        {
          "output_type": "stream",
          "name": "stderr",
          "text": [
            "<ipython-input-49-218c55f7a3ea>:22: DataConversionWarning: A column-vector y was passed when a 1d array was expected. Please change the shape of y to (n_samples,), for example using ravel().\n",
            "  clf.fit(X_train, y_train) # обучаем\n"
          ]
        },
        {
          "output_type": "stream",
          "name": "stdout",
          "text": [
            "0.9997548967369296 0.7315436241610738 3 5 17\n"
          ]
        },
        {
          "output_type": "stream",
          "name": "stderr",
          "text": [
            "<ipython-input-49-218c55f7a3ea>:22: DataConversionWarning: A column-vector y was passed when a 1d array was expected. Please change the shape of y to (n_samples,), for example using ravel().\n",
            "  clf.fit(X_train, y_train) # обучаем\n"
          ]
        },
        {
          "output_type": "stream",
          "name": "stdout",
          "text": [
            "0.9997655534005414 0.738255033557047 3 5 18\n"
          ]
        },
        {
          "output_type": "stream",
          "name": "stderr",
          "text": [
            "<ipython-input-49-218c55f7a3ea>:22: DataConversionWarning: A column-vector y was passed when a 1d array was expected. Please change the shape of y to (n_samples,), for example using ravel().\n",
            "  clf.fit(X_train, y_train) # обучаем\n"
          ]
        },
        {
          "output_type": "stream",
          "name": "stdout",
          "text": [
            "0.9996803000916473 0.7181208053691275 3 5 19\n"
          ]
        },
        {
          "output_type": "stream",
          "name": "stderr",
          "text": [
            "<ipython-input-49-218c55f7a3ea>:22: DataConversionWarning: A column-vector y was passed when a 1d array was expected. Please change the shape of y to (n_samples,), for example using ravel().\n",
            "  clf.fit(X_train, y_train) # обучаем\n"
          ]
        },
        {
          "output_type": "stream",
          "name": "stdout",
          "text": [
            "0.9997548967369296 0.7046979865771812 3 5 20\n"
          ]
        },
        {
          "output_type": "stream",
          "name": "stderr",
          "text": [
            "<ipython-input-49-218c55f7a3ea>:22: DataConversionWarning: A column-vector y was passed when a 1d array was expected. Please change the shape of y to (n_samples,), for example using ravel().\n",
            "  clf.fit(X_train, y_train) # обучаем\n"
          ]
        },
        {
          "output_type": "stream",
          "name": "stdout",
          "text": [
            "0.9996909567552591 0.7114093959731543 3 5 21\n"
          ]
        },
        {
          "output_type": "stream",
          "name": "stderr",
          "text": [
            "<ipython-input-49-218c55f7a3ea>:22: DataConversionWarning: A column-vector y was passed when a 1d array was expected. Please change the shape of y to (n_samples,), for example using ravel().\n",
            "  clf.fit(X_train, y_train) # обучаем\n"
          ]
        },
        {
          "output_type": "stream",
          "name": "stdout",
          "text": [
            "0.9998614633730472 0.6845637583892618 3 5 22\n"
          ]
        },
        {
          "output_type": "stream",
          "name": "stderr",
          "text": [
            "<ipython-input-49-218c55f7a3ea>:22: DataConversionWarning: A column-vector y was passed when a 1d array was expected. Please change the shape of y to (n_samples,), for example using ravel().\n",
            "  clf.fit(X_train, y_train) # обучаем\n"
          ]
        },
        {
          "output_type": "stream",
          "name": "stdout",
          "text": [
            "0.9997975233913766 0.6912751677852349 3 5 23\n"
          ]
        },
        {
          "output_type": "stream",
          "name": "stderr",
          "text": [
            "<ipython-input-49-218c55f7a3ea>:22: DataConversionWarning: A column-vector y was passed when a 1d array was expected. Please change the shape of y to (n_samples,), for example using ravel().\n",
            "  clf.fit(X_train, y_train) # обучаем\n"
          ]
        },
        {
          "output_type": "stream",
          "name": "stdout",
          "text": [
            "0.9997868667277648 0.7181208053691275 3 5 24\n"
          ]
        },
        {
          "output_type": "stream",
          "name": "stderr",
          "text": [
            "<ipython-input-49-218c55f7a3ea>:22: DataConversionWarning: A column-vector y was passed when a 1d array was expected. Please change the shape of y to (n_samples,), for example using ravel().\n",
            "  clf.fit(X_train, y_train) # обучаем\n"
          ]
        },
        {
          "output_type": "stream",
          "name": "stdout",
          "text": [
            "0.9997975233913766 0.7046979865771812 3 5 25\n"
          ]
        },
        {
          "output_type": "stream",
          "name": "stderr",
          "text": [
            "<ipython-input-49-218c55f7a3ea>:22: DataConversionWarning: A column-vector y was passed when a 1d array was expected. Please change the shape of y to (n_samples,), for example using ravel().\n",
            "  clf.fit(X_train, y_train) # обучаем\n"
          ]
        },
        {
          "output_type": "stream",
          "name": "stdout",
          "text": [
            "0.9997229267460943 0.7046979865771812 3 5 26\n"
          ]
        },
        {
          "output_type": "stream",
          "name": "stderr",
          "text": [
            "<ipython-input-49-218c55f7a3ea>:22: DataConversionWarning: A column-vector y was passed when a 1d array was expected. Please change the shape of y to (n_samples,), for example using ravel().\n",
            "  clf.fit(X_train, y_train) # обучаем\n"
          ]
        },
        {
          "output_type": "stream",
          "name": "stdout",
          "text": [
            "0.9997442400733179 0.7114093959731543 3 5 27\n"
          ]
        },
        {
          "output_type": "stream",
          "name": "stderr",
          "text": [
            "<ipython-input-49-218c55f7a3ea>:22: DataConversionWarning: A column-vector y was passed when a 1d array was expected. Please change the shape of y to (n_samples,), for example using ravel().\n",
            "  clf.fit(X_train, y_train) # обучаем\n"
          ]
        },
        {
          "output_type": "stream",
          "name": "stdout",
          "text": [
            "0.9998401500458236 0.697986577181208 3 5 28\n"
          ]
        },
        {
          "output_type": "stream",
          "name": "stderr",
          "text": [
            "<ipython-input-49-218c55f7a3ea>:22: DataConversionWarning: A column-vector y was passed when a 1d array was expected. Please change the shape of y to (n_samples,), for example using ravel().\n",
            "  clf.fit(X_train, y_train) # обучаем\n"
          ]
        },
        {
          "output_type": "stream",
          "name": "stdout",
          "text": [
            "0.9997016134188709 0.7449664429530201 3 5 29\n"
          ]
        },
        {
          "output_type": "stream",
          "name": "stderr",
          "text": [
            "<ipython-input-49-218c55f7a3ea>:22: DataConversionWarning: A column-vector y was passed when a 1d array was expected. Please change the shape of y to (n_samples,), for example using ravel().\n",
            "  clf.fit(X_train, y_train) # обучаем\n"
          ]
        },
        {
          "output_type": "stream",
          "name": "stdout",
          "text": [
            "0.9998081800549884 0.6912751677852349 3 5 30\n"
          ]
        },
        {
          "output_type": "stream",
          "name": "stderr",
          "text": [
            "<ipython-input-49-218c55f7a3ea>:22: DataConversionWarning: A column-vector y was passed when a 1d array was expected. Please change the shape of y to (n_samples,), for example using ravel().\n",
            "  clf.fit(X_train, y_train) # обучаем\n"
          ]
        },
        {
          "output_type": "stream",
          "name": "stdout",
          "text": [
            "0.9999786866727765 0.15436241610738255 4 1 1\n"
          ]
        },
        {
          "output_type": "stream",
          "name": "stderr",
          "text": [
            "<ipython-input-49-218c55f7a3ea>:22: DataConversionWarning: A column-vector y was passed when a 1d array was expected. Please change the shape of y to (n_samples,), for example using ravel().\n",
            "  clf.fit(X_train, y_train) # обучаем\n"
          ]
        },
        {
          "output_type": "stream",
          "name": "stdout",
          "text": [
            "0.9998614633730472 0.5973154362416108 4 1 2\n"
          ]
        },
        {
          "output_type": "stream",
          "name": "stderr",
          "text": [
            "<ipython-input-49-218c55f7a3ea>:22: DataConversionWarning: A column-vector y was passed when a 1d array was expected. Please change the shape of y to (n_samples,), for example using ravel().\n",
            "  clf.fit(X_train, y_train) # обучаем\n"
          ]
        },
        {
          "output_type": "stream",
          "name": "stdout",
          "text": [
            "0.9997868667277648 0.651006711409396 4 1 3\n"
          ]
        },
        {
          "output_type": "stream",
          "name": "stderr",
          "text": [
            "<ipython-input-49-218c55f7a3ea>:22: DataConversionWarning: A column-vector y was passed when a 1d array was expected. Please change the shape of y to (n_samples,), for example using ravel().\n",
            "  clf.fit(X_train, y_train) # обучаем\n"
          ]
        },
        {
          "output_type": "stream",
          "name": "stdout",
          "text": [
            "0.9997335834097061 0.697986577181208 4 1 4\n"
          ]
        },
        {
          "output_type": "stream",
          "name": "stderr",
          "text": [
            "<ipython-input-49-218c55f7a3ea>:22: DataConversionWarning: A column-vector y was passed when a 1d array was expected. Please change the shape of y to (n_samples,), for example using ravel().\n",
            "  clf.fit(X_train, y_train) # обучаем\n"
          ]
        },
        {
          "output_type": "stream",
          "name": "stdout",
          "text": [
            "0.9997762100641531 0.6241610738255033 4 1 5\n"
          ]
        },
        {
          "output_type": "stream",
          "name": "stderr",
          "text": [
            "<ipython-input-49-218c55f7a3ea>:22: DataConversionWarning: A column-vector y was passed when a 1d array was expected. Please change the shape of y to (n_samples,), for example using ravel().\n",
            "  clf.fit(X_train, y_train) # обучаем\n"
          ]
        },
        {
          "output_type": "stream",
          "name": "stdout",
          "text": [
            "0.9997229267460943 0.6778523489932886 4 1 6\n"
          ]
        },
        {
          "output_type": "stream",
          "name": "stderr",
          "text": [
            "<ipython-input-49-218c55f7a3ea>:22: DataConversionWarning: A column-vector y was passed when a 1d array was expected. Please change the shape of y to (n_samples,), for example using ravel().\n",
            "  clf.fit(X_train, y_train) # обучаем\n"
          ]
        },
        {
          "output_type": "stream",
          "name": "stdout",
          "text": [
            "0.9998614633730472 0.7114093959731543 4 1 7\n"
          ]
        },
        {
          "output_type": "stream",
          "name": "stderr",
          "text": [
            "<ipython-input-49-218c55f7a3ea>:22: DataConversionWarning: A column-vector y was passed when a 1d array was expected. Please change the shape of y to (n_samples,), for example using ravel().\n",
            "  clf.fit(X_train, y_train) # обучаем\n"
          ]
        },
        {
          "output_type": "stream",
          "name": "stdout",
          "text": [
            "0.9999040900274941 0.6442953020134228 4 1 8\n"
          ]
        },
        {
          "output_type": "stream",
          "name": "stderr",
          "text": [
            "<ipython-input-49-218c55f7a3ea>:22: DataConversionWarning: A column-vector y was passed when a 1d array was expected. Please change the shape of y to (n_samples,), for example using ravel().\n",
            "  clf.fit(X_train, y_train) # обучаем\n"
          ]
        },
        {
          "output_type": "stream",
          "name": "stdout",
          "text": [
            "0.9998401500458236 0.651006711409396 4 1 9\n"
          ]
        },
        {
          "output_type": "stream",
          "name": "stderr",
          "text": [
            "<ipython-input-49-218c55f7a3ea>:22: DataConversionWarning: A column-vector y was passed when a 1d array was expected. Please change the shape of y to (n_samples,), for example using ravel().\n",
            "  clf.fit(X_train, y_train) # обучаем\n"
          ]
        },
        {
          "output_type": "stream",
          "name": "stdout",
          "text": [
            "0.9997975233913766 0.6577181208053691 4 1 10\n"
          ]
        },
        {
          "output_type": "stream",
          "name": "stderr",
          "text": [
            "<ipython-input-49-218c55f7a3ea>:22: DataConversionWarning: A column-vector y was passed when a 1d array was expected. Please change the shape of y to (n_samples,), for example using ravel().\n",
            "  clf.fit(X_train, y_train) # обучаем\n"
          ]
        },
        {
          "output_type": "stream",
          "name": "stdout",
          "text": [
            "0.9998188367186002 0.6845637583892618 4 1 11\n"
          ]
        },
        {
          "output_type": "stream",
          "name": "stderr",
          "text": [
            "<ipython-input-49-218c55f7a3ea>:22: DataConversionWarning: A column-vector y was passed when a 1d array was expected. Please change the shape of y to (n_samples,), for example using ravel().\n",
            "  clf.fit(X_train, y_train) # обучаем\n"
          ]
        },
        {
          "output_type": "stream",
          "name": "stdout",
          "text": [
            "0.9998721200366589 0.6174496644295302 4 1 12\n"
          ]
        },
        {
          "output_type": "stream",
          "name": "stderr",
          "text": [
            "<ipython-input-49-218c55f7a3ea>:22: DataConversionWarning: A column-vector y was passed when a 1d array was expected. Please change the shape of y to (n_samples,), for example using ravel().\n",
            "  clf.fit(X_train, y_train) # обучаем\n"
          ]
        },
        {
          "output_type": "stream",
          "name": "stdout",
          "text": [
            "0.9998721200366589 0.610738255033557 4 1 13\n"
          ]
        },
        {
          "output_type": "stream",
          "name": "stderr",
          "text": [
            "<ipython-input-49-218c55f7a3ea>:22: DataConversionWarning: A column-vector y was passed when a 1d array was expected. Please change the shape of y to (n_samples,), for example using ravel().\n",
            "  clf.fit(X_train, y_train) # обучаем\n"
          ]
        },
        {
          "output_type": "stream",
          "name": "stdout",
          "text": [
            "0.9996589867644238 0.7986577181208054 4 1 14\n"
          ]
        },
        {
          "output_type": "stream",
          "name": "stderr",
          "text": [
            "<ipython-input-49-218c55f7a3ea>:22: DataConversionWarning: A column-vector y was passed when a 1d array was expected. Please change the shape of y to (n_samples,), for example using ravel().\n",
            "  clf.fit(X_train, y_train) # обучаем\n"
          ]
        },
        {
          "output_type": "stream",
          "name": "stdout",
          "text": [
            "0.9997335834097061 0.8120805369127517 4 1 15\n"
          ]
        },
        {
          "output_type": "stream",
          "name": "stderr",
          "text": [
            "<ipython-input-49-218c55f7a3ea>:22: DataConversionWarning: A column-vector y was passed when a 1d array was expected. Please change the shape of y to (n_samples,), for example using ravel().\n",
            "  clf.fit(X_train, y_train) # обучаем\n"
          ]
        },
        {
          "output_type": "stream",
          "name": "stdout",
          "text": [
            "0.9998081800549884 0.7114093959731543 4 1 16\n"
          ]
        },
        {
          "output_type": "stream",
          "name": "stderr",
          "text": [
            "<ipython-input-49-218c55f7a3ea>:22: DataConversionWarning: A column-vector y was passed when a 1d array was expected. Please change the shape of y to (n_samples,), for example using ravel().\n",
            "  clf.fit(X_train, y_train) # обучаем\n"
          ]
        },
        {
          "output_type": "stream",
          "name": "stdout",
          "text": [
            "0.9997868667277648 0.697986577181208 4 1 17\n"
          ]
        },
        {
          "output_type": "stream",
          "name": "stderr",
          "text": [
            "<ipython-input-49-218c55f7a3ea>:22: DataConversionWarning: A column-vector y was passed when a 1d array was expected. Please change the shape of y to (n_samples,), for example using ravel().\n",
            "  clf.fit(X_train, y_train) # обучаем\n"
          ]
        },
        {
          "output_type": "stream",
          "name": "stdout",
          "text": [
            "0.9997229267460943 0.7449664429530201 4 1 18\n"
          ]
        },
        {
          "output_type": "stream",
          "name": "stderr",
          "text": [
            "<ipython-input-49-218c55f7a3ea>:22: DataConversionWarning: A column-vector y was passed when a 1d array was expected. Please change the shape of y to (n_samples,), for example using ravel().\n",
            "  clf.fit(X_train, y_train) # обучаем\n"
          ]
        },
        {
          "output_type": "stream",
          "name": "stdout",
          "text": [
            "0.9998508067094354 0.6577181208053691 4 1 19\n"
          ]
        },
        {
          "output_type": "stream",
          "name": "stderr",
          "text": [
            "<ipython-input-49-218c55f7a3ea>:22: DataConversionWarning: A column-vector y was passed when a 1d array was expected. Please change the shape of y to (n_samples,), for example using ravel().\n",
            "  clf.fit(X_train, y_train) # обучаем\n"
          ]
        },
        {
          "output_type": "stream",
          "name": "stdout",
          "text": [
            "0.9998614633730472 0.7046979865771812 4 1 20\n"
          ]
        },
        {
          "output_type": "stream",
          "name": "stderr",
          "text": [
            "<ipython-input-49-218c55f7a3ea>:22: DataConversionWarning: A column-vector y was passed when a 1d array was expected. Please change the shape of y to (n_samples,), for example using ravel().\n",
            "  clf.fit(X_train, y_train) # обучаем\n"
          ]
        },
        {
          "output_type": "stream",
          "name": "stdout",
          "text": [
            "0.9996803000916473 0.7516778523489933 4 1 21\n"
          ]
        },
        {
          "output_type": "stream",
          "name": "stderr",
          "text": [
            "<ipython-input-49-218c55f7a3ea>:22: DataConversionWarning: A column-vector y was passed when a 1d array was expected. Please change the shape of y to (n_samples,), for example using ravel().\n",
            "  clf.fit(X_train, y_train) # обучаем\n"
          ]
        },
        {
          "output_type": "stream",
          "name": "stdout",
          "text": [
            "0.9997442400733179 0.697986577181208 4 1 22\n"
          ]
        },
        {
          "output_type": "stream",
          "name": "stderr",
          "text": [
            "<ipython-input-49-218c55f7a3ea>:22: DataConversionWarning: A column-vector y was passed when a 1d array was expected. Please change the shape of y to (n_samples,), for example using ravel().\n",
            "  clf.fit(X_train, y_train) # обучаем\n"
          ]
        },
        {
          "output_type": "stream",
          "name": "stdout",
          "text": [
            "0.9998294933822119 0.7315436241610738 4 1 23\n"
          ]
        },
        {
          "output_type": "stream",
          "name": "stderr",
          "text": [
            "<ipython-input-49-218c55f7a3ea>:22: DataConversionWarning: A column-vector y was passed when a 1d array was expected. Please change the shape of y to (n_samples,), for example using ravel().\n",
            "  clf.fit(X_train, y_train) # обучаем\n"
          ]
        },
        {
          "output_type": "stream",
          "name": "stdout",
          "text": [
            "0.9997442400733179 0.7114093959731543 4 1 24\n"
          ]
        },
        {
          "output_type": "stream",
          "name": "stderr",
          "text": [
            "<ipython-input-49-218c55f7a3ea>:22: DataConversionWarning: A column-vector y was passed when a 1d array was expected. Please change the shape of y to (n_samples,), for example using ravel().\n",
            "  clf.fit(X_train, y_train) # обучаем\n"
          ]
        },
        {
          "output_type": "stream",
          "name": "stdout",
          "text": [
            "0.9998081800549884 0.7449664429530201 4 1 25\n"
          ]
        },
        {
          "output_type": "stream",
          "name": "stderr",
          "text": [
            "<ipython-input-49-218c55f7a3ea>:22: DataConversionWarning: A column-vector y was passed when a 1d array was expected. Please change the shape of y to (n_samples,), for example using ravel().\n",
            "  clf.fit(X_train, y_train) # обучаем\n"
          ]
        },
        {
          "output_type": "stream",
          "name": "stdout",
          "text": [
            "0.9996909567552591 0.7315436241610738 4 1 26\n"
          ]
        },
        {
          "output_type": "stream",
          "name": "stderr",
          "text": [
            "<ipython-input-49-218c55f7a3ea>:22: DataConversionWarning: A column-vector y was passed when a 1d array was expected. Please change the shape of y to (n_samples,), for example using ravel().\n",
            "  clf.fit(X_train, y_train) # обучаем\n"
          ]
        },
        {
          "output_type": "stream",
          "name": "stdout",
          "text": [
            "0.9997868667277648 0.7583892617449665 4 1 27\n"
          ]
        },
        {
          "output_type": "stream",
          "name": "stderr",
          "text": [
            "<ipython-input-49-218c55f7a3ea>:22: DataConversionWarning: A column-vector y was passed when a 1d array was expected. Please change the shape of y to (n_samples,), for example using ravel().\n",
            "  clf.fit(X_train, y_train) # обучаем\n"
          ]
        },
        {
          "output_type": "stream",
          "name": "stdout",
          "text": [
            "0.9997548967369296 0.738255033557047 4 1 28\n"
          ]
        },
        {
          "output_type": "stream",
          "name": "stderr",
          "text": [
            "<ipython-input-49-218c55f7a3ea>:22: DataConversionWarning: A column-vector y was passed when a 1d array was expected. Please change the shape of y to (n_samples,), for example using ravel().\n",
            "  clf.fit(X_train, y_train) # обучаем\n"
          ]
        },
        {
          "output_type": "stream",
          "name": "stdout",
          "text": [
            "0.9997655534005414 0.7718120805369127 4 1 29\n"
          ]
        },
        {
          "output_type": "stream",
          "name": "stderr",
          "text": [
            "<ipython-input-49-218c55f7a3ea>:22: DataConversionWarning: A column-vector y was passed when a 1d array was expected. Please change the shape of y to (n_samples,), for example using ravel().\n",
            "  clf.fit(X_train, y_train) # обучаем\n"
          ]
        },
        {
          "output_type": "stream",
          "name": "stdout",
          "text": [
            "0.9998401500458236 0.7315436241610738 4 1 30\n"
          ]
        },
        {
          "output_type": "stream",
          "name": "stderr",
          "text": [
            "<ipython-input-49-218c55f7a3ea>:22: DataConversionWarning: A column-vector y was passed when a 1d array was expected. Please change the shape of y to (n_samples,), for example using ravel().\n",
            "  clf.fit(X_train, y_train) # обучаем\n"
          ]
        },
        {
          "output_type": "stream",
          "name": "stdout",
          "text": [
            "0.999957373345553 0.24161073825503354 4 2 1\n"
          ]
        },
        {
          "output_type": "stream",
          "name": "stderr",
          "text": [
            "<ipython-input-49-218c55f7a3ea>:22: DataConversionWarning: A column-vector y was passed when a 1d array was expected. Please change the shape of y to (n_samples,), for example using ravel().\n",
            "  clf.fit(X_train, y_train) # обучаем\n"
          ]
        },
        {
          "output_type": "stream",
          "name": "stdout",
          "text": [
            "0.9997229267460943 0.6442953020134228 4 2 2\n"
          ]
        },
        {
          "output_type": "stream",
          "name": "stderr",
          "text": [
            "<ipython-input-49-218c55f7a3ea>:22: DataConversionWarning: A column-vector y was passed when a 1d array was expected. Please change the shape of y to (n_samples,), for example using ravel().\n",
            "  clf.fit(X_train, y_train) # обучаем\n"
          ]
        },
        {
          "output_type": "stream",
          "name": "stdout",
          "text": [
            "0.9998081800549884 0.6711409395973154 4 2 3\n"
          ]
        },
        {
          "output_type": "stream",
          "name": "stderr",
          "text": [
            "<ipython-input-49-218c55f7a3ea>:22: DataConversionWarning: A column-vector y was passed when a 1d array was expected. Please change the shape of y to (n_samples,), for example using ravel().\n",
            "  clf.fit(X_train, y_train) # обучаем\n"
          ]
        },
        {
          "output_type": "stream",
          "name": "stdout",
          "text": [
            "0.9998721200366589 0.5973154362416108 4 2 4\n"
          ]
        },
        {
          "output_type": "stream",
          "name": "stderr",
          "text": [
            "<ipython-input-49-218c55f7a3ea>:22: DataConversionWarning: A column-vector y was passed when a 1d array was expected. Please change the shape of y to (n_samples,), for example using ravel().\n",
            "  clf.fit(X_train, y_train) # обучаем\n"
          ]
        },
        {
          "output_type": "stream",
          "name": "stdout",
          "text": [
            "0.9998934333638825 0.5906040268456376 4 2 5\n"
          ]
        },
        {
          "output_type": "stream",
          "name": "stderr",
          "text": [
            "<ipython-input-49-218c55f7a3ea>:22: DataConversionWarning: A column-vector y was passed when a 1d array was expected. Please change the shape of y to (n_samples,), for example using ravel().\n",
            "  clf.fit(X_train, y_train) # обучаем\n"
          ]
        },
        {
          "output_type": "stream",
          "name": "stdout",
          "text": [
            "0.9997442400733179 0.6778523489932886 4 2 6\n"
          ]
        },
        {
          "output_type": "stream",
          "name": "stderr",
          "text": [
            "<ipython-input-49-218c55f7a3ea>:22: DataConversionWarning: A column-vector y was passed when a 1d array was expected. Please change the shape of y to (n_samples,), for example using ravel().\n",
            "  clf.fit(X_train, y_train) # обучаем\n"
          ]
        },
        {
          "output_type": "stream",
          "name": "stdout",
          "text": [
            "0.9997548967369296 0.7114093959731543 4 2 7\n"
          ]
        },
        {
          "output_type": "stream",
          "name": "stderr",
          "text": [
            "<ipython-input-49-218c55f7a3ea>:22: DataConversionWarning: A column-vector y was passed when a 1d array was expected. Please change the shape of y to (n_samples,), for example using ravel().\n",
            "  clf.fit(X_train, y_train) # обучаем\n"
          ]
        },
        {
          "output_type": "stream",
          "name": "stdout",
          "text": [
            "0.9997335834097061 0.7114093959731543 4 2 8\n"
          ]
        },
        {
          "output_type": "stream",
          "name": "stderr",
          "text": [
            "<ipython-input-49-218c55f7a3ea>:22: DataConversionWarning: A column-vector y was passed when a 1d array was expected. Please change the shape of y to (n_samples,), for example using ravel().\n",
            "  clf.fit(X_train, y_train) # обучаем\n"
          ]
        },
        {
          "output_type": "stream",
          "name": "stdout",
          "text": [
            "0.9998508067094354 0.6375838926174497 4 2 9\n"
          ]
        },
        {
          "output_type": "stream",
          "name": "stderr",
          "text": [
            "<ipython-input-49-218c55f7a3ea>:22: DataConversionWarning: A column-vector y was passed when a 1d array was expected. Please change the shape of y to (n_samples,), for example using ravel().\n",
            "  clf.fit(X_train, y_train) # обучаем\n"
          ]
        },
        {
          "output_type": "stream",
          "name": "stdout",
          "text": [
            "0.9998081800549884 0.7046979865771812 4 2 10\n"
          ]
        },
        {
          "output_type": "stream",
          "name": "stderr",
          "text": [
            "<ipython-input-49-218c55f7a3ea>:22: DataConversionWarning: A column-vector y was passed when a 1d array was expected. Please change the shape of y to (n_samples,), for example using ravel().\n",
            "  clf.fit(X_train, y_train) # обучаем\n"
          ]
        },
        {
          "output_type": "stream",
          "name": "stdout",
          "text": [
            "0.9998827767002707 0.6577181208053691 4 2 11\n"
          ]
        },
        {
          "output_type": "stream",
          "name": "stderr",
          "text": [
            "<ipython-input-49-218c55f7a3ea>:22: DataConversionWarning: A column-vector y was passed when a 1d array was expected. Please change the shape of y to (n_samples,), for example using ravel().\n",
            "  clf.fit(X_train, y_train) # обучаем\n"
          ]
        },
        {
          "output_type": "stream",
          "name": "stdout",
          "text": [
            "0.9998721200366589 0.6174496644295302 4 2 12\n"
          ]
        },
        {
          "output_type": "stream",
          "name": "stderr",
          "text": [
            "<ipython-input-49-218c55f7a3ea>:22: DataConversionWarning: A column-vector y was passed when a 1d array was expected. Please change the shape of y to (n_samples,), for example using ravel().\n",
            "  clf.fit(X_train, y_train) # обучаем\n"
          ]
        },
        {
          "output_type": "stream",
          "name": "stdout",
          "text": [
            "0.9998721200366589 0.7046979865771812 4 2 13\n"
          ]
        },
        {
          "output_type": "stream",
          "name": "stderr",
          "text": [
            "<ipython-input-49-218c55f7a3ea>:22: DataConversionWarning: A column-vector y was passed when a 1d array was expected. Please change the shape of y to (n_samples,), for example using ravel().\n",
            "  clf.fit(X_train, y_train) # обучаем\n"
          ]
        },
        {
          "output_type": "stream",
          "name": "stdout",
          "text": [
            "0.9997229267460943 0.738255033557047 4 2 14\n"
          ]
        },
        {
          "output_type": "stream",
          "name": "stderr",
          "text": [
            "<ipython-input-49-218c55f7a3ea>:22: DataConversionWarning: A column-vector y was passed when a 1d array was expected. Please change the shape of y to (n_samples,), for example using ravel().\n",
            "  clf.fit(X_train, y_train) # обучаем\n"
          ]
        },
        {
          "output_type": "stream",
          "name": "stdout",
          "text": [
            "0.9997762100641531 0.697986577181208 4 2 15\n"
          ]
        },
        {
          "output_type": "stream",
          "name": "stderr",
          "text": [
            "<ipython-input-49-218c55f7a3ea>:22: DataConversionWarning: A column-vector y was passed when a 1d array was expected. Please change the shape of y to (n_samples,), for example using ravel().\n",
            "  clf.fit(X_train, y_train) # обучаем\n"
          ]
        },
        {
          "output_type": "stream",
          "name": "stdout",
          "text": [
            "0.9998294933822119 0.7718120805369127 4 2 16\n"
          ]
        },
        {
          "output_type": "stream",
          "name": "stderr",
          "text": [
            "<ipython-input-49-218c55f7a3ea>:22: DataConversionWarning: A column-vector y was passed when a 1d array was expected. Please change the shape of y to (n_samples,), for example using ravel().\n",
            "  clf.fit(X_train, y_train) # обучаем\n"
          ]
        },
        {
          "output_type": "stream",
          "name": "stdout",
          "text": [
            "0.9998508067094354 0.6778523489932886 4 2 17\n"
          ]
        },
        {
          "output_type": "stream",
          "name": "stderr",
          "text": [
            "<ipython-input-49-218c55f7a3ea>:22: DataConversionWarning: A column-vector y was passed when a 1d array was expected. Please change the shape of y to (n_samples,), for example using ravel().\n",
            "  clf.fit(X_train, y_train) # обучаем\n"
          ]
        },
        {
          "output_type": "stream",
          "name": "stdout",
          "text": [
            "0.9998081800549884 0.651006711409396 4 2 18\n"
          ]
        },
        {
          "output_type": "stream",
          "name": "stderr",
          "text": [
            "<ipython-input-49-218c55f7a3ea>:22: DataConversionWarning: A column-vector y was passed when a 1d array was expected. Please change the shape of y to (n_samples,), for example using ravel().\n",
            "  clf.fit(X_train, y_train) # обучаем\n"
          ]
        },
        {
          "output_type": "stream",
          "name": "stdout",
          "text": [
            "0.9998827767002707 0.7114093959731543 4 2 19\n"
          ]
        },
        {
          "output_type": "stream",
          "name": "stderr",
          "text": [
            "<ipython-input-49-218c55f7a3ea>:22: DataConversionWarning: A column-vector y was passed when a 1d array was expected. Please change the shape of y to (n_samples,), for example using ravel().\n",
            "  clf.fit(X_train, y_train) # обучаем\n"
          ]
        },
        {
          "output_type": "stream",
          "name": "stdout",
          "text": [
            "0.9997655534005414 0.7449664429530201 4 2 20\n"
          ]
        },
        {
          "output_type": "stream",
          "name": "stderr",
          "text": [
            "<ipython-input-49-218c55f7a3ea>:22: DataConversionWarning: A column-vector y was passed when a 1d array was expected. Please change the shape of y to (n_samples,), for example using ravel().\n",
            "  clf.fit(X_train, y_train) # обучаем\n"
          ]
        },
        {
          "output_type": "stream",
          "name": "stdout",
          "text": [
            "0.9998401500458236 0.738255033557047 4 2 21\n"
          ]
        },
        {
          "output_type": "stream",
          "name": "stderr",
          "text": [
            "<ipython-input-49-218c55f7a3ea>:22: DataConversionWarning: A column-vector y was passed when a 1d array was expected. Please change the shape of y to (n_samples,), for example using ravel().\n",
            "  clf.fit(X_train, y_train) # обучаем\n"
          ]
        },
        {
          "output_type": "stream",
          "name": "stdout",
          "text": [
            "0.9997442400733179 0.785234899328859 4 2 22\n"
          ]
        },
        {
          "output_type": "stream",
          "name": "stderr",
          "text": [
            "<ipython-input-49-218c55f7a3ea>:22: DataConversionWarning: A column-vector y was passed when a 1d array was expected. Please change the shape of y to (n_samples,), for example using ravel().\n",
            "  clf.fit(X_train, y_train) # обучаем\n"
          ]
        },
        {
          "output_type": "stream",
          "name": "stdout",
          "text": [
            "0.9998081800549884 0.7583892617449665 4 2 23\n"
          ]
        },
        {
          "output_type": "stream",
          "name": "stderr",
          "text": [
            "<ipython-input-49-218c55f7a3ea>:22: DataConversionWarning: A column-vector y was passed when a 1d array was expected. Please change the shape of y to (n_samples,), for example using ravel().\n",
            "  clf.fit(X_train, y_train) # обучаем\n"
          ]
        },
        {
          "output_type": "stream",
          "name": "stdout",
          "text": [
            "0.9998827767002707 0.6442953020134228 4 2 24\n"
          ]
        },
        {
          "output_type": "stream",
          "name": "stderr",
          "text": [
            "<ipython-input-49-218c55f7a3ea>:22: DataConversionWarning: A column-vector y was passed when a 1d array was expected. Please change the shape of y to (n_samples,), for example using ravel().\n",
            "  clf.fit(X_train, y_train) # обучаем\n"
          ]
        },
        {
          "output_type": "stream",
          "name": "stdout",
          "text": [
            "0.9998827767002707 0.6845637583892618 4 2 25\n"
          ]
        },
        {
          "output_type": "stream",
          "name": "stderr",
          "text": [
            "<ipython-input-49-218c55f7a3ea>:22: DataConversionWarning: A column-vector y was passed when a 1d array was expected. Please change the shape of y to (n_samples,), for example using ravel().\n",
            "  clf.fit(X_train, y_train) # обучаем\n"
          ]
        },
        {
          "output_type": "stream",
          "name": "stdout",
          "text": [
            "0.9999254033547177 0.651006711409396 4 2 26\n"
          ]
        },
        {
          "output_type": "stream",
          "name": "stderr",
          "text": [
            "<ipython-input-49-218c55f7a3ea>:22: DataConversionWarning: A column-vector y was passed when a 1d array was expected. Please change the shape of y to (n_samples,), for example using ravel().\n",
            "  clf.fit(X_train, y_train) # обучаем\n"
          ]
        },
        {
          "output_type": "stream",
          "name": "stdout",
          "text": [
            "0.9998508067094354 0.7785234899328859 4 2 27\n"
          ]
        },
        {
          "output_type": "stream",
          "name": "stderr",
          "text": [
            "<ipython-input-49-218c55f7a3ea>:22: DataConversionWarning: A column-vector y was passed when a 1d array was expected. Please change the shape of y to (n_samples,), for example using ravel().\n",
            "  clf.fit(X_train, y_train) # обучаем\n"
          ]
        },
        {
          "output_type": "stream",
          "name": "stdout",
          "text": [
            "0.9997975233913766 0.7046979865771812 4 2 28\n"
          ]
        },
        {
          "output_type": "stream",
          "name": "stderr",
          "text": [
            "<ipython-input-49-218c55f7a3ea>:22: DataConversionWarning: A column-vector y was passed when a 1d array was expected. Please change the shape of y to (n_samples,), for example using ravel().\n",
            "  clf.fit(X_train, y_train) # обучаем\n"
          ]
        },
        {
          "output_type": "stream",
          "name": "stdout",
          "text": [
            "0.9998827767002707 0.7449664429530201 4 2 29\n"
          ]
        },
        {
          "output_type": "stream",
          "name": "stderr",
          "text": [
            "<ipython-input-49-218c55f7a3ea>:22: DataConversionWarning: A column-vector y was passed when a 1d array was expected. Please change the shape of y to (n_samples,), for example using ravel().\n",
            "  clf.fit(X_train, y_train) # обучаем\n"
          ]
        },
        {
          "output_type": "stream",
          "name": "stdout",
          "text": [
            "0.9998934333638825 0.6644295302013423 4 2 30\n"
          ]
        },
        {
          "output_type": "stream",
          "name": "stderr",
          "text": [
            "<ipython-input-49-218c55f7a3ea>:22: DataConversionWarning: A column-vector y was passed when a 1d array was expected. Please change the shape of y to (n_samples,), for example using ravel().\n",
            "  clf.fit(X_train, y_train) # обучаем\n"
          ]
        },
        {
          "output_type": "stream",
          "name": "stdout",
          "text": [
            "0.9999254033547177 0.4161073825503355 4 3 1\n"
          ]
        },
        {
          "output_type": "stream",
          "name": "stderr",
          "text": [
            "<ipython-input-49-218c55f7a3ea>:22: DataConversionWarning: A column-vector y was passed when a 1d array was expected. Please change the shape of y to (n_samples,), for example using ravel().\n",
            "  clf.fit(X_train, y_train) # обучаем\n"
          ]
        },
        {
          "output_type": "stream",
          "name": "stdout",
          "text": [
            "0.9998827767002707 0.44966442953020136 4 3 2\n"
          ]
        },
        {
          "output_type": "stream",
          "name": "stderr",
          "text": [
            "<ipython-input-49-218c55f7a3ea>:22: DataConversionWarning: A column-vector y was passed when a 1d array was expected. Please change the shape of y to (n_samples,), for example using ravel().\n",
            "  clf.fit(X_train, y_train) # обучаем\n"
          ]
        },
        {
          "output_type": "stream",
          "name": "stdout",
          "text": [
            "0.9998614633730472 0.6778523489932886 4 3 3\n"
          ]
        },
        {
          "output_type": "stream",
          "name": "stderr",
          "text": [
            "<ipython-input-49-218c55f7a3ea>:22: DataConversionWarning: A column-vector y was passed when a 1d array was expected. Please change the shape of y to (n_samples,), for example using ravel().\n",
            "  clf.fit(X_train, y_train) # обучаем\n"
          ]
        },
        {
          "output_type": "stream",
          "name": "stdout",
          "text": [
            "0.9997975233913766 0.6912751677852349 4 3 4\n"
          ]
        },
        {
          "output_type": "stream",
          "name": "stderr",
          "text": [
            "<ipython-input-49-218c55f7a3ea>:22: DataConversionWarning: A column-vector y was passed when a 1d array was expected. Please change the shape of y to (n_samples,), for example using ravel().\n",
            "  clf.fit(X_train, y_train) # обучаем\n"
          ]
        },
        {
          "output_type": "stream",
          "name": "stdout",
          "text": [
            "0.9998401500458236 0.7315436241610738 4 3 5\n"
          ]
        },
        {
          "output_type": "stream",
          "name": "stderr",
          "text": [
            "<ipython-input-49-218c55f7a3ea>:22: DataConversionWarning: A column-vector y was passed when a 1d array was expected. Please change the shape of y to (n_samples,), for example using ravel().\n",
            "  clf.fit(X_train, y_train) # обучаем\n"
          ]
        },
        {
          "output_type": "stream",
          "name": "stdout",
          "text": [
            "0.9997442400733179 0.7114093959731543 4 3 6\n"
          ]
        },
        {
          "output_type": "stream",
          "name": "stderr",
          "text": [
            "<ipython-input-49-218c55f7a3ea>:22: DataConversionWarning: A column-vector y was passed when a 1d array was expected. Please change the shape of y to (n_samples,), for example using ravel().\n",
            "  clf.fit(X_train, y_train) # обучаем\n"
          ]
        },
        {
          "output_type": "stream",
          "name": "stdout",
          "text": [
            "0.9998827767002707 0.6778523489932886 4 3 7\n"
          ]
        },
        {
          "output_type": "stream",
          "name": "stderr",
          "text": [
            "<ipython-input-49-218c55f7a3ea>:22: DataConversionWarning: A column-vector y was passed when a 1d array was expected. Please change the shape of y to (n_samples,), for example using ravel().\n",
            "  clf.fit(X_train, y_train) # обучаем\n"
          ]
        },
        {
          "output_type": "stream",
          "name": "stdout",
          "text": [
            "0.9998401500458236 0.7114093959731543 4 3 8\n"
          ]
        },
        {
          "output_type": "stream",
          "name": "stderr",
          "text": [
            "<ipython-input-49-218c55f7a3ea>:22: DataConversionWarning: A column-vector y was passed when a 1d array was expected. Please change the shape of y to (n_samples,), for example using ravel().\n",
            "  clf.fit(X_train, y_train) # обучаем\n"
          ]
        },
        {
          "output_type": "stream",
          "name": "stdout",
          "text": [
            "0.9998081800549884 0.697986577181208 4 3 9\n"
          ]
        },
        {
          "output_type": "stream",
          "name": "stderr",
          "text": [
            "<ipython-input-49-218c55f7a3ea>:22: DataConversionWarning: A column-vector y was passed when a 1d array was expected. Please change the shape of y to (n_samples,), for example using ravel().\n",
            "  clf.fit(X_train, y_train) # обучаем\n"
          ]
        },
        {
          "output_type": "stream",
          "name": "stdout",
          "text": [
            "0.9999040900274941 0.7785234899328859 4 3 10\n"
          ]
        },
        {
          "output_type": "stream",
          "name": "stderr",
          "text": [
            "<ipython-input-49-218c55f7a3ea>:22: DataConversionWarning: A column-vector y was passed when a 1d array was expected. Please change the shape of y to (n_samples,), for example using ravel().\n",
            "  clf.fit(X_train, y_train) # обучаем\n"
          ]
        },
        {
          "output_type": "stream",
          "name": "stdout",
          "text": [
            "0.9998721200366589 0.6845637583892618 4 3 11\n"
          ]
        },
        {
          "output_type": "stream",
          "name": "stderr",
          "text": [
            "<ipython-input-49-218c55f7a3ea>:22: DataConversionWarning: A column-vector y was passed when a 1d array was expected. Please change the shape of y to (n_samples,), for example using ravel().\n",
            "  clf.fit(X_train, y_train) # обучаем\n"
          ]
        },
        {
          "output_type": "stream",
          "name": "stdout",
          "text": [
            "0.9997975233913766 0.785234899328859 4 3 12\n"
          ]
        },
        {
          "output_type": "stream",
          "name": "stderr",
          "text": [
            "<ipython-input-49-218c55f7a3ea>:22: DataConversionWarning: A column-vector y was passed when a 1d array was expected. Please change the shape of y to (n_samples,), for example using ravel().\n",
            "  clf.fit(X_train, y_train) # обучаем\n"
          ]
        },
        {
          "output_type": "stream",
          "name": "stdout",
          "text": [
            "0.9998294933822119 0.7718120805369127 4 3 13\n"
          ]
        },
        {
          "output_type": "stream",
          "name": "stderr",
          "text": [
            "<ipython-input-49-218c55f7a3ea>:22: DataConversionWarning: A column-vector y was passed when a 1d array was expected. Please change the shape of y to (n_samples,), for example using ravel().\n",
            "  clf.fit(X_train, y_train) # обучаем\n"
          ]
        },
        {
          "output_type": "stream",
          "name": "stdout",
          "text": [
            "0.9997548967369296 0.697986577181208 4 3 14\n"
          ]
        },
        {
          "output_type": "stream",
          "name": "stderr",
          "text": [
            "<ipython-input-49-218c55f7a3ea>:22: DataConversionWarning: A column-vector y was passed when a 1d array was expected. Please change the shape of y to (n_samples,), for example using ravel().\n",
            "  clf.fit(X_train, y_train) # обучаем\n"
          ]
        },
        {
          "output_type": "stream",
          "name": "stdout",
          "text": [
            "0.9998188367186002 0.738255033557047 4 3 15\n"
          ]
        },
        {
          "output_type": "stream",
          "name": "stderr",
          "text": [
            "<ipython-input-49-218c55f7a3ea>:22: DataConversionWarning: A column-vector y was passed when a 1d array was expected. Please change the shape of y to (n_samples,), for example using ravel().\n",
            "  clf.fit(X_train, y_train) # обучаем\n"
          ]
        },
        {
          "output_type": "stream",
          "name": "stdout",
          "text": [
            "0.9998401500458236 0.7516778523489933 4 3 16\n"
          ]
        },
        {
          "output_type": "stream",
          "name": "stderr",
          "text": [
            "<ipython-input-49-218c55f7a3ea>:22: DataConversionWarning: A column-vector y was passed when a 1d array was expected. Please change the shape of y to (n_samples,), for example using ravel().\n",
            "  clf.fit(X_train, y_train) # обучаем\n"
          ]
        },
        {
          "output_type": "stream",
          "name": "stdout",
          "text": [
            "0.9997975233913766 0.7248322147651007 4 3 17\n"
          ]
        },
        {
          "output_type": "stream",
          "name": "stderr",
          "text": [
            "<ipython-input-49-218c55f7a3ea>:22: DataConversionWarning: A column-vector y was passed when a 1d array was expected. Please change the shape of y to (n_samples,), for example using ravel().\n",
            "  clf.fit(X_train, y_train) # обучаем\n"
          ]
        },
        {
          "output_type": "stream",
          "name": "stdout",
          "text": [
            "0.9998294933822119 0.7315436241610738 4 3 18\n"
          ]
        },
        {
          "output_type": "stream",
          "name": "stderr",
          "text": [
            "<ipython-input-49-218c55f7a3ea>:22: DataConversionWarning: A column-vector y was passed when a 1d array was expected. Please change the shape of y to (n_samples,), for example using ravel().\n",
            "  clf.fit(X_train, y_train) # обучаем\n"
          ]
        },
        {
          "output_type": "stream",
          "name": "stdout",
          "text": [
            "0.9998294933822119 0.7315436241610738 4 3 19\n"
          ]
        },
        {
          "output_type": "stream",
          "name": "stderr",
          "text": [
            "<ipython-input-49-218c55f7a3ea>:22: DataConversionWarning: A column-vector y was passed when a 1d array was expected. Please change the shape of y to (n_samples,), for example using ravel().\n",
            "  clf.fit(X_train, y_train) # обучаем\n"
          ]
        },
        {
          "output_type": "stream",
          "name": "stdout",
          "text": [
            "0.9998508067094354 0.738255033557047 4 3 20\n"
          ]
        },
        {
          "output_type": "stream",
          "name": "stderr",
          "text": [
            "<ipython-input-49-218c55f7a3ea>:22: DataConversionWarning: A column-vector y was passed when a 1d array was expected. Please change the shape of y to (n_samples,), for example using ravel().\n",
            "  clf.fit(X_train, y_train) # обучаем\n"
          ]
        },
        {
          "output_type": "stream",
          "name": "stdout",
          "text": [
            "0.9999040900274941 0.6845637583892618 4 3 21\n"
          ]
        },
        {
          "output_type": "stream",
          "name": "stderr",
          "text": [
            "<ipython-input-49-218c55f7a3ea>:22: DataConversionWarning: A column-vector y was passed when a 1d array was expected. Please change the shape of y to (n_samples,), for example using ravel().\n",
            "  clf.fit(X_train, y_train) # обучаем\n"
          ]
        },
        {
          "output_type": "stream",
          "name": "stdout",
          "text": [
            "0.9998081800549884 0.7114093959731543 4 3 22\n"
          ]
        },
        {
          "output_type": "stream",
          "name": "stderr",
          "text": [
            "<ipython-input-49-218c55f7a3ea>:22: DataConversionWarning: A column-vector y was passed when a 1d array was expected. Please change the shape of y to (n_samples,), for example using ravel().\n",
            "  clf.fit(X_train, y_train) # обучаем\n"
          ]
        },
        {
          "output_type": "stream",
          "name": "stdout",
          "text": [
            "0.9998294933822119 0.738255033557047 4 3 23\n"
          ]
        },
        {
          "output_type": "stream",
          "name": "stderr",
          "text": [
            "<ipython-input-49-218c55f7a3ea>:22: DataConversionWarning: A column-vector y was passed when a 1d array was expected. Please change the shape of y to (n_samples,), for example using ravel().\n",
            "  clf.fit(X_train, y_train) # обучаем\n"
          ]
        },
        {
          "output_type": "stream",
          "name": "stdout",
          "text": [
            "0.9998508067094354 0.7181208053691275 4 3 24\n"
          ]
        },
        {
          "output_type": "stream",
          "name": "stderr",
          "text": [
            "<ipython-input-49-218c55f7a3ea>:22: DataConversionWarning: A column-vector y was passed when a 1d array was expected. Please change the shape of y to (n_samples,), for example using ravel().\n",
            "  clf.fit(X_train, y_train) # обучаем\n"
          ]
        },
        {
          "output_type": "stream",
          "name": "stdout",
          "text": [
            "0.9997548967369296 0.738255033557047 4 3 25\n"
          ]
        },
        {
          "output_type": "stream",
          "name": "stderr",
          "text": [
            "<ipython-input-49-218c55f7a3ea>:22: DataConversionWarning: A column-vector y was passed when a 1d array was expected. Please change the shape of y to (n_samples,), for example using ravel().\n",
            "  clf.fit(X_train, y_train) # обучаем\n"
          ]
        },
        {
          "output_type": "stream",
          "name": "stdout",
          "text": [
            "0.9998294933822119 0.7449664429530201 4 3 26\n"
          ]
        },
        {
          "output_type": "stream",
          "name": "stderr",
          "text": [
            "<ipython-input-49-218c55f7a3ea>:22: DataConversionWarning: A column-vector y was passed when a 1d array was expected. Please change the shape of y to (n_samples,), for example using ravel().\n",
            "  clf.fit(X_train, y_train) # обучаем\n"
          ]
        },
        {
          "output_type": "stream",
          "name": "stdout",
          "text": [
            "0.9998401500458236 0.7315436241610738 4 3 27\n"
          ]
        },
        {
          "output_type": "stream",
          "name": "stderr",
          "text": [
            "<ipython-input-49-218c55f7a3ea>:22: DataConversionWarning: A column-vector y was passed when a 1d array was expected. Please change the shape of y to (n_samples,), for example using ravel().\n",
            "  clf.fit(X_train, y_train) # обучаем\n"
          ]
        },
        {
          "output_type": "stream",
          "name": "stdout",
          "text": [
            "0.9997335834097061 0.7785234899328859 4 3 28\n"
          ]
        },
        {
          "output_type": "stream",
          "name": "stderr",
          "text": [
            "<ipython-input-49-218c55f7a3ea>:22: DataConversionWarning: A column-vector y was passed when a 1d array was expected. Please change the shape of y to (n_samples,), for example using ravel().\n",
            "  clf.fit(X_train, y_train) # обучаем\n"
          ]
        },
        {
          "output_type": "stream",
          "name": "stdout",
          "text": [
            "0.9997548967369296 0.7315436241610738 4 3 29\n"
          ]
        },
        {
          "output_type": "stream",
          "name": "stderr",
          "text": [
            "<ipython-input-49-218c55f7a3ea>:22: DataConversionWarning: A column-vector y was passed when a 1d array was expected. Please change the shape of y to (n_samples,), for example using ravel().\n",
            "  clf.fit(X_train, y_train) # обучаем\n"
          ]
        },
        {
          "output_type": "stream",
          "name": "stdout",
          "text": [
            "0.9998614633730472 0.7114093959731543 4 3 30\n"
          ]
        },
        {
          "output_type": "stream",
          "name": "stderr",
          "text": [
            "<ipython-input-49-218c55f7a3ea>:22: DataConversionWarning: A column-vector y was passed when a 1d array was expected. Please change the shape of y to (n_samples,), for example using ravel().\n",
            "  clf.fit(X_train, y_train) # обучаем\n"
          ]
        },
        {
          "output_type": "stream",
          "name": "stdout",
          "text": [
            "0.9999786866727765 0.2684563758389261 4 4 1\n"
          ]
        },
        {
          "output_type": "stream",
          "name": "stderr",
          "text": [
            "<ipython-input-49-218c55f7a3ea>:22: DataConversionWarning: A column-vector y was passed when a 1d array was expected. Please change the shape of y to (n_samples,), for example using ravel().\n",
            "  clf.fit(X_train, y_train) # обучаем\n"
          ]
        },
        {
          "output_type": "stream",
          "name": "stdout",
          "text": [
            "0.9998721200366589 0.6442953020134228 4 4 2\n"
          ]
        },
        {
          "output_type": "stream",
          "name": "stderr",
          "text": [
            "<ipython-input-49-218c55f7a3ea>:22: DataConversionWarning: A column-vector y was passed when a 1d array was expected. Please change the shape of y to (n_samples,), for example using ravel().\n",
            "  clf.fit(X_train, y_train) # обучаем\n"
          ]
        },
        {
          "output_type": "stream",
          "name": "stdout",
          "text": [
            "0.9998721200366589 0.6308724832214765 4 4 3\n"
          ]
        },
        {
          "output_type": "stream",
          "name": "stderr",
          "text": [
            "<ipython-input-49-218c55f7a3ea>:22: DataConversionWarning: A column-vector y was passed when a 1d array was expected. Please change the shape of y to (n_samples,), for example using ravel().\n",
            "  clf.fit(X_train, y_train) # обучаем\n"
          ]
        },
        {
          "output_type": "stream",
          "name": "stdout",
          "text": [
            "0.9998294933822119 0.6778523489932886 4 4 4\n"
          ]
        },
        {
          "output_type": "stream",
          "name": "stderr",
          "text": [
            "<ipython-input-49-218c55f7a3ea>:22: DataConversionWarning: A column-vector y was passed when a 1d array was expected. Please change the shape of y to (n_samples,), for example using ravel().\n",
            "  clf.fit(X_train, y_train) # обучаем\n"
          ]
        },
        {
          "output_type": "stream",
          "name": "stdout",
          "text": [
            "0.9997655534005414 0.697986577181208 4 4 5\n"
          ]
        },
        {
          "output_type": "stream",
          "name": "stderr",
          "text": [
            "<ipython-input-49-218c55f7a3ea>:22: DataConversionWarning: A column-vector y was passed when a 1d array was expected. Please change the shape of y to (n_samples,), for example using ravel().\n",
            "  clf.fit(X_train, y_train) # обучаем\n"
          ]
        },
        {
          "output_type": "stream",
          "name": "stdout",
          "text": [
            "0.9998081800549884 0.7248322147651007 4 4 6\n"
          ]
        },
        {
          "output_type": "stream",
          "name": "stderr",
          "text": [
            "<ipython-input-49-218c55f7a3ea>:22: DataConversionWarning: A column-vector y was passed when a 1d array was expected. Please change the shape of y to (n_samples,), for example using ravel().\n",
            "  clf.fit(X_train, y_train) # обучаем\n"
          ]
        },
        {
          "output_type": "stream",
          "name": "stdout",
          "text": [
            "0.9999147466911059 0.6442953020134228 4 4 7\n"
          ]
        },
        {
          "output_type": "stream",
          "name": "stderr",
          "text": [
            "<ipython-input-49-218c55f7a3ea>:22: DataConversionWarning: A column-vector y was passed when a 1d array was expected. Please change the shape of y to (n_samples,), for example using ravel().\n",
            "  clf.fit(X_train, y_train) # обучаем\n"
          ]
        },
        {
          "output_type": "stream",
          "name": "stdout",
          "text": [
            "0.9998721200366589 0.6577181208053691 4 4 8\n"
          ]
        },
        {
          "output_type": "stream",
          "name": "stderr",
          "text": [
            "<ipython-input-49-218c55f7a3ea>:22: DataConversionWarning: A column-vector y was passed when a 1d array was expected. Please change the shape of y to (n_samples,), for example using ravel().\n",
            "  clf.fit(X_train, y_train) # обучаем\n"
          ]
        },
        {
          "output_type": "stream",
          "name": "stdout",
          "text": [
            "0.9999360600183295 0.6644295302013423 4 4 9\n"
          ]
        },
        {
          "output_type": "stream",
          "name": "stderr",
          "text": [
            "<ipython-input-49-218c55f7a3ea>:22: DataConversionWarning: A column-vector y was passed when a 1d array was expected. Please change the shape of y to (n_samples,), for example using ravel().\n",
            "  clf.fit(X_train, y_train) # обучаем\n"
          ]
        },
        {
          "output_type": "stream",
          "name": "stdout",
          "text": [
            "0.9997229267460943 0.7315436241610738 4 4 10\n"
          ]
        },
        {
          "output_type": "stream",
          "name": "stderr",
          "text": [
            "<ipython-input-49-218c55f7a3ea>:22: DataConversionWarning: A column-vector y was passed when a 1d array was expected. Please change the shape of y to (n_samples,), for example using ravel().\n",
            "  clf.fit(X_train, y_train) # обучаем\n"
          ]
        },
        {
          "output_type": "stream",
          "name": "stdout",
          "text": [
            "0.9998081800549884 0.7114093959731543 4 4 11\n"
          ]
        },
        {
          "output_type": "stream",
          "name": "stderr",
          "text": [
            "<ipython-input-49-218c55f7a3ea>:22: DataConversionWarning: A column-vector y was passed when a 1d array was expected. Please change the shape of y to (n_samples,), for example using ravel().\n",
            "  clf.fit(X_train, y_train) # обучаем\n"
          ]
        },
        {
          "output_type": "stream",
          "name": "stdout",
          "text": [
            "0.9997975233913766 0.738255033557047 4 4 12\n"
          ]
        },
        {
          "output_type": "stream",
          "name": "stderr",
          "text": [
            "<ipython-input-49-218c55f7a3ea>:22: DataConversionWarning: A column-vector y was passed when a 1d array was expected. Please change the shape of y to (n_samples,), for example using ravel().\n",
            "  clf.fit(X_train, y_train) # обучаем\n"
          ]
        },
        {
          "output_type": "stream",
          "name": "stdout",
          "text": [
            "0.9997868667277648 0.7181208053691275 4 4 13\n"
          ]
        },
        {
          "output_type": "stream",
          "name": "stderr",
          "text": [
            "<ipython-input-49-218c55f7a3ea>:22: DataConversionWarning: A column-vector y was passed when a 1d array was expected. Please change the shape of y to (n_samples,), for example using ravel().\n",
            "  clf.fit(X_train, y_train) # обучаем\n"
          ]
        },
        {
          "output_type": "stream",
          "name": "stdout",
          "text": [
            "0.9998827767002707 0.6912751677852349 4 4 14\n"
          ]
        },
        {
          "output_type": "stream",
          "name": "stderr",
          "text": [
            "<ipython-input-49-218c55f7a3ea>:22: DataConversionWarning: A column-vector y was passed when a 1d array was expected. Please change the shape of y to (n_samples,), for example using ravel().\n",
            "  clf.fit(X_train, y_train) # обучаем\n"
          ]
        },
        {
          "output_type": "stream",
          "name": "stdout",
          "text": [
            "0.9997868667277648 0.7718120805369127 4 4 15\n"
          ]
        },
        {
          "output_type": "stream",
          "name": "stderr",
          "text": [
            "<ipython-input-49-218c55f7a3ea>:22: DataConversionWarning: A column-vector y was passed when a 1d array was expected. Please change the shape of y to (n_samples,), for example using ravel().\n",
            "  clf.fit(X_train, y_train) # обучаем\n"
          ]
        },
        {
          "output_type": "stream",
          "name": "stdout",
          "text": [
            "0.9997868667277648 0.7114093959731543 4 4 16\n"
          ]
        },
        {
          "output_type": "stream",
          "name": "stderr",
          "text": [
            "<ipython-input-49-218c55f7a3ea>:22: DataConversionWarning: A column-vector y was passed when a 1d array was expected. Please change the shape of y to (n_samples,), for example using ravel().\n",
            "  clf.fit(X_train, y_train) # обучаем\n"
          ]
        },
        {
          "output_type": "stream",
          "name": "stdout",
          "text": [
            "0.9997975233913766 0.6912751677852349 4 4 17\n"
          ]
        },
        {
          "output_type": "stream",
          "name": "stderr",
          "text": [
            "<ipython-input-49-218c55f7a3ea>:22: DataConversionWarning: A column-vector y was passed when a 1d array was expected. Please change the shape of y to (n_samples,), for example using ravel().\n",
            "  clf.fit(X_train, y_train) # обучаем\n"
          ]
        },
        {
          "output_type": "stream",
          "name": "stdout",
          "text": [
            "0.9998081800549884 0.7315436241610738 4 4 18\n"
          ]
        },
        {
          "output_type": "stream",
          "name": "stderr",
          "text": [
            "<ipython-input-49-218c55f7a3ea>:22: DataConversionWarning: A column-vector y was passed when a 1d array was expected. Please change the shape of y to (n_samples,), for example using ravel().\n",
            "  clf.fit(X_train, y_train) # обучаем\n"
          ]
        },
        {
          "output_type": "stream",
          "name": "stdout",
          "text": [
            "0.9997442400733179 0.7718120805369127 4 4 19\n"
          ]
        },
        {
          "output_type": "stream",
          "name": "stderr",
          "text": [
            "<ipython-input-49-218c55f7a3ea>:22: DataConversionWarning: A column-vector y was passed when a 1d array was expected. Please change the shape of y to (n_samples,), for example using ravel().\n",
            "  clf.fit(X_train, y_train) # обучаем\n"
          ]
        },
        {
          "output_type": "stream",
          "name": "stdout",
          "text": [
            "0.9997975233913766 0.738255033557047 4 4 20\n"
          ]
        },
        {
          "output_type": "stream",
          "name": "stderr",
          "text": [
            "<ipython-input-49-218c55f7a3ea>:22: DataConversionWarning: A column-vector y was passed when a 1d array was expected. Please change the shape of y to (n_samples,), for example using ravel().\n",
            "  clf.fit(X_train, y_train) # обучаем\n"
          ]
        },
        {
          "output_type": "stream",
          "name": "stdout",
          "text": [
            "0.9998508067094354 0.7248322147651007 4 4 21\n"
          ]
        },
        {
          "output_type": "stream",
          "name": "stderr",
          "text": [
            "<ipython-input-49-218c55f7a3ea>:22: DataConversionWarning: A column-vector y was passed when a 1d array was expected. Please change the shape of y to (n_samples,), for example using ravel().\n",
            "  clf.fit(X_train, y_train) # обучаем\n"
          ]
        },
        {
          "output_type": "stream",
          "name": "stdout",
          "text": [
            "0.9997548967369296 0.738255033557047 4 4 22\n"
          ]
        },
        {
          "output_type": "stream",
          "name": "stderr",
          "text": [
            "<ipython-input-49-218c55f7a3ea>:22: DataConversionWarning: A column-vector y was passed when a 1d array was expected. Please change the shape of y to (n_samples,), for example using ravel().\n",
            "  clf.fit(X_train, y_train) # обучаем\n"
          ]
        },
        {
          "output_type": "stream",
          "name": "stdout",
          "text": [
            "0.9998934333638825 0.7583892617449665 4 4 23\n"
          ]
        },
        {
          "output_type": "stream",
          "name": "stderr",
          "text": [
            "<ipython-input-49-218c55f7a3ea>:22: DataConversionWarning: A column-vector y was passed when a 1d array was expected. Please change the shape of y to (n_samples,), for example using ravel().\n",
            "  clf.fit(X_train, y_train) # обучаем\n"
          ]
        },
        {
          "output_type": "stream",
          "name": "stdout",
          "text": [
            "0.9998188367186002 0.7785234899328859 4 4 24\n"
          ]
        },
        {
          "output_type": "stream",
          "name": "stderr",
          "text": [
            "<ipython-input-49-218c55f7a3ea>:22: DataConversionWarning: A column-vector y was passed when a 1d array was expected. Please change the shape of y to (n_samples,), for example using ravel().\n",
            "  clf.fit(X_train, y_train) # обучаем\n"
          ]
        },
        {
          "output_type": "stream",
          "name": "stdout",
          "text": [
            "0.9997762100641531 0.7919463087248322 4 4 25\n"
          ]
        },
        {
          "output_type": "stream",
          "name": "stderr",
          "text": [
            "<ipython-input-49-218c55f7a3ea>:22: DataConversionWarning: A column-vector y was passed when a 1d array was expected. Please change the shape of y to (n_samples,), for example using ravel().\n",
            "  clf.fit(X_train, y_train) # обучаем\n"
          ]
        },
        {
          "output_type": "stream",
          "name": "stdout",
          "text": [
            "0.9997655534005414 0.7516778523489933 4 4 26\n"
          ]
        },
        {
          "output_type": "stream",
          "name": "stderr",
          "text": [
            "<ipython-input-49-218c55f7a3ea>:22: DataConversionWarning: A column-vector y was passed when a 1d array was expected. Please change the shape of y to (n_samples,), for example using ravel().\n",
            "  clf.fit(X_train, y_train) # обучаем\n"
          ]
        },
        {
          "output_type": "stream",
          "name": "stdout",
          "text": [
            "0.9998188367186002 0.7315436241610738 4 4 27\n"
          ]
        },
        {
          "output_type": "stream",
          "name": "stderr",
          "text": [
            "<ipython-input-49-218c55f7a3ea>:22: DataConversionWarning: A column-vector y was passed when a 1d array was expected. Please change the shape of y to (n_samples,), for example using ravel().\n",
            "  clf.fit(X_train, y_train) # обучаем\n"
          ]
        },
        {
          "output_type": "stream",
          "name": "stdout",
          "text": [
            "0.9997868667277648 0.7315436241610738 4 4 28\n"
          ]
        },
        {
          "output_type": "stream",
          "name": "stderr",
          "text": [
            "<ipython-input-49-218c55f7a3ea>:22: DataConversionWarning: A column-vector y was passed when a 1d array was expected. Please change the shape of y to (n_samples,), for example using ravel().\n",
            "  clf.fit(X_train, y_train) # обучаем\n"
          ]
        },
        {
          "output_type": "stream",
          "name": "stdout",
          "text": [
            "0.9997868667277648 0.7651006711409396 4 4 29\n"
          ]
        },
        {
          "output_type": "stream",
          "name": "stderr",
          "text": [
            "<ipython-input-49-218c55f7a3ea>:22: DataConversionWarning: A column-vector y was passed when a 1d array was expected. Please change the shape of y to (n_samples,), for example using ravel().\n",
            "  clf.fit(X_train, y_train) # обучаем\n"
          ]
        },
        {
          "output_type": "stream",
          "name": "stdout",
          "text": [
            "0.9998081800549884 0.785234899328859 4 4 30\n"
          ]
        },
        {
          "output_type": "stream",
          "name": "stderr",
          "text": [
            "<ipython-input-49-218c55f7a3ea>:22: DataConversionWarning: A column-vector y was passed when a 1d array was expected. Please change the shape of y to (n_samples,), for example using ravel().\n",
            "  clf.fit(X_train, y_train) # обучаем\n"
          ]
        },
        {
          "output_type": "stream",
          "name": "stdout",
          "text": [
            "0.9999786866727765 0.20805369127516782 4 5 1\n"
          ]
        },
        {
          "output_type": "stream",
          "name": "stderr",
          "text": [
            "<ipython-input-49-218c55f7a3ea>:22: DataConversionWarning: A column-vector y was passed when a 1d array was expected. Please change the shape of y to (n_samples,), for example using ravel().\n",
            "  clf.fit(X_train, y_train) # обучаем\n"
          ]
        },
        {
          "output_type": "stream",
          "name": "stdout",
          "text": [
            "0.9998614633730472 0.5838926174496644 4 5 2\n"
          ]
        },
        {
          "output_type": "stream",
          "name": "stderr",
          "text": [
            "<ipython-input-49-218c55f7a3ea>:22: DataConversionWarning: A column-vector y was passed when a 1d array was expected. Please change the shape of y to (n_samples,), for example using ravel().\n",
            "  clf.fit(X_train, y_train) # обучаем\n"
          ]
        },
        {
          "output_type": "stream",
          "name": "stdout",
          "text": [
            "0.9998401500458236 0.697986577181208 4 5 3\n"
          ]
        },
        {
          "output_type": "stream",
          "name": "stderr",
          "text": [
            "<ipython-input-49-218c55f7a3ea>:22: DataConversionWarning: A column-vector y was passed when a 1d array was expected. Please change the shape of y to (n_samples,), for example using ravel().\n",
            "  clf.fit(X_train, y_train) # обучаем\n"
          ]
        },
        {
          "output_type": "stream",
          "name": "stdout",
          "text": [
            "0.9998508067094354 0.7046979865771812 4 5 4\n"
          ]
        },
        {
          "output_type": "stream",
          "name": "stderr",
          "text": [
            "<ipython-input-49-218c55f7a3ea>:22: DataConversionWarning: A column-vector y was passed when a 1d array was expected. Please change the shape of y to (n_samples,), for example using ravel().\n",
            "  clf.fit(X_train, y_train) # обучаем\n"
          ]
        },
        {
          "output_type": "stream",
          "name": "stdout",
          "text": [
            "0.9998401500458236 0.7181208053691275 4 5 5\n"
          ]
        },
        {
          "output_type": "stream",
          "name": "stderr",
          "text": [
            "<ipython-input-49-218c55f7a3ea>:22: DataConversionWarning: A column-vector y was passed when a 1d array was expected. Please change the shape of y to (n_samples,), for example using ravel().\n",
            "  clf.fit(X_train, y_train) # обучаем\n"
          ]
        },
        {
          "output_type": "stream",
          "name": "stdout",
          "text": [
            "0.9998508067094354 0.6711409395973154 4 5 6\n"
          ]
        },
        {
          "output_type": "stream",
          "name": "stderr",
          "text": [
            "<ipython-input-49-218c55f7a3ea>:22: DataConversionWarning: A column-vector y was passed when a 1d array was expected. Please change the shape of y to (n_samples,), for example using ravel().\n",
            "  clf.fit(X_train, y_train) # обучаем\n"
          ]
        },
        {
          "output_type": "stream",
          "name": "stdout",
          "text": [
            "0.9997868667277648 0.697986577181208 4 5 7\n"
          ]
        },
        {
          "output_type": "stream",
          "name": "stderr",
          "text": [
            "<ipython-input-49-218c55f7a3ea>:22: DataConversionWarning: A column-vector y was passed when a 1d array was expected. Please change the shape of y to (n_samples,), for example using ravel().\n",
            "  clf.fit(X_train, y_train) # обучаем\n"
          ]
        },
        {
          "output_type": "stream",
          "name": "stdout",
          "text": [
            "0.9998401500458236 0.6912751677852349 4 5 8\n"
          ]
        },
        {
          "output_type": "stream",
          "name": "stderr",
          "text": [
            "<ipython-input-49-218c55f7a3ea>:22: DataConversionWarning: A column-vector y was passed when a 1d array was expected. Please change the shape of y to (n_samples,), for example using ravel().\n",
            "  clf.fit(X_train, y_train) # обучаем\n"
          ]
        },
        {
          "output_type": "stream",
          "name": "stdout",
          "text": [
            "0.9997335834097061 0.7718120805369127 4 5 9\n"
          ]
        },
        {
          "output_type": "stream",
          "name": "stderr",
          "text": [
            "<ipython-input-49-218c55f7a3ea>:22: DataConversionWarning: A column-vector y was passed when a 1d array was expected. Please change the shape of y to (n_samples,), for example using ravel().\n",
            "  clf.fit(X_train, y_train) # обучаем\n"
          ]
        },
        {
          "output_type": "stream",
          "name": "stdout",
          "text": [
            "0.9997762100641531 0.738255033557047 4 5 10\n"
          ]
        },
        {
          "output_type": "stream",
          "name": "stderr",
          "text": [
            "<ipython-input-49-218c55f7a3ea>:22: DataConversionWarning: A column-vector y was passed when a 1d array was expected. Please change the shape of y to (n_samples,), for example using ravel().\n",
            "  clf.fit(X_train, y_train) # обучаем\n"
          ]
        },
        {
          "output_type": "stream",
          "name": "stdout",
          "text": [
            "0.9997868667277648 0.7651006711409396 4 5 11\n"
          ]
        },
        {
          "output_type": "stream",
          "name": "stderr",
          "text": [
            "<ipython-input-49-218c55f7a3ea>:22: DataConversionWarning: A column-vector y was passed when a 1d array was expected. Please change the shape of y to (n_samples,), for example using ravel().\n",
            "  clf.fit(X_train, y_train) # обучаем\n"
          ]
        },
        {
          "output_type": "stream",
          "name": "stdout",
          "text": [
            "0.9998827767002707 0.738255033557047 4 5 12\n"
          ]
        },
        {
          "output_type": "stream",
          "name": "stderr",
          "text": [
            "<ipython-input-49-218c55f7a3ea>:22: DataConversionWarning: A column-vector y was passed when a 1d array was expected. Please change the shape of y to (n_samples,), for example using ravel().\n",
            "  clf.fit(X_train, y_train) # обучаем\n"
          ]
        },
        {
          "output_type": "stream",
          "name": "stdout",
          "text": [
            "0.9998294933822119 0.7516778523489933 4 5 13\n"
          ]
        },
        {
          "output_type": "stream",
          "name": "stderr",
          "text": [
            "<ipython-input-49-218c55f7a3ea>:22: DataConversionWarning: A column-vector y was passed when a 1d array was expected. Please change the shape of y to (n_samples,), for example using ravel().\n",
            "  clf.fit(X_train, y_train) # обучаем\n"
          ]
        },
        {
          "output_type": "stream",
          "name": "stdout",
          "text": [
            "0.9997655534005414 0.7248322147651007 4 5 14\n"
          ]
        },
        {
          "output_type": "stream",
          "name": "stderr",
          "text": [
            "<ipython-input-49-218c55f7a3ea>:22: DataConversionWarning: A column-vector y was passed when a 1d array was expected. Please change the shape of y to (n_samples,), for example using ravel().\n",
            "  clf.fit(X_train, y_train) # обучаем\n"
          ]
        },
        {
          "output_type": "stream",
          "name": "stdout",
          "text": [
            "0.9998401500458236 0.7718120805369127 4 5 15\n"
          ]
        },
        {
          "output_type": "stream",
          "name": "stderr",
          "text": [
            "<ipython-input-49-218c55f7a3ea>:22: DataConversionWarning: A column-vector y was passed when a 1d array was expected. Please change the shape of y to (n_samples,), for example using ravel().\n",
            "  clf.fit(X_train, y_train) # обучаем\n"
          ]
        },
        {
          "output_type": "stream",
          "name": "stdout",
          "text": [
            "0.9997762100641531 0.7315436241610738 4 5 16\n"
          ]
        },
        {
          "output_type": "stream",
          "name": "stderr",
          "text": [
            "<ipython-input-49-218c55f7a3ea>:22: DataConversionWarning: A column-vector y was passed when a 1d array was expected. Please change the shape of y to (n_samples,), for example using ravel().\n",
            "  clf.fit(X_train, y_train) # обучаем\n"
          ]
        },
        {
          "output_type": "stream",
          "name": "stdout",
          "text": [
            "0.9996803000916473 0.7516778523489933 4 5 17\n"
          ]
        },
        {
          "output_type": "stream",
          "name": "stderr",
          "text": [
            "<ipython-input-49-218c55f7a3ea>:22: DataConversionWarning: A column-vector y was passed when a 1d array was expected. Please change the shape of y to (n_samples,), for example using ravel().\n",
            "  clf.fit(X_train, y_train) # обучаем\n"
          ]
        },
        {
          "output_type": "stream",
          "name": "stdout",
          "text": [
            "0.9997868667277648 0.7248322147651007 4 5 18\n"
          ]
        },
        {
          "output_type": "stream",
          "name": "stderr",
          "text": [
            "<ipython-input-49-218c55f7a3ea>:22: DataConversionWarning: A column-vector y was passed when a 1d array was expected. Please change the shape of y to (n_samples,), for example using ravel().\n",
            "  clf.fit(X_train, y_train) # обучаем\n"
          ]
        },
        {
          "output_type": "stream",
          "name": "stdout",
          "text": [
            "0.9998188367186002 0.7785234899328859 4 5 19\n"
          ]
        },
        {
          "output_type": "stream",
          "name": "stderr",
          "text": [
            "<ipython-input-49-218c55f7a3ea>:22: DataConversionWarning: A column-vector y was passed when a 1d array was expected. Please change the shape of y to (n_samples,), for example using ravel().\n",
            "  clf.fit(X_train, y_train) # обучаем\n"
          ]
        },
        {
          "output_type": "stream",
          "name": "stdout",
          "text": [
            "0.9998294933822119 0.6912751677852349 4 5 20\n"
          ]
        },
        {
          "output_type": "stream",
          "name": "stderr",
          "text": [
            "<ipython-input-49-218c55f7a3ea>:22: DataConversionWarning: A column-vector y was passed when a 1d array was expected. Please change the shape of y to (n_samples,), for example using ravel().\n",
            "  clf.fit(X_train, y_train) # обучаем\n"
          ]
        },
        {
          "output_type": "stream",
          "name": "stdout",
          "text": [
            "0.9998721200366589 0.7046979865771812 4 5 21\n"
          ]
        },
        {
          "output_type": "stream",
          "name": "stderr",
          "text": [
            "<ipython-input-49-218c55f7a3ea>:22: DataConversionWarning: A column-vector y was passed when a 1d array was expected. Please change the shape of y to (n_samples,), for example using ravel().\n",
            "  clf.fit(X_train, y_train) # обучаем\n"
          ]
        },
        {
          "output_type": "stream",
          "name": "stdout",
          "text": [
            "0.9998827767002707 0.7516778523489933 4 5 22\n"
          ]
        },
        {
          "output_type": "stream",
          "name": "stderr",
          "text": [
            "<ipython-input-49-218c55f7a3ea>:22: DataConversionWarning: A column-vector y was passed when a 1d array was expected. Please change the shape of y to (n_samples,), for example using ravel().\n",
            "  clf.fit(X_train, y_train) # обучаем\n"
          ]
        },
        {
          "output_type": "stream",
          "name": "stdout",
          "text": [
            "0.9998827767002707 0.7114093959731543 4 5 23\n"
          ]
        },
        {
          "output_type": "stream",
          "name": "stderr",
          "text": [
            "<ipython-input-49-218c55f7a3ea>:22: DataConversionWarning: A column-vector y was passed when a 1d array was expected. Please change the shape of y to (n_samples,), for example using ravel().\n",
            "  clf.fit(X_train, y_train) # обучаем\n"
          ]
        },
        {
          "output_type": "stream",
          "name": "stdout",
          "text": [
            "0.9997229267460943 0.7248322147651007 4 5 24\n"
          ]
        },
        {
          "output_type": "stream",
          "name": "stderr",
          "text": [
            "<ipython-input-49-218c55f7a3ea>:22: DataConversionWarning: A column-vector y was passed when a 1d array was expected. Please change the shape of y to (n_samples,), for example using ravel().\n",
            "  clf.fit(X_train, y_train) # обучаем\n"
          ]
        },
        {
          "output_type": "stream",
          "name": "stdout",
          "text": [
            "0.9998188367186002 0.738255033557047 4 5 25\n"
          ]
        },
        {
          "output_type": "stream",
          "name": "stderr",
          "text": [
            "<ipython-input-49-218c55f7a3ea>:22: DataConversionWarning: A column-vector y was passed when a 1d array was expected. Please change the shape of y to (n_samples,), for example using ravel().\n",
            "  clf.fit(X_train, y_train) # обучаем\n"
          ]
        },
        {
          "output_type": "stream",
          "name": "stdout",
          "text": [
            "0.9998827767002707 0.7315436241610738 4 5 26\n"
          ]
        },
        {
          "output_type": "stream",
          "name": "stderr",
          "text": [
            "<ipython-input-49-218c55f7a3ea>:22: DataConversionWarning: A column-vector y was passed when a 1d array was expected. Please change the shape of y to (n_samples,), for example using ravel().\n",
            "  clf.fit(X_train, y_train) # обучаем\n"
          ]
        },
        {
          "output_type": "stream",
          "name": "stdout",
          "text": [
            "0.9997229267460943 0.8187919463087249 4 5 27\n"
          ]
        },
        {
          "output_type": "stream",
          "name": "stderr",
          "text": [
            "<ipython-input-49-218c55f7a3ea>:22: DataConversionWarning: A column-vector y was passed when a 1d array was expected. Please change the shape of y to (n_samples,), for example using ravel().\n",
            "  clf.fit(X_train, y_train) # обучаем\n"
          ]
        },
        {
          "output_type": "stream",
          "name": "stdout",
          "text": [
            "0.9998508067094354 0.7785234899328859 4 5 28\n"
          ]
        },
        {
          "output_type": "stream",
          "name": "stderr",
          "text": [
            "<ipython-input-49-218c55f7a3ea>:22: DataConversionWarning: A column-vector y was passed when a 1d array was expected. Please change the shape of y to (n_samples,), for example using ravel().\n",
            "  clf.fit(X_train, y_train) # обучаем\n"
          ]
        },
        {
          "output_type": "stream",
          "name": "stdout",
          "text": [
            "0.9997975233913766 0.7583892617449665 4 5 29\n"
          ]
        },
        {
          "output_type": "stream",
          "name": "stderr",
          "text": [
            "<ipython-input-49-218c55f7a3ea>:22: DataConversionWarning: A column-vector y was passed when a 1d array was expected. Please change the shape of y to (n_samples,), for example using ravel().\n",
            "  clf.fit(X_train, y_train) # обучаем\n"
          ]
        },
        {
          "output_type": "stream",
          "name": "stdout",
          "text": [
            "0.9998614633730472 0.7583892617449665 4 5 30\n"
          ]
        },
        {
          "output_type": "stream",
          "name": "stderr",
          "text": [
            "<ipython-input-49-218c55f7a3ea>:22: DataConversionWarning: A column-vector y was passed when a 1d array was expected. Please change the shape of y to (n_samples,), for example using ravel().\n",
            "  clf.fit(X_train, y_train) # обучаем\n"
          ]
        },
        {
          "output_type": "stream",
          "name": "stdout",
          "text": [
            "0.9998294933822119 0.3691275167785235 5 1 1\n"
          ]
        },
        {
          "output_type": "stream",
          "name": "stderr",
          "text": [
            "<ipython-input-49-218c55f7a3ea>:22: DataConversionWarning: A column-vector y was passed when a 1d array was expected. Please change the shape of y to (n_samples,), for example using ravel().\n",
            "  clf.fit(X_train, y_train) # обучаем\n"
          ]
        },
        {
          "output_type": "stream",
          "name": "stdout",
          "text": [
            "0.9998827767002707 0.5771812080536913 5 1 2\n"
          ]
        },
        {
          "output_type": "stream",
          "name": "stderr",
          "text": [
            "<ipython-input-49-218c55f7a3ea>:22: DataConversionWarning: A column-vector y was passed when a 1d array was expected. Please change the shape of y to (n_samples,), for example using ravel().\n",
            "  clf.fit(X_train, y_train) # обучаем\n"
          ]
        },
        {
          "output_type": "stream",
          "name": "stdout",
          "text": [
            "0.9998508067094354 0.6778523489932886 5 1 3\n"
          ]
        },
        {
          "output_type": "stream",
          "name": "stderr",
          "text": [
            "<ipython-input-49-218c55f7a3ea>:22: DataConversionWarning: A column-vector y was passed when a 1d array was expected. Please change the shape of y to (n_samples,), for example using ravel().\n",
            "  clf.fit(X_train, y_train) # обучаем\n"
          ]
        },
        {
          "output_type": "stream",
          "name": "stdout",
          "text": [
            "0.9997122700824825 0.6577181208053691 5 1 4\n"
          ]
        },
        {
          "output_type": "stream",
          "name": "stderr",
          "text": [
            "<ipython-input-49-218c55f7a3ea>:22: DataConversionWarning: A column-vector y was passed when a 1d array was expected. Please change the shape of y to (n_samples,), for example using ravel().\n",
            "  clf.fit(X_train, y_train) # обучаем\n"
          ]
        },
        {
          "output_type": "stream",
          "name": "stdout",
          "text": [
            "0.9998614633730472 0.6040268456375839 5 1 5\n"
          ]
        },
        {
          "output_type": "stream",
          "name": "stderr",
          "text": [
            "<ipython-input-49-218c55f7a3ea>:22: DataConversionWarning: A column-vector y was passed when a 1d array was expected. Please change the shape of y to (n_samples,), for example using ravel().\n",
            "  clf.fit(X_train, y_train) # обучаем\n"
          ]
        },
        {
          "output_type": "stream",
          "name": "stdout",
          "text": [
            "0.9997335834097061 0.7114093959731543 5 1 6\n"
          ]
        },
        {
          "output_type": "stream",
          "name": "stderr",
          "text": [
            "<ipython-input-49-218c55f7a3ea>:22: DataConversionWarning: A column-vector y was passed when a 1d array was expected. Please change the shape of y to (n_samples,), for example using ravel().\n",
            "  clf.fit(X_train, y_train) # обучаем\n"
          ]
        },
        {
          "output_type": "stream",
          "name": "stdout",
          "text": [
            "0.9996909567552591 0.7718120805369127 5 1 7\n"
          ]
        },
        {
          "output_type": "stream",
          "name": "stderr",
          "text": [
            "<ipython-input-49-218c55f7a3ea>:22: DataConversionWarning: A column-vector y was passed when a 1d array was expected. Please change the shape of y to (n_samples,), for example using ravel().\n",
            "  clf.fit(X_train, y_train) # обучаем\n"
          ]
        },
        {
          "output_type": "stream",
          "name": "stdout",
          "text": [
            "0.999648330100812 0.7046979865771812 5 1 8\n"
          ]
        },
        {
          "output_type": "stream",
          "name": "stderr",
          "text": [
            "<ipython-input-49-218c55f7a3ea>:22: DataConversionWarning: A column-vector y was passed when a 1d array was expected. Please change the shape of y to (n_samples,), for example using ravel().\n",
            "  clf.fit(X_train, y_train) # обучаем\n"
          ]
        },
        {
          "output_type": "stream",
          "name": "stdout",
          "text": [
            "0.9997655534005414 0.7181208053691275 5 1 9\n"
          ]
        },
        {
          "output_type": "stream",
          "name": "stderr",
          "text": [
            "<ipython-input-49-218c55f7a3ea>:22: DataConversionWarning: A column-vector y was passed when a 1d array was expected. Please change the shape of y to (n_samples,), for example using ravel().\n",
            "  clf.fit(X_train, y_train) # обучаем\n"
          ]
        },
        {
          "output_type": "stream",
          "name": "stdout",
          "text": [
            "0.9996589867644238 0.7315436241610738 5 1 10\n"
          ]
        },
        {
          "output_type": "stream",
          "name": "stderr",
          "text": [
            "<ipython-input-49-218c55f7a3ea>:22: DataConversionWarning: A column-vector y was passed when a 1d array was expected. Please change the shape of y to (n_samples,), for example using ravel().\n",
            "  clf.fit(X_train, y_train) # обучаем\n"
          ]
        },
        {
          "output_type": "stream",
          "name": "stdout",
          "text": [
            "0.9997016134188709 0.7919463087248322 5 1 11\n"
          ]
        },
        {
          "output_type": "stream",
          "name": "stderr",
          "text": [
            "<ipython-input-49-218c55f7a3ea>:22: DataConversionWarning: A column-vector y was passed when a 1d array was expected. Please change the shape of y to (n_samples,), for example using ravel().\n",
            "  clf.fit(X_train, y_train) # обучаем\n"
          ]
        },
        {
          "output_type": "stream",
          "name": "stdout",
          "text": [
            "0.9997655534005414 0.825503355704698 5 1 12\n"
          ]
        },
        {
          "output_type": "stream",
          "name": "stderr",
          "text": [
            "<ipython-input-49-218c55f7a3ea>:22: DataConversionWarning: A column-vector y was passed when a 1d array was expected. Please change the shape of y to (n_samples,), for example using ravel().\n",
            "  clf.fit(X_train, y_train) # обучаем\n"
          ]
        },
        {
          "output_type": "stream",
          "name": "stdout",
          "text": [
            "0.9997762100641531 0.7583892617449665 5 1 13\n"
          ]
        },
        {
          "output_type": "stream",
          "name": "stderr",
          "text": [
            "<ipython-input-49-218c55f7a3ea>:22: DataConversionWarning: A column-vector y was passed when a 1d array was expected. Please change the shape of y to (n_samples,), for example using ravel().\n",
            "  clf.fit(X_train, y_train) # обучаем\n"
          ]
        },
        {
          "output_type": "stream",
          "name": "stdout",
          "text": [
            "0.9997655534005414 0.7315436241610738 5 1 14\n"
          ]
        },
        {
          "output_type": "stream",
          "name": "stderr",
          "text": [
            "<ipython-input-49-218c55f7a3ea>:22: DataConversionWarning: A column-vector y was passed when a 1d array was expected. Please change the shape of y to (n_samples,), for example using ravel().\n",
            "  clf.fit(X_train, y_train) # обучаем\n"
          ]
        },
        {
          "output_type": "stream",
          "name": "stdout",
          "text": [
            "0.9996803000916473 0.7516778523489933 5 1 15\n"
          ]
        },
        {
          "output_type": "stream",
          "name": "stderr",
          "text": [
            "<ipython-input-49-218c55f7a3ea>:22: DataConversionWarning: A column-vector y was passed when a 1d array was expected. Please change the shape of y to (n_samples,), for example using ravel().\n",
            "  clf.fit(X_train, y_train) # обучаем\n"
          ]
        },
        {
          "output_type": "stream",
          "name": "stdout",
          "text": [
            "0.9997868667277648 0.6912751677852349 5 1 16\n"
          ]
        },
        {
          "output_type": "stream",
          "name": "stderr",
          "text": [
            "<ipython-input-49-218c55f7a3ea>:22: DataConversionWarning: A column-vector y was passed when a 1d array was expected. Please change the shape of y to (n_samples,), for example using ravel().\n",
            "  clf.fit(X_train, y_train) # обучаем\n"
          ]
        },
        {
          "output_type": "stream",
          "name": "stdout",
          "text": [
            "0.9997122700824825 0.7315436241610738 5 1 17\n"
          ]
        },
        {
          "output_type": "stream",
          "name": "stderr",
          "text": [
            "<ipython-input-49-218c55f7a3ea>:22: DataConversionWarning: A column-vector y was passed when a 1d array was expected. Please change the shape of y to (n_samples,), for example using ravel().\n",
            "  clf.fit(X_train, y_train) # обучаем\n"
          ]
        },
        {
          "output_type": "stream",
          "name": "stdout",
          "text": [
            "0.9997016134188709 0.7583892617449665 5 1 18\n"
          ]
        },
        {
          "output_type": "stream",
          "name": "stderr",
          "text": [
            "<ipython-input-49-218c55f7a3ea>:22: DataConversionWarning: A column-vector y was passed when a 1d array was expected. Please change the shape of y to (n_samples,), for example using ravel().\n",
            "  clf.fit(X_train, y_train) # обучаем\n"
          ]
        },
        {
          "output_type": "stream",
          "name": "stdout",
          "text": [
            "0.9998721200366589 0.7785234899328859 5 1 19\n"
          ]
        },
        {
          "output_type": "stream",
          "name": "stderr",
          "text": [
            "<ipython-input-49-218c55f7a3ea>:22: DataConversionWarning: A column-vector y was passed when a 1d array was expected. Please change the shape of y to (n_samples,), for example using ravel().\n",
            "  clf.fit(X_train, y_train) # обучаем\n"
          ]
        },
        {
          "output_type": "stream",
          "name": "stdout",
          "text": [
            "0.9996270167735886 0.7651006711409396 5 1 20\n"
          ]
        },
        {
          "output_type": "stream",
          "name": "stderr",
          "text": [
            "<ipython-input-49-218c55f7a3ea>:22: DataConversionWarning: A column-vector y was passed when a 1d array was expected. Please change the shape of y to (n_samples,), for example using ravel().\n",
            "  clf.fit(X_train, y_train) # обучаем\n"
          ]
        },
        {
          "output_type": "stream",
          "name": "stdout",
          "text": [
            "0.9997548967369296 0.8187919463087249 5 1 21\n"
          ]
        },
        {
          "output_type": "stream",
          "name": "stderr",
          "text": [
            "<ipython-input-49-218c55f7a3ea>:22: DataConversionWarning: A column-vector y was passed when a 1d array was expected. Please change the shape of y to (n_samples,), for example using ravel().\n",
            "  clf.fit(X_train, y_train) # обучаем\n"
          ]
        },
        {
          "output_type": "stream",
          "name": "stdout",
          "text": [
            "0.9998188367186002 0.738255033557047 5 1 22\n"
          ]
        },
        {
          "output_type": "stream",
          "name": "stderr",
          "text": [
            "<ipython-input-49-218c55f7a3ea>:22: DataConversionWarning: A column-vector y was passed when a 1d array was expected. Please change the shape of y to (n_samples,), for example using ravel().\n",
            "  clf.fit(X_train, y_train) # обучаем\n"
          ]
        },
        {
          "output_type": "stream",
          "name": "stdout",
          "text": [
            "0.9997229267460943 0.7315436241610738 5 1 23\n"
          ]
        },
        {
          "output_type": "stream",
          "name": "stderr",
          "text": [
            "<ipython-input-49-218c55f7a3ea>:22: DataConversionWarning: A column-vector y was passed when a 1d array was expected. Please change the shape of y to (n_samples,), for example using ravel().\n",
            "  clf.fit(X_train, y_train) # обучаем\n"
          ]
        },
        {
          "output_type": "stream",
          "name": "stdout",
          "text": [
            "0.9997335834097061 0.738255033557047 5 1 24\n"
          ]
        },
        {
          "output_type": "stream",
          "name": "stderr",
          "text": [
            "<ipython-input-49-218c55f7a3ea>:22: DataConversionWarning: A column-vector y was passed when a 1d array was expected. Please change the shape of y to (n_samples,), for example using ravel().\n",
            "  clf.fit(X_train, y_train) # обучаем\n"
          ]
        },
        {
          "output_type": "stream",
          "name": "stdout",
          "text": [
            "0.9998081800549884 0.697986577181208 5 1 25\n"
          ]
        },
        {
          "output_type": "stream",
          "name": "stderr",
          "text": [
            "<ipython-input-49-218c55f7a3ea>:22: DataConversionWarning: A column-vector y was passed when a 1d array was expected. Please change the shape of y to (n_samples,), for example using ravel().\n",
            "  clf.fit(X_train, y_train) # обучаем\n"
          ]
        },
        {
          "output_type": "stream",
          "name": "stdout",
          "text": [
            "0.9997229267460943 0.6845637583892618 5 1 26\n"
          ]
        },
        {
          "output_type": "stream",
          "name": "stderr",
          "text": [
            "<ipython-input-49-218c55f7a3ea>:22: DataConversionWarning: A column-vector y was passed when a 1d array was expected. Please change the shape of y to (n_samples,), for example using ravel().\n",
            "  clf.fit(X_train, y_train) # обучаем\n"
          ]
        },
        {
          "output_type": "stream",
          "name": "stdout",
          "text": [
            "0.9997975233913766 0.7181208053691275 5 1 27\n"
          ]
        },
        {
          "output_type": "stream",
          "name": "stderr",
          "text": [
            "<ipython-input-49-218c55f7a3ea>:22: DataConversionWarning: A column-vector y was passed when a 1d array was expected. Please change the shape of y to (n_samples,), for example using ravel().\n",
            "  clf.fit(X_train, y_train) # обучаем\n"
          ]
        },
        {
          "output_type": "stream",
          "name": "stdout",
          "text": [
            "0.9998508067094354 0.7785234899328859 5 1 28\n"
          ]
        },
        {
          "output_type": "stream",
          "name": "stderr",
          "text": [
            "<ipython-input-49-218c55f7a3ea>:22: DataConversionWarning: A column-vector y was passed when a 1d array was expected. Please change the shape of y to (n_samples,), for example using ravel().\n",
            "  clf.fit(X_train, y_train) # обучаем\n"
          ]
        },
        {
          "output_type": "stream",
          "name": "stdout",
          "text": [
            "0.9997229267460943 0.8053691275167785 5 1 29\n"
          ]
        },
        {
          "output_type": "stream",
          "name": "stderr",
          "text": [
            "<ipython-input-49-218c55f7a3ea>:22: DataConversionWarning: A column-vector y was passed when a 1d array was expected. Please change the shape of y to (n_samples,), for example using ravel().\n",
            "  clf.fit(X_train, y_train) # обучаем\n"
          ]
        },
        {
          "output_type": "stream",
          "name": "stdout",
          "text": [
            "0.9997442400733179 0.7315436241610738 5 1 30\n"
          ]
        },
        {
          "output_type": "stream",
          "name": "stderr",
          "text": [
            "<ipython-input-49-218c55f7a3ea>:22: DataConversionWarning: A column-vector y was passed when a 1d array was expected. Please change the shape of y to (n_samples,), for example using ravel().\n",
            "  clf.fit(X_train, y_train) # обучаем\n"
          ]
        },
        {
          "output_type": "stream",
          "name": "stdout",
          "text": [
            "0.9999360600183295 0.3691275167785235 5 2 1\n"
          ]
        },
        {
          "output_type": "stream",
          "name": "stderr",
          "text": [
            "<ipython-input-49-218c55f7a3ea>:22: DataConversionWarning: A column-vector y was passed when a 1d array was expected. Please change the shape of y to (n_samples,), for example using ravel().\n",
            "  clf.fit(X_train, y_train) # обучаем\n"
          ]
        },
        {
          "output_type": "stream",
          "name": "stdout",
          "text": [
            "0.9998827767002707 0.5100671140939597 5 2 2\n"
          ]
        },
        {
          "output_type": "stream",
          "name": "stderr",
          "text": [
            "<ipython-input-49-218c55f7a3ea>:22: DataConversionWarning: A column-vector y was passed when a 1d array was expected. Please change the shape of y to (n_samples,), for example using ravel().\n",
            "  clf.fit(X_train, y_train) # обучаем\n"
          ]
        },
        {
          "output_type": "stream",
          "name": "stdout",
          "text": [
            "0.9997868667277648 0.5704697986577181 5 2 3\n"
          ]
        },
        {
          "output_type": "stream",
          "name": "stderr",
          "text": [
            "<ipython-input-49-218c55f7a3ea>:22: DataConversionWarning: A column-vector y was passed when a 1d array was expected. Please change the shape of y to (n_samples,), for example using ravel().\n",
            "  clf.fit(X_train, y_train) # обучаем\n"
          ]
        },
        {
          "output_type": "stream",
          "name": "stdout",
          "text": [
            "0.9997868667277648 0.7181208053691275 5 2 4\n"
          ]
        },
        {
          "output_type": "stream",
          "name": "stderr",
          "text": [
            "<ipython-input-49-218c55f7a3ea>:22: DataConversionWarning: A column-vector y was passed when a 1d array was expected. Please change the shape of y to (n_samples,), for example using ravel().\n",
            "  clf.fit(X_train, y_train) # обучаем\n"
          ]
        },
        {
          "output_type": "stream",
          "name": "stdout",
          "text": [
            "0.9999040900274941 0.6644295302013423 5 2 5\n"
          ]
        },
        {
          "output_type": "stream",
          "name": "stderr",
          "text": [
            "<ipython-input-49-218c55f7a3ea>:22: DataConversionWarning: A column-vector y was passed when a 1d array was expected. Please change the shape of y to (n_samples,), for example using ravel().\n",
            "  clf.fit(X_train, y_train) # обучаем\n"
          ]
        },
        {
          "output_type": "stream",
          "name": "stdout",
          "text": [
            "0.9997762100641531 0.6711409395973154 5 2 6\n"
          ]
        },
        {
          "output_type": "stream",
          "name": "stderr",
          "text": [
            "<ipython-input-49-218c55f7a3ea>:22: DataConversionWarning: A column-vector y was passed when a 1d array was expected. Please change the shape of y to (n_samples,), for example using ravel().\n",
            "  clf.fit(X_train, y_train) # обучаем\n"
          ]
        },
        {
          "output_type": "stream",
          "name": "stdout",
          "text": [
            "0.9998508067094354 0.6644295302013423 5 2 7\n"
          ]
        },
        {
          "output_type": "stream",
          "name": "stderr",
          "text": [
            "<ipython-input-49-218c55f7a3ea>:22: DataConversionWarning: A column-vector y was passed when a 1d array was expected. Please change the shape of y to (n_samples,), for example using ravel().\n",
            "  clf.fit(X_train, y_train) # обучаем\n"
          ]
        },
        {
          "output_type": "stream",
          "name": "stdout",
          "text": [
            "0.9998294933822119 0.7248322147651007 5 2 8\n"
          ]
        },
        {
          "output_type": "stream",
          "name": "stderr",
          "text": [
            "<ipython-input-49-218c55f7a3ea>:22: DataConversionWarning: A column-vector y was passed when a 1d array was expected. Please change the shape of y to (n_samples,), for example using ravel().\n",
            "  clf.fit(X_train, y_train) # обучаем\n"
          ]
        },
        {
          "output_type": "stream",
          "name": "stdout",
          "text": [
            "0.9997975233913766 0.7114093959731543 5 2 9\n"
          ]
        },
        {
          "output_type": "stream",
          "name": "stderr",
          "text": [
            "<ipython-input-49-218c55f7a3ea>:22: DataConversionWarning: A column-vector y was passed when a 1d array was expected. Please change the shape of y to (n_samples,), for example using ravel().\n",
            "  clf.fit(X_train, y_train) # обучаем\n"
          ]
        },
        {
          "output_type": "stream",
          "name": "stdout",
          "text": [
            "0.9997335834097061 0.7718120805369127 5 2 10\n"
          ]
        },
        {
          "output_type": "stream",
          "name": "stderr",
          "text": [
            "<ipython-input-49-218c55f7a3ea>:22: DataConversionWarning: A column-vector y was passed when a 1d array was expected. Please change the shape of y to (n_samples,), for example using ravel().\n",
            "  clf.fit(X_train, y_train) # обучаем\n"
          ]
        },
        {
          "output_type": "stream",
          "name": "stdout",
          "text": [
            "0.9998188367186002 0.697986577181208 5 2 11\n"
          ]
        },
        {
          "output_type": "stream",
          "name": "stderr",
          "text": [
            "<ipython-input-49-218c55f7a3ea>:22: DataConversionWarning: A column-vector y was passed when a 1d array was expected. Please change the shape of y to (n_samples,), for example using ravel().\n",
            "  clf.fit(X_train, y_train) # обучаем\n"
          ]
        },
        {
          "output_type": "stream",
          "name": "stdout",
          "text": [
            "0.9997548967369296 0.7114093959731543 5 2 12\n"
          ]
        },
        {
          "output_type": "stream",
          "name": "stderr",
          "text": [
            "<ipython-input-49-218c55f7a3ea>:22: DataConversionWarning: A column-vector y was passed when a 1d array was expected. Please change the shape of y to (n_samples,), for example using ravel().\n",
            "  clf.fit(X_train, y_train) # обучаем\n"
          ]
        },
        {
          "output_type": "stream",
          "name": "stdout",
          "text": [
            "0.9998294933822119 0.7114093959731543 5 2 13\n"
          ]
        },
        {
          "output_type": "stream",
          "name": "stderr",
          "text": [
            "<ipython-input-49-218c55f7a3ea>:22: DataConversionWarning: A column-vector y was passed when a 1d array was expected. Please change the shape of y to (n_samples,), for example using ravel().\n",
            "  clf.fit(X_train, y_train) # обучаем\n"
          ]
        },
        {
          "output_type": "stream",
          "name": "stdout",
          "text": [
            "0.9998614633730472 0.7919463087248322 5 2 14\n"
          ]
        },
        {
          "output_type": "stream",
          "name": "stderr",
          "text": [
            "<ipython-input-49-218c55f7a3ea>:22: DataConversionWarning: A column-vector y was passed when a 1d array was expected. Please change the shape of y to (n_samples,), for example using ravel().\n",
            "  clf.fit(X_train, y_train) # обучаем\n"
          ]
        },
        {
          "output_type": "stream",
          "name": "stdout",
          "text": [
            "0.9997335834097061 0.7651006711409396 5 2 15\n"
          ]
        },
        {
          "output_type": "stream",
          "name": "stderr",
          "text": [
            "<ipython-input-49-218c55f7a3ea>:22: DataConversionWarning: A column-vector y was passed when a 1d array was expected. Please change the shape of y to (n_samples,), for example using ravel().\n",
            "  clf.fit(X_train, y_train) # обучаем\n"
          ]
        },
        {
          "output_type": "stream",
          "name": "stdout",
          "text": [
            "0.9998294933822119 0.7248322147651007 5 2 16\n"
          ]
        },
        {
          "output_type": "stream",
          "name": "stderr",
          "text": [
            "<ipython-input-49-218c55f7a3ea>:22: DataConversionWarning: A column-vector y was passed when a 1d array was expected. Please change the shape of y to (n_samples,), for example using ravel().\n",
            "  clf.fit(X_train, y_train) # обучаем\n"
          ]
        },
        {
          "output_type": "stream",
          "name": "stdout",
          "text": [
            "0.9998294933822119 0.7583892617449665 5 2 17\n"
          ]
        },
        {
          "output_type": "stream",
          "name": "stderr",
          "text": [
            "<ipython-input-49-218c55f7a3ea>:22: DataConversionWarning: A column-vector y was passed when a 1d array was expected. Please change the shape of y to (n_samples,), for example using ravel().\n",
            "  clf.fit(X_train, y_train) # обучаем\n"
          ]
        },
        {
          "output_type": "stream",
          "name": "stdout",
          "text": [
            "0.9998827767002707 0.6845637583892618 5 2 18\n"
          ]
        },
        {
          "output_type": "stream",
          "name": "stderr",
          "text": [
            "<ipython-input-49-218c55f7a3ea>:22: DataConversionWarning: A column-vector y was passed when a 1d array was expected. Please change the shape of y to (n_samples,), for example using ravel().\n",
            "  clf.fit(X_train, y_train) # обучаем\n"
          ]
        },
        {
          "output_type": "stream",
          "name": "stdout",
          "text": [
            "0.9998294933822119 0.697986577181208 5 2 19\n"
          ]
        },
        {
          "output_type": "stream",
          "name": "stderr",
          "text": [
            "<ipython-input-49-218c55f7a3ea>:22: DataConversionWarning: A column-vector y was passed when a 1d array was expected. Please change the shape of y to (n_samples,), for example using ravel().\n",
            "  clf.fit(X_train, y_train) # обучаем\n"
          ]
        },
        {
          "output_type": "stream",
          "name": "stdout",
          "text": [
            "0.9998294933822119 0.7114093959731543 5 2 20\n"
          ]
        },
        {
          "output_type": "stream",
          "name": "stderr",
          "text": [
            "<ipython-input-49-218c55f7a3ea>:22: DataConversionWarning: A column-vector y was passed when a 1d array was expected. Please change the shape of y to (n_samples,), for example using ravel().\n",
            "  clf.fit(X_train, y_train) # обучаем\n"
          ]
        },
        {
          "output_type": "stream",
          "name": "stdout",
          "text": [
            "0.9998294933822119 0.7986577181208054 5 2 21\n"
          ]
        },
        {
          "output_type": "stream",
          "name": "stderr",
          "text": [
            "<ipython-input-49-218c55f7a3ea>:22: DataConversionWarning: A column-vector y was passed when a 1d array was expected. Please change the shape of y to (n_samples,), for example using ravel().\n",
            "  clf.fit(X_train, y_train) # обучаем\n"
          ]
        },
        {
          "output_type": "stream",
          "name": "stdout",
          "text": [
            "0.9998294933822119 0.7114093959731543 5 2 22\n"
          ]
        },
        {
          "output_type": "stream",
          "name": "stderr",
          "text": [
            "<ipython-input-49-218c55f7a3ea>:22: DataConversionWarning: A column-vector y was passed when a 1d array was expected. Please change the shape of y to (n_samples,), for example using ravel().\n",
            "  clf.fit(X_train, y_train) # обучаем\n"
          ]
        },
        {
          "output_type": "stream",
          "name": "stdout",
          "text": [
            "0.9998294933822119 0.7449664429530201 5 2 23\n"
          ]
        },
        {
          "output_type": "stream",
          "name": "stderr",
          "text": [
            "<ipython-input-49-218c55f7a3ea>:22: DataConversionWarning: A column-vector y was passed when a 1d array was expected. Please change the shape of y to (n_samples,), for example using ravel().\n",
            "  clf.fit(X_train, y_train) # обучаем\n"
          ]
        },
        {
          "output_type": "stream",
          "name": "stdout",
          "text": [
            "0.9998614633730472 0.7449664429530201 5 2 24\n"
          ]
        },
        {
          "output_type": "stream",
          "name": "stderr",
          "text": [
            "<ipython-input-49-218c55f7a3ea>:22: DataConversionWarning: A column-vector y was passed when a 1d array was expected. Please change the shape of y to (n_samples,), for example using ravel().\n",
            "  clf.fit(X_train, y_train) # обучаем\n"
          ]
        },
        {
          "output_type": "stream",
          "name": "stdout",
          "text": [
            "0.9997655534005414 0.7583892617449665 5 2 25\n"
          ]
        },
        {
          "output_type": "stream",
          "name": "stderr",
          "text": [
            "<ipython-input-49-218c55f7a3ea>:22: DataConversionWarning: A column-vector y was passed when a 1d array was expected. Please change the shape of y to (n_samples,), for example using ravel().\n",
            "  clf.fit(X_train, y_train) # обучаем\n"
          ]
        },
        {
          "output_type": "stream",
          "name": "stdout",
          "text": [
            "0.9998294933822119 0.697986577181208 5 2 26\n"
          ]
        },
        {
          "output_type": "stream",
          "name": "stderr",
          "text": [
            "<ipython-input-49-218c55f7a3ea>:22: DataConversionWarning: A column-vector y was passed when a 1d array was expected. Please change the shape of y to (n_samples,), for example using ravel().\n",
            "  clf.fit(X_train, y_train) # обучаем\n"
          ]
        },
        {
          "output_type": "stream",
          "name": "stdout",
          "text": [
            "0.9998827767002707 0.6442953020134228 5 2 27\n"
          ]
        },
        {
          "output_type": "stream",
          "name": "stderr",
          "text": [
            "<ipython-input-49-218c55f7a3ea>:22: DataConversionWarning: A column-vector y was passed when a 1d array was expected. Please change the shape of y to (n_samples,), for example using ravel().\n",
            "  clf.fit(X_train, y_train) # обучаем\n"
          ]
        },
        {
          "output_type": "stream",
          "name": "stdout",
          "text": [
            "0.9998294933822119 0.7583892617449665 5 2 28\n"
          ]
        },
        {
          "output_type": "stream",
          "name": "stderr",
          "text": [
            "<ipython-input-49-218c55f7a3ea>:22: DataConversionWarning: A column-vector y was passed when a 1d array was expected. Please change the shape of y to (n_samples,), for example using ravel().\n",
            "  clf.fit(X_train, y_train) # обучаем\n"
          ]
        },
        {
          "output_type": "stream",
          "name": "stdout",
          "text": [
            "0.9997762100641531 0.7449664429530201 5 2 29\n"
          ]
        },
        {
          "output_type": "stream",
          "name": "stderr",
          "text": [
            "<ipython-input-49-218c55f7a3ea>:22: DataConversionWarning: A column-vector y was passed when a 1d array was expected. Please change the shape of y to (n_samples,), for example using ravel().\n",
            "  clf.fit(X_train, y_train) # обучаем\n"
          ]
        },
        {
          "output_type": "stream",
          "name": "stdout",
          "text": [
            "0.9998934333638825 0.6778523489932886 5 2 30\n"
          ]
        },
        {
          "output_type": "stream",
          "name": "stderr",
          "text": [
            "<ipython-input-49-218c55f7a3ea>:22: DataConversionWarning: A column-vector y was passed when a 1d array was expected. Please change the shape of y to (n_samples,), for example using ravel().\n",
            "  clf.fit(X_train, y_train) # обучаем\n"
          ]
        },
        {
          "output_type": "stream",
          "name": "stdout",
          "text": [
            "0.9999360600183295 0.46308724832214765 5 3 1\n"
          ]
        },
        {
          "output_type": "stream",
          "name": "stderr",
          "text": [
            "<ipython-input-49-218c55f7a3ea>:22: DataConversionWarning: A column-vector y was passed when a 1d array was expected. Please change the shape of y to (n_samples,), for example using ravel().\n",
            "  clf.fit(X_train, y_train) # обучаем\n"
          ]
        },
        {
          "output_type": "stream",
          "name": "stdout",
          "text": [
            "0.9999040900274941 0.49664429530201337 5 3 2\n"
          ]
        },
        {
          "output_type": "stream",
          "name": "stderr",
          "text": [
            "<ipython-input-49-218c55f7a3ea>:22: DataConversionWarning: A column-vector y was passed when a 1d array was expected. Please change the shape of y to (n_samples,), for example using ravel().\n",
            "  clf.fit(X_train, y_train) # обучаем\n"
          ]
        },
        {
          "output_type": "stream",
          "name": "stdout",
          "text": [
            "0.9998934333638825 0.7114093959731543 5 3 3\n"
          ]
        },
        {
          "output_type": "stream",
          "name": "stderr",
          "text": [
            "<ipython-input-49-218c55f7a3ea>:22: DataConversionWarning: A column-vector y was passed when a 1d array was expected. Please change the shape of y to (n_samples,), for example using ravel().\n",
            "  clf.fit(X_train, y_train) # обучаем\n"
          ]
        },
        {
          "output_type": "stream",
          "name": "stdout",
          "text": [
            "0.9998721200366589 0.7046979865771812 5 3 4\n"
          ]
        },
        {
          "output_type": "stream",
          "name": "stderr",
          "text": [
            "<ipython-input-49-218c55f7a3ea>:22: DataConversionWarning: A column-vector y was passed when a 1d array was expected. Please change the shape of y to (n_samples,), for example using ravel().\n",
            "  clf.fit(X_train, y_train) # обучаем\n"
          ]
        },
        {
          "output_type": "stream",
          "name": "stdout",
          "text": [
            "0.9999467166819412 0.6241610738255033 5 3 5\n"
          ]
        },
        {
          "output_type": "stream",
          "name": "stderr",
          "text": [
            "<ipython-input-49-218c55f7a3ea>:22: DataConversionWarning: A column-vector y was passed when a 1d array was expected. Please change the shape of y to (n_samples,), for example using ravel().\n",
            "  clf.fit(X_train, y_train) # обучаем\n"
          ]
        },
        {
          "output_type": "stream",
          "name": "stdout",
          "text": [
            "0.9997762100641531 0.738255033557047 5 3 6\n"
          ]
        },
        {
          "output_type": "stream",
          "name": "stderr",
          "text": [
            "<ipython-input-49-218c55f7a3ea>:22: DataConversionWarning: A column-vector y was passed when a 1d array was expected. Please change the shape of y to (n_samples,), for example using ravel().\n",
            "  clf.fit(X_train, y_train) # обучаем\n"
          ]
        },
        {
          "output_type": "stream",
          "name": "stdout",
          "text": [
            "0.9997442400733179 0.738255033557047 5 3 7\n"
          ]
        },
        {
          "output_type": "stream",
          "name": "stderr",
          "text": [
            "<ipython-input-49-218c55f7a3ea>:22: DataConversionWarning: A column-vector y was passed when a 1d array was expected. Please change the shape of y to (n_samples,), for example using ravel().\n",
            "  clf.fit(X_train, y_train) # обучаем\n"
          ]
        },
        {
          "output_type": "stream",
          "name": "stdout",
          "text": [
            "0.9998188367186002 0.8053691275167785 5 3 8\n"
          ]
        },
        {
          "output_type": "stream",
          "name": "stderr",
          "text": [
            "<ipython-input-49-218c55f7a3ea>:22: DataConversionWarning: A column-vector y was passed when a 1d array was expected. Please change the shape of y to (n_samples,), for example using ravel().\n",
            "  clf.fit(X_train, y_train) # обучаем\n"
          ]
        },
        {
          "output_type": "stream",
          "name": "stdout",
          "text": [
            "0.9999147466911059 0.7718120805369127 5 3 9\n"
          ]
        },
        {
          "output_type": "stream",
          "name": "stderr",
          "text": [
            "<ipython-input-49-218c55f7a3ea>:22: DataConversionWarning: A column-vector y was passed when a 1d array was expected. Please change the shape of y to (n_samples,), for example using ravel().\n",
            "  clf.fit(X_train, y_train) # обучаем\n"
          ]
        },
        {
          "output_type": "stream",
          "name": "stdout",
          "text": [
            "0.9998508067094354 0.7114093959731543 5 3 10\n"
          ]
        },
        {
          "output_type": "stream",
          "name": "stderr",
          "text": [
            "<ipython-input-49-218c55f7a3ea>:22: DataConversionWarning: A column-vector y was passed when a 1d array was expected. Please change the shape of y to (n_samples,), for example using ravel().\n",
            "  clf.fit(X_train, y_train) # обучаем\n"
          ]
        },
        {
          "output_type": "stream",
          "name": "stdout",
          "text": [
            "0.9998934333638825 0.7583892617449665 5 3 11\n"
          ]
        },
        {
          "output_type": "stream",
          "name": "stderr",
          "text": [
            "<ipython-input-49-218c55f7a3ea>:22: DataConversionWarning: A column-vector y was passed when a 1d array was expected. Please change the shape of y to (n_samples,), for example using ravel().\n",
            "  clf.fit(X_train, y_train) # обучаем\n"
          ]
        },
        {
          "output_type": "stream",
          "name": "stdout",
          "text": [
            "0.9998614633730472 0.7583892617449665 5 3 12\n"
          ]
        },
        {
          "output_type": "stream",
          "name": "stderr",
          "text": [
            "<ipython-input-49-218c55f7a3ea>:22: DataConversionWarning: A column-vector y was passed when a 1d array was expected. Please change the shape of y to (n_samples,), for example using ravel().\n",
            "  clf.fit(X_train, y_train) # обучаем\n"
          ]
        },
        {
          "output_type": "stream",
          "name": "stdout",
          "text": [
            "0.9997548967369296 0.785234899328859 5 3 13\n"
          ]
        },
        {
          "output_type": "stream",
          "name": "stderr",
          "text": [
            "<ipython-input-49-218c55f7a3ea>:22: DataConversionWarning: A column-vector y was passed when a 1d array was expected. Please change the shape of y to (n_samples,), for example using ravel().\n",
            "  clf.fit(X_train, y_train) # обучаем\n"
          ]
        },
        {
          "output_type": "stream",
          "name": "stdout",
          "text": [
            "0.9998614633730472 0.697986577181208 5 3 14\n"
          ]
        },
        {
          "output_type": "stream",
          "name": "stderr",
          "text": [
            "<ipython-input-49-218c55f7a3ea>:22: DataConversionWarning: A column-vector y was passed when a 1d array was expected. Please change the shape of y to (n_samples,), for example using ravel().\n",
            "  clf.fit(X_train, y_train) # обучаем\n"
          ]
        },
        {
          "output_type": "stream",
          "name": "stdout",
          "text": [
            "0.9998188367186002 0.7449664429530201 5 3 15\n"
          ]
        },
        {
          "output_type": "stream",
          "name": "stderr",
          "text": [
            "<ipython-input-49-218c55f7a3ea>:22: DataConversionWarning: A column-vector y was passed when a 1d array was expected. Please change the shape of y to (n_samples,), for example using ravel().\n",
            "  clf.fit(X_train, y_train) # обучаем\n"
          ]
        },
        {
          "output_type": "stream",
          "name": "stdout",
          "text": [
            "0.9997335834097061 0.7583892617449665 5 3 16\n"
          ]
        },
        {
          "output_type": "stream",
          "name": "stderr",
          "text": [
            "<ipython-input-49-218c55f7a3ea>:22: DataConversionWarning: A column-vector y was passed when a 1d array was expected. Please change the shape of y to (n_samples,), for example using ravel().\n",
            "  clf.fit(X_train, y_train) # обучаем\n"
          ]
        },
        {
          "output_type": "stream",
          "name": "stdout",
          "text": [
            "0.9998188367186002 0.7583892617449665 5 3 17\n"
          ]
        },
        {
          "output_type": "stream",
          "name": "stderr",
          "text": [
            "<ipython-input-49-218c55f7a3ea>:22: DataConversionWarning: A column-vector y was passed when a 1d array was expected. Please change the shape of y to (n_samples,), for example using ravel().\n",
            "  clf.fit(X_train, y_train) # обучаем\n"
          ]
        },
        {
          "output_type": "stream",
          "name": "stdout",
          "text": [
            "0.9997975233913766 0.7785234899328859 5 3 18\n"
          ]
        },
        {
          "output_type": "stream",
          "name": "stderr",
          "text": [
            "<ipython-input-49-218c55f7a3ea>:22: DataConversionWarning: A column-vector y was passed when a 1d array was expected. Please change the shape of y to (n_samples,), for example using ravel().\n",
            "  clf.fit(X_train, y_train) # обучаем\n"
          ]
        },
        {
          "output_type": "stream",
          "name": "stdout",
          "text": [
            "0.9998508067094354 0.7516778523489933 5 3 19\n"
          ]
        },
        {
          "output_type": "stream",
          "name": "stderr",
          "text": [
            "<ipython-input-49-218c55f7a3ea>:22: DataConversionWarning: A column-vector y was passed when a 1d array was expected. Please change the shape of y to (n_samples,), for example using ravel().\n",
            "  clf.fit(X_train, y_train) # обучаем\n"
          ]
        },
        {
          "output_type": "stream",
          "name": "stdout",
          "text": [
            "0.9998721200366589 0.7516778523489933 5 3 20\n"
          ]
        },
        {
          "output_type": "stream",
          "name": "stderr",
          "text": [
            "<ipython-input-49-218c55f7a3ea>:22: DataConversionWarning: A column-vector y was passed when a 1d array was expected. Please change the shape of y to (n_samples,), for example using ravel().\n",
            "  clf.fit(X_train, y_train) # обучаем\n"
          ]
        },
        {
          "output_type": "stream",
          "name": "stdout",
          "text": [
            "0.9998508067094354 0.7651006711409396 5 3 21\n"
          ]
        },
        {
          "output_type": "stream",
          "name": "stderr",
          "text": [
            "<ipython-input-49-218c55f7a3ea>:22: DataConversionWarning: A column-vector y was passed when a 1d array was expected. Please change the shape of y to (n_samples,), for example using ravel().\n",
            "  clf.fit(X_train, y_train) # обучаем\n"
          ]
        },
        {
          "output_type": "stream",
          "name": "stdout",
          "text": [
            "0.9999040900274941 0.7449664429530201 5 3 22\n"
          ]
        },
        {
          "output_type": "stream",
          "name": "stderr",
          "text": [
            "<ipython-input-49-218c55f7a3ea>:22: DataConversionWarning: A column-vector y was passed when a 1d array was expected. Please change the shape of y to (n_samples,), for example using ravel().\n",
            "  clf.fit(X_train, y_train) # обучаем\n"
          ]
        },
        {
          "output_type": "stream",
          "name": "stdout",
          "text": [
            "0.9997762100641531 0.7651006711409396 5 3 23\n"
          ]
        },
        {
          "output_type": "stream",
          "name": "stderr",
          "text": [
            "<ipython-input-49-218c55f7a3ea>:22: DataConversionWarning: A column-vector y was passed when a 1d array was expected. Please change the shape of y to (n_samples,), for example using ravel().\n",
            "  clf.fit(X_train, y_train) # обучаем\n"
          ]
        },
        {
          "output_type": "stream",
          "name": "stdout",
          "text": [
            "0.9998188367186002 0.7516778523489933 5 3 24\n"
          ]
        },
        {
          "output_type": "stream",
          "name": "stderr",
          "text": [
            "<ipython-input-49-218c55f7a3ea>:22: DataConversionWarning: A column-vector y was passed when a 1d array was expected. Please change the shape of y to (n_samples,), for example using ravel().\n",
            "  clf.fit(X_train, y_train) # обучаем\n"
          ]
        },
        {
          "output_type": "stream",
          "name": "stdout",
          "text": [
            "0.9998934333638825 0.7449664429530201 5 3 25\n"
          ]
        },
        {
          "output_type": "stream",
          "name": "stderr",
          "text": [
            "<ipython-input-49-218c55f7a3ea>:22: DataConversionWarning: A column-vector y was passed when a 1d array was expected. Please change the shape of y to (n_samples,), for example using ravel().\n",
            "  clf.fit(X_train, y_train) # обучаем\n"
          ]
        },
        {
          "output_type": "stream",
          "name": "stdout",
          "text": [
            "0.9997442400733179 0.7785234899328859 5 3 26\n"
          ]
        },
        {
          "output_type": "stream",
          "name": "stderr",
          "text": [
            "<ipython-input-49-218c55f7a3ea>:22: DataConversionWarning: A column-vector y was passed when a 1d array was expected. Please change the shape of y to (n_samples,), for example using ravel().\n",
            "  clf.fit(X_train, y_train) # обучаем\n"
          ]
        },
        {
          "output_type": "stream",
          "name": "stdout",
          "text": [
            "0.9997868667277648 0.7718120805369127 5 3 27\n"
          ]
        },
        {
          "output_type": "stream",
          "name": "stderr",
          "text": [
            "<ipython-input-49-218c55f7a3ea>:22: DataConversionWarning: A column-vector y was passed when a 1d array was expected. Please change the shape of y to (n_samples,), for example using ravel().\n",
            "  clf.fit(X_train, y_train) # обучаем\n"
          ]
        },
        {
          "output_type": "stream",
          "name": "stdout",
          "text": [
            "0.9998401500458236 0.8187919463087249 5 3 28\n"
          ]
        },
        {
          "output_type": "stream",
          "name": "stderr",
          "text": [
            "<ipython-input-49-218c55f7a3ea>:22: DataConversionWarning: A column-vector y was passed when a 1d array was expected. Please change the shape of y to (n_samples,), for example using ravel().\n",
            "  clf.fit(X_train, y_train) # обучаем\n"
          ]
        },
        {
          "output_type": "stream",
          "name": "stdout",
          "text": [
            "0.9997975233913766 0.7651006711409396 5 3 29\n"
          ]
        },
        {
          "output_type": "stream",
          "name": "stderr",
          "text": [
            "<ipython-input-49-218c55f7a3ea>:22: DataConversionWarning: A column-vector y was passed when a 1d array was expected. Please change the shape of y to (n_samples,), for example using ravel().\n",
            "  clf.fit(X_train, y_train) # обучаем\n"
          ]
        },
        {
          "output_type": "stream",
          "name": "stdout",
          "text": [
            "0.9998294933822119 0.7583892617449665 5 3 30\n"
          ]
        },
        {
          "output_type": "stream",
          "name": "stderr",
          "text": [
            "<ipython-input-49-218c55f7a3ea>:22: DataConversionWarning: A column-vector y was passed when a 1d array was expected. Please change the shape of y to (n_samples,), for example using ravel().\n",
            "  clf.fit(X_train, y_train) # обучаем\n"
          ]
        },
        {
          "output_type": "stream",
          "name": "stdout",
          "text": [
            "0.9999467166819412 0.40268456375838924 5 4 1\n"
          ]
        },
        {
          "output_type": "stream",
          "name": "stderr",
          "text": [
            "<ipython-input-49-218c55f7a3ea>:22: DataConversionWarning: A column-vector y was passed when a 1d array was expected. Please change the shape of y to (n_samples,), for example using ravel().\n",
            "  clf.fit(X_train, y_train) # обучаем\n"
          ]
        },
        {
          "output_type": "stream",
          "name": "stdout",
          "text": [
            "0.9998827767002707 0.6442953020134228 5 4 2\n"
          ]
        },
        {
          "output_type": "stream",
          "name": "stderr",
          "text": [
            "<ipython-input-49-218c55f7a3ea>:22: DataConversionWarning: A column-vector y was passed when a 1d array was expected. Please change the shape of y to (n_samples,), for example using ravel().\n",
            "  clf.fit(X_train, y_train) # обучаем\n"
          ]
        },
        {
          "output_type": "stream",
          "name": "stdout",
          "text": [
            "0.9999040900274941 0.6845637583892618 5 4 3\n"
          ]
        },
        {
          "output_type": "stream",
          "name": "stderr",
          "text": [
            "<ipython-input-49-218c55f7a3ea>:22: DataConversionWarning: A column-vector y was passed when a 1d array was expected. Please change the shape of y to (n_samples,), for example using ravel().\n",
            "  clf.fit(X_train, y_train) # обучаем\n"
          ]
        },
        {
          "output_type": "stream",
          "name": "stdout",
          "text": [
            "0.9998721200366589 0.6644295302013423 5 4 4\n"
          ]
        },
        {
          "output_type": "stream",
          "name": "stderr",
          "text": [
            "<ipython-input-49-218c55f7a3ea>:22: DataConversionWarning: A column-vector y was passed when a 1d array was expected. Please change the shape of y to (n_samples,), for example using ravel().\n",
            "  clf.fit(X_train, y_train) # обучаем\n"
          ]
        },
        {
          "output_type": "stream",
          "name": "stdout",
          "text": [
            "0.9998508067094354 0.6845637583892618 5 4 5\n"
          ]
        },
        {
          "output_type": "stream",
          "name": "stderr",
          "text": [
            "<ipython-input-49-218c55f7a3ea>:22: DataConversionWarning: A column-vector y was passed when a 1d array was expected. Please change the shape of y to (n_samples,), for example using ravel().\n",
            "  clf.fit(X_train, y_train) # обучаем\n"
          ]
        },
        {
          "output_type": "stream",
          "name": "stdout",
          "text": [
            "0.9998721200366589 0.6778523489932886 5 4 6\n"
          ]
        },
        {
          "output_type": "stream",
          "name": "stderr",
          "text": [
            "<ipython-input-49-218c55f7a3ea>:22: DataConversionWarning: A column-vector y was passed when a 1d array was expected. Please change the shape of y to (n_samples,), for example using ravel().\n",
            "  clf.fit(X_train, y_train) # обучаем\n"
          ]
        },
        {
          "output_type": "stream",
          "name": "stdout",
          "text": [
            "0.9998721200366589 0.7181208053691275 5 4 7\n"
          ]
        },
        {
          "output_type": "stream",
          "name": "stderr",
          "text": [
            "<ipython-input-49-218c55f7a3ea>:22: DataConversionWarning: A column-vector y was passed when a 1d array was expected. Please change the shape of y to (n_samples,), for example using ravel().\n",
            "  clf.fit(X_train, y_train) # обучаем\n"
          ]
        },
        {
          "output_type": "stream",
          "name": "stdout",
          "text": [
            "0.9999147466911059 0.7718120805369127 5 4 8\n"
          ]
        },
        {
          "output_type": "stream",
          "name": "stderr",
          "text": [
            "<ipython-input-49-218c55f7a3ea>:22: DataConversionWarning: A column-vector y was passed when a 1d array was expected. Please change the shape of y to (n_samples,), for example using ravel().\n",
            "  clf.fit(X_train, y_train) # обучаем\n"
          ]
        },
        {
          "output_type": "stream",
          "name": "stdout",
          "text": [
            "0.9998934333638825 0.738255033557047 5 4 9\n"
          ]
        },
        {
          "output_type": "stream",
          "name": "stderr",
          "text": [
            "<ipython-input-49-218c55f7a3ea>:22: DataConversionWarning: A column-vector y was passed when a 1d array was expected. Please change the shape of y to (n_samples,), for example using ravel().\n",
            "  clf.fit(X_train, y_train) # обучаем\n"
          ]
        },
        {
          "output_type": "stream",
          "name": "stdout",
          "text": [
            "0.9998827767002707 0.697986577181208 5 4 10\n"
          ]
        },
        {
          "output_type": "stream",
          "name": "stderr",
          "text": [
            "<ipython-input-49-218c55f7a3ea>:22: DataConversionWarning: A column-vector y was passed when a 1d array was expected. Please change the shape of y to (n_samples,), for example using ravel().\n",
            "  clf.fit(X_train, y_train) # обучаем\n"
          ]
        },
        {
          "output_type": "stream",
          "name": "stdout",
          "text": [
            "0.9997975233913766 0.7516778523489933 5 4 11\n"
          ]
        },
        {
          "output_type": "stream",
          "name": "stderr",
          "text": [
            "<ipython-input-49-218c55f7a3ea>:22: DataConversionWarning: A column-vector y was passed when a 1d array was expected. Please change the shape of y to (n_samples,), for example using ravel().\n",
            "  clf.fit(X_train, y_train) # обучаем\n"
          ]
        },
        {
          "output_type": "stream",
          "name": "stdout",
          "text": [
            "0.9998508067094354 0.7516778523489933 5 4 12\n"
          ]
        },
        {
          "output_type": "stream",
          "name": "stderr",
          "text": [
            "<ipython-input-49-218c55f7a3ea>:22: DataConversionWarning: A column-vector y was passed when a 1d array was expected. Please change the shape of y to (n_samples,), for example using ravel().\n",
            "  clf.fit(X_train, y_train) # обучаем\n"
          ]
        },
        {
          "output_type": "stream",
          "name": "stdout",
          "text": [
            "0.9998614633730472 0.7651006711409396 5 4 13\n"
          ]
        },
        {
          "output_type": "stream",
          "name": "stderr",
          "text": [
            "<ipython-input-49-218c55f7a3ea>:22: DataConversionWarning: A column-vector y was passed when a 1d array was expected. Please change the shape of y to (n_samples,), for example using ravel().\n",
            "  clf.fit(X_train, y_train) # обучаем\n"
          ]
        },
        {
          "output_type": "stream",
          "name": "stdout",
          "text": [
            "0.9998188367186002 0.738255033557047 5 4 14\n"
          ]
        },
        {
          "output_type": "stream",
          "name": "stderr",
          "text": [
            "<ipython-input-49-218c55f7a3ea>:22: DataConversionWarning: A column-vector y was passed when a 1d array was expected. Please change the shape of y to (n_samples,), for example using ravel().\n",
            "  clf.fit(X_train, y_train) # обучаем\n"
          ]
        },
        {
          "output_type": "stream",
          "name": "stdout",
          "text": [
            "0.9998294933822119 0.7651006711409396 5 4 15\n"
          ]
        },
        {
          "output_type": "stream",
          "name": "stderr",
          "text": [
            "<ipython-input-49-218c55f7a3ea>:22: DataConversionWarning: A column-vector y was passed when a 1d array was expected. Please change the shape of y to (n_samples,), for example using ravel().\n",
            "  clf.fit(X_train, y_train) # обучаем\n"
          ]
        },
        {
          "output_type": "stream",
          "name": "stdout",
          "text": [
            "0.9998614633730472 0.7181208053691275 5 4 16\n"
          ]
        },
        {
          "output_type": "stream",
          "name": "stderr",
          "text": [
            "<ipython-input-49-218c55f7a3ea>:22: DataConversionWarning: A column-vector y was passed when a 1d array was expected. Please change the shape of y to (n_samples,), for example using ravel().\n",
            "  clf.fit(X_train, y_train) # обучаем\n"
          ]
        },
        {
          "output_type": "stream",
          "name": "stdout",
          "text": [
            "0.9998721200366589 0.7315436241610738 5 4 17\n"
          ]
        },
        {
          "output_type": "stream",
          "name": "stderr",
          "text": [
            "<ipython-input-49-218c55f7a3ea>:22: DataConversionWarning: A column-vector y was passed when a 1d array was expected. Please change the shape of y to (n_samples,), for example using ravel().\n",
            "  clf.fit(X_train, y_train) # обучаем\n"
          ]
        },
        {
          "output_type": "stream",
          "name": "stdout",
          "text": [
            "0.9998827767002707 0.7181208053691275 5 4 18\n"
          ]
        },
        {
          "output_type": "stream",
          "name": "stderr",
          "text": [
            "<ipython-input-49-218c55f7a3ea>:22: DataConversionWarning: A column-vector y was passed when a 1d array was expected. Please change the shape of y to (n_samples,), for example using ravel().\n",
            "  clf.fit(X_train, y_train) # обучаем\n"
          ]
        },
        {
          "output_type": "stream",
          "name": "stdout",
          "text": [
            "0.9998508067094354 0.785234899328859 5 4 19\n"
          ]
        },
        {
          "output_type": "stream",
          "name": "stderr",
          "text": [
            "<ipython-input-49-218c55f7a3ea>:22: DataConversionWarning: A column-vector y was passed when a 1d array was expected. Please change the shape of y to (n_samples,), for example using ravel().\n",
            "  clf.fit(X_train, y_train) # обучаем\n"
          ]
        },
        {
          "output_type": "stream",
          "name": "stdout",
          "text": [
            "0.9998188367186002 0.7449664429530201 5 4 20\n"
          ]
        },
        {
          "output_type": "stream",
          "name": "stderr",
          "text": [
            "<ipython-input-49-218c55f7a3ea>:22: DataConversionWarning: A column-vector y was passed when a 1d array was expected. Please change the shape of y to (n_samples,), for example using ravel().\n",
            "  clf.fit(X_train, y_train) # обучаем\n"
          ]
        },
        {
          "output_type": "stream",
          "name": "stdout",
          "text": [
            "0.9997655534005414 0.7919463087248322 5 4 21\n"
          ]
        },
        {
          "output_type": "stream",
          "name": "stderr",
          "text": [
            "<ipython-input-49-218c55f7a3ea>:22: DataConversionWarning: A column-vector y was passed when a 1d array was expected. Please change the shape of y to (n_samples,), for example using ravel().\n",
            "  clf.fit(X_train, y_train) # обучаем\n"
          ]
        },
        {
          "output_type": "stream",
          "name": "stdout",
          "text": [
            "0.9998294933822119 0.7046979865771812 5 4 22\n"
          ]
        },
        {
          "output_type": "stream",
          "name": "stderr",
          "text": [
            "<ipython-input-49-218c55f7a3ea>:22: DataConversionWarning: A column-vector y was passed when a 1d array was expected. Please change the shape of y to (n_samples,), for example using ravel().\n",
            "  clf.fit(X_train, y_train) # обучаем\n"
          ]
        },
        {
          "output_type": "stream",
          "name": "stdout",
          "text": [
            "0.9998508067094354 0.7919463087248322 5 4 23\n"
          ]
        },
        {
          "output_type": "stream",
          "name": "stderr",
          "text": [
            "<ipython-input-49-218c55f7a3ea>:22: DataConversionWarning: A column-vector y was passed when a 1d array was expected. Please change the shape of y to (n_samples,), for example using ravel().\n",
            "  clf.fit(X_train, y_train) # обучаем\n"
          ]
        },
        {
          "output_type": "stream",
          "name": "stdout",
          "text": [
            "0.9998508067094354 0.7516778523489933 5 4 24\n"
          ]
        },
        {
          "output_type": "stream",
          "name": "stderr",
          "text": [
            "<ipython-input-49-218c55f7a3ea>:22: DataConversionWarning: A column-vector y was passed when a 1d array was expected. Please change the shape of y to (n_samples,), for example using ravel().\n",
            "  clf.fit(X_train, y_train) # обучаем\n"
          ]
        },
        {
          "output_type": "stream",
          "name": "stdout",
          "text": [
            "0.9997655534005414 0.7516778523489933 5 4 25\n"
          ]
        },
        {
          "output_type": "stream",
          "name": "stderr",
          "text": [
            "<ipython-input-49-218c55f7a3ea>:22: DataConversionWarning: A column-vector y was passed when a 1d array was expected. Please change the shape of y to (n_samples,), for example using ravel().\n",
            "  clf.fit(X_train, y_train) # обучаем\n"
          ]
        },
        {
          "output_type": "stream",
          "name": "stdout",
          "text": [
            "0.9998934333638825 0.7718120805369127 5 4 26\n"
          ]
        },
        {
          "output_type": "stream",
          "name": "stderr",
          "text": [
            "<ipython-input-49-218c55f7a3ea>:22: DataConversionWarning: A column-vector y was passed when a 1d array was expected. Please change the shape of y to (n_samples,), for example using ravel().\n",
            "  clf.fit(X_train, y_train) # обучаем\n"
          ]
        },
        {
          "output_type": "stream",
          "name": "stdout",
          "text": [
            "0.9997655534005414 0.8053691275167785 5 4 27\n"
          ]
        },
        {
          "output_type": "stream",
          "name": "stderr",
          "text": [
            "<ipython-input-49-218c55f7a3ea>:22: DataConversionWarning: A column-vector y was passed when a 1d array was expected. Please change the shape of y to (n_samples,), for example using ravel().\n",
            "  clf.fit(X_train, y_train) # обучаем\n"
          ]
        },
        {
          "output_type": "stream",
          "name": "stdout",
          "text": [
            "0.9998721200366589 0.7986577181208054 5 4 28\n"
          ]
        },
        {
          "output_type": "stream",
          "name": "stderr",
          "text": [
            "<ipython-input-49-218c55f7a3ea>:22: DataConversionWarning: A column-vector y was passed when a 1d array was expected. Please change the shape of y to (n_samples,), for example using ravel().\n",
            "  clf.fit(X_train, y_train) # обучаем\n"
          ]
        },
        {
          "output_type": "stream",
          "name": "stdout",
          "text": [
            "0.9999254033547177 0.7449664429530201 5 4 29\n"
          ]
        },
        {
          "output_type": "stream",
          "name": "stderr",
          "text": [
            "<ipython-input-49-218c55f7a3ea>:22: DataConversionWarning: A column-vector y was passed when a 1d array was expected. Please change the shape of y to (n_samples,), for example using ravel().\n",
            "  clf.fit(X_train, y_train) # обучаем\n"
          ]
        },
        {
          "output_type": "stream",
          "name": "stdout",
          "text": [
            "0.9998827767002707 0.7651006711409396 5 4 30\n"
          ]
        },
        {
          "output_type": "stream",
          "name": "stderr",
          "text": [
            "<ipython-input-49-218c55f7a3ea>:22: DataConversionWarning: A column-vector y was passed when a 1d array was expected. Please change the shape of y to (n_samples,), for example using ravel().\n",
            "  clf.fit(X_train, y_train) # обучаем\n"
          ]
        },
        {
          "output_type": "stream",
          "name": "stdout",
          "text": [
            "0.9999467166819412 0.5704697986577181 5 5 1\n"
          ]
        },
        {
          "output_type": "stream",
          "name": "stderr",
          "text": [
            "<ipython-input-49-218c55f7a3ea>:22: DataConversionWarning: A column-vector y was passed when a 1d array was expected. Please change the shape of y to (n_samples,), for example using ravel().\n",
            "  clf.fit(X_train, y_train) # обучаем\n"
          ]
        },
        {
          "output_type": "stream",
          "name": "stdout",
          "text": [
            "0.9998508067094354 0.6778523489932886 5 5 2\n"
          ]
        },
        {
          "output_type": "stream",
          "name": "stderr",
          "text": [
            "<ipython-input-49-218c55f7a3ea>:22: DataConversionWarning: A column-vector y was passed when a 1d array was expected. Please change the shape of y to (n_samples,), for example using ravel().\n",
            "  clf.fit(X_train, y_train) # обучаем\n"
          ]
        },
        {
          "output_type": "stream",
          "name": "stdout",
          "text": [
            "0.9998827767002707 0.6644295302013423 5 5 3\n"
          ]
        },
        {
          "output_type": "stream",
          "name": "stderr",
          "text": [
            "<ipython-input-49-218c55f7a3ea>:22: DataConversionWarning: A column-vector y was passed when a 1d array was expected. Please change the shape of y to (n_samples,), for example using ravel().\n",
            "  clf.fit(X_train, y_train) # обучаем\n"
          ]
        },
        {
          "output_type": "stream",
          "name": "stdout",
          "text": [
            "0.9998721200366589 0.6778523489932886 5 5 4\n"
          ]
        },
        {
          "output_type": "stream",
          "name": "stderr",
          "text": [
            "<ipython-input-49-218c55f7a3ea>:22: DataConversionWarning: A column-vector y was passed when a 1d array was expected. Please change the shape of y to (n_samples,), for example using ravel().\n",
            "  clf.fit(X_train, y_train) # обучаем\n"
          ]
        },
        {
          "output_type": "stream",
          "name": "stdout",
          "text": [
            "0.9998827767002707 0.7046979865771812 5 5 5\n"
          ]
        },
        {
          "output_type": "stream",
          "name": "stderr",
          "text": [
            "<ipython-input-49-218c55f7a3ea>:22: DataConversionWarning: A column-vector y was passed when a 1d array was expected. Please change the shape of y to (n_samples,), for example using ravel().\n",
            "  clf.fit(X_train, y_train) # обучаем\n"
          ]
        },
        {
          "output_type": "stream",
          "name": "stdout",
          "text": [
            "0.9999147466911059 0.738255033557047 5 5 6\n"
          ]
        },
        {
          "output_type": "stream",
          "name": "stderr",
          "text": [
            "<ipython-input-49-218c55f7a3ea>:22: DataConversionWarning: A column-vector y was passed when a 1d array was expected. Please change the shape of y to (n_samples,), for example using ravel().\n",
            "  clf.fit(X_train, y_train) # обучаем\n"
          ]
        },
        {
          "output_type": "stream",
          "name": "stdout",
          "text": [
            "0.9998081800549884 0.7718120805369127 5 5 7\n"
          ]
        },
        {
          "output_type": "stream",
          "name": "stderr",
          "text": [
            "<ipython-input-49-218c55f7a3ea>:22: DataConversionWarning: A column-vector y was passed when a 1d array was expected. Please change the shape of y to (n_samples,), for example using ravel().\n",
            "  clf.fit(X_train, y_train) # обучаем\n"
          ]
        },
        {
          "output_type": "stream",
          "name": "stdout",
          "text": [
            "0.9997975233913766 0.7449664429530201 5 5 8\n"
          ]
        },
        {
          "output_type": "stream",
          "name": "stderr",
          "text": [
            "<ipython-input-49-218c55f7a3ea>:22: DataConversionWarning: A column-vector y was passed when a 1d array was expected. Please change the shape of y to (n_samples,), for example using ravel().\n",
            "  clf.fit(X_train, y_train) # обучаем\n"
          ]
        },
        {
          "output_type": "stream",
          "name": "stdout",
          "text": [
            "0.9998827767002707 0.7516778523489933 5 5 9\n"
          ]
        },
        {
          "output_type": "stream",
          "name": "stderr",
          "text": [
            "<ipython-input-49-218c55f7a3ea>:22: DataConversionWarning: A column-vector y was passed when a 1d array was expected. Please change the shape of y to (n_samples,), for example using ravel().\n",
            "  clf.fit(X_train, y_train) # обучаем\n"
          ]
        },
        {
          "output_type": "stream",
          "name": "stdout",
          "text": [
            "0.9997762100641531 0.7449664429530201 5 5 10\n"
          ]
        },
        {
          "output_type": "stream",
          "name": "stderr",
          "text": [
            "<ipython-input-49-218c55f7a3ea>:22: DataConversionWarning: A column-vector y was passed when a 1d array was expected. Please change the shape of y to (n_samples,), for example using ravel().\n",
            "  clf.fit(X_train, y_train) # обучаем\n"
          ]
        },
        {
          "output_type": "stream",
          "name": "stdout",
          "text": [
            "0.9998294933822119 0.7718120805369127 5 5 11\n"
          ]
        },
        {
          "output_type": "stream",
          "name": "stderr",
          "text": [
            "<ipython-input-49-218c55f7a3ea>:22: DataConversionWarning: A column-vector y was passed when a 1d array was expected. Please change the shape of y to (n_samples,), for example using ravel().\n",
            "  clf.fit(X_train, y_train) # обучаем\n"
          ]
        },
        {
          "output_type": "stream",
          "name": "stdout",
          "text": [
            "0.9999467166819412 0.7718120805369127 5 5 12\n"
          ]
        },
        {
          "output_type": "stream",
          "name": "stderr",
          "text": [
            "<ipython-input-49-218c55f7a3ea>:22: DataConversionWarning: A column-vector y was passed when a 1d array was expected. Please change the shape of y to (n_samples,), for example using ravel().\n",
            "  clf.fit(X_train, y_train) # обучаем\n"
          ]
        },
        {
          "output_type": "stream",
          "name": "stdout",
          "text": [
            "0.9998508067094354 0.7785234899328859 5 5 13\n"
          ]
        },
        {
          "output_type": "stream",
          "name": "stderr",
          "text": [
            "<ipython-input-49-218c55f7a3ea>:22: DataConversionWarning: A column-vector y was passed when a 1d array was expected. Please change the shape of y to (n_samples,), for example using ravel().\n",
            "  clf.fit(X_train, y_train) # обучаем\n"
          ]
        },
        {
          "output_type": "stream",
          "name": "stdout",
          "text": [
            "0.9998614633730472 0.7449664429530201 5 5 14\n"
          ]
        },
        {
          "output_type": "stream",
          "name": "stderr",
          "text": [
            "<ipython-input-49-218c55f7a3ea>:22: DataConversionWarning: A column-vector y was passed when a 1d array was expected. Please change the shape of y to (n_samples,), for example using ravel().\n",
            "  clf.fit(X_train, y_train) # обучаем\n"
          ]
        },
        {
          "output_type": "stream",
          "name": "stdout",
          "text": [
            "0.9998721200366589 0.7516778523489933 5 5 15\n"
          ]
        },
        {
          "output_type": "stream",
          "name": "stderr",
          "text": [
            "<ipython-input-49-218c55f7a3ea>:22: DataConversionWarning: A column-vector y was passed when a 1d array was expected. Please change the shape of y to (n_samples,), for example using ravel().\n",
            "  clf.fit(X_train, y_train) # обучаем\n"
          ]
        },
        {
          "output_type": "stream",
          "name": "stdout",
          "text": [
            "0.9998401500458236 0.785234899328859 5 5 16\n"
          ]
        },
        {
          "output_type": "stream",
          "name": "stderr",
          "text": [
            "<ipython-input-49-218c55f7a3ea>:22: DataConversionWarning: A column-vector y was passed when a 1d array was expected. Please change the shape of y to (n_samples,), for example using ravel().\n",
            "  clf.fit(X_train, y_train) # обучаем\n"
          ]
        },
        {
          "output_type": "stream",
          "name": "stdout",
          "text": [
            "0.9998081800549884 0.738255033557047 5 5 17\n"
          ]
        },
        {
          "output_type": "stream",
          "name": "stderr",
          "text": [
            "<ipython-input-49-218c55f7a3ea>:22: DataConversionWarning: A column-vector y was passed when a 1d array was expected. Please change the shape of y to (n_samples,), for example using ravel().\n",
            "  clf.fit(X_train, y_train) # обучаем\n"
          ]
        },
        {
          "output_type": "stream",
          "name": "stdout",
          "text": [
            "0.9997975233913766 0.7785234899328859 5 5 18\n"
          ]
        },
        {
          "output_type": "stream",
          "name": "stderr",
          "text": [
            "<ipython-input-49-218c55f7a3ea>:22: DataConversionWarning: A column-vector y was passed when a 1d array was expected. Please change the shape of y to (n_samples,), for example using ravel().\n",
            "  clf.fit(X_train, y_train) # обучаем\n"
          ]
        },
        {
          "output_type": "stream",
          "name": "stdout",
          "text": [
            "0.9998294933822119 0.7583892617449665 5 5 19\n"
          ]
        },
        {
          "output_type": "stream",
          "name": "stderr",
          "text": [
            "<ipython-input-49-218c55f7a3ea>:22: DataConversionWarning: A column-vector y was passed when a 1d array was expected. Please change the shape of y to (n_samples,), for example using ravel().\n",
            "  clf.fit(X_train, y_train) # обучаем\n"
          ]
        },
        {
          "output_type": "stream",
          "name": "stdout",
          "text": [
            "0.9998721200366589 0.7516778523489933 5 5 20\n"
          ]
        },
        {
          "output_type": "stream",
          "name": "stderr",
          "text": [
            "<ipython-input-49-218c55f7a3ea>:22: DataConversionWarning: A column-vector y was passed when a 1d array was expected. Please change the shape of y to (n_samples,), for example using ravel().\n",
            "  clf.fit(X_train, y_train) # обучаем\n"
          ]
        },
        {
          "output_type": "stream",
          "name": "stdout",
          "text": [
            "0.9998188367186002 0.7516778523489933 5 5 21\n"
          ]
        },
        {
          "output_type": "stream",
          "name": "stderr",
          "text": [
            "<ipython-input-49-218c55f7a3ea>:22: DataConversionWarning: A column-vector y was passed when a 1d array was expected. Please change the shape of y to (n_samples,), for example using ravel().\n",
            "  clf.fit(X_train, y_train) # обучаем\n"
          ]
        },
        {
          "output_type": "stream",
          "name": "stdout",
          "text": [
            "0.9997655534005414 0.8456375838926175 5 5 22\n"
          ]
        },
        {
          "output_type": "stream",
          "name": "stderr",
          "text": [
            "<ipython-input-49-218c55f7a3ea>:22: DataConversionWarning: A column-vector y was passed when a 1d array was expected. Please change the shape of y to (n_samples,), for example using ravel().\n",
            "  clf.fit(X_train, y_train) # обучаем\n"
          ]
        },
        {
          "output_type": "stream",
          "name": "stdout",
          "text": [
            "0.9997868667277648 0.8389261744966443 5 5 23\n"
          ]
        },
        {
          "output_type": "stream",
          "name": "stderr",
          "text": [
            "<ipython-input-49-218c55f7a3ea>:22: DataConversionWarning: A column-vector y was passed when a 1d array was expected. Please change the shape of y to (n_samples,), for example using ravel().\n",
            "  clf.fit(X_train, y_train) # обучаем\n"
          ]
        },
        {
          "output_type": "stream",
          "name": "stdout",
          "text": [
            "0.9998081800549884 0.7583892617449665 5 5 24\n"
          ]
        },
        {
          "output_type": "stream",
          "name": "stderr",
          "text": [
            "<ipython-input-49-218c55f7a3ea>:22: DataConversionWarning: A column-vector y was passed when a 1d array was expected. Please change the shape of y to (n_samples,), for example using ravel().\n",
            "  clf.fit(X_train, y_train) # обучаем\n"
          ]
        },
        {
          "output_type": "stream",
          "name": "stdout",
          "text": [
            "0.9998934333638825 0.7785234899328859 5 5 25\n"
          ]
        },
        {
          "output_type": "stream",
          "name": "stderr",
          "text": [
            "<ipython-input-49-218c55f7a3ea>:22: DataConversionWarning: A column-vector y was passed when a 1d array was expected. Please change the shape of y to (n_samples,), for example using ravel().\n",
            "  clf.fit(X_train, y_train) # обучаем\n"
          ]
        },
        {
          "output_type": "stream",
          "name": "stdout",
          "text": [
            "0.9998401500458236 0.825503355704698 5 5 26\n"
          ]
        },
        {
          "output_type": "stream",
          "name": "stderr",
          "text": [
            "<ipython-input-49-218c55f7a3ea>:22: DataConversionWarning: A column-vector y was passed when a 1d array was expected. Please change the shape of y to (n_samples,), for example using ravel().\n",
            "  clf.fit(X_train, y_train) # обучаем\n"
          ]
        },
        {
          "output_type": "stream",
          "name": "stdout",
          "text": [
            "0.9998614633730472 0.8053691275167785 5 5 27\n"
          ]
        },
        {
          "output_type": "stream",
          "name": "stderr",
          "text": [
            "<ipython-input-49-218c55f7a3ea>:22: DataConversionWarning: A column-vector y was passed when a 1d array was expected. Please change the shape of y to (n_samples,), for example using ravel().\n",
            "  clf.fit(X_train, y_train) # обучаем\n"
          ]
        },
        {
          "output_type": "stream",
          "name": "stdout",
          "text": [
            "0.9997548967369296 0.7785234899328859 5 5 28\n"
          ]
        },
        {
          "output_type": "stream",
          "name": "stderr",
          "text": [
            "<ipython-input-49-218c55f7a3ea>:22: DataConversionWarning: A column-vector y was passed when a 1d array was expected. Please change the shape of y to (n_samples,), for example using ravel().\n",
            "  clf.fit(X_train, y_train) # обучаем\n"
          ]
        },
        {
          "output_type": "stream",
          "name": "stdout",
          "text": [
            "0.9998721200366589 0.825503355704698 5 5 29\n"
          ]
        },
        {
          "output_type": "stream",
          "name": "stderr",
          "text": [
            "<ipython-input-49-218c55f7a3ea>:22: DataConversionWarning: A column-vector y was passed when a 1d array was expected. Please change the shape of y to (n_samples,), for example using ravel().\n",
            "  clf.fit(X_train, y_train) # обучаем\n"
          ]
        },
        {
          "output_type": "stream",
          "name": "stdout",
          "text": [
            "0.9998401500458236 0.7651006711409396 5 5 30\n",
            "ANSWER:\n",
            "0.9997655534005414 0.8456375838926175 5 5 22\n"
          ]
        }
      ]
    },
    {
      "cell_type": "markdown",
      "source": [
        "После отработки разных вариантов параметров, я смог получить процент правильных предсказаний среди легитимных 99,98% и среди мошенников 84,56%. До этого вероятность ошибки среди мошенников была 44%. Однако новая вероятность при параметрах 5, 5, 22 уже может удовлетворять задаче поиска мошенников."
      ],
      "metadata": {
        "id": "7oh05HH3-NkR"
      }
    }
  ]
}
